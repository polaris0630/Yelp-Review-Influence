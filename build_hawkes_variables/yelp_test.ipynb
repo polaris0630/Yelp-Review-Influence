{
 "cells": [
  {
   "cell_type": "code",
   "execution_count": 1,
   "metadata": {},
   "outputs": [],
   "source": [
    "import numpy as np\n",
    "import math\n",
    "import matplotlib.pyplot as plt\n",
    "import os\n",
    "import json\n",
    "from datetime import datetime\n",
    "import pandas as pd\n",
    "from tqdm import tqdm\n",
    "import bspline\n",
    "import bspline.splinelab as splinelab\n",
    "import sys\n",
    "path = r'C:\\Users\\Yichen Jiang\\Documents\\PHD LIFE\\Research\\Hawkes Processes\\Yelp'\n",
    "sys.path.append(path)\n",
    "from yelp_functions import *\n",
    "from scipy.interpolate import splrep, BSpline"
   ]
  },
  {
   "cell_type": "markdown",
   "metadata": {},
   "source": [
    "# Load R session"
   ]
  },
  {
   "cell_type": "code",
   "execution_count": 21,
   "metadata": {},
   "outputs": [
    {
     "ename": "RuntimeError",
     "evalue": "R_USER not defined.",
     "output_type": "error",
     "traceback": [
      "\u001b[1;31m--------------------------------------------------\u001b[0m",
      "\u001b[1;31mRuntimeError\u001b[0m     Traceback (most recent call last)",
      "\u001b[1;32m<ipython-input-21-fb23c6edefe4>\u001b[0m in \u001b[0;36m<module>\u001b[1;34m\u001b[0m\n\u001b[1;32m----> 1\u001b[1;33m \u001b[0mget_ipython\u001b[0m\u001b[1;33m(\u001b[0m\u001b[1;33m)\u001b[0m\u001b[1;33m.\u001b[0m\u001b[0mrun_line_magic\u001b[0m\u001b[1;33m(\u001b[0m\u001b[1;34m'load_ext'\u001b[0m\u001b[1;33m,\u001b[0m \u001b[1;34m'rpy2.ipython'\u001b[0m\u001b[1;33m)\u001b[0m\u001b[1;33m\u001b[0m\u001b[1;33m\u001b[0m\u001b[0m\n\u001b[0m",
      "\u001b[1;32m~\\Anaconda3\\lib\\site-packages\\IPython\\core\\interactiveshell.py\u001b[0m in \u001b[0;36mrun_line_magic\u001b[1;34m(self, magic_name, line, _stack_depth)\u001b[0m\n\u001b[0;32m   2312\u001b[0m                 \u001b[0mkwargs\u001b[0m\u001b[1;33m[\u001b[0m\u001b[1;34m'local_ns'\u001b[0m\u001b[1;33m]\u001b[0m \u001b[1;33m=\u001b[0m \u001b[0msys\u001b[0m\u001b[1;33m.\u001b[0m\u001b[0m_getframe\u001b[0m\u001b[1;33m(\u001b[0m\u001b[0mstack_depth\u001b[0m\u001b[1;33m)\u001b[0m\u001b[1;33m.\u001b[0m\u001b[0mf_locals\u001b[0m\u001b[1;33m\u001b[0m\u001b[1;33m\u001b[0m\u001b[0m\n\u001b[0;32m   2313\u001b[0m             \u001b[1;32mwith\u001b[0m \u001b[0mself\u001b[0m\u001b[1;33m.\u001b[0m\u001b[0mbuiltin_trap\u001b[0m\u001b[1;33m:\u001b[0m\u001b[1;33m\u001b[0m\u001b[1;33m\u001b[0m\u001b[0m\n\u001b[1;32m-> 2314\u001b[1;33m                 \u001b[0mresult\u001b[0m \u001b[1;33m=\u001b[0m \u001b[0mfn\u001b[0m\u001b[1;33m(\u001b[0m\u001b[1;33m*\u001b[0m\u001b[0margs\u001b[0m\u001b[1;33m,\u001b[0m \u001b[1;33m**\u001b[0m\u001b[0mkwargs\u001b[0m\u001b[1;33m)\u001b[0m\u001b[1;33m\u001b[0m\u001b[1;33m\u001b[0m\u001b[0m\n\u001b[0m\u001b[0;32m   2315\u001b[0m             \u001b[1;32mreturn\u001b[0m \u001b[0mresult\u001b[0m\u001b[1;33m\u001b[0m\u001b[1;33m\u001b[0m\u001b[0m\n\u001b[0;32m   2316\u001b[0m \u001b[1;33m\u001b[0m\u001b[0m\n",
      "\u001b[1;32m<C:\\Users\\Yichen Jiang\\Anaconda3\\lib\\site-packages\\decorator.py:decorator-gen-65>\u001b[0m in \u001b[0;36mload_ext\u001b[1;34m(self, module_str)\u001b[0m\n",
      "\u001b[1;32m~\\Anaconda3\\lib\\site-packages\\IPython\\core\\magic.py\u001b[0m in \u001b[0;36m<lambda>\u001b[1;34m(f, *a, **k)\u001b[0m\n\u001b[0;32m    185\u001b[0m     \u001b[1;31m# but it's overkill for just that one bit of state.\u001b[0m\u001b[1;33m\u001b[0m\u001b[1;33m\u001b[0m\u001b[1;33m\u001b[0m\u001b[0m\n\u001b[0;32m    186\u001b[0m     \u001b[1;32mdef\u001b[0m \u001b[0mmagic_deco\u001b[0m\u001b[1;33m(\u001b[0m\u001b[0marg\u001b[0m\u001b[1;33m)\u001b[0m\u001b[1;33m:\u001b[0m\u001b[1;33m\u001b[0m\u001b[1;33m\u001b[0m\u001b[0m\n\u001b[1;32m--> 187\u001b[1;33m         \u001b[0mcall\u001b[0m \u001b[1;33m=\u001b[0m \u001b[1;32mlambda\u001b[0m \u001b[0mf\u001b[0m\u001b[1;33m,\u001b[0m \u001b[1;33m*\u001b[0m\u001b[0ma\u001b[0m\u001b[1;33m,\u001b[0m \u001b[1;33m**\u001b[0m\u001b[0mk\u001b[0m\u001b[1;33m:\u001b[0m \u001b[0mf\u001b[0m\u001b[1;33m(\u001b[0m\u001b[1;33m*\u001b[0m\u001b[0ma\u001b[0m\u001b[1;33m,\u001b[0m \u001b[1;33m**\u001b[0m\u001b[0mk\u001b[0m\u001b[1;33m)\u001b[0m\u001b[1;33m\u001b[0m\u001b[1;33m\u001b[0m\u001b[0m\n\u001b[0m\u001b[0;32m    188\u001b[0m \u001b[1;33m\u001b[0m\u001b[0m\n\u001b[0;32m    189\u001b[0m         \u001b[1;32mif\u001b[0m \u001b[0mcallable\u001b[0m\u001b[1;33m(\u001b[0m\u001b[0marg\u001b[0m\u001b[1;33m)\u001b[0m\u001b[1;33m:\u001b[0m\u001b[1;33m\u001b[0m\u001b[1;33m\u001b[0m\u001b[0m\n",
      "\u001b[1;32m~\\Anaconda3\\lib\\site-packages\\IPython\\core\\magics\\extension.py\u001b[0m in \u001b[0;36mload_ext\u001b[1;34m(self, module_str)\u001b[0m\n\u001b[0;32m     31\u001b[0m         \u001b[1;32mif\u001b[0m \u001b[1;32mnot\u001b[0m \u001b[0mmodule_str\u001b[0m\u001b[1;33m:\u001b[0m\u001b[1;33m\u001b[0m\u001b[1;33m\u001b[0m\u001b[0m\n\u001b[0;32m     32\u001b[0m             \u001b[1;32mraise\u001b[0m \u001b[0mUsageError\u001b[0m\u001b[1;33m(\u001b[0m\u001b[1;34m'Missing module name.'\u001b[0m\u001b[1;33m)\u001b[0m\u001b[1;33m\u001b[0m\u001b[1;33m\u001b[0m\u001b[0m\n\u001b[1;32m---> 33\u001b[1;33m         \u001b[0mres\u001b[0m \u001b[1;33m=\u001b[0m \u001b[0mself\u001b[0m\u001b[1;33m.\u001b[0m\u001b[0mshell\u001b[0m\u001b[1;33m.\u001b[0m\u001b[0mextension_manager\u001b[0m\u001b[1;33m.\u001b[0m\u001b[0mload_extension\u001b[0m\u001b[1;33m(\u001b[0m\u001b[0mmodule_str\u001b[0m\u001b[1;33m)\u001b[0m\u001b[1;33m\u001b[0m\u001b[1;33m\u001b[0m\u001b[0m\n\u001b[0m\u001b[0;32m     34\u001b[0m \u001b[1;33m\u001b[0m\u001b[0m\n\u001b[0;32m     35\u001b[0m         \u001b[1;32mif\u001b[0m \u001b[0mres\u001b[0m \u001b[1;33m==\u001b[0m \u001b[1;34m'already loaded'\u001b[0m\u001b[1;33m:\u001b[0m\u001b[1;33m\u001b[0m\u001b[1;33m\u001b[0m\u001b[0m\n",
      "\u001b[1;32m~\\Anaconda3\\lib\\site-packages\\IPython\\core\\extensions.py\u001b[0m in \u001b[0;36mload_extension\u001b[1;34m(self, module_str)\u001b[0m\n\u001b[0;32m     78\u001b[0m             \u001b[1;32mif\u001b[0m \u001b[0mmodule_str\u001b[0m \u001b[1;32mnot\u001b[0m \u001b[1;32min\u001b[0m \u001b[0msys\u001b[0m\u001b[1;33m.\u001b[0m\u001b[0mmodules\u001b[0m\u001b[1;33m:\u001b[0m\u001b[1;33m\u001b[0m\u001b[1;33m\u001b[0m\u001b[0m\n\u001b[0;32m     79\u001b[0m                 \u001b[1;32mwith\u001b[0m \u001b[0mprepended_to_syspath\u001b[0m\u001b[1;33m(\u001b[0m\u001b[0mself\u001b[0m\u001b[1;33m.\u001b[0m\u001b[0mipython_extension_dir\u001b[0m\u001b[1;33m)\u001b[0m\u001b[1;33m:\u001b[0m\u001b[1;33m\u001b[0m\u001b[1;33m\u001b[0m\u001b[0m\n\u001b[1;32m---> 80\u001b[1;33m                     \u001b[0mmod\u001b[0m \u001b[1;33m=\u001b[0m \u001b[0mimport_module\u001b[0m\u001b[1;33m(\u001b[0m\u001b[0mmodule_str\u001b[0m\u001b[1;33m)\u001b[0m\u001b[1;33m\u001b[0m\u001b[1;33m\u001b[0m\u001b[0m\n\u001b[0m\u001b[0;32m     81\u001b[0m                     \u001b[1;32mif\u001b[0m \u001b[0mmod\u001b[0m\u001b[1;33m.\u001b[0m\u001b[0m__file__\u001b[0m\u001b[1;33m.\u001b[0m\u001b[0mstartswith\u001b[0m\u001b[1;33m(\u001b[0m\u001b[0mself\u001b[0m\u001b[1;33m.\u001b[0m\u001b[0mipython_extension_dir\u001b[0m\u001b[1;33m)\u001b[0m\u001b[1;33m:\u001b[0m\u001b[1;33m\u001b[0m\u001b[1;33m\u001b[0m\u001b[0m\n\u001b[0;32m     82\u001b[0m                         print((\"Loading extensions from {dir} is deprecated. \"\n",
      "\u001b[1;32m~\\Anaconda3\\lib\\importlib\\__init__.py\u001b[0m in \u001b[0;36mimport_module\u001b[1;34m(name, package)\u001b[0m\n\u001b[0;32m    125\u001b[0m                 \u001b[1;32mbreak\u001b[0m\u001b[1;33m\u001b[0m\u001b[1;33m\u001b[0m\u001b[0m\n\u001b[0;32m    126\u001b[0m             \u001b[0mlevel\u001b[0m \u001b[1;33m+=\u001b[0m \u001b[1;36m1\u001b[0m\u001b[1;33m\u001b[0m\u001b[1;33m\u001b[0m\u001b[0m\n\u001b[1;32m--> 127\u001b[1;33m     \u001b[1;32mreturn\u001b[0m \u001b[0m_bootstrap\u001b[0m\u001b[1;33m.\u001b[0m\u001b[0m_gcd_import\u001b[0m\u001b[1;33m(\u001b[0m\u001b[0mname\u001b[0m\u001b[1;33m[\u001b[0m\u001b[0mlevel\u001b[0m\u001b[1;33m:\u001b[0m\u001b[1;33m]\u001b[0m\u001b[1;33m,\u001b[0m \u001b[0mpackage\u001b[0m\u001b[1;33m,\u001b[0m \u001b[0mlevel\u001b[0m\u001b[1;33m)\u001b[0m\u001b[1;33m\u001b[0m\u001b[1;33m\u001b[0m\u001b[0m\n\u001b[0m\u001b[0;32m    128\u001b[0m \u001b[1;33m\u001b[0m\u001b[0m\n\u001b[0;32m    129\u001b[0m \u001b[1;33m\u001b[0m\u001b[0m\n",
      "\u001b[1;32m~\\Anaconda3\\lib\\importlib\\_bootstrap.py\u001b[0m in \u001b[0;36m_gcd_import\u001b[1;34m(name, package, level)\u001b[0m\n",
      "\u001b[1;32m~\\Anaconda3\\lib\\importlib\\_bootstrap.py\u001b[0m in \u001b[0;36m_find_and_load\u001b[1;34m(name, import_)\u001b[0m\n",
      "\u001b[1;32m~\\Anaconda3\\lib\\importlib\\_bootstrap.py\u001b[0m in \u001b[0;36m_find_and_load_unlocked\u001b[1;34m(name, import_)\u001b[0m\n",
      "\u001b[1;32m~\\Anaconda3\\lib\\importlib\\_bootstrap.py\u001b[0m in \u001b[0;36m_load_unlocked\u001b[1;34m(spec)\u001b[0m\n",
      "\u001b[1;32m~\\Anaconda3\\lib\\importlib\\_bootstrap_external.py\u001b[0m in \u001b[0;36mexec_module\u001b[1;34m(self, module)\u001b[0m\n",
      "\u001b[1;32m~\\Anaconda3\\lib\\importlib\\_bootstrap.py\u001b[0m in \u001b[0;36m_call_with_frames_removed\u001b[1;34m(f, *args, **kwds)\u001b[0m\n",
      "\u001b[1;32m~\\Anaconda3\\lib\\site-packages\\rpy2\\ipython\\__init__.py\u001b[0m in \u001b[0;36m<module>\u001b[1;34m\u001b[0m\n\u001b[1;32m----> 1\u001b[1;33m \u001b[1;32mfrom\u001b[0m \u001b[1;33m.\u001b[0m\u001b[0mrmagic\u001b[0m \u001b[1;32mimport\u001b[0m \u001b[0mload_ipython_extension\u001b[0m\u001b[1;33m\u001b[0m\u001b[1;33m\u001b[0m\u001b[0m\n\u001b[0m",
      "\u001b[1;32m~\\Anaconda3\\lib\\site-packages\\rpy2\\ipython\\rmagic.py\u001b[0m in \u001b[0;36m<module>\u001b[1;34m\u001b[0m\n\u001b[0;32m     52\u001b[0m \u001b[1;33m\u001b[0m\u001b[0m\n\u001b[0;32m     53\u001b[0m \u001b[1;32mimport\u001b[0m \u001b[0mrpy2\u001b[0m\u001b[1;33m.\u001b[0m\u001b[0mrinterface\u001b[0m \u001b[1;32mas\u001b[0m \u001b[0mri\u001b[0m\u001b[1;33m\u001b[0m\u001b[1;33m\u001b[0m\u001b[0m\n\u001b[1;32m---> 54\u001b[1;33m \u001b[1;32mimport\u001b[0m \u001b[0mrpy2\u001b[0m\u001b[1;33m.\u001b[0m\u001b[0mrobjects\u001b[0m \u001b[1;32mas\u001b[0m \u001b[0mro\u001b[0m\u001b[1;33m\u001b[0m\u001b[1;33m\u001b[0m\u001b[0m\n\u001b[0m\u001b[0;32m     55\u001b[0m \u001b[1;32mimport\u001b[0m \u001b[0mrpy2\u001b[0m\u001b[1;33m.\u001b[0m\u001b[0mrobjects\u001b[0m\u001b[1;33m.\u001b[0m\u001b[0mpackages\u001b[0m \u001b[1;32mas\u001b[0m \u001b[0mrpacks\u001b[0m\u001b[1;33m\u001b[0m\u001b[1;33m\u001b[0m\u001b[0m\n\u001b[0;32m     56\u001b[0m from rpy2.robjects.conversion import (Converter,\n",
      "\u001b[1;32m~\\Anaconda3\\lib\\site-packages\\rpy2\\robjects\\__init__.py\u001b[0m in \u001b[0;36m<module>\u001b[1;34m\u001b[0m\n\u001b[0;32m     17\u001b[0m \u001b[1;32mimport\u001b[0m \u001b[0mrpy2\u001b[0m\u001b[1;33m.\u001b[0m\u001b[0mrlike\u001b[0m\u001b[1;33m.\u001b[0m\u001b[0mcontainer\u001b[0m \u001b[1;32mas\u001b[0m \u001b[0mrlc\u001b[0m\u001b[1;33m\u001b[0m\u001b[1;33m\u001b[0m\u001b[0m\n\u001b[0;32m     18\u001b[0m \u001b[1;33m\u001b[0m\u001b[0m\n\u001b[1;32m---> 19\u001b[1;33m \u001b[1;32mfrom\u001b[0m \u001b[0mrpy2\u001b[0m\u001b[1;33m.\u001b[0m\u001b[0mrobjects\u001b[0m\u001b[1;33m.\u001b[0m\u001b[0mrobject\u001b[0m \u001b[1;32mimport\u001b[0m \u001b[0mRObjectMixin\u001b[0m\u001b[1;33m,\u001b[0m \u001b[0mRObject\u001b[0m\u001b[1;33m\u001b[0m\u001b[1;33m\u001b[0m\u001b[0m\n\u001b[0m\u001b[0;32m     20\u001b[0m from rpy2.robjects.vectors import (BoolVector,\n\u001b[0;32m     21\u001b[0m                                    \u001b[0mIntVector\u001b[0m\u001b[1;33m,\u001b[0m\u001b[1;33m\u001b[0m\u001b[1;33m\u001b[0m\u001b[0m\n",
      "\u001b[1;32m~\\Anaconda3\\lib\\site-packages\\rpy2\\robjects\\robject.py\u001b[0m in \u001b[0;36m<module>\u001b[1;34m\u001b[0m\n\u001b[0;32m      4\u001b[0m \u001b[1;32mimport\u001b[0m \u001b[0mrpy2\u001b[0m\u001b[1;33m.\u001b[0m\u001b[0mrinterface\u001b[0m\u001b[1;33m\u001b[0m\u001b[1;33m\u001b[0m\u001b[0m\n\u001b[0;32m      5\u001b[0m \u001b[1;33m\u001b[0m\u001b[0m\n\u001b[1;32m----> 6\u001b[1;33m \u001b[0mrpy2\u001b[0m\u001b[1;33m.\u001b[0m\u001b[0mrinterface\u001b[0m\u001b[1;33m.\u001b[0m\u001b[0minitr\u001b[0m\u001b[1;33m(\u001b[0m\u001b[1;33m)\u001b[0m\u001b[1;33m\u001b[0m\u001b[1;33m\u001b[0m\u001b[0m\n\u001b[0m\u001b[0;32m      7\u001b[0m \u001b[1;33m\u001b[0m\u001b[0m\n\u001b[0;32m      8\u001b[0m \u001b[1;32mfrom\u001b[0m \u001b[1;33m.\u001b[0m \u001b[1;32mimport\u001b[0m \u001b[0mconversion\u001b[0m\u001b[1;33m\u001b[0m\u001b[1;33m\u001b[0m\u001b[0m\n",
      "\u001b[1;32m~\\Anaconda3\\lib\\site-packages\\rpy2\\rinterface\\__init__.py\u001b[0m in \u001b[0;36minitr\u001b[1;34m(r_preservehash)\u001b[0m\n\u001b[0;32m    206\u001b[0m   \u001b[1;34m\"\"\"\"Wrapper around rpy2.rinterface._rinterface.initr().\"\"\"\u001b[0m\u001b[1;33m\u001b[0m\u001b[1;33m\u001b[0m\u001b[0m\n\u001b[0;32m    207\u001b[0m   \u001b[0matexit\u001b[0m\u001b[1;33m.\u001b[0m\u001b[0mregister\u001b[0m\u001b[1;33m(\u001b[0m\u001b[0mendr\u001b[0m\u001b[1;33m,\u001b[0m \u001b[1;36m0\u001b[0m\u001b[1;33m)\u001b[0m\u001b[1;33m\u001b[0m\u001b[1;33m\u001b[0m\u001b[0m\n\u001b[1;32m--> 208\u001b[1;33m   \u001b[0m_initr\u001b[0m\u001b[1;33m(\u001b[0m\u001b[0mr_preservehash\u001b[0m\u001b[1;33m=\u001b[0m\u001b[0mr_preservehash\u001b[0m\u001b[1;33m)\u001b[0m\u001b[1;33m\u001b[0m\u001b[1;33m\u001b[0m\u001b[0m\n\u001b[0m\u001b[0;32m    209\u001b[0m \u001b[1;33m\u001b[0m\u001b[0m\n\u001b[0;32m    210\u001b[0m \u001b[1;31m# def cleanUp(saveact, status, runlast):\u001b[0m\u001b[1;33m\u001b[0m\u001b[1;33m\u001b[0m\u001b[1;33m\u001b[0m\u001b[0m\n",
      "\u001b[1;31mRuntimeError\u001b[0m: R_USER not defined."
     ]
    }
   ],
   "source": [
    "%load_ext rpy2.ipython"
   ]
  },
  {
   "cell_type": "markdown",
   "metadata": {},
   "source": [
    "# Import business name"
   ]
  },
  {
   "cell_type": "code",
   "execution_count": 2,
   "metadata": {},
   "outputs": [],
   "source": [
    "path = r'C:\\Users\\Yichen Jiang\\Documents\\PHD LIFE\\Research\\Hawkes Processes\\Yelp'\n",
    "\n",
    "path_business_withtext = os.path.join(path,'business with text features')\n",
    "\n",
    "path_results = os.path.join(path,'results')\n",
    "\n",
    "filenames = os.listdir(path_business_withtext)\n",
    "\n",
    "results = os.listdir(path_results)"
   ]
  },
  {
   "cell_type": "markdown",
   "metadata": {},
   "source": [
    "# OR choose business_id"
   ]
  },
  {
   "cell_type": "code",
   "execution_count": 114,
   "metadata": {},
   "outputs": [],
   "source": [
    "#business_id = '2GmGT-7QjowR1ihup3FbVA' # review number: 825\n",
    "#business_id = '0FUtlsQrJI7LhqDPxLumEw' # review number: 2097\n",
    "#business_id = '2weQS-RnoOBhb1KsHKyoSQ' # review number: 4534\n",
    "#business_id = 'RESDUcs7fIiihp38-d6_6g' # review number: 8568\n",
    "#business_id = 'P7pxQFqr7yBKMMI2J51udw' # review number: 3225\n",
    "#business_id = '--9e1ONYQuAa-CB_Rrw7Tw' # review number: 1661\n",
    "#business_id = '4JNXUYY8wbaaDmk3BPzlWw' # review number: 8570\n",
    "#business_id = 'DkYS3arLOhA8si5uUEmHOw' # review number: 5206\n",
    "#business_id = '5LNZ67Yw9RD6nf4_UhXOjw' # review number: 4522\n",
    "#business_id = 'K7lWdNUhCbcnEvI0NhGewg' # review number: 6887\n",
    "#business_id = 'cYwJA2A6I12KNkm2rtXd5g' # review number: 5575\n",
    "#business_id = 'uW6UHfONAmm8QttPkbMewQ' # review number: 1463\n",
    "#business_id = 'S-oLPRdhlyL5HAknBKTUcQ' # review number: 1139\n",
    "#business_id = 'AV6weBrZFFBfRGCbcRGO4g' # review number: 4240\n",
    "#business_id = 'ebTvBxSStI9Vf5Tpux_X3Q' # review number: 1107\n",
    "business_id = 'J1RDyyPxhioqm8c_fi4P4Q' # review number: 1023"
   ]
  },
  {
   "cell_type": "markdown",
   "metadata": {},
   "source": [
    "# Define other terms"
   ]
  },
  {
   "cell_type": "code",
   "execution_count": 3,
   "metadata": {},
   "outputs": [],
   "source": [
    "# list of deltas\n",
    "list_deltas = [0.005, 0.05, 0.1, 1, 5]\n",
    "\n",
    "# list of variables\n",
    "list_variables = []\n",
    "for i in range(0,5):\n",
    "    list_variables.append(str(i+1)+'star')\n",
    "list_variables += ['cool', 'funny', 'useful', 'average_stars', 'friend_count', 'elite_count', 'review_count', 'fan_count', 'yelping_since', 'mean_prob', 'mean_weight', 'sentiment_polarity', 'sentiment_subjectivity', 'text_length', 'textclean_length']\n",
    "\n",
    "bspline_order = 3\n",
    "\n",
    "knot_base = 'order' #'time' or 'order'"
   ]
  },
  {
   "cell_type": "code",
   "execution_count": 4,
   "metadata": {},
   "outputs": [],
   "source": [
    "count = 0\n",
    "list_knot_base = ['order','time']\n",
    "list_record = []"
   ]
  },
  {
   "cell_type": "code",
   "execution_count": 7,
   "metadata": {},
   "outputs": [
    {
     "name": "stdout",
     "output_type": "stream",
     "text": [
      "business_id is: -050d_XIor1NpCuWkbIVaQ , knot_base is: order\n"
     ]
    }
   ],
   "source": [
    "results = os.listdir(path_results)\n",
    "if 'time'and'order' in list_record:\n",
    "    print(filenames[count].split('_with')[0]+ ' with all basis have been processed')\n",
    "    count += 1\n",
    "    list_record = []\n",
    "if count <= len(filenames):\n",
    "    for base in list_knot_base:\n",
    "        if filenames[count].split('_with')[0]+'_'+str(base)+'.png' in results:\n",
    "            print(filenames[count].split('_with')[0]+'_'+str(base)+'.png has already been processed')\n",
    "            list_record.append(str(base))\n",
    "        elif filenames[count].split('_with')[0]+'_'+str(base)+'.png' not in results:\n",
    "            business_id = filenames[count].split('_with')[0]\n",
    "            knot_base = base\n",
    "            print('business_id is:',str(business_id),', knot_base is:',str(knot_base))\n",
    "            break\n"
   ]
  },
  {
   "cell_type": "code",
   "execution_count": 10,
   "metadata": {},
   "outputs": [
    {
     "name": "stdout",
     "output_type": "stream",
     "text": [
      "-050d_XIor1NpCuWkbIVaQ\n",
      "order\n",
      "the next count is: 1\n"
     ]
    }
   ],
   "source": [
    "print(business_id)\n",
    "print(knot_base)\n",
    "print('the next count is:',count)"
   ]
  },
  {
   "cell_type": "code",
   "execution_count": 23,
   "metadata": {},
   "outputs": [
    {
     "name": "stdout",
     "output_type": "stream",
     "text": [
      "--9e1ONYQuAa-CB_Rrw7Tw\n",
      "--9e1ONYQuAa-CB_Rrw7Twin order base has been finished\n",
      "--9e1ONYQuAa-CB_Rrw7Twin time base has been finished\n",
      "-050d_XIor1NpCuWkbIVaQ\n",
      "-050d_XIor1NpCuWkbIVaQin order base has been finished\n",
      "-050d_XIor1NpCuWkbIVaQin time base has been finished\n",
      "-3zffZUHoY8bQjGfPSoBKQ\n",
      "-3zffZUHoY8bQjGfPSoBKQin order base has been finished\n",
      "-3zffZUHoY8bQjGfPSoBKQin time base has been finished\n",
      "-6h3K1hj0d4DRcZNUtHDuw\n",
      "-6h3K1hj0d4DRcZNUtHDuwin order base has been finished\n",
      "-6h3K1hj0d4DRcZNUtHDuwin time base has been finished\n",
      "-6tvduBzjLI1ISfs3F_qTg\n",
      "-6tvduBzjLI1ISfs3F_qTgin order base has been finished\n",
      "-6tvduBzjLI1ISfs3F_qTgin time base has been finished\n",
      "-7H-oXvCxJzuT42ky6Db0g\n",
      "-7H-oXvCxJzuT42ky6Db0gin order base has been finished\n",
      "-7H-oXvCxJzuT42ky6Db0gin time base has been finished\n",
      "-95mbLJsa0CxXhpaNL4LvA\n",
      "-95mbLJsa0CxXhpaNL4LvAin order base has been finished\n",
      "-95mbLJsa0CxXhpaNL4LvAin time base has been finished\n",
      "-a857YYdjzgOdOjFFRsRXQ\n",
      "-a857YYdjzgOdOjFFRsRXQin order base has been finished\n",
      "-a857YYdjzgOdOjFFRsRXQin time base has been finished\n",
      "-av1lZI1JDY_RZN2eTMnWg\n",
      "-av1lZI1JDY_RZN2eTMnWgin order base has been finished\n",
      "-av1lZI1JDY_RZN2eTMnWgin time base has been finished\n",
      "-bd4BQcl1ekgo7avaFngIw\n",
      "-bd4BQcl1ekgo7avaFngIwin order base has been finished\n",
      "-bd4BQcl1ekgo7avaFngIwin time base has been finished\n",
      "-Bdw-5H5C4AYSMGnAvmnzw\n",
      "-Bdw-5H5C4AYSMGnAvmnzwin order base has been finished\n",
      "-Bdw-5H5C4AYSMGnAvmnzwin time base has been finished\n",
      "-bMZCfTK7fxFaURynKpBMA\n",
      "-bMZCfTK7fxFaURynKpBMAin order base has been finished\n",
      "-bMZCfTK7fxFaURynKpBMAin time base has been finished\n",
      "-Dnh48f029YNugtMKkkI-Q\n",
      "-Dnh48f029YNugtMKkkI-Qin order base has been finished\n",
      "-Dnh48f029YNugtMKkkI-Qin time base has been finished\n",
      "-ed0Yc9on37RoIoG2ZgxBA\n",
      "-ed0Yc9on37RoIoG2ZgxBAin order base has been finished\n",
      "-ed0Yc9on37RoIoG2ZgxBAin time base has been finished\n",
      "-Eu04UHRqmGGyvYRDY8-tg\n",
      "-Eu04UHRqmGGyvYRDY8-tgin order base has been finished\n",
      "-Eu04UHRqmGGyvYRDY8-tgin time base has been finished\n",
      "-fiUXzkxRfbHY9TKWwuptw\n",
      "-fiUXzkxRfbHY9TKWwuptwin order base has been finished\n",
      "-fiUXzkxRfbHY9TKWwuptwin time base has been finished\n",
      "-FLnsWAa4AGEW4NgE8Fqew\n",
      "-FLnsWAa4AGEW4NgE8Fqewin order base has been finished\n",
      "-FLnsWAa4AGEW4NgE8Fqewin time base has been finished\n",
      "-FtngCwHCD2tRlH8jpj_Ag\n",
      "-FtngCwHCD2tRlH8jpj_Agin order base has been finished\n",
      "-FtngCwHCD2tRlH8jpj_Agin time base has been finished\n",
      "-Ht7HiGBox8lS1Y8IPjO8g\n",
      "-Ht7HiGBox8lS1Y8IPjO8gin order base has been finished\n",
      "-Ht7HiGBox8lS1Y8IPjO8gin time base has been finished\n",
      "-IWsoxH7mLJTTpU5MmWY4w\n",
      "-IWsoxH7mLJTTpU5MmWY4win order base has been finished\n",
      "-IWsoxH7mLJTTpU5MmWY4win time base has been finished\n",
      "-kIscN8I29eXMPkvyyxmRQ\n",
      "-kIscN8I29eXMPkvyyxmRQin order base has been finished\n",
      "-kIscN8I29eXMPkvyyxmRQin time base has been finished\n",
      "-o082vExIs0VVNSuZmiTQA\n",
      "-o082vExIs0VVNSuZmiTQAin order base has been finished\n",
      "-o082vExIs0VVNSuZmiTQAin time base has been finished\n",
      "-oUM2uISux96lMGeawHIOA\n",
      "-oUM2uISux96lMGeawHIOAin order base has been finished\n",
      "-oUM2uISux96lMGeawHIOAin time base has been finished\n",
      "-rhH9sL3XGFpoJXcxUpEWA\n",
      "-rhH9sL3XGFpoJXcxUpEWAin order base has been finished\n",
      "-rhH9sL3XGFpoJXcxUpEWAin time base has been finished\n",
      "-U7tvCtaraTQ9b0zBhpBMA\n",
      "-U7tvCtaraTQ9b0zBhpBMAin order base has been finished\n",
      "-U7tvCtaraTQ9b0zBhpBMAin time base has been finished\n",
      "-WLrZPzjKfrftLWaCi1QZQ\n",
      "-WLrZPzjKfrftLWaCi1QZQin order base has been finished\n",
      "-WLrZPzjKfrftLWaCi1QZQin time base has been finished\n",
      "-yApKLEFAvvNyifvpNKWCA\n",
      "-yApKLEFAvvNyifvpNKWCAin order base has been finished\n",
      "-yApKLEFAvvNyifvpNKWCAin time base has been finished\n",
      "-Ylpy3VyRWwubf9dysuwjQ\n",
      "-Ylpy3VyRWwubf9dysuwjQin order base has been finished\n",
      "-Ylpy3VyRWwubf9dysuwjQin time base has been finished\n",
      "-yQHIYKXH3HAdhh1W52OMQ\n",
      "-yQHIYKXH3HAdhh1W52OMQin order base has been finished\n",
      "-yQHIYKXH3HAdhh1W52OMQin time base has been finished\n",
      "-ZBfr1BHvArFp1d6XH8jOQ\n",
      "-ZBfr1BHvArFp1d6XH8jOQin order base has been finished\n",
      "-ZBfr1BHvArFp1d6XH8jOQin time base has been finished\n",
      "01fuY2NNscttoTxOYbuZXw\n",
      "01fuY2NNscttoTxOYbuZXwin order base has been finished\n",
      "01fuY2NNscttoTxOYbuZXwin time base has been finished\n",
      "042IHd5KjHiMuBtGtugO_g\n",
      "042IHd5KjHiMuBtGtugO_gin order base has been finished\n",
      "042IHd5KjHiMuBtGtugO_gin time base has been finished\n",
      "07AZL5XenCQ_-op_onKLdw\n",
      "07AZL5XenCQ_-op_onKLdwin order base has been finished\n",
      "07AZL5XenCQ_-op_onKLdwin time base has been finished\n",
      "0a2O150ytxrDjDzXNfRWkA\n",
      "0a2O150ytxrDjDzXNfRWkAin order base has been finished\n",
      "0a2O150ytxrDjDzXNfRWkAin time base has been finished\n",
      "0AQnRQw34IQW9-1gJkYnMA\n",
      "0AQnRQw34IQW9-1gJkYnMAin order base has been finished\n",
      "0AQnRQw34IQW9-1gJkYnMAin time base has been finished\n",
      "0d0i0FaJq1GIeW1rS2D-5w\n",
      "0d0i0FaJq1GIeW1rS2D-5win order base has been finished\n",
      "0d0i0FaJq1GIeW1rS2D-5win time base has been finished\n",
      "0EgYXYjt2XJL4hlsKnzrcw\n",
      "0EgYXYjt2XJL4hlsKnzrcwin order base has been finished\n",
      "0EgYXYjt2XJL4hlsKnzrcwin time base has been finished\n",
      "0FUtlsQrJI7LhqDPxLumEw\n",
      "0FUtlsQrJI7LhqDPxLumEwin order base has been finished\n",
      "0FUtlsQrJI7LhqDPxLumEwin time base has been finished\n",
      "0gXYLVPNWz0WT8wXQVpS0g\n",
      "0gXYLVPNWz0WT8wXQVpS0gin order base has been finished\n",
      "0gXYLVPNWz0WT8wXQVpS0gin time base has been finished\n",
      "0ldxjei8v4q95fApIei3Lg\n",
      "0ldxjei8v4q95fApIei3Lgin order base has been finished\n",
      "0ldxjei8v4q95fApIei3Lgin time base has been finished\n",
      "0NmTwqYEQiKErDv4a55obg\n",
      "0NmTwqYEQiKErDv4a55obgin order base has been finished\n",
      "0NmTwqYEQiKErDv4a55obgin time base has been finished\n",
      "0PCBt3JKD6IooicImKNBzA\n",
      "0PCBt3JKD6IooicImKNBzAin order base has been finished\n",
      "0PCBt3JKD6IooicImKNBzAin time base has been finished\n",
      "0qsarzXaZau8REdE0rToxA\n",
      "0qsarzXaZau8REdE0rToxAin order base has been finished\n",
      "0qsarzXaZau8REdE0rToxAin time base has been finished\n",
      "0QzCeORfF8EY34UODWRV9A\n",
      "0QzCeORfF8EY34UODWRV9Ain order base has been finished\n",
      "0QzCeORfF8EY34UODWRV9Ain time base has been finished\n",
      "0q_BHpxbikVtPRRLRu-U0g\n",
      "0q_BHpxbikVtPRRLRu-U0gin order base has been finished\n",
      "0q_BHpxbikVtPRRLRu-U0gin time base has been finished\n",
      "0w3BdEOxvwKTpypwbN5kiQ\n",
      "0w3BdEOxvwKTpypwbN5kiQin order base has been finished\n",
      "0w3BdEOxvwKTpypwbN5kiQin time base has been finished\n",
      "0W4lkclzZThpx3V65bVgig\n",
      "0W4lkclzZThpx3V65bVgigin order base has been finished\n",
      "0W4lkclzZThpx3V65bVgigin time base has been finished\n",
      "0WoQQlMXVIDEgI0xNdENKA\n",
      "0WoQQlMXVIDEgI0xNdENKAin order base has been finished\n",
      "0WoQQlMXVIDEgI0xNdENKAin time base has been finished\n",
      "0W_pPAiTXgazY2mtX6o0_w\n",
      "0W_pPAiTXgazY2mtX6o0_win order base has been finished\n",
      "0W_pPAiTXgazY2mtX6o0_win time base has been finished\n",
      "0XEqyl_lVaJNHRKxNcjJZg\n",
      "0XEqyl_lVaJNHRKxNcjJZgin order base has been finished\n",
      "0XEqyl_lVaJNHRKxNcjJZgin time base has been finished\n",
      "0_aeYE2-VbsZts_UpILgDw\n",
      "0_aeYE2-VbsZts_UpILgDwin order base has been finished\n",
      "0_aeYE2-VbsZts_UpILgDwin time base has been finished\n",
      "16d3BlncEyCTzb0GxXrBXQ\n",
      "16d3BlncEyCTzb0GxXrBXQin order base has been finished\n",
      "16d3BlncEyCTzb0GxXrBXQin time base has been finished\n",
      "16tWXenJ1wTqugXJU7yiZg\n",
      "16tWXenJ1wTqugXJU7yiZgin order base has been finished\n",
      "16tWXenJ1wTqugXJU7yiZgin time base has been finished\n",
      "1a9YViZDThy3VqBnGOatmQ\n",
      "1a9YViZDThy3VqBnGOatmQin order base has been finished\n",
      "1a9YViZDThy3VqBnGOatmQin time base has been finished\n",
      "1BrIPwRhJHOp6yBwjoRtgg\n",
      "1BrIPwRhJHOp6yBwjoRtggin order base has been finished\n",
      "1BrIPwRhJHOp6yBwjoRtggin time base has been finished\n",
      "1CR2ddUcjYYwRd5JLtiRrw\n",
      "1CR2ddUcjYYwRd5JLtiRrwin order base has been finished\n",
      "1CR2ddUcjYYwRd5JLtiRrwin time base has been finished\n",
      "1d6c6Q2j2jwVzBfX_dLHlg\n",
      "1d6c6Q2j2jwVzBfX_dLHlgin order base has been finished\n",
      "1d6c6Q2j2jwVzBfX_dLHlgin time base has been finished\n",
      "1DP5vHxJzCDbgawv0WC3yA\n",
      "1DP5vHxJzCDbgawv0WC3yAin order base has been finished\n",
      "1DP5vHxJzCDbgawv0WC3yAin time base has been finished\n",
      "1jpYP-JNOEYCMIzP4OlGuQ\n",
      "1jpYP-JNOEYCMIzP4OlGuQin order base has been finished\n",
      "1jpYP-JNOEYCMIzP4OlGuQin time base has been finished\n",
      "1qwkbN3wu3AGDxMTXVz2gA\n",
      "1qwkbN3wu3AGDxMTXVz2gAin order base has been finished\n",
      "1qwkbN3wu3AGDxMTXVz2gAin time base has been finished\n",
      "1SqLPgnZEVeVYDM-AuoFhg\n",
      "1SqLPgnZEVeVYDM-AuoFhgin order base has been finished\n",
      "1SqLPgnZEVeVYDM-AuoFhgin time base has been finished\n",
      "1Vvxx-9AoINg8TJXOZgEHg\n",
      "1Vvxx-9AoINg8TJXOZgEHgin order base has been finished\n",
      "1Vvxx-9AoINg8TJXOZgEHgin time base has been finished\n",
      "1yWINuTOUBQj8ELqRNDOWA\n",
      "1yWINuTOUBQj8ELqRNDOWAin order base has been finished\n",
      "1yWINuTOUBQj8ELqRNDOWAin time base has been finished\n",
      "1ZnVfS-qP19upP_fwOhZsA\n",
      "1ZnVfS-qP19upP_fwOhZsAin order base has been finished\n",
      "1ZnVfS-qP19upP_fwOhZsAin time base has been finished\n",
      "25wTaO0_Rk-GLb4k2uMs0Q\n",
      "25wTaO0_Rk-GLb4k2uMs0Qin order base has been finished\n",
      "25wTaO0_Rk-GLb4k2uMs0Qin time base has been finished\n",
      "2DmTw0k3bcXuHdAyxO_bkw\n",
      "2DmTw0k3bcXuHdAyxO_bkwin order base has been finished\n",
      "2DmTw0k3bcXuHdAyxO_bkwin time base has been finished\n",
      "2g4ZTD3ePNSbDAvh6qAOKQ\n",
      "2g4ZTD3ePNSbDAvh6qAOKQin order base has been finished\n",
      "2g4ZTD3ePNSbDAvh6qAOKQin time base has been finished\n",
      "2GmGT-7QjowR1ihup3FbVA\n",
      "2GmGT-7QjowR1ihup3FbVAin order base has been finished\n",
      "2GmGT-7QjowR1ihup3FbVAin time base has been finished\n",
      "2gUbgbdJ7IFSbicBXlSchw\n",
      "2gUbgbdJ7IFSbicBXlSchwin order base has been finished\n",
      "2gUbgbdJ7IFSbicBXlSchwin time base has been finished\n",
      "2iTsRqUsPGRH1li1WVRvKQ\n",
      "2iTsRqUsPGRH1li1WVRvKQin order base has been finished\n",
      "2iTsRqUsPGRH1li1WVRvKQin time base has been finished\n",
      "2KWkeOk1KaH50Es_A-8cnA\n",
      "2KWkeOk1KaH50Es_A-8cnAin order base has been finished\n",
      "2KWkeOk1KaH50Es_A-8cnAin time base has been finished\n",
      "2SfSzEd3B7WimeZac23zhg\n",
      "2SfSzEd3B7WimeZac23zhgin order base has been finished\n",
      "2SfSzEd3B7WimeZac23zhgin time base has been finished\n",
      "2skQeu3C36VCiB653MIfrw\n",
      "2skQeu3C36VCiB653MIfrwin order base has been finished\n",
      "2skQeu3C36VCiB653MIfrwin time base has been finished\n",
      "2sx52lDoiEtef7xgPCaoBw\n",
      "2sx52lDoiEtef7xgPCaoBwin order base has been finished\n",
      "2sx52lDoiEtef7xgPCaoBwin time base has been finished\n",
      "2weQS-RnoOBhb1KsHKyoSQ\n",
      "2weQS-RnoOBhb1KsHKyoSQin order base has been finished\n",
      "2weQS-RnoOBhb1KsHKyoSQin time base has been finished\n",
      "364hhL5st0LV16UcBHRJ3A\n",
      "364hhL5st0LV16UcBHRJ3Ain order base has been finished\n",
      "364hhL5st0LV16UcBHRJ3Ain time base has been finished\n",
      "366FaRQ1MWEHBhaEKTcriQ\n",
      "366FaRQ1MWEHBhaEKTcriQin order base has been finished\n",
      "366FaRQ1MWEHBhaEKTcriQin time base has been finished\n",
      "3ajqOW9A7VhResA08I7RTg\n",
      "3ajqOW9A7VhResA08I7RTgin order base has been finished\n",
      "3ajqOW9A7VhResA08I7RTgin time base has been finished\n",
      "3BCsAgo_1i4xMuTyLKMLRQ\n",
      "3BCsAgo_1i4xMuTyLKMLRQin order base has been finished\n",
      "3BCsAgo_1i4xMuTyLKMLRQin time base has been finished\n",
      "3C5Z9homtzkWHouH2BHXYQ\n",
      "3C5Z9homtzkWHouH2BHXYQin order base has been finished\n",
      "3C5Z9homtzkWHouH2BHXYQin time base has been finished\n",
      "3cHL1r5w2oLYH-veijtweA\n",
      "3cHL1r5w2oLYH-veijtweAin order base has been finished\n",
      "3cHL1r5w2oLYH-veijtweAin time base has been finished\n",
      "3GEEy7RP6e4bT4LAiWFMFQ\n",
      "3GEEy7RP6e4bT4LAiWFMFQin order base has been finished\n",
      "3GEEy7RP6e4bT4LAiWFMFQin time base has been finished\n",
      "3Gt3xskppi9jZuTrwrhLNg\n",
      "3Gt3xskppi9jZuTrwrhLNgin order base has been finished\n",
      "3Gt3xskppi9jZuTrwrhLNgin time base has been finished\n",
      "3Jq5LfJ5fmJ5KmuA6VHmzw\n",
      "3Jq5LfJ5fmJ5KmuA6VHmzwin order base has been finished\n",
      "3Jq5LfJ5fmJ5KmuA6VHmzwin time base has been finished\n",
      "3kdSl5mo9dWC4clrQjEDGg\n",
      "3kdSl5mo9dWC4clrQjEDGgin order base has been finished\n",
      "3kdSl5mo9dWC4clrQjEDGgin time base has been finished\n",
      "3l54GTr8-E3XPbIxnF_sAA\n",
      "3l54GTr8-E3XPbIxnF_sAAin order base has been finished\n",
      "3l54GTr8-E3XPbIxnF_sAAin time base has been finished\n",
      "3LWsVfsSmb_Nzbi2YQ-NIA\n",
      "3LWsVfsSmb_Nzbi2YQ-NIAin order base has been finished\n",
      "3LWsVfsSmb_Nzbi2YQ-NIAin time base has been finished\n",
      "3N9U549Zse8UP-MwKZAjAQ\n",
      "3N9U549Zse8UP-MwKZAjAQin order base has been finished\n",
      "3N9U549Zse8UP-MwKZAjAQin time base has been finished\n",
      "3oajqiPFhYQJsHHiVCchEQ\n",
      "3oajqiPFhYQJsHHiVCchEQin order base has been finished\n",
      "3oajqiPFhYQJsHHiVCchEQin time base has been finished\n",
      "3uC7Lbc3RgUDTWQlBu4PqQ\n",
      "3uC7Lbc3RgUDTWQlBu4PqQin order base has been finished\n",
      "3uC7Lbc3RgUDTWQlBu4PqQin time base has been finished\n",
      "3vxIqhm2jCVjkUWtmDvTsw\n",
      "3vxIqhm2jCVjkUWtmDvTswin order base has been finished\n",
      "3vxIqhm2jCVjkUWtmDvTswin time base has been finished\n",
      "44kd3YdkhXj5XiSPs5XNjQ\n",
      "44kd3YdkhXj5XiSPs5XNjQin order base has been finished\n",
      "44kd3YdkhXj5XiSPs5XNjQin time base has been finished\n",
      "46Ld9Qc9nAx_A0jwclNZiw\n",
      "46Ld9Qc9nAx_A0jwclNZiwin order base has been finished\n",
      "46Ld9Qc9nAx_A0jwclNZiwin time base has been finished\n",
      "4dCOilGYflzGzizOPKyvow\n",
      "4dCOilGYflzGzizOPKyvowin order base has been finished\n",
      "4dCOilGYflzGzizOPKyvowin time base has been finished\n",
      "4GXII-GU7S0ZyU6ElkhscQ\n",
      "4GXII-GU7S0ZyU6ElkhscQin order base has been finished\n",
      "4GXII-GU7S0ZyU6ElkhscQin time base has been finished\n",
      "4hG2j_ibsNblDgqei05U_g\n",
      "4hG2j_ibsNblDgqei05U_gin order base has been finished\n",
      "4hG2j_ibsNblDgqei05U_gin time base has been finished\n",
      "4JNXUYY8wbaaDmk3BPzlWw\n",
      "4JNXUYY8wbaaDmk3BPzlWwin order base has been finished\n",
      "4JNXUYY8wbaaDmk3BPzlWwin time base has been finished\n",
      "4k3RlMAMd46DZ_JyZU0lMg\n",
      "4k3RlMAMd46DZ_JyZU0lMgin order base has been finished\n",
      "4k3RlMAMd46DZ_JyZU0lMgin time base has been finished\n",
      "4mb32UmQULqg7IMck28vog\n",
      "4mb32UmQULqg7IMck28vogin order base has been finished\n",
      "4mb32UmQULqg7IMck28vogin time base has been finished\n",
      "4qG3Gh8QyugC1XvoTlmgcQ\n",
      "4qG3Gh8QyugC1XvoTlmgcQin order base has been finished\n",
      "4qG3Gh8QyugC1XvoTlmgcQin time base has been finished\n",
      "4uISbaUPJLVECBHIi3tpxA\n",
      "4uISbaUPJLVECBHIi3tpxAin order base has been finished\n",
      "4uISbaUPJLVECBHIi3tpxAin time base has been finished\n",
      "4VkLiFoIEjTTpbCRgxjnCQ\n",
      "4VkLiFoIEjTTpbCRgxjnCQin order base has been finished\n",
      "4VkLiFoIEjTTpbCRgxjnCQin time base has been finished\n",
      "4X0KWUPcD2EkHN83aa4cXg\n",
      "4X0KWUPcD2EkHN83aa4cXgin order base has been finished\n",
      "4X0KWUPcD2EkHN83aa4cXgin time base has been finished\n",
      "5CJL_2-XwCGBmOav4mFdYg\n",
      "5CJL_2-XwCGBmOav4mFdYgin order base has been finished\n",
      "5CJL_2-XwCGBmOav4mFdYgin time base has been finished\n",
      "5DDumAHRKumv3gZiPKW6iw\n",
      "5DDumAHRKumv3gZiPKW6iwin order base has been finished\n",
      "5DDumAHRKumv3gZiPKW6iwin time base has been finished\n",
      "5eK_pgro9_LxPYDoRVJnEA\n",
      "5eK_pgro9_LxPYDoRVJnEAin order base has been finished\n",
      "5eK_pgro9_LxPYDoRVJnEAin time base has been finished\n",
      "5eV8oUGdBXylwB7HeaDFOA\n",
      "5eV8oUGdBXylwB7HeaDFOAin order base has been finished\n",
      "5eV8oUGdBXylwB7HeaDFOAin time base has been finished\n",
      "5FIOXmUE3qMviX9GafGH-Q\n",
      "5FIOXmUE3qMviX9GafGH-Qin order base has been finished\n",
      "5FIOXmUE3qMviX9GafGH-Qin time base has been finished\n",
      "5LNZ67Yw9RD6nf4_UhXOjw\n",
      "5LNZ67Yw9RD6nf4_UhXOjwin order base has been finished\n",
      "5LNZ67Yw9RD6nf4_UhXOjwin time base has been finished\n",
      "5shgJB7a-2_gdnzc0gsOtg\n",
      "5shgJB7a-2_gdnzc0gsOtgin order base has been finished\n",
      "5shgJB7a-2_gdnzc0gsOtgin time base has been finished\n",
      "5T6kFKFycym_GkhgOiysIw\n",
      "5T6kFKFycym_GkhgOiysIwin order base has been finished\n",
      "5T6kFKFycym_GkhgOiysIwin time base has been finished\n",
      "5xdKUuu4DbJ71KGbwRXfFg\n",
      "5xdKUuu4DbJ71KGbwRXfFgin order base has been finished\n",
      "5xdKUuu4DbJ71KGbwRXfFgin time base has been finished\n",
      "5z1WIr7E9P2CSzyN5seeSA\n",
      "5z1WIr7E9P2CSzyN5seeSAin order base has been finished\n",
      "5z1WIr7E9P2CSzyN5seeSAin time base has been finished\n",
      "5Zc41a446gV3K_o7CDs69Q\n",
      "5Zc41a446gV3K_o7CDs69Qin order base has been finished\n",
      "5Zc41a446gV3K_o7CDs69Qin time base has been finished\n",
      "5zDP3Y2hdh6GJL9DVbQ2KA\n",
      "5zDP3Y2hdh6GJL9DVbQ2KAin order base has been finished\n",
      "5zDP3Y2hdh6GJL9DVbQ2KAin time base has been finished\n",
      "5_ymZOB8eIfi6nzzL5-SbQ\n",
      "5_ymZOB8eIfi6nzzL5-SbQin order base has been finished\n",
      "5_ymZOB8eIfi6nzzL5-SbQin time base has been finished\n",
      "64dfRmMmUsOdLnkBOtzp4w\n",
      "64dfRmMmUsOdLnkBOtzp4win order base has been finished\n",
      "64dfRmMmUsOdLnkBOtzp4win time base has been finished\n",
      "65eDIQ8bpMJFtgdyX7ulVA\n",
      "65eDIQ8bpMJFtgdyX7ulVAin order base has been finished\n",
      "65eDIQ8bpMJFtgdyX7ulVAin time base has been finished\n",
      "67zCgILB2h6JoSvFabVe7g\n",
      "67zCgILB2h6JoSvFabVe7gin order base has been finished\n",
      "67zCgILB2h6JoSvFabVe7gin time base has been finished\n",
      "698nukvxe7mq2Fra5vDikQ\n",
      "698nukvxe7mq2Fra5vDikQin order base has been finished\n",
      "698nukvxe7mq2Fra5vDikQin time base has been finished\n",
      "6ANVuBMmpkXpFd5Hzkn4_Q\n",
      "6ANVuBMmpkXpFd5Hzkn4_Qin order base has been finished\n",
      "6ANVuBMmpkXpFd5Hzkn4_Qin time base has been finished\n",
      "6fPQJq4f_yiq1NHn0fd11Q\n",
      "6fPQJq4f_yiq1NHn0fd11Qin order base has been finished\n",
      "6fPQJq4f_yiq1NHn0fd11Qin time base has been finished\n",
      "6Iu4YDjAPrDRRrPCt_E2zA\n",
      "6Iu4YDjAPrDRRrPCt_E2zAin order base has been finished\n",
      "6Iu4YDjAPrDRRrPCt_E2zAin time base has been finished\n",
      "6kkxRV8H9SQLybj0xnEbMw\n",
      "6kkxRV8H9SQLybj0xnEbMwin order base has been finished\n",
      "6kkxRV8H9SQLybj0xnEbMwin time base has been finished\n",
      "6nKR80xEGHYf2UxAe_Cu_g\n",
      "6nKR80xEGHYf2UxAe_Cu_gin order base has been finished\n",
      "6nKR80xEGHYf2UxAe_Cu_gin time base has been finished\n",
      "6Q7-wkCPc1KF75jZLOTcMw\n",
      "6Q7-wkCPc1KF75jZLOTcMwin order base has been finished\n",
      "6Q7-wkCPc1KF75jZLOTcMwin time base has been finished\n"
     ]
    },
    {
     "name": "stdout",
     "output_type": "stream",
     "text": [
      "6t7mlTVjDA9fhuFAZmVzAQ\n",
      "6t7mlTVjDA9fhuFAZmVzAQin order base has been finished\n",
      "6t7mlTVjDA9fhuFAZmVzAQin time base has been finished\n",
      "6tSvz_21BMo3a4GaItwa0g\n",
      "6tSvz_21BMo3a4GaItwa0gin order base has been finished\n",
      "6tSvz_21BMo3a4GaItwa0gin time base has been finished\n",
      "6Vyp-9i1jzwK_bvisuPJpQ\n",
      "6Vyp-9i1jzwK_bvisuPJpQin order base has been finished\n",
      "6Vyp-9i1jzwK_bvisuPJpQin time base has been finished\n",
      "6V_7ldr9tjmet0BdAnC34A\n",
      "6V_7ldr9tjmet0BdAnC34Ain order base has been finished\n",
      "6V_7ldr9tjmet0BdAnC34Ain time base has been finished\n",
      "6xgcHeLad-VaoTIQewK84A\n",
      "6xgcHeLad-VaoTIQewK84Ain order base has been finished\n",
      "6xgcHeLad-VaoTIQewK84Ain time base has been finished\n",
      "6ZIHxvFTHC1pvAzAS0uLDA\n",
      "6ZIHxvFTHC1pvAzAS0uLDAin order base has been finished\n",
      "6ZIHxvFTHC1pvAzAS0uLDAin time base has been finished\n",
      "73_UT7fZ7mzXcguX8-oSuQ\n",
      "73_UT7fZ7mzXcguX8-oSuQin order base has been finished\n",
      "73_UT7fZ7mzXcguX8-oSuQin time base has been finished\n",
      "77h11eWv6HKJAgojLx8G4w\n",
      "77h11eWv6HKJAgojLx8G4win order base has been finished\n",
      "77h11eWv6HKJAgojLx8G4win time base has been finished\n",
      "7cK9uEV09iPmsTqOqmY3kQ\n",
      "7cK9uEV09iPmsTqOqmY3kQin order base has been finished\n",
      "7cK9uEV09iPmsTqOqmY3kQin time base has been finished\n",
      "7EZ4Eu7YJ1ltRCC5jXFJrQ\n",
      "7EZ4Eu7YJ1ltRCC5jXFJrQin order base has been finished\n",
      "7EZ4Eu7YJ1ltRCC5jXFJrQin time base has been finished\n",
      "7fxebHYUwIF6CakxSr70iQ\n",
      "7fxebHYUwIF6CakxSr70iQin order base has been finished\n",
      "7fxebHYUwIF6CakxSr70iQin time base has been finished\n",
      "7ibuDLfx8gEhESAufYIySw\n",
      "7ibuDLfx8gEhESAufYIySwin order base has been finished\n",
      "7ibuDLfx8gEhESAufYIySwin time base has been finished\n",
      "7j5yndEexyQn9cpVXLIIpw\n",
      "7j5yndEexyQn9cpVXLIIpwin order base has been finished\n",
      "7j5yndEexyQn9cpVXLIIpwin time base has been finished\n",
      "7m1Oa1VYV98UUuo_6i0EZg\n",
      "7m1Oa1VYV98UUuo_6i0EZgin order base has been finished\n",
      "7m1Oa1VYV98UUuo_6i0EZgin time base has been finished\n",
      "7MeMGh0SUlF-GuTyruwtcw\n",
      "7MeMGh0SUlF-GuTyruwtcwin order base has been finished\n",
      "7MeMGh0SUlF-GuTyruwtcwin time base has been finished\n",
      "7mGZrCzGGjS95SdRtEaGcQ\n",
      "7mGZrCzGGjS95SdRtEaGcQin order base has been finished\n",
      "7mGZrCzGGjS95SdRtEaGcQin time base has been finished\n",
      "7Ny2GHLw8xl_kXfhfrvh5w\n",
      "7Ny2GHLw8xl_kXfhfrvh5win order base has been finished\n",
      "7Ny2GHLw8xl_kXfhfrvh5win time base has been finished\n",
      "7Q2cYSl5NBYytJzgjX0oKw\n",
      "7Q2cYSl5NBYytJzgjX0oKwin order base has been finished\n",
      "7Q2cYSl5NBYytJzgjX0oKwin time base has been finished\n",
      "7sb2FYLS2sejZKxRYF9mtg\n",
      "7sb2FYLS2sejZKxRYF9mtgin order base has been finished\n",
      "7sb2FYLS2sejZKxRYF9mtgin time base has been finished\n",
      "7sPNbCx7vGAaH7SbNPZ6oA\n",
      "7sPNbCx7vGAaH7SbNPZ6oAin order base has been finished\n",
      "7sPNbCx7vGAaH7SbNPZ6oAin time base has been finished\n",
      "7tNY4BYLA4laqWNV4IWGQg\n",
      "7tNY4BYLA4laqWNV4IWGQgin order base has been finished\n",
      "7tNY4BYLA4laqWNV4IWGQgin time base has been finished\n",
      "7UFDAX4wLi6ux5otguYldA\n",
      "7UFDAX4wLi6ux5otguYldAin order base has been finished\n",
      "7UFDAX4wLi6ux5otguYldAin time base has been finished\n",
      "7wHLFohwCw8l6WS-feLjeg\n",
      "7wHLFohwCw8l6WS-feLjegin order base has been finished\n",
      "7wHLFohwCw8l6WS-feLjegin time base has been finished\n",
      "7yIHC8KsR5OaE_7MgEBVhw\n",
      "7yIHC8KsR5OaE_7MgEBVhwin order base has been finished\n",
      "7yIHC8KsR5OaE_7MgEBVhwin time base has been finished\n",
      "8-_jXGGDFPFAPB4r1x-81w\n",
      "8-_jXGGDFPFAPB4r1x-81win order base has been finished\n",
      "8-_jXGGDFPFAPB4r1x-81win time base has been finished\n",
      "825nC-s-cQG6Hsul5Gm2cA\n",
      "825nC-s-cQG6Hsul5Gm2cAin order base has been finished\n",
      "825nC-s-cQG6Hsul5Gm2cAin time base has been finished\n",
      "82YGtjc5KKikNiqBZ33qzw\n",
      "82YGtjc5KKikNiqBZ33qzwin order base has been finished\n",
      "82YGtjc5KKikNiqBZ33qzwin time base has been finished\n",
      "8796vXaydw2aY_zER0n9uA\n",
      "8796vXaydw2aY_zER0n9uAin order base has been finished\n",
      "8796vXaydw2aY_zER0n9uAin time base has been finished\n",
      "89uU51kOiQXbJHVA3C6XMQ\n",
      "89uU51kOiQXbJHVA3C6XMQin order base has been finished\n",
      "89uU51kOiQXbJHVA3C6XMQin time base has been finished\n",
      "8I5U8OQ06nSxX2y4PPOWzQ\n",
      "8I5U8OQ06nSxX2y4PPOWzQin order base has been finished\n",
      "8I5U8OQ06nSxX2y4PPOWzQin time base has been finished\n",
      "8K3CRM4COa0SSBEvli0fJQ\n",
      "8K3CRM4COa0SSBEvli0fJQin order base has been finished\n",
      "8K3CRM4COa0SSBEvli0fJQin time base has been finished\n",
      "8mIrX_LrOnAqWsB5JrOojQ\n",
      "8mIrX_LrOnAqWsB5JrOojQin order base has been finished\n",
      "8mIrX_LrOnAqWsB5JrOojQin time base has been finished\n",
      "8nP8ghEpT6WFcM6tfqAaGA\n",
      "8nP8ghEpT6WFcM6tfqAaGAin order base has been finished\n",
      "8nP8ghEpT6WFcM6tfqAaGAin time base has been finished\n",
      "8olG8J91NG_QU92WHG5QfA\n",
      "8olG8J91NG_QU92WHG5QfAin order base has been finished\n",
      "8olG8J91NG_QU92WHG5QfAin time base has been finished\n",
      "8Q6jl7OW8DZzwANggDspcw\n",
      "8Q6jl7OW8DZzwANggDspcwin order base has been finished\n",
      "8Q6jl7OW8DZzwANggDspcwin time base has been finished\n",
      "8R_oemw4rNjJL6sd40O_oQ\n",
      "8R_oemw4rNjJL6sd40O_oQin order base has been finished\n",
      "8R_oemw4rNjJL6sd40O_oQin time base has been finished\n",
      "8Vpfy_WtcVvZS8Wfz7JQJA\n",
      "8Vpfy_WtcVvZS8Wfz7JQJAin order base has been finished\n",
      "8Vpfy_WtcVvZS8Wfz7JQJAin time base has been finished\n",
      "8Zqh2jwtncA3N4fWEMTvZQ\n",
      "8Zqh2jwtncA3N4fWEMTvZQin order base has been finished\n",
      "8Zqh2jwtncA3N4fWEMTvZQin time base has been finished\n",
      "9-cVW8wSRoE6Nmnc7v0uUA\n",
      "9-cVW8wSRoE6Nmnc7v0uUAin order base has been finished\n",
      "9-cVW8wSRoE6Nmnc7v0uUAin time base has been finished\n",
      "90bL34o2KEes9pUnCOm7pQ\n",
      "90bL34o2KEes9pUnCOm7pQin order base has been finished\n",
      "90bL34o2KEes9pUnCOm7pQin time base has been finished\n",
      "939j88ceB05Te3D7kQPwSA\n",
      "939j88ceB05Te3D7kQPwSAin order base has been finished\n",
      "939j88ceB05Te3D7kQPwSAin time base has been finished\n",
      "966W5oXOBW0ZWhNYy0yjcA\n",
      "966W5oXOBW0ZWhNYy0yjcAin order base has been finished\n",
      "966W5oXOBW0ZWhNYy0yjcAin time base has been finished\n",
      "9a3DrZvpYxVs3k_qwlCNSw\n",
      "9a3DrZvpYxVs3k_qwlCNSwin order base has been finished\n",
      "9a3DrZvpYxVs3k_qwlCNSwin time base has been finished\n",
      "9cw870n3gsGikVoOT5YOYg\n",
      "9cw870n3gsGikVoOT5YOYgin order base has been finished\n",
      "9cw870n3gsGikVoOT5YOYgin time base has been finished\n",
      "9dqdzRzjSfbnMvjUGqWBAw\n",
      "9dqdzRzjSfbnMvjUGqWBAwin order base has been finished\n",
      "9dqdzRzjSfbnMvjUGqWBAwin time base has been finished\n",
      "9fTDeI6mApFX52qYJ8z0mw\n",
      "9fTDeI6mApFX52qYJ8z0mwin order base has been finished\n",
      "9fTDeI6mApFX52qYJ8z0mwin time base has been finished\n",
      "9KmvrnyjWTr4sly0Dt770g\n",
      "9KmvrnyjWTr4sly0Dt770gin order base has been finished\n",
      "9KmvrnyjWTr4sly0Dt770gin time base has been finished\n",
      "9MnbQg7kfb_WgxoV0hXKSQ\n",
      "9MnbQg7kfb_WgxoV0hXKSQin order base has been finished\n",
      "9MnbQg7kfb_WgxoV0hXKSQin time base has been finished\n",
      "9NaZIhfRPkxRJn1eA9zrTA\n",
      "9NaZIhfRPkxRJn1eA9zrTAin order base has been finished\n",
      "9NaZIhfRPkxRJn1eA9zrTAin time base has been finished\n",
      "9PIC380tmNYpIC3z5cvcNA\n",
      "9PIC380tmNYpIC3z5cvcNAin order base has been finished\n",
      "9PIC380tmNYpIC3z5cvcNAin time base has been finished\n",
      "9wjTzw8bEYOTQJk41V8WQw\n",
      "9wjTzw8bEYOTQJk41V8WQwin order base has been finished\n",
      "9wjTzw8bEYOTQJk41V8WQwin time base has been finished\n",
      "9yESUcIVarhYEabIMj844Q\n",
      "9yESUcIVarhYEabIMj844Qin order base has been finished\n",
      "9yESUcIVarhYEabIMj844Qin time base has been finished\n",
      "A-uZAD4zP3rRxb44WUGV5w\n",
      "A-uZAD4zP3rRxb44WUGV5win order base has been finished\n",
      "A-uZAD4zP3rRxb44WUGV5win time base has been finished\n",
      "a0v7Si0DK4cIko7AQY4YXg\n",
      "a0v7Si0DK4cIko7AQY4YXgin order base has been finished\n",
      "a0v7Si0DK4cIko7AQY4YXgin time base has been finished\n",
      "A0X1baHPgw9IiBRivu0G9g\n",
      "A0X1baHPgw9IiBRivu0G9gin order base has been finished\n",
      "A0X1baHPgw9IiBRivu0G9gin time base has been finished\n",
      "a192hdM0_UVCYLwPJv1Qwg\n",
      "a192hdM0_UVCYLwPJv1Qwgin order base has been finished\n",
      "a192hdM0_UVCYLwPJv1Qwgin time base has been finished\n",
      "a2ZBDIXmwBm7IWnXR6LK-g\n",
      "a2ZBDIXmwBm7IWnXR6LK-gin order base has been finished\n",
      "a2ZBDIXmwBm7IWnXR6LK-gin time base has been finished\n",
      "A4zLP5AyKEEHQr_dWEZKig\n",
      "A4zLP5AyKEEHQr_dWEZKigin order base has been finished\n",
      "A4zLP5AyKEEHQr_dWEZKigin time base has been finished\n",
      "A5Rkh7UymKm0_Rxm9K2PJw\n",
      "A5Rkh7UymKm0_Rxm9K2PJwin order base has been finished\n",
      "A5Rkh7UymKm0_Rxm9K2PJwin time base has been finished\n",
      "a8pmtlVKf7NiSLI-4KejIw\n",
      "a8pmtlVKf7NiSLI-4KejIwin order base has been finished\n",
      "a8pmtlVKf7NiSLI-4KejIwin time base has been finished\n",
      "ABJjxuO6oh5D9R48-eAUdQ\n",
      "ABJjxuO6oh5D9R48-eAUdQin order base has been finished\n",
      "ABJjxuO6oh5D9R48-eAUdQin time base has been finished\n",
      "aBLx9JlAMq_AuW6VAImSwg\n",
      "aBLx9JlAMq_AuW6VAImSwgin order base has been finished\n",
      "aBLx9JlAMq_AuW6VAImSwgin time base has been finished\n",
      "AbPQf-X7awuPFDULiJ43bg\n",
      "AbPQf-X7awuPFDULiJ43bgin order base has been finished\n",
      "AbPQf-X7awuPFDULiJ43bgin time base has been finished\n",
      "aD0EslPREWGDlSpD0RMlEg\n",
      "aD0EslPREWGDlSpD0RMlEgin order base has been finished\n",
      "aD0EslPREWGDlSpD0RMlEgin time base has been finished\n",
      "ADgacmZ-qXrSOhMfU6bmTA\n",
      "ADgacmZ-qXrSOhMfU6bmTAin order base has been finished\n",
      "ADgacmZ-qXrSOhMfU6bmTAin time base has been finished\n",
      "AfN3Z1U6QPEgAb5F2CQm8w\n",
      "AfN3Z1U6QPEgAb5F2CQm8win order base has been finished\n",
      "AfN3Z1U6QPEgAb5F2CQm8win time base has been finished\n",
      "AhPmh0NaRDbEYyhd9egzLA\n",
      "AhPmh0NaRDbEYyhd9egzLAin order base has been finished\n",
      "AhPmh0NaRDbEYyhd9egzLAin time base has been finished\n",
      "ahSFUPojs9X3-1jP-QPb-w\n",
      "ahSFUPojs9X3-1jP-QPb-win order base has been finished\n",
      "ahSFUPojs9X3-1jP-QPb-win time base has been finished\n",
      "aiX_WP7NKPTdF9CfI-M-wg\n",
      "aiX_WP7NKPTdF9CfI-M-wgin order base has been finished\n",
      "aiX_WP7NKPTdF9CfI-M-wgin time base has been finished\n",
      "ajoqEHnCZTD8-8GqGLq9-Q\n",
      "ajoqEHnCZTD8-8GqGLq9-Qin order base has been finished\n",
      "ajoqEHnCZTD8-8GqGLq9-Qin time base has been finished\n",
      "AjWFFZN8KwyqJzzi0DyEsw\n",
      "AjWFFZN8KwyqJzzi0DyEswin order base has been finished\n",
      "AjWFFZN8KwyqJzzi0DyEswin time base has been finished\n",
      "Ak08F6RqjHYmVCzweBbTrQ\n",
      "Ak08F6RqjHYmVCzweBbTrQin order base has been finished\n",
      "Ak08F6RqjHYmVCzweBbTrQin time base has been finished\n",
      "aKcqKNcbwNydCBnvAA4TeQ\n",
      "aKcqKNcbwNydCBnvAA4TeQin order base has been finished\n",
      "aKcqKNcbwNydCBnvAA4TeQin time base has been finished\n",
      "aKEEQqL1UFMieilnylI1gw\n",
      "aKEEQqL1UFMieilnylI1gwin order base has been finished\n",
      "aKEEQqL1UFMieilnylI1gwin time base has been finished\n",
      "aLcFhMe6DDJ430zelCpd2A\n",
      "aLcFhMe6DDJ430zelCpd2Ain order base has been finished\n",
      "aLcFhMe6DDJ430zelCpd2Ain time base has been finished\n",
      "ALn_0f-Usn3n0a9WBcjhhg\n",
      "ALn_0f-Usn3n0a9WBcjhhgin order base has been finished\n",
      "ALn_0f-Usn3n0a9WBcjhhgin time base has been finished\n",
      "ALwAlxItASeEs2vYAeLXHA\n",
      "ALwAlxItASeEs2vYAeLXHAin order base has been finished\n",
      "ALwAlxItASeEs2vYAeLXHAin time base has been finished\n",
      "aMF8cG445ONPRKBsBYqofg\n",
      "aMF8cG445ONPRKBsBYqofgin order base has been finished\n",
      "aMF8cG445ONPRKBsBYqofgin time base has been finished\n",
      "anzCdD5eIEHwydTpXhLlUA\n",
      "anzCdD5eIEHwydTpXhLlUAin order base has been finished\n",
      "anzCdD5eIEHwydTpXhLlUAin time base has been finished\n",
      "aO1gAp41n8w8zpxTiHdLNA\n",
      "aO1gAp41n8w8zpxTiHdLNAin order base has been finished\n",
      "aO1gAp41n8w8zpxTiHdLNAin time base has been finished\n",
      "Ap17p-tA4Ipzy1s35DfCfg\n",
      "Ap17p-tA4Ipzy1s35DfCfgin order base has been finished\n",
      "Ap17p-tA4Ipzy1s35DfCfgin time base has been finished\n",
      "apdb7MGnmnx6nGWBJ0ch_g\n",
      "apdb7MGnmnx6nGWBJ0ch_gin order base has been finished\n",
      "apdb7MGnmnx6nGWBJ0ch_gin time base has been finished\n",
      "aQ222ydz_GSRZV66xNt4kQ\n",
      "aQ222ydz_GSRZV66xNt4kQin order base has been finished\n",
      "aQ222ydz_GSRZV66xNt4kQin time base has been finished\n",
      "aqONNC5onqX6EqHHUO1CJA\n",
      "aqONNC5onqX6EqHHUO1CJAin order base has been finished\n",
      "aqONNC5onqX6EqHHUO1CJAin time base has been finished\n",
      "ArmAaGCdCVAlkhdtaT6RzQ\n",
      "ArmAaGCdCVAlkhdtaT6RzQin order base has been finished\n",
      "ArmAaGCdCVAlkhdtaT6RzQin time base has been finished\n",
      "aS1qJzTGyluRT2tJ09Jbaw\n",
      "aS1qJzTGyluRT2tJ09Jbawin order base has been finished\n",
      "aS1qJzTGyluRT2tJ09Jbawin time base has been finished\n",
      "At2bqa8emnEr5WNIosi0ow\n",
      "At2bqa8emnEr5WNIosi0owin order base has been finished\n",
      "At2bqa8emnEr5WNIosi0owin time base has been finished\n",
      "AtD6B83S4Mbmq0t7iDnUVA\n",
      "AtD6B83S4Mbmq0t7iDnUVAin order base has been finished\n",
      "AtD6B83S4Mbmq0t7iDnUVAin time base has been finished\n",
      "AT_xDv2Lm5K7VtER1fp-SA\n",
      "AT_xDv2Lm5K7VtER1fp-SAin order base has been finished\n",
      "AT_xDv2Lm5K7VtER1fp-SAin time base has been finished\n",
      "auTNigMttjBBTj1MNxOeFQ\n",
      "auTNigMttjBBTj1MNxOeFQin order base has been finished\n",
      "auTNigMttjBBTj1MNxOeFQin time base has been finished\n",
      "AV6weBrZFFBfRGCbcRGO4g\n",
      "AV6weBrZFFBfRGCbcRGO4gin order base has been finished\n",
      "AV6weBrZFFBfRGCbcRGO4gin time base has been finished\n",
      "awI4hHMfa7H0Xf0-ChU5hg\n",
      "awI4hHMfa7H0Xf0-ChU5hgin order base has been finished\n",
      "awI4hHMfa7H0Xf0-ChU5hgin time base has been finished\n",
      "AyEtowSGi9vx0-xFfrgjWw\n",
      "AyEtowSGi9vx0-xFfrgjWwin order base has been finished\n",
      "AyEtowSGi9vx0-xFfrgjWwin time base has been finished\n",
      "b3vRI8yXNK34hgC0Wd4Iag\n",
      "b3vRI8yXNK34hgC0Wd4Iagin order base has been finished\n",
      "b3vRI8yXNK34hgC0Wd4Iagin time base has been finished\n",
      "B70iTJjcPkuYn8ouUewWgw\n",
      "B70iTJjcPkuYn8ouUewWgwin order base has been finished\n",
      "B70iTJjcPkuYn8ouUewWgwin time base has been finished\n",
      "BCAw9a_kyx2RddRH9tMmKQ\n",
      "BCAw9a_kyx2RddRH9tMmKQin order base has been finished\n",
      "BCAw9a_kyx2RddRH9tMmKQin time base has been finished\n",
      "BcW7Z9lPmOB_8eS2lEuOqQ\n",
      "BcW7Z9lPmOB_8eS2lEuOqQin order base has been finished\n",
      "BcW7Z9lPmOB_8eS2lEuOqQin time base has been finished\n",
      "BEplfZTUzYwApjMUaOA12w\n",
      "BEplfZTUzYwApjMUaOA12win order base has been finished\n",
      "BEplfZTUzYwApjMUaOA12win time base has been finished\n",
      "beuVp5CZxCdNvQIIPBS2rw\n",
      "beuVp5CZxCdNvQIIPBS2rwin order base has been finished\n",
      "beuVp5CZxCdNvQIIPBS2rwin time base has been finished\n",
      "BFibmswPtBNyChp8vBHRsg\n",
      "BFibmswPtBNyChp8vBHRsgin order base has been finished\n",
      "BFibmswPtBNyChp8vBHRsgin time base has been finished\n",
      "BGGQOJQTQerEQu0kHbT_UQ\n",
      "BGGQOJQTQerEQu0kHbT_UQin order base has been finished\n",
      "BGGQOJQTQerEQu0kHbT_UQin time base has been finished\n",
      "BgQ5ob0QiZfO5YbgI7VyFw\n",
      "BgQ5ob0QiZfO5YbgI7VyFwin order base has been finished\n",
      "BgQ5ob0QiZfO5YbgI7VyFwin time base has been finished\n",
      "BIBWGO_r_1znnlmLbp4Nxg\n",
      "BIBWGO_r_1znnlmLbp4Nxgin order base has been finished\n",
      "BIBWGO_r_1znnlmLbp4Nxgin time base has been finished\n",
      "BjH8Xepc10i6OhCDQdX6og\n",
      "BjH8Xepc10i6OhCDQdX6ogin order base has been finished\n",
      "BjH8Xepc10i6OhCDQdX6ogin time base has been finished\n",
      "BJLhJdmhUxV95BHAxZluzA\n",
      "BJLhJdmhUxV95BHAxZluzAin order base has been finished\n",
      "BJLhJdmhUxV95BHAxZluzAin time base has been finished\n",
      "bjllusUsLq9zE4yZnLpOzg\n",
      "bjllusUsLq9zE4yZnLpOzgin order base has been finished\n",
      "bjllusUsLq9zE4yZnLpOzgin time base has been finished\n",
      "bjSC_jbrypke0l-bXXBmwQ\n",
      "bjSC_jbrypke0l-bXXBmwQin order base has been finished\n",
      "bjSC_jbrypke0l-bXXBmwQin time base has been finished\n",
      "BORPULADzZV6_LJZzcsywQ\n",
      "BORPULADzZV6_LJZzcsywQin order base has been finished\n",
      "BORPULADzZV6_LJZzcsywQin time base has been finished\n",
      "bpRo8L8dkhgbJhdIKa9mwA\n",
      "bpRo8L8dkhgbJhdIKa9mwAin order base has been finished\n",
      "bpRo8L8dkhgbJhdIKa9mwAin time base has been finished\n",
      "bsauQzwixetBDjA7SqUlVA\n",
      "bsauQzwixetBDjA7SqUlVAin order base has been finished\n",
      "bsauQzwixetBDjA7SqUlVAin time base has been finished\n",
      "BskUTTscZ1XGa9ev7TlfeQ\n",
      "BskUTTscZ1XGa9ev7TlfeQin order base has been finished\n",
      "BskUTTscZ1XGa9ev7TlfeQin time base has been finished\n",
      "BslEhCyzaQPfpHtDogb4hQ\n",
      "BslEhCyzaQPfpHtDogb4hQin order base has been finished\n",
      "BslEhCyzaQPfpHtDogb4hQin time base has been finished\n",
      "bsrj9_hFAql3dlSf244zpg\n",
      "bsrj9_hFAql3dlSf244zpgin order base has been finished\n",
      "bsrj9_hFAql3dlSf244zpgin time base has been finished\n",
      "bSY97kgQpJ5BrpgW40V1qg\n",
      "bSY97kgQpJ5BrpgW40V1qgin order base has been finished\n",
      "bSY97kgQpJ5BrpgW40V1qgin time base has been finished\n",
      "BuS11AF9XSHEShscxQEzeg\n",
      "BuS11AF9XSHEShscxQEzegin order base has been finished\n",
      "BuS11AF9XSHEShscxQEzegin time base has been finished\n",
      "business number.txt\n",
      "buTa1akbH0pO_P10v99_eA\n",
      "buTa1akbH0pO_P10v99_eAin order base has been finished\n",
      "buTa1akbH0pO_P10v99_eAin time base has been finished\n",
      "bvow46stEejfxnnqEKTAyQ\n",
      "bvow46stEejfxnnqEKTAyQin order base has been finished\n",
      "bvow46stEejfxnnqEKTAyQin time base has been finished\n",
      "bxRFIGAcYREvDBT3Nw3Vaw\n",
      "bxRFIGAcYREvDBT3Nw3Vawin order base has been finished\n",
      "bxRFIGAcYREvDBT3Nw3Vawin time base has been finished\n",
      "ByFMv3p5X1aNeZhU61rDcA\n",
      "ByFMv3p5X1aNeZhU61rDcAin order base has been finished\n",
      "ByFMv3p5X1aNeZhU61rDcAin time base has been finished\n",
      "bzbNGyrTwWHAgg1CqkSgeg\n",
      "bzbNGyrTwWHAgg1CqkSgegin order base has been finished\n",
      "bzbNGyrTwWHAgg1CqkSgegin time base has been finished\n",
      "b_8jCti0vuouJ_fjZpdmZw\n",
      "b_8jCti0vuouJ_fjZpdmZwin order base has been finished\n",
      "b_8jCti0vuouJ_fjZpdmZwin time base has been finished\n",
      "B_WggEKFq-ZFNui8CHPYvA\n",
      "B_WggEKFq-ZFNui8CHPYvAin order base has been finished\n",
      "B_WggEKFq-ZFNui8CHPYvAin time base has been finished\n",
      "C-oKwqnAPa1KJZhMOox60w\n",
      "C-oKwqnAPa1KJZhMOox60win order base has been finished\n",
      "C-oKwqnAPa1KJZhMOox60win time base has been finished\n",
      "C2BR0TjNacoNzItPLUHTAA\n",
      "C2BR0TjNacoNzItPLUHTAAin order base has been finished\n",
      "C2BR0TjNacoNzItPLUHTAAin time base has been finished\n",
      "c7lAaz-pW58i1h1rSlyqcw\n",
      "c7lAaz-pW58i1h1rSlyqcwin order base has been finished\n",
      "c7lAaz-pW58i1h1rSlyqcwin time base has been finished\n",
      "C8D_GU9cDDjbOJfCaGXxDQ\n",
      "C8D_GU9cDDjbOJfCaGXxDQin order base has been finished\n"
     ]
    },
    {
     "name": "stdout",
     "output_type": "stream",
     "text": [
      "C8D_GU9cDDjbOJfCaGXxDQin time base has been finished\n",
      "C9ImzBi5fn742ZcAYDww2A\n",
      "C9ImzBi5fn742ZcAYDww2Ain order base has been finished\n",
      "C9ImzBi5fn742ZcAYDww2Ain time base has been finished\n",
      "CauQnqZ5eowyrr7oWF_p3Q\n",
      "CauQnqZ5eowyrr7oWF_p3Qin order base has been finished\n",
      "CauQnqZ5eowyrr7oWF_p3Qin time base has been finished\n",
      "CCRgGKhzxSpl38w7yhqKUw\n",
      "CCRgGKhzxSpl38w7yhqKUwin order base has been finished\n",
      "CCRgGKhzxSpl38w7yhqKUwin time base has been finished\n",
      "cHdJXLlKNWixBXpDwEGb_A\n",
      "cHdJXLlKNWixBXpDwEGb_Ain order base has been finished\n",
      "cHdJXLlKNWixBXpDwEGb_Ain time base has been finished\n",
      "CiYLq33nAyghFkUR15pP-Q\n",
      "CiYLq33nAyghFkUR15pP-Qin order base has been finished\n",
      "CiYLq33nAyghFkUR15pP-Qin time base has been finished\n",
      "cJWbbvGmyhFiBpG_5hf5LA\n",
      "cJWbbvGmyhFiBpG_5hf5LAin order base has been finished\n",
      "cJWbbvGmyhFiBpG_5hf5LAin time base has been finished\n",
      "cKdox2gt3L1Dbb7MpOPdWg\n",
      "cKdox2gt3L1Dbb7MpOPdWgin order base has been finished\n",
      "cKdox2gt3L1Dbb7MpOPdWgin time base has been finished\n",
      "cKgUCzMGuRgkbKXUsgeXUw\n",
      "cKgUCzMGuRgkbKXUsgeXUwin order base has been finished\n",
      "cKgUCzMGuRgkbKXUsgeXUwin time base has been finished\n",
      "Cni2l-VKG_pdospJ6xliXQ\n",
      "Cni2l-VKG_pdospJ6xliXQin order base has been finished\n",
      "Cni2l-VKG_pdospJ6xliXQin time base has been finished\n",
      "CoyeXg8FBsS_d20QzNIy-A\n",
      "CoyeXg8FBsS_d20QzNIy-Ain order base has been finished\n",
      "CoyeXg8FBsS_d20QzNIy-Ain time base has been finished\n",
      "CQk3WJtULz_xOkUM6o7wpQ\n",
      "CQk3WJtULz_xOkUM6o7wpQin order base has been finished\n",
      "CQk3WJtULz_xOkUM6o7wpQin time base has been finished\n",
      "cQNGkOyCvnIqs78vO8SGJQ\n",
      "cQNGkOyCvnIqs78vO8SGJQin order base has been finished\n",
      "cQNGkOyCvnIqs78vO8SGJQin time base has been finished\n",
      "Cr4ipI-tr-R8Q0NilkWNkA\n",
      "Cr4ipI-tr-R8Q0NilkWNkAin order base has been finished\n",
      "Cr4ipI-tr-R8Q0NilkWNkAin time base has been finished\n",
      "CRVtzesMuwHK-phmS_ojaA\n",
      "CRVtzesMuwHK-phmS_ojaAin order base has been finished\n",
      "CRVtzesMuwHK-phmS_ojaAin time base has been finished\n",
      "cs1qJvnWUg_f8g020z_3PQ\n",
      "cs1qJvnWUg_f8g020z_3PQin order base has been finished\n",
      "cs1qJvnWUg_f8g020z_3PQin time base has been finished\n",
      "cTJjTKz2huGZ-ElScC2pSw\n",
      "cTJjTKz2huGZ-ElScC2pSwin order base has been finished\n",
      "cTJjTKz2huGZ-ElScC2pSwin time base has been finished\n",
      "cTZmf7B-4yciMc1WKiCVOA\n",
      "cTZmf7B-4yciMc1WKiCVOAin order base has been finished\n",
      "cTZmf7B-4yciMc1WKiCVOAin time base has been finished\n",
      "CUivTcULsu5MJIYYNVm1zw\n",
      "CUivTcULsu5MJIYYNVm1zwin order base has been finished\n",
      "CUivTcULsu5MJIYYNVm1zwin time base has been finished\n",
      "CuT2Xh3vAYvRfxUWlUo6oA\n",
      "CuT2Xh3vAYvRfxUWlUo6oAin order base has been finished\n",
      "CuT2Xh3vAYvRfxUWlUo6oAin time base has been finished\n",
      "CVKOPzBVOj3_apFUmZ9ZWw\n",
      "CVKOPzBVOj3_apFUmZ9ZWwin order base has been finished\n",
      "CVKOPzBVOj3_apFUmZ9ZWwin time base has been finished\n",
      "CvonRhKDJaH155xhtpz_iw\n",
      "CvonRhKDJaH155xhtpz_iwin order base has been finished\n",
      "CvonRhKDJaH155xhtpz_iwin time base has been finished\n",
      "cX2Nr_XmGYlMaBW35M0sUg\n",
      "cX2Nr_XmGYlMaBW35M0sUgin order base has been finished\n",
      "cX2Nr_XmGYlMaBW35M0sUgin time base has been finished\n",
      "CX86HjLm-fK8ix0xe5LwiA\n",
      "CX86HjLm-fK8ix0xe5LwiAin order base has been finished\n",
      "CX86HjLm-fK8ix0xe5LwiAin time base has been finished\n",
      "cxVqsH6a5ro5PaWssb38kw\n",
      "cxVqsH6a5ro5PaWssb38kwin order base has been finished\n",
      "cxVqsH6a5ro5PaWssb38kwin time base has been finished\n",
      "cYwJA2A6I12KNkm2rtXd5g\n",
      "cYwJA2A6I12KNkm2rtXd5gin order base has been finished\n",
      "cYwJA2A6I12KNkm2rtXd5gin time base has been finished\n",
      "cyzOijFJ82cae6qH6L8vuw\n",
      "cyzOijFJ82cae6qH6L8vuwin order base has been finished\n",
      "cyzOijFJ82cae6qH6L8vuwin time base has been finished\n",
      "cz5vz-893D3LNH3TMQYR1w\n",
      "cz5vz-893D3LNH3TMQYR1win order base has been finished\n",
      "cz5vz-893D3LNH3TMQYR1win time base has been finished\n",
      "CZhc8YXdFLhAI4ViC2ERTg\n",
      "CZhc8YXdFLhAI4ViC2ERTgin order base has been finished\n",
      "CZhc8YXdFLhAI4ViC2ERTgin time base has been finished\n",
      "c_iQzwsTDYraPvHSKz88QA\n",
      "c_iQzwsTDYraPvHSKz88QAin order base has been finished\n",
      "c_iQzwsTDYraPvHSKz88QAin time base has been finished\n",
      "D-2t7fHQu6hNLjjfRHSZaA\n",
      "D-2t7fHQu6hNLjjfRHSZaAin order base has been finished\n",
      "D-2t7fHQu6hNLjjfRHSZaAin time base has been finished\n",
      "d10IxZPirVJlOSpdRZJczA\n",
      "d10IxZPirVJlOSpdRZJczAin order base has been finished\n",
      "d10IxZPirVJlOSpdRZJczAin time base has been finished\n",
      "D2ojX9bvE0_-aIj9BhdZZA\n",
      "D2ojX9bvE0_-aIj9BhdZZAin order base has been finished\n",
      "D2ojX9bvE0_-aIj9BhdZZAin time base has been finished\n",
      "d2ZQRjuizstCTnicysmpMQ\n",
      "d2ZQRjuizstCTnicysmpMQin order base has been finished\n",
      "d2ZQRjuizstCTnicysmpMQin time base has been finished\n",
      "D3dAx-QW_uuClz4MambeHA\n",
      "D3dAx-QW_uuClz4MambeHAin order base has been finished\n",
      "D3dAx-QW_uuClz4MambeHAin time base has been finished\n",
      "d4qwVw4PcN-_2mK2o1Ro1g\n",
      "d4qwVw4PcN-_2mK2o1Ro1gin order base has been finished\n",
      "d4qwVw4PcN-_2mK2o1Ro1gin time base has been finished\n",
      "D8a2usm9b-j89W9IrJ_Evw\n",
      "D8a2usm9b-j89W9IrJ_Evwin order base has been finished\n",
      "D8a2usm9b-j89W9IrJ_Evwin time base has been finished\n",
      "d8lmIZIqmBC9oPM8y1dc7Q\n",
      "d8lmIZIqmBC9oPM8y1dc7Qin order base has been finished\n",
      "d8lmIZIqmBC9oPM8y1dc7Qin time base has been finished\n",
      "D8yYMxz0p6oQnOQnLRUIyA\n",
      "D8yYMxz0p6oQnOQnLRUIyAin order base has been finished\n",
      "D8yYMxz0p6oQnOQnLRUIyAin time base has been finished\n",
      "DaVTuhzi6EgWStb2eAjNjA\n",
      "DaVTuhzi6EgWStb2eAjNjAin order base has been finished\n",
      "DaVTuhzi6EgWStb2eAjNjAin time base has been finished\n",
      "DbEszO3wk1xVmN3pCPob2g\n",
      "DbEszO3wk1xVmN3pCPob2gin order base has been finished\n",
      "DbEszO3wk1xVmN3pCPob2gin time base has been finished\n",
      "dCUuzw3R2rPqKyN2Zl9zRw\n",
      "dCUuzw3R2rPqKyN2Zl9zRwin order base has been finished\n",
      "dCUuzw3R2rPqKyN2Zl9zRwin time base has been finished\n",
      "DE89UdHFMCN6DtYWZuer5A\n",
      "DE89UdHFMCN6DtYWZuer5Ain order base has been finished\n",
      "DE89UdHFMCN6DtYWZuer5Ain time base has been finished\n",
      "dEAk-gE-5Q95a7p91gNn8A\n",
      "dEAk-gE-5Q95a7p91gNn8Ain order base has been finished\n",
      "dEAk-gE-5Q95a7p91gNn8Ain time base has been finished\n",
      "DEr6oxw1bWb6vCCr9DSl1g\n",
      "DEr6oxw1bWb6vCCr9DSl1gin order base has been finished\n",
      "DEr6oxw1bWb6vCCr9DSl1gin time base has been finished\n",
      "DESv2ys6SjBKA4SyDtJvxw\n",
      "DESv2ys6SjBKA4SyDtJvxwin order base has been finished\n",
      "DESv2ys6SjBKA4SyDtJvxwin time base has been finished\n",
      "DfgZlNgKwBvCpA_0alumXw\n",
      "DfgZlNgKwBvCpA_0alumXwin order base has been finished\n",
      "DfgZlNgKwBvCpA_0alumXwin time base has been finished\n",
      "DgZ-pZUo3drzpiCDlDr9IQ\n",
      "DgZ-pZUo3drzpiCDlDr9IQin order base has been finished\n",
      "DgZ-pZUo3drzpiCDlDr9IQin time base has been finished\n",
      "djbZ5uQPKw9N4Dq9QXhdNw\n",
      "djbZ5uQPKw9N4Dq9QXhdNwin order base has been finished\n",
      "djbZ5uQPKw9N4Dq9QXhdNwin time base has been finished\n",
      "dJF4C707KVhFx1qcRJhlEA\n",
      "dJF4C707KVhFx1qcRJhlEAin order base has been finished\n",
      "dJF4C707KVhFx1qcRJhlEAin time base has been finished\n",
      "dKdApYVFDSNYsNOso6NYlA\n",
      "dKdApYVFDSNYsNOso6NYlAin order base has been finished\n",
      "dKdApYVFDSNYsNOso6NYlAin time base has been finished\n",
      "DkYS3arLOhA8si5uUEmHOw\n",
      "DkYS3arLOhA8si5uUEmHOwin order base has been finished\n",
      "DkYS3arLOhA8si5uUEmHOwin time base has been finished\n",
      "DkZuVzYuylBanEsWK7mNGw\n",
      "DkZuVzYuylBanEsWK7mNGwin order base has been finished\n",
      "DkZuVzYuylBanEsWK7mNGwin time base has been finished\n",
      "dLc1d1zwd1Teu2QED5TmlA\n",
      "dLc1d1zwd1Teu2QED5TmlAin order base has been finished\n",
      "dLc1d1zwd1Teu2QED5TmlAin time base has been finished\n",
      "dM8Yp8StA1NdusK5Ta_j-g\n",
      "dM8Yp8StA1NdusK5Ta_j-gin order base has been finished\n",
      "dM8Yp8StA1NdusK5Ta_j-gin time base has been finished\n",
      "DMyoxEaTGTakZxWgh1D5bw\n",
      "DMyoxEaTGTakZxWgh1D5bwin order base has been finished\n",
      "DMyoxEaTGTakZxWgh1D5bwin time base has been finished\n",
      "DN0b4Un8--Uf6SEWLeh0UA\n",
      "DN0b4Un8--Uf6SEWLeh0UAin order base has been finished\n",
      "DN0b4Un8--Uf6SEWLeh0UAin time base has been finished\n",
      "dn51F67VLgPuqy_8SFk9oA\n",
      "dn51F67VLgPuqy_8SFk9oAin order base has been finished\n",
      "dn51F67VLgPuqy_8SFk9oAin time base has been finished\n",
      "dNr7VKRti8dXWE-jzfVBtQ\n",
      "dNr7VKRti8dXWE-jzfVBtQin order base has been finished\n",
      "dNr7VKRti8dXWE-jzfVBtQin time base has been finished\n",
      "DNSDAtD6uxQkoZkQe2v4ew\n",
      "DNSDAtD6uxQkoZkQe2v4ewin order base has been finished\n",
      "DNSDAtD6uxQkoZkQe2v4ewin time base has been finished\n",
      "dn_ipqbm7_jUz5X3rDez_A\n",
      "dn_ipqbm7_jUz5X3rDez_Ain order base has been finished\n",
      "dn_ipqbm7_jUz5X3rDez_Ain time base has been finished\n",
      "dOGLTIMqqQZn8xxBRsU6CQ\n",
      "dOGLTIMqqQZn8xxBRsU6CQin order base has been finished\n",
      "dOGLTIMqqQZn8xxBRsU6CQin time base has been finished\n",
      "dUffgo9Lh_Vk9TLuFR5ywg\n",
      "dUffgo9Lh_Vk9TLuFR5ywgin order base has been finished\n",
      "dUffgo9Lh_Vk9TLuFR5ywgin time base has been finished\n",
      "DuQtouEXOfo5K4ukON3qwQ\n",
      "DuQtouEXOfo5K4ukON3qwQin order base has been finished\n",
      "DuQtouEXOfo5K4ukON3qwQin time base has been finished\n",
      "DVfCbJhJUDWRlUfrKzaKOA\n",
      "DVfCbJhJUDWRlUfrKzaKOAin order base has been finished\n",
      "DVfCbJhJUDWRlUfrKzaKOAin time base has been finished\n",
      "dWk0mbhj79pK3WBp5oLtpw\n",
      "dWk0mbhj79pK3WBp5oLtpwin order base has been finished\n",
      "dWk0mbhj79pK3WBp5oLtpwin time base has been finished\n",
      "DwP10iEz5LGf3fhcVQZm0Q\n",
      "DwP10iEz5LGf3fhcVQZm0Qin order base has been finished\n",
      "DwP10iEz5LGf3fhcVQZm0Qin time base has been finished\n",
      "Dxaz8OxaadecnWol18kAtw\n",
      "Dxaz8OxaadecnWol18kAtwin order base has been finished\n",
      "Dxaz8OxaadecnWol18kAtwin time base has been finished\n",
      "dxeu5YQIzw0jOp1cSVkimg\n",
      "dxeu5YQIzw0jOp1cSVkimgin order base has been finished\n",
      "dxeu5YQIzw0jOp1cSVkimgin time base has been finished\n",
      "dxvsOCvRPnHB6P3IN-KDuw\n",
      "dxvsOCvRPnHB6P3IN-KDuwin order base has been finished\n",
      "dxvsOCvRPnHB6P3IN-KDuwin time base has been finished\n",
      "DYAorbxOyubUB_wtQRCdug\n",
      "DYAorbxOyubUB_wtQRCdugin order base has been finished\n",
      "DYAorbxOyubUB_wtQRCdugin time base has been finished\n",
      "dYMhfzyZyklXELmYq_wfKg\n",
      "dYMhfzyZyklXELmYq_wfKgin order base has been finished\n",
      "dYMhfzyZyklXELmYq_wfKgin time base has been finished\n",
      "DymZ5vpm7vkSsR__-4sflw\n",
      "DymZ5vpm7vkSsR__-4sflwin order base has been finished\n",
      "DymZ5vpm7vkSsR__-4sflwin time base has been finished\n",
      "DyOzNIeXUksPNLXYHnB-oQ\n",
      "DyOzNIeXUksPNLXYHnB-oQin order base has been finished\n",
      "DyOzNIeXUksPNLXYHnB-oQin time base has been finished\n",
      "DYuOxkW4DtlJsTHdxdXSlg\n",
      "DYuOxkW4DtlJsTHdxdXSlgin order base has been finished\n",
      "DYuOxkW4DtlJsTHdxdXSlgin time base has been finished\n",
      "dzKDFiWLkspVBJKGfT0M2g\n",
      "dzKDFiWLkspVBJKGfT0M2gin order base has been finished\n",
      "dzKDFiWLkspVBJKGfT0M2gin time base has been finished\n",
      "DzKl51tivGJMLiNsQqf38w\n",
      "DzKl51tivGJMLiNsQqf38win order base has been finished\n",
      "DzKl51tivGJMLiNsQqf38win time base has been finished\n",
      "DZwR0EIPKlmC3mMLhTkqcQ\n",
      "DZwR0EIPKlmC3mMLhTkqcQin order base has been finished\n",
      "DZwR0EIPKlmC3mMLhTkqcQin time base has been finished\n",
      "d_L-rfS1vT3JMzgCUGtiow\n",
      "d_L-rfS1vT3JMzgCUGtiowin order base has been finished\n",
      "d_L-rfS1vT3JMzgCUGtiowin time base has been finished\n",
      "E-LZ0Xl1ETDeMrtM9H3-PQ\n",
      "E-LZ0Xl1ETDeMrtM9H3-PQin order base has been finished\n",
      "E-LZ0Xl1ETDeMrtM9H3-PQin time base has been finished\n",
      "e0JOkQYz_cnz91k6X55PLw\n",
      "e0JOkQYz_cnz91k6X55PLwin order base has been finished\n",
      "e0JOkQYz_cnz91k6X55PLwin time base has been finished\n",
      "e13SEvJud_vgeDR_doL4sQ\n",
      "e13SEvJud_vgeDR_doL4sQin order base has been finished\n",
      "e13SEvJud_vgeDR_doL4sQin time base has been finished\n",
      "e3PBfbtXUjMziX6XGsOMoA\n",
      "e3PBfbtXUjMziX6XGsOMoAin order base has been finished\n",
      "e3PBfbtXUjMziX6XGsOMoAin time base has been finished\n",
      "e41TP5cXZqSrz50xCBJqZw\n",
      "e41TP5cXZqSrz50xCBJqZwin order base has been finished\n",
      "e41TP5cXZqSrz50xCBJqZwin time base has been finished\n",
      "E4JyAzB5_2quptwtemyhYA\n",
      "E4JyAzB5_2quptwtemyhYAin order base has been finished\n",
      "E4JyAzB5_2quptwtemyhYAin time base has been finished\n",
      "e4NQLZynhSmvwl38hC4m-A\n",
      "e4NQLZynhSmvwl38hC4m-Ain order base has been finished\n",
      "e4NQLZynhSmvwl38hC4m-Ain time base has been finished\n",
      "E62l6LwZJ7lKaExcUbrtYw\n",
      "E62l6LwZJ7lKaExcUbrtYwin order base has been finished\n",
      "E62l6LwZJ7lKaExcUbrtYwin time base has been finished\n",
      "E9IPxXY6pS2gTW2FBkAJmg\n",
      "E9IPxXY6pS2gTW2FBkAJmgin order base has been finished\n",
      "E9IPxXY6pS2gTW2FBkAJmgin time base has been finished\n",
      "e9sB72njxz87r5TL6kG-Fw\n",
      "e9sB72njxz87r5TL6kG-Fwin order base has been finished\n",
      "e9sB72njxz87r5TL6kG-Fwin time base has been finished\n",
      "eAc9Vd6loOgRQolMXQt6FA\n",
      "eAc9Vd6loOgRQolMXQt6FAin order base has been finished\n",
      "eAc9Vd6loOgRQolMXQt6FAin time base has been finished\n",
      "eaNenRk_liZBERFFLCXqqQ\n",
      "eaNenRk_liZBERFFLCXqqQin order base has been finished\n",
      "eaNenRk_liZBERFFLCXqqQin time base has been finished\n",
      "EAwh1OmG6t6p3nRaZOW_AA\n",
      "EAwh1OmG6t6p3nRaZOW_AAin order base has been finished\n",
      "EAwh1OmG6t6p3nRaZOW_AAin time base has been finished\n",
      "eAZqT24e0Pk8apWzy3RsAQ\n",
      "eAZqT24e0Pk8apWzy3RsAQin order base has been finished\n",
      "eAZqT24e0Pk8apWzy3RsAQin time base has been finished\n",
      "eBj_YyJU5jVu6tbZCkdtDA\n",
      "eBj_YyJU5jVu6tbZCkdtDAin order base has been finished\n",
      "eBj_YyJU5jVu6tbZCkdtDAin time base has been finished\n",
      "EBnv9_03eNqxQqRQJH4SUw\n",
      "EBnv9_03eNqxQqRQJH4SUwin order base has been finished\n",
      "EBnv9_03eNqxQqRQJH4SUwin time base has been finished\n",
      "ebTvBxSStI9Vf5Tpux_X3Q\n",
      "ebTvBxSStI9Vf5Tpux_X3Qin order base has been finished\n",
      "ebTvBxSStI9Vf5Tpux_X3Qin time base has been finished\n",
      "Ec9CBmL3285XkeHaNp-bSQ\n",
      "Ec9CBmL3285XkeHaNp-bSQin order base has been finished\n",
      "Ec9CBmL3285XkeHaNp-bSQin time base has been finished\n",
      "ECOkEVUodMLUxvI0PMI4gQ\n",
      "ECOkEVUodMLUxvI0PMI4gQin order base has been finished\n",
      "ECOkEVUodMLUxvI0PMI4gQin time base has been finished\n",
      "EDcZRvERC22Cvw1yi4-VKg\n",
      "EDcZRvERC22Cvw1yi4-VKgin order base has been finished\n",
      "EDcZRvERC22Cvw1yi4-VKgin time base has been finished\n",
      "eDdhZZBHEi-TRWQ2xhRI5g\n",
      "eDdhZZBHEi-TRWQ2xhRI5gin order base has been finished\n",
      "eDdhZZBHEi-TRWQ2xhRI5gin time base has been finished\n",
      "eDlgbI0Qg_mmI-Osvci0gw\n",
      "eDlgbI0Qg_mmI-Osvci0gwin order base has been finished\n",
      "eDlgbI0Qg_mmI-Osvci0gwin time base has been finished\n",
      "eduRavkml8awmPachSZXuw\n",
      "eduRavkml8awmPachSZXuwin order base has been finished\n",
      "eduRavkml8awmPachSZXuwin time base has been finished\n",
      "EgtyW19V-64c6PmRuvzSEA\n",
      "EgtyW19V-64c6PmRuvzSEAin order base has been finished\n",
      "EgtyW19V-64c6PmRuvzSEAin time base has been finished\n",
      "Eg_M8eeu9SDEdbP7iUmVbQ\n",
      "Eg_M8eeu9SDEdbP7iUmVbQin order base has been finished\n",
      "Eg_M8eeu9SDEdbP7iUmVbQin time base has been finished\n",
      "eh127ASMZstrELE0K0XADw\n",
      "eh127ASMZstrELE0K0XADwin order base has been finished\n",
      "eh127ASMZstrELE0K0XADwin time base has been finished\n",
      "Ehy00JWQixgoXzisVKhvag\n",
      "Ehy00JWQixgoXzisVKhvagin order base has been finished\n",
      "Ehy00JWQixgoXzisVKhvagin time base has been finished\n",
      "ejaUQ1hYo7Q7xCL1HdPINw\n",
      "ejaUQ1hYo7Q7xCL1HdPINwin order base has been finished\n",
      "ejaUQ1hYo7Q7xCL1HdPINwin time base has been finished\n",
      "eJKnymd0BywNPrJw1IuXVw\n",
      "eJKnymd0BywNPrJw1IuXVwin order base has been finished\n",
      "eJKnymd0BywNPrJw1IuXVwin time base has been finished\n",
      "El4FC8jcawUVgw_0EIcbaQ\n",
      "El4FC8jcawUVgw_0EIcbaQin order base has been finished\n",
      "El4FC8jcawUVgw_0EIcbaQin time base has been finished\n",
      "eLFfWcdb7VkqNyTONksHiQ\n",
      "eLFfWcdb7VkqNyTONksHiQin order base has been finished\n",
      "eLFfWcdb7VkqNyTONksHiQin time base has been finished\n",
      "elqbBhBfElMNSrjFqW3now\n",
      "elqbBhBfElMNSrjFqW3nowin order base has been finished\n",
      "elqbBhBfElMNSrjFqW3nowin time base has been finished\n",
      "ElWzx5_fU8S2G45OnM-HpA\n",
      "ElWzx5_fU8S2G45OnM-HpAin order base has been finished\n",
      "ElWzx5_fU8S2G45OnM-HpAin time base has been finished\n",
      "EnCIojgP5KTr1leaysFE3A\n",
      "EnCIojgP5KTr1leaysFE3Ain order base has been finished\n",
      "EnCIojgP5KTr1leaysFE3Ain time base has been finished\n",
      "eoHdUeQDNgQ6WYEnP2aiRw\n",
      "eoHdUeQDNgQ6WYEnP2aiRwin order base has been finished\n",
      "eoHdUeQDNgQ6WYEnP2aiRwin time base has been finished\n",
      "eoyvbnRYQe-z85e8Rc6vAg\n",
      "eoyvbnRYQe-z85e8Rc6vAgin order base has been finished\n",
      "eoyvbnRYQe-z85e8Rc6vAgin time base has been finished\n",
      "epAifIGqwj5oFp5MV8kgiQ\n",
      "epAifIGqwj5oFp5MV8kgiQin order base has been finished\n",
      "epAifIGqwj5oFp5MV8kgiQin time base has been finished\n",
      "epETdeCmoF_-ufT5b8ACUA\n",
      "epETdeCmoF_-ufT5b8ACUAin order base has been finished\n",
      "epETdeCmoF_-ufT5b8ACUAin time base has been finished\n",
      "eR7Iw_X54m3YLWkXp9y35Q\n",
      "eR7Iw_X54m3YLWkXp9y35Qin order base has been finished\n",
      "eR7Iw_X54m3YLWkXp9y35Qin time base has been finished\n",
      "Er8DpPwf_lHHv64ncWhD8g\n",
      "Er8DpPwf_lHHv64ncWhD8gin order base has been finished\n",
      "Er8DpPwf_lHHv64ncWhD8gin time base has been finished\n",
      "eS29S_06lvsDW04wVrIVxg\n",
      "eS29S_06lvsDW04wVrIVxgin order base has been finished\n",
      "eS29S_06lvsDW04wVrIVxgin time base has been finished\n",
      "esBRj9uPRzwxaW4Lz1XGLA\n",
      "esBRj9uPRzwxaW4Lz1XGLAin order base has been finished\n",
      "esBRj9uPRzwxaW4Lz1XGLAin time base has been finished\n",
      "EUWBT5GDxPC95w9itZ1EHw\n",
      "EUWBT5GDxPC95w9itZ1EHwin order base has been finished\n",
      "EUWBT5GDxPC95w9itZ1EHwin time base has been finished\n",
      "EV1jAj7NFNmNIqOnwZ4Acw\n",
      "EV1jAj7NFNmNIqOnwZ4Acwin order base has been finished\n",
      "EV1jAj7NFNmNIqOnwZ4Acwin time base has been finished\n",
      "evdJO0v9rvVixieNEnaeJg\n",
      "evdJO0v9rvVixieNEnaeJgin order base has been finished\n",
      "evdJO0v9rvVixieNEnaeJgin time base has been finished\n",
      "EveFgxNoHkrs8ncSjkoINA\n",
      "EveFgxNoHkrs8ncSjkoINAin order base has been finished\n",
      "EveFgxNoHkrs8ncSjkoINAin time base has been finished\n",
      "eWKZyDPXdkhrT8v8XD2OrQ\n",
      "eWKZyDPXdkhrT8v8XD2OrQin order base has been finished\n",
      "eWKZyDPXdkhrT8v8XD2OrQin time base has been finished\n",
      "ewmTwsZqCHH2gvCeDKz0dw\n",
      "ewmTwsZqCHH2gvCeDKz0dwin order base has been finished\n"
     ]
    },
    {
     "name": "stdout",
     "output_type": "stream",
     "text": [
      "ewmTwsZqCHH2gvCeDKz0dwin time base has been finished\n",
      "eYJcI9cI6-kJ2NQpYdHcLw\n",
      "eYJcI9cI6-kJ2NQpYdHcLwin order base has been finished\n",
      "eYJcI9cI6-kJ2NQpYdHcLwin time base has been finished\n",
      "eZcCFV-8X91ZSnmB9807bw\n",
      "eZcCFV-8X91ZSnmB9807bwin order base has been finished\n",
      "eZcCFV-8X91ZSnmB9807bwin time base has been finished\n",
      "F2pfjAZ_3dMTGCKv6c5wOw\n",
      "F2pfjAZ_3dMTGCKv6c5wOwin order base has been finished\n",
      "F2pfjAZ_3dMTGCKv6c5wOwin time base has been finished\n",
      "f4kNNLU_0q_2J711jCN7dA\n",
      "f4kNNLU_0q_2J711jCN7dAin order base has been finished\n",
      "f4kNNLU_0q_2J711jCN7dAin time base has been finished\n",
      "f4x1YBxkLrZg652xt2KR5g\n",
      "f4x1YBxkLrZg652xt2KR5gin order base has been finished\n",
      "f4x1YBxkLrZg652xt2KR5gin time base has been finished\n",
      "f5O7v_X_jCg2itqacRfxhg\n",
      "f5O7v_X_jCg2itqacRfxhgin order base has been finished\n",
      "f5O7v_X_jCg2itqacRfxhgin time base has been finished\n",
      "f8IMQgRwo-8GP372MElDGQ\n",
      "f8IMQgRwo-8GP372MElDGQin order base has been finished\n",
      "f8IMQgRwo-8GP372MElDGQin time base has been finished\n",
      "f9sU31meK0bqAD7922sCog\n",
      "f9sU31meK0bqAD7922sCogin order base has been finished\n",
      "f9sU31meK0bqAD7922sCogin time base has been finished\n",
      "fAlKTsfsUF6A5iujEI2Z1w\n",
      "fAlKTsfsUF6A5iujEI2Z1win order base has been finished\n",
      "fAlKTsfsUF6A5iujEI2Z1win time base has been finished\n",
      "faPVqws-x-5k2CQKDNtHxw\n",
      "faPVqws-x-5k2CQKDNtHxwin order base has been finished\n",
      "faPVqws-x-5k2CQKDNtHxwin time base has been finished\n",
      "fbQaKW0Lte0JQ_opbnjdKg\n",
      "fbQaKW0Lte0JQ_opbnjdKgin order base has been finished\n",
      "fbQaKW0Lte0JQ_opbnjdKgin time base has been finished\n",
      "fcWkZgmzRsm3H4egzSrV_A\n",
      "fcWkZgmzRsm3H4egzSrV_Ain order base has been finished\n",
      "fcWkZgmzRsm3H4egzSrV_Ain time base has been finished\n",
      "fGurvC5BdOfd5MIuLUQYVA\n",
      "fGurvC5BdOfd5MIuLUQYVAin order base has been finished\n",
      "fGurvC5BdOfd5MIuLUQYVAin time base has been finished\n",
      "fHM09_y3QX3n4a_bIFbk_w\n",
      "fHM09_y3QX3n4a_bIFbk_win order base has been finished\n",
      "fHM09_y3QX3n4a_bIFbk_win time base has been finished\n",
      "fhoFsFK6TqJOEo30LtXeDA\n",
      "fhoFsFK6TqJOEo30LtXeDAin order base has been finished\n",
      "fhoFsFK6TqJOEo30LtXeDAin time base has been finished\n",
      "Fi-2ruy5x600SX4avnrFuA\n",
      "Fi-2ruy5x600SX4avnrFuAin order base has been finished\n",
      "Fi-2ruy5x600SX4avnrFuAin time base has been finished\n",
      "FI-8LPGkc8D_hwx0l0zyyg\n",
      "FI-8LPGkc8D_hwx0l0zyygin order base has been finished\n",
      "FI-8LPGkc8D_hwx0l0zyygin time base has been finished\n",
      "FirWX-Ep5203TsdiGgShKg\n",
      "FirWX-Ep5203TsdiGgShKgin order base has been finished\n",
      "FirWX-Ep5203TsdiGgShKgin time base has been finished\n",
      "fJ7uw4dDFIga57868Oz1EA\n",
      "fJ7uw4dDFIga57868Oz1EAin order base has been finished\n",
      "fJ7uw4dDFIga57868Oz1EAin time base has been finished\n",
      "fjapWp89YVCeKvW51KUDQw\n",
      "fjapWp89YVCeKvW51KUDQwin order base has been finished\n",
      "fjapWp89YVCeKvW51KUDQwin time base has been finished\n",
      "fKlr9qNoV37WQJwQ826POg\n",
      "fKlr9qNoV37WQJwQ826POgin order base has been finished\n",
      "fKlr9qNoV37WQJwQ826POgin time base has been finished\n",
      "fKm6mfATDJRDDQH0PtZeeQ\n",
      "fKm6mfATDJRDDQH0PtZeeQin order base has been finished\n",
      "fKm6mfATDJRDDQH0PtZeeQin time base has been finished\n",
      "fL-b760btOaGa85OJ9ut3w\n",
      "fL-b760btOaGa85OJ9ut3win order base has been finished\n",
      "fL-b760btOaGa85OJ9ut3win time base has been finished\n",
      "flE7Sn2JGs0n3SAtaep6Zw\n",
      "flE7Sn2JGs0n3SAtaep6Zwin order base has been finished\n",
      "flE7Sn2JGs0n3SAtaep6Zwin time base has been finished\n",
      "FLMxWQO-ckCQmGZhU9OQgw\n",
      "FLMxWQO-ckCQmGZhU9OQgwin order base has been finished\n",
      "FLMxWQO-ckCQmGZhU9OQgwin time base has been finished\n",
      "FMnH5WIRLyexBYMBUUnDxQ\n",
      "FMnH5WIRLyexBYMBUUnDxQin order base has been finished\n",
      "FMnH5WIRLyexBYMBUUnDxQin time base has been finished\n",
      "FNe5PPA9pyj8FjcDefCBpg\n",
      "FNe5PPA9pyj8FjcDefCBpgin order base has been finished\n",
      "FNe5PPA9pyj8FjcDefCBpgin time base has been finished\n",
      "FogTa-wmjhVnJCoTiaxvZA\n",
      "FogTa-wmjhVnJCoTiaxvZAin order base has been finished\n",
      "FogTa-wmjhVnJCoTiaxvZAin time base has been finished\n",
      "fOnpoMXToa5Qiyg95E6ENg\n",
      "fOnpoMXToa5Qiyg95E6ENgin order base has been finished\n",
      "fOnpoMXToa5Qiyg95E6ENgin time base has been finished\n",
      "foQZ6guS0l49trURKh7vlA\n",
      "foQZ6guS0l49trURKh7vlAin order base has been finished\n",
      "foQZ6guS0l49trURKh7vlAin time base has been finished\n",
      "FQB3VXrWYM_m_XrzwRozAg\n",
      "FQB3VXrWYM_m_XrzwRozAgin order base has been finished\n",
      "FQB3VXrWYM_m_XrzwRozAgin time base has been finished\n",
      "fQt4D34vcJNtEf8Q4zte3w\n",
      "fQt4D34vcJNtEf8Q4zte3win order base has been finished\n",
      "fQt4D34vcJNtEf8Q4zte3win time base has been finished\n",
      "frCxZS7lPhEnQRJ3UY6m7A\n",
      "frCxZS7lPhEnQRJ3UY6m7Ain order base has been finished\n",
      "frCxZS7lPhEnQRJ3UY6m7Ain time base has been finished\n",
      "fSBhe0A6Dfa8JCYccfpMog\n",
      "fSBhe0A6Dfa8JCYccfpMogin order base has been finished\n",
      "fSBhe0A6Dfa8JCYccfpMogin time base has been finished\n",
      "FsCujpVh9Za2Dl5MIYLCxA\n",
      "FsCujpVh9Za2Dl5MIYLCxAin order base has been finished\n",
      "FsCujpVh9Za2Dl5MIYLCxAin time base has been finished\n",
      "fT6Uwl6abRQfiNgxre_qbg\n",
      "fT6Uwl6abRQfiNgxre_qbgin order base has been finished\n",
      "fT6Uwl6abRQfiNgxre_qbgin time base has been finished\n",
      "fuW-VCynECpKukrm-9nxdg\n",
      "fuW-VCynECpKukrm-9nxdgin order base has been finished\n",
      "fuW-VCynECpKukrm-9nxdgin time base has been finished\n",
      "Fv3HvJPQYqfmniTgtIQJzA\n",
      "Fv3HvJPQYqfmniTgtIQJzAin order base has been finished\n",
      "Fv3HvJPQYqfmniTgtIQJzAin time base has been finished\n",
      "FvVSy2r7_zDEhZWqLgjXNQ\n",
      "FvVSy2r7_zDEhZWqLgjXNQin order base has been finished\n",
      "FvVSy2r7_zDEhZWqLgjXNQin time base has been finished\n",
      "fW7SHgmidc32kHSoyLTM2A\n",
      "fW7SHgmidc32kHSoyLTM2Ain order base has been finished\n",
      "fW7SHgmidc32kHSoyLTM2Ain time base has been finished\n",
      "Fx5haZv9PP3E7Ljp-h7B1Q\n",
      "Fx5haZv9PP3E7Ljp-h7B1Qin order base has been finished\n",
      "Fx5haZv9PP3E7Ljp-h7B1Qin time base has been finished\n",
      "Fy4t2XHIRKwMk_ocCZze0Q\n",
      "Fy4t2XHIRKwMk_ocCZze0Qin order base has been finished\n",
      "Fy4t2XHIRKwMk_ocCZze0Qin time base has been finished\n",
      "FYa3GUro-ezTM9zvKiocFw\n",
      "FYa3GUro-ezTM9zvKiocFwin order base has been finished\n",
      "FYa3GUro-ezTM9zvKiocFwin time base has been finished\n",
      "f_eiOrEcMnkHB7GvQVOHkQ\n",
      "f_eiOrEcMnkHB7GvQVOHkQin order base has been finished\n",
      "f_eiOrEcMnkHB7GvQVOHkQin time base has been finished\n",
      "G-5kEa6E6PD5fkBRuA7k9Q\n",
      "G-5kEa6E6PD5fkBRuA7k9Qin order base has been finished\n",
      "G-5kEa6E6PD5fkBRuA7k9Qin time base has been finished\n",
      "G5or_Fra4-6IYOVlm_dI2Q\n",
      "G5or_Fra4-6IYOVlm_dI2Qin order base has been finished\n",
      "G5or_Fra4-6IYOVlm_dI2Qin time base has been finished\n",
      "g62SlImzhs6_1t-knPjd8w\n",
      "g62SlImzhs6_1t-knPjd8win order base has been finished\n",
      "g62SlImzhs6_1t-knPjd8win time base has been finished\n",
      "G6BwYw_0_atLPTzI1uokIA\n",
      "G6BwYw_0_atLPTzI1uokIAin order base has been finished\n",
      "G6BwYw_0_atLPTzI1uokIAin time base has been finished\n",
      "g8OnV26ywJlZpezdBnOWUQ\n",
      "g8OnV26ywJlZpezdBnOWUQin order base has been finished\n",
      "g8OnV26ywJlZpezdBnOWUQin time base has been finished\n",
      "g8oxQ1Ji9mr9PMjhEfaWSg\n",
      "g8oxQ1Ji9mr9PMjhEfaWSgin order base has been finished\n",
      "g8oxQ1Ji9mr9PMjhEfaWSgin time base has been finished\n",
      "Gaq3S9lmjXVcuDCZ8ulppw\n",
      "Gaq3S9lmjXVcuDCZ8ulppwin order base has been finished\n",
      "Gaq3S9lmjXVcuDCZ8ulppwin time base has been finished\n",
      "gBfPyzPRmeOaj3SdcIj0Rw\n",
      "gBfPyzPRmeOaj3SdcIj0Rwin order base has been finished\n",
      "gBfPyzPRmeOaj3SdcIj0Rwin time base has been finished\n",
      "gChmBjLSe3qa8rzEngoDLQ\n",
      "gChmBjLSe3qa8rzEngoDLQin order base has been finished\n",
      "gChmBjLSe3qa8rzEngoDLQin time base has been finished\n",
      "GdPWJo3z4ySEXpF7Wkn3FA\n",
      "GdPWJo3z4ySEXpF7Wkn3FAin order base has been finished\n",
      "GdPWJo3z4ySEXpF7Wkn3FAin time base has been finished\n",
      "gdWy-x5KbCbMrwIwI87mMg\n",
      "gdWy-x5KbCbMrwIwI87mMgin order base has been finished\n",
      "gdWy-x5KbCbMrwIwI87mMgin time base has been finished\n",
      "gG9z6zr_49LocyCTvSFg0w\n",
      "gG9z6zr_49LocyCTvSFg0win order base has been finished\n",
      "gG9z6zr_49LocyCTvSFg0win time base has been finished\n",
      "ghDNHpqETRJGxG5iUtaZtw\n",
      "ghDNHpqETRJGxG5iUtaZtwin order base has been finished\n",
      "ghDNHpqETRJGxG5iUtaZtwin time base has been finished\n",
      "GHS1rVjO-RMcRB6WJLpCDQ\n",
      "GHS1rVjO-RMcRB6WJLpCDQin order base has been finished\n",
      "GHS1rVjO-RMcRB6WJLpCDQin time base has been finished\n",
      "ghVhlFpNhfBwWDFGSlt2JA\n",
      "ghVhlFpNhfBwWDFGSlt2JAin order base has been finished\n",
      "ghVhlFpNhfBwWDFGSlt2JAin time base has been finished\n",
      "GI-CAiZ_Gg3h21PwrANB4Q\n",
      "GI-CAiZ_Gg3h21PwrANB4Qin order base has been finished\n",
      "GI-CAiZ_Gg3h21PwrANB4Qin time base has been finished\n",
      "GIfZNMP0oIJCje_Xp0Bgrw\n",
      "GIfZNMP0oIJCje_Xp0Bgrwin order base has been finished\n",
      "GIfZNMP0oIJCje_Xp0Bgrwin time base has been finished\n",
      "GJ_bXUPv672YwNg4TneJog\n",
      "GJ_bXUPv672YwNg4TneJogin order base has been finished\n",
      "GJ_bXUPv672YwNg4TneJogin time base has been finished\n",
      "gldPX9ANF5Nic0N7igu2og\n",
      "gldPX9ANF5Nic0N7igu2ogin order base has been finished\n",
      "gldPX9ANF5Nic0N7igu2ogin time base has been finished\n",
      "GlwOGCjSzts7AnbK9gqmng\n",
      "GlwOGCjSzts7AnbK9gqmngin order base has been finished\n",
      "GlwOGCjSzts7AnbK9gqmngin time base has been finished\n",
      "GmdujALb1Nq2RHGr7jhCaA\n",
      "GmdujALb1Nq2RHGr7jhCaAin order base has been finished\n",
      "GmdujALb1Nq2RHGr7jhCaAin time base has been finished\n",
      "gNER9lE1Ma9FLm9MBsvYgg\n",
      "gNER9lE1Ma9FLm9MBsvYggin order base has been finished\n",
      "gNER9lE1Ma9FLm9MBsvYggin time base has been finished\n",
      "gogO5RF4Rqz2THF1ATcCew\n",
      "gogO5RF4Rqz2THF1ATcCewin order base has been finished\n",
      "gogO5RF4Rqz2THF1ATcCewin time base has been finished\n",
      "gOOfBSBZlffCkQ7dr7cpdw\n",
      "gOOfBSBZlffCkQ7dr7cpdwin order base has been finished\n",
      "gOOfBSBZlffCkQ7dr7cpdwin time base has been finished\n",
      "gO_z_5FQVHLCiJjOsfE1fg\n",
      "gO_z_5FQVHLCiJjOsfE1fgin order base has been finished\n",
      "gO_z_5FQVHLCiJjOsfE1fgin time base has been finished\n",
      "gqdqnFg2lYeSyS20q2ZK_Q\n",
      "gqdqnFg2lYeSyS20q2ZK_Qin order base has been finished\n",
      "gqdqnFg2lYeSyS20q2ZK_Qin time base has been finished\n",
      "gQMAcDm8kv8ev7x2BshMwg\n",
      "gQMAcDm8kv8ev7x2BshMwgin order base has been finished\n",
      "gQMAcDm8kv8ev7x2BshMwgin time base has been finished\n",
      "gRCEObNuHtI61xR32ytqNQ\n",
      "gRCEObNuHtI61xR32ytqNQin order base has been finished\n",
      "gRCEObNuHtI61xR32ytqNQin time base has been finished\n",
      "GrwvBAEALujIOPQeOfN1vA\n",
      "GrwvBAEALujIOPQeOfN1vAin order base has been finished\n",
      "GrwvBAEALujIOPQeOfN1vAin time base has been finished\n",
      "gSPqD1DR3lzgoaifIhdF_w\n",
      "gSPqD1DR3lzgoaifIhdF_win order base has been finished\n",
      "gSPqD1DR3lzgoaifIhdF_win time base has been finished\n",
      "Gt4z3AylNTsEPDkzkaC7HA\n",
      "Gt4z3AylNTsEPDkzkaC7HAin order base has been finished\n",
      "Gt4z3AylNTsEPDkzkaC7HAin time base has been finished\n",
      "gTlDDzDEHyDQ6iwjNhpI6A\n",
      "gTlDDzDEHyDQ6iwjNhpI6Ain order base has been finished\n",
      "gTlDDzDEHyDQ6iwjNhpI6Ain time base has been finished\n",
      "GTR39A2jwNIS_NV8q2r_JA\n",
      "GTR39A2jwNIS_NV8q2r_JAin order base has been finished\n",
      "GTR39A2jwNIS_NV8q2r_JAin time base has been finished\n",
      "gTw6PENNGl68ZPUpYWP50A\n",
      "gTw6PENNGl68ZPUpYWP50Ain order base has been finished\n",
      "gTw6PENNGl68ZPUpYWP50Ain time base has been finished\n",
      "gugN1sgyheBJ6aKtNcv_gQ\n",
      "gugN1sgyheBJ6aKtNcv_gQin order base has been finished\n",
      "gugN1sgyheBJ6aKtNcv_gQin time base has been finished\n",
      "Gw-ozqLSHoP3BQPKaiXJGg\n",
      "Gw-ozqLSHoP3BQPKaiXJGgin order base has been finished\n",
      "Gw-ozqLSHoP3BQPKaiXJGgin time base has been finished\n",
      "gx2yPrOJSwF1ApJYdGBWIw\n",
      "gx2yPrOJSwF1ApJYdGBWIwin order base has been finished\n",
      "gx2yPrOJSwF1ApJYdGBWIwin time base has been finished\n",
      "Gz9SlLqxS6wnxPvgdOQNrA\n",
      "Gz9SlLqxS6wnxPvgdOQNrAin order base has been finished\n",
      "Gz9SlLqxS6wnxPvgdOQNrAin time base has been finished\n",
      "H0xkoPI-WwbjY7r-Zt-arw\n",
      "H0xkoPI-WwbjY7r-Zt-arwin order base has been finished\n",
      "H0xkoPI-WwbjY7r-Zt-arwin time base has been finished\n",
      "h3pMMRwqBjMeMtk0_qQzRQ\n",
      "h3pMMRwqBjMeMtk0_qQzRQin order base has been finished\n",
      "h3pMMRwqBjMeMtk0_qQzRQin time base has been finished\n",
      "h6Y1-KfN2XBkcrV85CS8yg\n",
      "h6Y1-KfN2XBkcrV85CS8ygin order base has been finished\n",
      "h6Y1-KfN2XBkcrV85CS8ygin time base has been finished\n",
      "h7s4MRVvB726jWHCHiQ9kw\n",
      "h7s4MRVvB726jWHCHiQ9kwin order base has been finished\n",
      "h7s4MRVvB726jWHCHiQ9kwin time base has been finished\n",
      "H8qpFitIesth86zqR4cwYg\n",
      "H8qpFitIesth86zqR4cwYgin order base has been finished\n",
      "H8qpFitIesth86zqR4cwYgin time base has been finished\n",
      "HCCg-rVnHQ2FI6lHs_LvUQ\n",
      "HCCg-rVnHQ2FI6lHs_LvUQin order base has been finished\n",
      "HCCg-rVnHQ2FI6lHs_LvUQin time base has been finished\n",
      "hcFSc0OHgZJybnjQBrL_8Q\n",
      "hcFSc0OHgZJybnjQBrL_8Qin order base has been finished\n",
      "hcFSc0OHgZJybnjQBrL_8Qin time base has been finished\n",
      "hf8WoI724TuDeAtH80bgPg\n",
      "hf8WoI724TuDeAtH80bgPgin order base has been finished\n",
      "hf8WoI724TuDeAtH80bgPgin time base has been finished\n",
      "HgdFqAvK31fB9sgBdOzo9g\n",
      "HgdFqAvK31fB9sgBdOzo9gin order base has been finished\n",
      "HgdFqAvK31fB9sgBdOzo9gin time base has been finished\n",
      "hggVnGwA5042-ABxqeJX-A\n",
      "hggVnGwA5042-ABxqeJX-Ain order base has been finished\n",
      "hggVnGwA5042-ABxqeJX-Ain time base has been finished\n",
      "HGvNE87fvK5PwKMZBDkTbA\n",
      "HGvNE87fvK5PwKMZBDkTbAin order base has been finished\n",
      "HGvNE87fvK5PwKMZBDkTbAin time base has been finished\n",
      "HhVmDybpU7L50Kb5A0jXTg\n",
      "HhVmDybpU7L50Kb5A0jXTgin order base has been finished\n",
      "HhVmDybpU7L50Kb5A0jXTgin time base has been finished\n",
      "HI56ArpYEbhEUeRx9Curpw\n",
      "HI56ArpYEbhEUeRx9Curpwin order base has been finished\n",
      "HI56ArpYEbhEUeRx9Curpwin time base has been finished\n",
      "hihud--QRriCYZw1zZvW4g\n",
      "hihud--QRriCYZw1zZvW4gin order base has been finished\n",
      "hihud--QRriCYZw1zZvW4gin time base has been finished\n",
      "hIUKufhwR6Ifn7bi0-phLA\n",
      "hIUKufhwR6Ifn7bi0-phLAin order base has been finished\n",
      "hIUKufhwR6Ifn7bi0-phLAin time base has been finished\n",
      "HjXI6lKGPVNQ8dYJPtaOCg\n",
      "HjXI6lKGPVNQ8dYJPtaOCgin order base has been finished\n",
      "HjXI6lKGPVNQ8dYJPtaOCgin time base has been finished\n",
      "hLrrgQwn-K-IPI8g2etAoQ\n",
      "hLrrgQwn-K-IPI8g2etAoQin order base has been finished\n",
      "hLrrgQwn-K-IPI8g2etAoQin time base has been finished\n",
      "Hp8k_RpSIWSeJguyaQpfIw\n",
      "Hp8k_RpSIWSeJguyaQpfIwin order base has been finished\n",
      "Hp8k_RpSIWSeJguyaQpfIwin time base has been finished\n",
      "HPLB1Tr8ZB5UkD-2umKPdA\n",
      "HPLB1Tr8ZB5UkD-2umKPdAin order base has been finished\n",
      "HPLB1Tr8ZB5UkD-2umKPdAin time base has been finished\n",
      "HQcel0uvg7N7KfhHJChfSQ\n",
      "HQcel0uvg7N7KfhHJChfSQin order base has been finished\n",
      "HQcel0uvg7N7KfhHJChfSQin time base has been finished\n",
      "Hqs4YNST_ZHbshwyi4bnsQ\n",
      "Hqs4YNST_ZHbshwyi4bnsQin order base has been finished\n",
      "Hqs4YNST_ZHbshwyi4bnsQin time base has been finished\n",
      "hqvqLihniz0ynit9c36JHg\n",
      "hqvqLihniz0ynit9c36JHgin order base has been finished\n",
      "hqvqLihniz0ynit9c36JHgin time base has been finished\n",
      "Hr5h_LG9TMBLlFz_Oici0A\n",
      "Hr5h_LG9TMBLlFz_Oici0Ain order base has been finished\n",
      "Hr5h_LG9TMBLlFz_Oici0Ain time base has been finished\n",
      "hRK876bEBdPYAJKbg6pCEw\n",
      "hRK876bEBdPYAJKbg6pCEwin order base has been finished\n",
      "hRK876bEBdPYAJKbg6pCEwin time base has been finished\n",
      "hRL_qCrcu9UL773su0QabQ\n",
      "hRL_qCrcu9UL773su0QabQin order base has been finished\n",
      "hRL_qCrcu9UL773su0QabQin time base has been finished\n",
      "hroo5nOO8b9QhHX0GLg7oA\n",
      "hroo5nOO8b9QhHX0GLg7oAin order base has been finished\n",
      "hroo5nOO8b9QhHX0GLg7oAin time base has been finished\n",
      "hRQS8y-uG2kc8miWVYiLuQ\n",
      "hRQS8y-uG2kc8miWVYiLuQin order base has been finished\n",
      "hRQS8y-uG2kc8miWVYiLuQin time base has been finished\n",
      "HWl2EbZhkhAkFgqt44yUkA\n",
      "HWl2EbZhkhAkFgqt44yUkAin order base has been finished\n",
      "HWl2EbZhkhAkFgqt44yUkAin time base has been finished\n",
      "h_4dPV9M9aYaBliH1Eoeeg\n",
      "h_4dPV9M9aYaBliH1Eoeegin order base has been finished\n",
      "h_4dPV9M9aYaBliH1Eoeegin time base has been finished\n",
      "H_FkQxifSo13B2FWjhp36g\n",
      "H_FkQxifSo13B2FWjhp36gin order base has been finished\n",
      "H_FkQxifSo13B2FWjhp36gin time base has been finished\n",
      "I-5qHCVwT7k_KH67-YOx3A\n",
      "I-5qHCVwT7k_KH67-YOx3Ain order base has been finished\n",
      "I-5qHCVwT7k_KH67-YOx3Ain time base has been finished\n",
      "i60v66vwf1A13YqcIqGD_A\n",
      "i60v66vwf1A13YqcIqGD_Ain order base has been finished\n",
      "i60v66vwf1A13YqcIqGD_Ain time base has been finished\n",
      "I6EDDi4-Eq_XlFghcDCUhw\n",
      "I6EDDi4-Eq_XlFghcDCUhwin order base has been finished\n",
      "I6EDDi4-Eq_XlFghcDCUhwin time base has been finished\n",
      "i9D9xPBV0gR1Ja9kbY4NCw\n",
      "i9D9xPBV0gR1Ja9kbY4NCwin order base has been finished\n",
      "i9D9xPBV0gR1Ja9kbY4NCwin time base has been finished\n",
      "iA8Ve2sZKN5Vz3mYKrtCaQ\n",
      "iA8Ve2sZKN5Vz3mYKrtCaQin order base has been finished\n",
      "iA8Ve2sZKN5Vz3mYKrtCaQin time base has been finished\n",
      "IB8zLlGraOg9LU7qQVLPyg\n",
      "IB8zLlGraOg9LU7qQVLPygin order base has been finished\n",
      "IB8zLlGraOg9LU7qQVLPygin time base has been finished\n",
      "iBihgoxc6Ot7m2D4D3z0QA\n",
      "iBihgoxc6Ot7m2D4D3z0QAin order base has been finished\n",
      "iBihgoxc6Ot7m2D4D3z0QAin time base has been finished\n",
      "ICdoTODBaprN0UReete9VQ\n",
      "ICdoTODBaprN0UReete9VQin order base has been finished\n",
      "ICdoTODBaprN0UReete9VQin time base has been finished\n",
      "iCQpiavjjPzJ5_3gPD5Ebg\n",
      "iCQpiavjjPzJ5_3gPD5Ebgin order base has been finished\n",
      "iCQpiavjjPzJ5_3gPD5Ebgin time base has been finished\n",
      "ID5wWJ9C7G0hfbQilvlfxA\n",
      "ID5wWJ9C7G0hfbQilvlfxAin order base has been finished\n",
      "ID5wWJ9C7G0hfbQilvlfxAin time base has been finished\n",
      "iGEvDk6hsizigmXhDKs2Vg\n",
      "iGEvDk6hsizigmXhDKs2Vgin order base has been finished\n",
      "iGEvDk6hsizigmXhDKs2Vgin time base has been finished\n",
      "igHYkXZMLAc9UdV5VnR_AA\n",
      "igHYkXZMLAc9UdV5VnR_AAin order base has been finished\n",
      "igHYkXZMLAc9UdV5VnR_AAin time base has been finished\n",
      "IhNASEZ3XnBHmuuVnWdIwA\n",
      "IhNASEZ3XnBHmuuVnWdIwAin order base has been finished\n",
      "IhNASEZ3XnBHmuuVnWdIwAin time base has been finished\n",
      "ii8sAGBexBOJoYRFafF9XQ\n",
      "ii8sAGBexBOJoYRFafF9XQin order base has been finished\n"
     ]
    },
    {
     "name": "stdout",
     "output_type": "stream",
     "text": [
      "ii8sAGBexBOJoYRFafF9XQin time base has been finished\n",
      "iIwKW2cBAxjElE8eUzjwqA\n",
      "iIwKW2cBAxjElE8eUzjwqAin order base has been finished\n",
      "iIwKW2cBAxjElE8eUzjwqAin time base has been finished\n",
      "iJi7yebXoPVXRyGqqL-v8g\n",
      "iJi7yebXoPVXRyGqqL-v8gin order base has been finished\n",
      "iJi7yebXoPVXRyGqqL-v8gin time base has been finished\n",
      "IMLrj2klosTFvPRLv56cng\n",
      "IMLrj2klosTFvPRLv56cngin order base has been finished\n",
      "IMLrj2klosTFvPRLv56cngin time base has been finished\n",
      "iOt7ebp4Zy-5YUjHL1rbmQ\n",
      "iOt7ebp4Zy-5YUjHL1rbmQin order base has been finished\n",
      "iOt7ebp4Zy-5YUjHL1rbmQin time base has been finished\n",
      "Iq7NqQD-sESu3vr9iEGuTA\n",
      "Iq7NqQD-sESu3vr9iEGuTAin order base has been finished\n",
      "Iq7NqQD-sESu3vr9iEGuTAin time base has been finished\n",
      "IqCvkoDvvImXuzGrpeiDMA\n",
      "IqCvkoDvvImXuzGrpeiDMAin order base has been finished\n",
      "IqCvkoDvvImXuzGrpeiDMAin time base has been finished\n",
      "IRbgMt0cVuzK1KSppU16_Q\n",
      "IRbgMt0cVuzK1KSppU16_Qin order base has been finished\n",
      "IRbgMt0cVuzK1KSppU16_Qin time base has been finished\n",
      "IRzXVRIzRoYpnjaVXF3vNA\n",
      "IRzXVRIzRoYpnjaVXF3vNAin order base has been finished\n",
      "IRzXVRIzRoYpnjaVXF3vNAin time base has been finished\n",
      "IsoLzudHC50oJLiEWpwV-w\n",
      "IsoLzudHC50oJLiEWpwV-win order base has been finished\n",
      "IsoLzudHC50oJLiEWpwV-win time base has been finished\n",
      "iSQwKRrLYYi-dI2PpJmJJg\n",
      "iSQwKRrLYYi-dI2PpJmJJgin order base has been finished\n",
      "iSQwKRrLYYi-dI2PpJmJJgin time base has been finished\n",
      "ItqPtxnayraXSlBS0EMOgg\n",
      "ItqPtxnayraXSlBS0EMOggin order base has been finished\n",
      "ItqPtxnayraXSlBS0EMOggin time base has been finished\n",
      "IT_4EEIbv6Ox1jBRMyE7pg\n",
      "IT_4EEIbv6Ox1jBRMyE7pgin order base has been finished\n",
      "IT_4EEIbv6Ox1jBRMyE7pgin time base has been finished\n",
      "IVnGPHdTyu_GbLo9mXj98w\n",
      "IVnGPHdTyu_GbLo9mXj98win order base has been finished\n",
      "IVnGPHdTyu_GbLo9mXj98win time base has been finished\n",
      "IWN2heYitkg-D4UdqfxcMA\n",
      "IWN2heYitkg-D4UdqfxcMAin order base has been finished\n",
      "IWN2heYitkg-D4UdqfxcMAin time base has been finished\n",
      "ixAh9crILnJ9tM8LhWFhkw\n",
      "ixAh9crILnJ9tM8LhWFhkwin order base has been finished\n",
      "ixAh9crILnJ9tM8LhWFhkwin time base has been finished\n",
      "IyVdd_IqwUtzQDTxw2W9qw\n",
      "IyVdd_IqwUtzQDTxw2W9qwin order base has been finished\n",
      "IyVdd_IqwUtzQDTxw2W9qwin time base has been finished\n",
      "IZivKqtHyz4-ts8KsnvMrA\n",
      "IZivKqtHyz4-ts8KsnvMrAin order base has been finished\n",
      "IZivKqtHyz4-ts8KsnvMrAin time base has been finished\n",
      "I_a74zmgR-X03LsKISWPcg\n",
      "I_a74zmgR-X03LsKISWPcgin order base has been finished\n",
      "I_a74zmgR-X03LsKISWPcgin time base has been finished\n",
      "J07TDs6qnTIaxm48EL1cKQ\n",
      "J07TDs6qnTIaxm48EL1cKQin order base has been finished\n",
      "J07TDs6qnTIaxm48EL1cKQin time base has been finished\n",
      "J1RDyyPxhioqm8c_fi4P4Q\n",
      "J1RDyyPxhioqm8c_fi4P4Qin order base has been finished\n",
      "J1RDyyPxhioqm8c_fi4P4Qin time base has been finished\n",
      "j2bx_ctb_ED3zbfSaqhQmQ\n",
      "j2bx_ctb_ED3zbfSaqhQmQin order base has been finished\n",
      "j2bx_ctb_ED3zbfSaqhQmQin time base has been finished\n",
      "j3IEZP4nQAt7fkxmerLMbA\n",
      "j3IEZP4nQAt7fkxmerLMbAin order base has been finished\n",
      "j3IEZP4nQAt7fkxmerLMbAin time base has been finished\n",
      "J4CATH00YZrq8Bne2S4_cw\n",
      "J4CATH00YZrq8Bne2S4_cwin order base has been finished\n",
      "J4CATH00YZrq8Bne2S4_cwin time base has been finished\n",
      "j5nPiTwWEFr-VsePew7Sjg\n",
      "j5nPiTwWEFr-VsePew7Sjgin order base has been finished\n",
      "j5nPiTwWEFr-VsePew7Sjgin time base has been finished\n",
      "J6qWt6XIUmIGFHX5rQJA-w\n",
      "J6qWt6XIUmIGFHX5rQJA-win order base has been finished\n",
      "J6qWt6XIUmIGFHX5rQJA-win time base has been finished\n",
      "Ja4stXdNYr39u5CZHMNtjw\n",
      "Ja4stXdNYr39u5CZHMNtjwin order base has been finished\n",
      "Ja4stXdNYr39u5CZHMNtjwin time base has been finished\n",
      "jaJnPIX9VxsFyfV5zQwk0g\n",
      "jaJnPIX9VxsFyfV5zQwk0gin order base has been finished\n",
      "jaJnPIX9VxsFyfV5zQwk0gin time base has been finished\n",
      "jBh399TajGcH28Zo2J1pHw\n",
      "jBh399TajGcH28Zo2J1pHwin order base has been finished\n",
      "jBh399TajGcH28Zo2J1pHwin time base has been finished\n",
      "jc3p5SFyt9qrrMXt6E13ig\n",
      "jc3p5SFyt9qrrMXt6E13igin order base has been finished\n",
      "jc3p5SFyt9qrrMXt6E13igin time base has been finished\n",
      "jCNBZnkIFv_0omLVTgNR6Q\n",
      "jCNBZnkIFv_0omLVTgNR6Qin order base has been finished\n",
      "jCNBZnkIFv_0omLVTgNR6Qin time base has been finished\n",
      "JDZ6_yycNQFTpUZzLIKHUg\n",
      "JDZ6_yycNQFTpUZzLIKHUgin order base has been finished\n",
      "JDZ6_yycNQFTpUZzLIKHUgin time base has been finished\n",
      "JFaTPxWQC14VmFnXLv7W1g\n",
      "JFaTPxWQC14VmFnXLv7W1gin order base has been finished\n",
      "JFaTPxWQC14VmFnXLv7W1gin time base has been finished\n",
      "JfHXzulF6yIKgA22YYPedw\n",
      "JfHXzulF6yIKgA22YYPedwin order base has been finished\n",
      "JfHXzulF6yIKgA22YYPedwin time base has been finished\n",
      "JIETwXSEGIHMNyxZVEnNKQ\n",
      "JIETwXSEGIHMNyxZVEnNKQin order base has been finished\n",
      "JIETwXSEGIHMNyxZVEnNKQin time base has been finished\n",
      "jIzygnVmajEXYmfsBNY_Gw\n",
      "jIzygnVmajEXYmfsBNY_Gwin order base has been finished\n",
      "jIzygnVmajEXYmfsBNY_Gwin time base has been finished\n",
      "Jj8ubiwwuCR-rrhrrjcryw\n",
      "Jj8ubiwwuCR-rrhrrjcrywin order base has been finished\n",
      "Jj8ubiwwuCR-rrhrrjcrywin time base has been finished\n",
      "JJAwT9R6Fp2yyWHtWFA8uQ\n",
      "JJAwT9R6Fp2yyWHtWFA8uQin order base has been finished\n",
      "JJAwT9R6Fp2yyWHtWFA8uQin time base has been finished\n",
      "JLbgvGM4FXh9zNP4O5ZWjQ\n",
      "JLbgvGM4FXh9zNP4O5ZWjQin order base has been finished\n",
      "JLbgvGM4FXh9zNP4O5ZWjQin time base has been finished\n",
      "jLxeBgWhLRbII2ACkgH1Sg\n",
      "jLxeBgWhLRbII2ACkgH1Sgin order base has been finished\n",
      "jLxeBgWhLRbII2ACkgH1Sgin time base has been finished\n",
      "JMiaNitMzMbJm6Kh0RbT5A\n",
      "JMiaNitMzMbJm6Kh0RbT5Ain order base has been finished\n",
      "JMiaNitMzMbJm6Kh0RbT5Ain time base has been finished\n",
      "JPfi__QJAaRzmfh5aOyFEw\n",
      "JPfi__QJAaRzmfh5aOyFEwin order base has been finished\n",
      "JPfi__QJAaRzmfh5aOyFEwin time base has been finished\n",
      "JpgVl3d20CMRNjf1DVnzGA\n",
      "JpgVl3d20CMRNjf1DVnzGAin order base has been finished\n",
      "JpgVl3d20CMRNjf1DVnzGAin time base has been finished\n",
      "jqAdZf9PJo8lsRskc6T1Sw\n",
      "jqAdZf9PJo8lsRskc6T1Swin order base has been finished\n",
      "jqAdZf9PJo8lsRskc6T1Swin time base has been finished\n",
      "JQYkVnUzS5vgFxZgCuW7ag\n",
      "JQYkVnUzS5vgFxZgCuW7agin order base has been finished\n",
      "JQYkVnUzS5vgFxZgCuW7agin time base has been finished\n",
      "JRh14J_be0jl7Wbt412vDA\n",
      "JRh14J_be0jl7Wbt412vDAin order base has been finished\n",
      "JRh14J_be0jl7Wbt412vDAin time base has been finished\n",
      "jScBTQtdAt-8RshaiBEHgw\n",
      "jScBTQtdAt-8RshaiBEHgwin order base has been finished\n",
      "jScBTQtdAt-8RshaiBEHgwin time base has been finished\n",
      "JsCKeWHA8n_5mFQ3F6t4UA\n",
      "JsCKeWHA8n_5mFQ3F6t4UAin order base has been finished\n",
      "JsCKeWHA8n_5mFQ3F6t4UAin time base has been finished\n",
      "jsuUmIEefPjV__ads62Z5w\n",
      "jsuUmIEefPjV__ads62Z5win order base has been finished\n",
      "jsuUmIEefPjV__ads62Z5win time base has been finished\n",
      "Jt28TYWanzKrJYYr0Tf1MQ\n",
      "Jt28TYWanzKrJYYr0Tf1MQin order base has been finished\n",
      "Jt28TYWanzKrJYYr0Tf1MQin time base has been finished\n",
      "JTFFtWy_chbsHTs95yD_2Q\n",
      "JTFFtWy_chbsHTs95yD_2Qin order base has been finished\n",
      "JTFFtWy_chbsHTs95yD_2Qin time base has been finished\n",
      "Jur1iiejUFw_YCkfDfy1gQ\n",
      "Jur1iiejUFw_YCkfDfy1gQin order base has been finished\n",
      "Jur1iiejUFw_YCkfDfy1gQin time base has been finished\n",
      "jWv5GUtEp30OD5L5C8c2DQ\n",
      "jWv5GUtEp30OD5L5C8c2DQin order base has been finished\n",
      "jWv5GUtEp30OD5L5C8c2DQin time base has been finished\n",
      "JyxHvtj-syke7m9rbza7mA\n",
      "JyxHvtj-syke7m9rbza7mAin order base has been finished\n",
      "JyxHvtj-syke7m9rbza7mAin time base has been finished\n",
      "JzOp695tclcNCNMuBl7oxA\n",
      "JzOp695tclcNCNMuBl7oxAin order base has been finished\n",
      "JzOp695tclcNCNMuBl7oxAin time base has been finished\n",
      "Jzth-y32SyvOhJNgbIPTqQ\n",
      "Jzth-y32SyvOhJNgbIPTqQin order base has been finished\n",
      "Jzth-y32SyvOhJNgbIPTqQin time base has been finished\n",
      "k-drEjxKmfqllwfY90STfA\n",
      "k-drEjxKmfqllwfY90STfAin order base has been finished\n",
      "k-drEjxKmfqllwfY90STfAin time base has been finished\n",
      "K-SsrPH0nFExdpLrTo1X1w\n",
      "K-SsrPH0nFExdpLrTo1X1win order base has been finished\n",
      "K-SsrPH0nFExdpLrTo1X1win time base has been finished\n",
      "K-uQkfSUTwu5LIwPB4b_vg\n",
      "K-uQkfSUTwu5LIwPB4b_vgin order base has been finished\n",
      "K-uQkfSUTwu5LIwPB4b_vgin time base has been finished\n",
      "K0j_Znzin0jShXVnpvW86A\n",
      "K0j_Znzin0jShXVnpvW86Ain order base has been finished\n",
      "K0j_Znzin0jShXVnpvW86Ain time base has been finished\n",
      "k1c_bC3DK6mKg797vH1T8w\n",
      "k1c_bC3DK6mKg797vH1T8win order base has been finished\n",
      "k1c_bC3DK6mKg797vH1T8win time base has been finished\n",
      "k1QpHAkzKTrFYfk6u--VgQ\n",
      "k1QpHAkzKTrFYfk6u--VgQin order base has been finished\n",
      "k1QpHAkzKTrFYfk6u--VgQin time base has been finished\n",
      "K2_zfa7cKbg5klHJYqoWnw\n",
      "K2_zfa7cKbg5klHJYqoWnwin order base has been finished\n",
      "K2_zfa7cKbg5klHJYqoWnwin time base has been finished\n",
      "k6zmSLmYAquCpJGKNnTgSQ\n",
      "k6zmSLmYAquCpJGKNnTgSQin order base has been finished\n",
      "k6zmSLmYAquCpJGKNnTgSQin time base has been finished\n",
      "K7fip0nDFFdCC7OCnNOotQ\n",
      "K7fip0nDFFdCC7OCnNOotQin order base has been finished\n",
      "K7fip0nDFFdCC7OCnNOotQin time base has been finished\n",
      "K7lWdNUhCbcnEvI0NhGewg\n",
      "K7lWdNUhCbcnEvI0NhGewgin order base has been finished\n",
      "K7lWdNUhCbcnEvI0NhGewgin time base has been finished\n",
      "k7Sy557_ZaQSGHFlZgeJzw\n",
      "k7Sy557_ZaQSGHFlZgeJzwin order base has been finished\n",
      "k7Sy557_ZaQSGHFlZgeJzwin time base has been finished\n",
      "k8BqCejnaMlw7aoVthvqyw\n",
      "k8BqCejnaMlw7aoVthvqywin order base has been finished\n",
      "k8BqCejnaMlw7aoVthvqywin time base has been finished\n",
      "kABF0hYfAEnl166mn1zR1A\n",
      "kABF0hYfAEnl166mn1zR1Ain order base has been finished\n",
      "kABF0hYfAEnl166mn1zR1Ain time base has been finished\n",
      "KalAJyO0Zpg3K1wVwYXBHA\n",
      "KalAJyO0Zpg3K1wVwYXBHAin order base has been finished\n",
      "KalAJyO0Zpg3K1wVwYXBHAin time base has been finished\n",
      "KFAJsmQ6GnHxyfmv16s9VA\n",
      "KFAJsmQ6GnHxyfmv16s9VAin order base has been finished\n",
      "KFAJsmQ6GnHxyfmv16s9VAin time base has been finished\n",
      "kG_EB5RAsSA3f9HJikI1rw\n",
      "kG_EB5RAsSA3f9HJikI1rwin order base has been finished\n",
      "kG_EB5RAsSA3f9HJikI1rwin time base has been finished\n",
      "KhWl4Mwhm_Oqq0zIIz-0wQ\n",
      "KhWl4Mwhm_Oqq0zIIz-0wQin order base has been finished\n",
      "KhWl4Mwhm_Oqq0zIIz-0wQin time base has been finished\n",
      "Ki8seQY5mtXc36xjoMfeDA\n",
      "Ki8seQY5mtXc36xjoMfeDAin order base has been finished\n",
      "Ki8seQY5mtXc36xjoMfeDAin time base has been finished\n",
      "kj1p6NwUGROOoqNySf0I1Q\n",
      "kj1p6NwUGROOoqNySf0I1Qin order base has been finished\n",
      "kj1p6NwUGROOoqNySf0I1Qin time base has been finished\n",
      "kJAmLFgiIjtjULunpr3NNg\n",
      "kJAmLFgiIjtjULunpr3NNgin order base has been finished\n",
      "kJAmLFgiIjtjULunpr3NNgin time base has been finished\n",
      "KkmPDIWzvwbBpyqOHT6pcQ\n",
      "KkmPDIWzvwbBpyqOHT6pcQin order base has been finished\n",
      "KkmPDIWzvwbBpyqOHT6pcQin time base has been finished\n",
      "klddGAcNIpE_aB5sd1hNXw\n",
      "klddGAcNIpE_aB5sd1hNXwin order base has been finished\n",
      "klddGAcNIpE_aB5sd1hNXwin time base has been finished\n",
      "Knnc473zh8m7IBC0oLTHkg\n",
      "Knnc473zh8m7IBC0oLTHkgin order base has been finished\n",
      "Knnc473zh8m7IBC0oLTHkgin time base has been finished\n",
      "KOEBBp2PhiV_4PkW9eo9Sg\n",
      "KOEBBp2PhiV_4PkW9eo9Sgin order base has been finished\n",
      "KOEBBp2PhiV_4PkW9eo9Sgin time base has been finished\n",
      "kOFDVcnj-8fd3doIpCQ06A\n",
      "kOFDVcnj-8fd3doIpCQ06Ain order base has been finished\n",
      "kOFDVcnj-8fd3doIpCQ06Ain time base has been finished\n",
      "KPV_FVNWkgmYh1ArVlt6kg\n",
      "KPV_FVNWkgmYh1ArVlt6kgin order base has been finished\n",
      "KPV_FVNWkgmYh1ArVlt6kgin time base has been finished\n",
      "kRgAf6j2y1eR0wOFdzFAuw\n",
      "kRgAf6j2y1eR0wOFdzFAuwin order base has been finished\n",
      "kRgAf6j2y1eR0wOFdzFAuwin time base has been finished\n",
      "KskYqH1Bi7Z_61pH6Om8pg\n",
      "KskYqH1Bi7Z_61pH6Om8pgin order base has been finished\n",
      "KskYqH1Bi7Z_61pH6Om8pgin time base has been finished\n",
      "KuyB4pILxj4pKHvbY6CrJg\n",
      "KuyB4pILxj4pKHvbY6CrJgin order base has been finished\n",
      "KuyB4pILxj4pKHvbY6CrJgin time base has been finished\n",
      "KVpvE6pOPM9KMvak4HFsNg\n",
      "KVpvE6pOPM9KMvak4HFsNgin order base has been finished\n",
      "KVpvE6pOPM9KMvak4HFsNgin time base has been finished\n",
      "KVsv8wRGnLX8QWoNZKNMQA\n",
      "KVsv8wRGnLX8QWoNZKNMQAin order base has been finished\n",
      "KVsv8wRGnLX8QWoNZKNMQAin time base has been finished\n",
      "KXITXbKuE60WSUDs7NZVLQ\n",
      "KXITXbKuE60WSUDs7NZVLQin order base has been finished\n",
      "KXITXbKuE60WSUDs7NZVLQin time base has been finished\n",
      "L1-1P3acJc4gEFvWwjXcNQ\n",
      "L1-1P3acJc4gEFvWwjXcNQin order base has been finished\n",
      "L1-1P3acJc4gEFvWwjXcNQin time base has been finished\n",
      "L2p0vO3fsS2LC6hhQo3CzA\n",
      "L2p0vO3fsS2LC6hhQo3CzAin order base has been finished\n",
      "L2p0vO3fsS2LC6hhQo3CzAin time base has been finished\n",
      "l3joBBpkq0ib11dKUpKMAw\n",
      "l3joBBpkq0ib11dKUpKMAwin order base has been finished\n",
      "l3joBBpkq0ib11dKUpKMAwin time base has been finished\n",
      "l4pAkHCVUKAcDvo-iNSbYA\n",
      "l4pAkHCVUKAcDvo-iNSbYAin order base has been finished\n",
      "l4pAkHCVUKAcDvo-iNSbYAin time base has been finished\n",
      "Lau3N654yNyWdIIybea1uA\n",
      "Lau3N654yNyWdIIybea1uAin order base has been finished\n",
      "Lau3N654yNyWdIIybea1uAin time base has been finished\n",
      "le3JWiS5uZTkofP90Rm0pA\n",
      "le3JWiS5uZTkofP90Rm0pAin order base has been finished\n",
      "le3JWiS5uZTkofP90Rm0pAin time base has been finished\n",
      "LelAlfuj5oVRF9CQdWLsNQ\n",
      "LelAlfuj5oVRF9CQdWLsNQin order base has been finished\n",
      "LelAlfuj5oVRF9CQdWLsNQin time base has been finished\n",
      "LFs5jyYdXlzi0SpAYi1eSA\n",
      "LFs5jyYdXlzi0SpAYi1eSAin order base has been finished\n",
      "LFs5jyYdXlzi0SpAYi1eSAin time base has been finished\n",
      "lGy7jJ9oVZUJNkmZj7ewgA\n",
      "lGy7jJ9oVZUJNkmZj7ewgAin order base has been finished\n",
      "lGy7jJ9oVZUJNkmZj7ewgAin time base has been finished\n",
      "LHyj66waFlDcw9UToo27JQ\n",
      "LHyj66waFlDcw9UToo27JQin order base has been finished\n",
      "LHyj66waFlDcw9UToo27JQin time base has been finished\n",
      "lIDgEB1HnKAq03H1fpjzLQ\n",
      "lIDgEB1HnKAq03H1fpjzLQin order base has been finished\n",
      "lIDgEB1HnKAq03H1fpjzLQin time base has been finished\n",
      "LkMtMHVetws5_7QfRjPtlg\n",
      "LkMtMHVetws5_7QfRjPtlgin order base has been finished\n",
      "LkMtMHVetws5_7QfRjPtlgin time base has been finished\n",
      "lKom12WnYEjH5FFemK3M1Q\n",
      "lKom12WnYEjH5FFemK3M1Qin order base has been finished\n",
      "lKom12WnYEjH5FFemK3M1Qin time base has been finished\n",
      "lKOvx_aAXiXQGooZ-4bq9Q\n",
      "lKOvx_aAXiXQGooZ-4bq9Qin order base has been finished\n",
      "lKOvx_aAXiXQGooZ-4bq9Qin time base has been finished\n",
      "lKq4Qsz13FDcAVgp49uukQ\n",
      "lKq4Qsz13FDcAVgp49uukQin order base has been finished\n",
      "lKq4Qsz13FDcAVgp49uukQin time base has been finished\n",
      "lmxA0dJM0XsPCIHPXhEQ-g\n",
      "lmxA0dJM0XsPCIHPXhEQ-gin order base has been finished\n",
      "lmxA0dJM0XsPCIHPXhEQ-gin time base has been finished\n",
      "LNGBEEelQx4zbfWnlc66cw\n",
      "LNGBEEelQx4zbfWnlc66cwin order base has been finished\n",
      "LNGBEEelQx4zbfWnlc66cwin time base has been finished\n",
      "LNsZJP6jZ11e0tDljOLPiQ\n",
      "LNsZJP6jZ11e0tDljOLPiQin order base has been finished\n",
      "LNsZJP6jZ11e0tDljOLPiQin time base has been finished\n",
      "lOQPeguczAueJnLmDUTfGg\n",
      "lOQPeguczAueJnLmDUTfGgin order base has been finished\n",
      "lOQPeguczAueJnLmDUTfGgin time base has been finished\n",
      "LpGCzgAKNSpzDNEUMVVtZA\n",
      "LpGCzgAKNSpzDNEUMVVtZAin order base has been finished\n",
      "LpGCzgAKNSpzDNEUMVVtZAin time base has been finished\n",
      "lpYFsXFrojiBZ1kbWR2lZw\n",
      "lpYFsXFrojiBZ1kbWR2lZwin order base has been finished\n",
      "lpYFsXFrojiBZ1kbWR2lZwin time base has been finished\n",
      "LQFmktF43j2NPncKdNd9mg\n",
      "LQFmktF43j2NPncKdNd9mgin order base has been finished\n",
      "LQFmktF43j2NPncKdNd9mgin time base has been finished\n",
      "LR0qF0FEVsCOhYWUOiH26A\n",
      "LR0qF0FEVsCOhYWUOiH26Ain order base has been finished\n",
      "LR0qF0FEVsCOhYWUOiH26Ain time base has been finished\n",
      "lTixk1IT-D4hoMZ6LgoyHQ\n",
      "lTixk1IT-D4hoMZ6LgoyHQin order base has been finished\n",
      "lTixk1IT-D4hoMZ6LgoyHQin time base has been finished\n",
      "LtXy1VinKWfuLFslVarKRw\n",
      "LtXy1VinKWfuLFslVarKRwin order base has been finished\n",
      "LtXy1VinKWfuLFslVarKRwin time base has been finished\n",
      "LwQB9H3jZ9wTk24Lr-AnZQ\n",
      "LwQB9H3jZ9wTk24Lr-AnZQin order base has been finished\n",
      "LwQB9H3jZ9wTk24Lr-AnZQin time base has been finished\n",
      "lwxYmWqjmEZ0ukCsXC9Pfg\n",
      "lwxYmWqjmEZ0ukCsXC9Pfgin order base has been finished\n",
      "lwxYmWqjmEZ0ukCsXC9Pfgin time base has been finished\n",
      "Ly2ShApiomYZwKehwb7eRA\n",
      "Ly2ShApiomYZwKehwb7eRAin order base has been finished\n",
      "Ly2ShApiomYZwKehwb7eRAin time base has been finished\n",
      "LYgAf_vpMQU6JqBcTXg-Sw\n",
      "LYgAf_vpMQU6JqBcTXg-Swin order base has been finished\n",
      "LYgAf_vpMQU6JqBcTXg-Swin time base has been finished\n",
      "LYWbyu1EQM2o5hwHG5_Ldg\n",
      "LYWbyu1EQM2o5hwHG5_Ldgin order base has been finished\n",
      "LYWbyu1EQM2o5hwHG5_Ldgin time base has been finished\n",
      "Lz6QUlFkVKtnzSISk0WUPw\n",
      "Lz6QUlFkVKtnzSISk0WUPwin order base has been finished\n",
      "Lz6QUlFkVKtnzSISk0WUPwin time base has been finished\n",
      "LZ_R2OLgZQSQMMzlp8uUOA\n",
      "LZ_R2OLgZQSQMMzlp8uUOAin order base has been finished\n",
      "LZ_R2OLgZQSQMMzlp8uUOAin time base has been finished\n",
      "l_GV0hgEoTUf70uJVT0_hg\n",
      "l_GV0hgEoTUf70uJVT0_hgin order base has been finished\n",
      "l_GV0hgEoTUf70uJVT0_hgin time base has been finished\n",
      "L_ZLtfHvfzfoNVQ0-okTXg\n",
      "L_ZLtfHvfzfoNVQ0-okTXgin order base has been finished\n",
      "L_ZLtfHvfzfoNVQ0-okTXgin time base has been finished\n",
      "m-xsH8VkcYtTTvp2Fa6Ajw\n",
      "m-xsH8VkcYtTTvp2Fa6Ajwin order base has been finished\n",
      "m-xsH8VkcYtTTvp2Fa6Ajwin time base has been finished\n",
      "M0pkmBUi_CI0qrzN7ee80Q\n",
      "M0pkmBUi_CI0qrzN7ee80Qin order base has been finished\n",
      "M0pkmBUi_CI0qrzN7ee80Qin time base has been finished\n",
      "m2zASwlOL2vecCKHfmGAnQ\n",
      "m2zASwlOL2vecCKHfmGAnQin order base has been finished\n",
      "m2zASwlOL2vecCKHfmGAnQin time base has been finished\n",
      "M30I1NPl5JuHthxo1IXPGg\n",
      "M30I1NPl5JuHthxo1IXPGgin order base has been finished\n",
      "M30I1NPl5JuHthxo1IXPGgin time base has been finished\n",
      "M51gw2cz_vXarNBLbKkOxQ\n",
      "M51gw2cz_vXarNBLbKkOxQin order base has been finished\n"
     ]
    },
    {
     "name": "stdout",
     "output_type": "stream",
     "text": [
      "M51gw2cz_vXarNBLbKkOxQin time base has been finished\n",
      "makqSKZaz1aUipoWBW0BsA\n",
      "makqSKZaz1aUipoWBW0BsAin order base has been finished\n",
      "makqSKZaz1aUipoWBW0BsAin time base has been finished\n",
      "MAuSh7NKoT__CQ4BumoayA\n",
      "MAuSh7NKoT__CQ4BumoayAin order base has been finished\n",
      "MAuSh7NKoT__CQ4BumoayAin time base has been finished\n",
      "mC39IrCp36QIVFRZIw9PTQ\n",
      "mC39IrCp36QIVFRZIw9PTQin order base has been finished\n",
      "mC39IrCp36QIVFRZIw9PTQin time base has been finished\n",
      "Md6895ZtS3FA8a0pUaH6nw\n",
      "Md6895ZtS3FA8a0pUaH6nwin order base has been finished\n",
      "Md6895ZtS3FA8a0pUaH6nwin time base has been finished\n",
      "mDR12Hafvr84ctpsV6YLag\n",
      "mDR12Hafvr84ctpsV6YLagin order base has been finished\n",
      "mDR12Hafvr84ctpsV6YLagin time base has been finished\n",
      "meXjqyhTNLFmknY39y2sMg\n",
      "meXjqyhTNLFmknY39y2sMgin order base has been finished\n",
      "meXjqyhTNLFmknY39y2sMgin time base has been finished\n",
      "mG71gQ5HWl7ut9OCN6NJKA\n",
      "mG71gQ5HWl7ut9OCN6NJKAin order base has been finished\n",
      "mG71gQ5HWl7ut9OCN6NJKAin time base has been finished\n",
      "MgHWbwuxxb_txhI3lK_bKg\n",
      "MgHWbwuxxb_txhI3lK_bKgin order base has been finished\n",
      "MgHWbwuxxb_txhI3lK_bKgin time base has been finished\n",
      "Mh84_j7YmRrAcm0DWV4bUw\n",
      "Mh84_j7YmRrAcm0DWV4bUwin order base has been finished\n",
      "Mh84_j7YmRrAcm0DWV4bUwin time base has been finished\n",
      "mlCDsdVFuZvRGrJTfQ6amw\n",
      "mlCDsdVFuZvRGrJTfQ6amwin order base has been finished\n",
      "mlCDsdVFuZvRGrJTfQ6amwin time base has been finished\n",
      "MM8n7SPaIuMlDGbUM5SZhA\n",
      "MM8n7SPaIuMlDGbUM5SZhAin order base has been finished\n",
      "MM8n7SPaIuMlDGbUM5SZhAin time base has been finished\n",
      "mmazCP1ZH0QsUqDS6OivFA\n",
      "mmazCP1ZH0QsUqDS6OivFAin order base has been finished\n",
      "mmazCP1ZH0QsUqDS6OivFAin time base has been finished\n",
      "Mn6PbumS7GL2v3jPilTaeg\n",
      "Mn6PbumS7GL2v3jPilTaegin order base has been finished\n",
      "Mn6PbumS7GL2v3jPilTaegin time base has been finished\n",
      "mnwRtuVQEsIUomBchu0gwg\n",
      "mnwRtuVQEsIUomBchu0gwgin order base has been finished\n",
      "mnwRtuVQEsIUomBchu0gwgin time base has been finished\n",
      "moZpwq1hNxC-uJRpfupOTA\n",
      "moZpwq1hNxC-uJRpfupOTAin order base has been finished\n",
      "moZpwq1hNxC-uJRpfupOTAin time base has been finished\n",
      "mPfdYJj4d5KBPINDkaZY-Q\n",
      "mPfdYJj4d5KBPINDkaZY-Qin order base has been finished\n",
      "mPfdYJj4d5KBPINDkaZY-Qin time base has been finished\n",
      "MqYYYNA-ZYvV-1w5qcmMoA\n",
      "MqYYYNA-ZYvV-1w5qcmMoAin order base has been finished\n",
      "MqYYYNA-ZYvV-1w5qcmMoAin time base has been finished\n",
      "MS-hfug4QDXqb_Mws3qlzA\n",
      "MS-hfug4QDXqb_Mws3qlzAin order base has been finished\n",
      "MS-hfug4QDXqb_Mws3qlzAin time base has been finished\n",
      "mU3vlAVzTxgmZUu6F4XixA\n",
      "mU3vlAVzTxgmZUu6F4XixAin order base has been finished\n",
      "mU3vlAVzTxgmZUu6F4XixAin time base has been finished\n",
      "mUdalYTuAtnZm2K9zoH27Q\n",
      "mUdalYTuAtnZm2K9zoH27Qin order base has been finished\n",
      "mUdalYTuAtnZm2K9zoH27Qin time base has been finished\n",
      "Mul_BVwcnhqmp2h_7QFepQ\n",
      "Mul_BVwcnhqmp2h_7QFepQin order base has been finished\n",
      "Mul_BVwcnhqmp2h_7QFepQin time base has been finished\n",
      "MVHGmZEwtKrXH11ySGweEw\n",
      "MVHGmZEwtKrXH11ySGweEwin order base has been finished\n",
      "MVHGmZEwtKrXH11ySGweEwin time base has been finished\n",
      "mVomtOMgBxbGvdPSaF2HjQ\n",
      "mVomtOMgBxbGvdPSaF2HjQin order base has been finished\n",
      "mVomtOMgBxbGvdPSaF2HjQin time base has been finished\n",
      "MXC9pwIxovWUc9yu1F8OxA\n",
      "MXC9pwIxovWUc9yu1F8OxAin order base has been finished\n",
      "MXC9pwIxovWUc9yu1F8OxAin time base has been finished\n",
      "mz48xdVWcCu463U3Lm7lhA\n",
      "mz48xdVWcCu463U3Lm7lhAin order base has been finished\n",
      "mz48xdVWcCu463U3Lm7lhAin time base has been finished\n",
      "mZRKH9ngRY92bI_irrHq6w\n",
      "mZRKH9ngRY92bI_irrHq6win order base has been finished\n",
      "mZRKH9ngRY92bI_irrHq6win time base has been finished\n",
      "N0apJkxIem2E8irTBRKnHw\n",
      "N0apJkxIem2E8irTBRKnHwin order base has been finished\n",
      "N0apJkxIem2E8irTBRKnHwin time base has been finished\n",
      "N0CoaG3cBrTGm2ecLYSzqA\n",
      "N0CoaG3cBrTGm2ecLYSzqAin order base has been finished\n",
      "N0CoaG3cBrTGm2ecLYSzqAin time base has been finished\n",
      "N5B7OBTyNGgwU_Y2fwNcyw\n",
      "N5B7OBTyNGgwU_Y2fwNcywin order base has been finished\n",
      "N5B7OBTyNGgwU_Y2fwNcywin time base has been finished\n",
      "N6MzDoao6s68nAIW8vS9dQ\n",
      "N6MzDoao6s68nAIW8vS9dQin order base has been finished\n",
      "N6MzDoao6s68nAIW8vS9dQin time base has been finished\n",
      "N7yuiiu8jhQ-Fl9Npflreg\n",
      "N7yuiiu8jhQ-Fl9Npflregin order base has been finished\n",
      "N7yuiiu8jhQ-Fl9Npflregin time base has been finished\n",
      "N8D-5-fW7EkBdKjNYGhu0A\n",
      "N8D-5-fW7EkBdKjNYGhu0Ain order base has been finished\n",
      "N8D-5-fW7EkBdKjNYGhu0Ain time base has been finished\n",
      "N8uKQ5Vdb1LAh-qXT_25Rg\n",
      "N8uKQ5Vdb1LAh-qXT_25Rgin order base has been finished\n",
      "N8uKQ5Vdb1LAh-qXT_25Rgin time base has been finished\n",
      "n8Zqqhff-2cxzWt_nwhU2Q\n",
      "n8Zqqhff-2cxzWt_nwhU2Qin order base has been finished\n",
      "n8Zqqhff-2cxzWt_nwhU2Qin time base has been finished\n",
      "N93EYZy9R0sdlEvubu94ig\n",
      "N93EYZy9R0sdlEvubu94igin order base has been finished\n",
      "N93EYZy9R0sdlEvubu94igin time base has been finished\n",
      "NAPuzJcanOp91dE4GXPOow\n",
      "NAPuzJcanOp91dE4GXPOowin order base has been finished\n",
      "NAPuzJcanOp91dE4GXPOowin time base has been finished\n",
      "NASjUYKkz6l7hQLxMf2lqg\n",
      "NASjUYKkz6l7hQLxMf2lqgin order base has been finished\n",
      "NASjUYKkz6l7hQLxMf2lqgin time base has been finished\n",
      "NblDoJBEwhkJyvAuxzh4rg\n",
      "NblDoJBEwhkJyvAuxzh4rgin order base has been finished\n",
      "NblDoJBEwhkJyvAuxzh4rgin time base has been finished\n",
      "nBl_4gw5ecGzNkHyzfii8g\n",
      "nBl_4gw5ecGzNkHyzfii8gin order base has been finished\n",
      "nBl_4gw5ecGzNkHyzfii8gin time base has been finished\n",
      "NCFwm2-TDb-oBQ2medmYDg\n",
      "NCFwm2-TDb-oBQ2medmYDgin order base has been finished\n",
      "NCFwm2-TDb-oBQ2medmYDgin time base has been finished\n",
      "ndQTAJzhhkrl1i5ToEGSZw\n",
      "ndQTAJzhhkrl1i5ToEGSZwin order base has been finished\n",
      "ndQTAJzhhkrl1i5ToEGSZwin time base has been finished\n",
      "NF0H-HFJOK6R8fkhYkFuzw\n",
      "NF0H-HFJOK6R8fkhYkFuzwin order base has been finished\n",
      "NF0H-HFJOK6R8fkhYkFuzwin time base has been finished\n",
      "NFm869_w6cvVaWaNpAzjeA\n",
      "NFm869_w6cvVaWaNpAzjeAin order base has been finished\n",
      "NFm869_w6cvVaWaNpAzjeAin time base has been finished\n",
      "NgDyxaeItFSInv7J5paGLQ\n",
      "NgDyxaeItFSInv7J5paGLQin order base has been finished\n",
      "NgDyxaeItFSInv7J5paGLQin time base has been finished\n",
      "ngs16C2M_uTq2zXamltHVw\n",
      "ngs16C2M_uTq2zXamltHVwin order base has been finished\n",
      "ngs16C2M_uTq2zXamltHVwin time base has been finished\n",
      "NIOwzgujIXKVBEVNTQBXpg\n",
      "NIOwzgujIXKVBEVNTQBXpgin order base has been finished\n",
      "NIOwzgujIXKVBEVNTQBXpgin time base has been finished\n",
      "NJ0RzuWd5xDqfJejYQZ65g\n",
      "NJ0RzuWd5xDqfJejYQZ65gin order base has been finished\n",
      "NJ0RzuWd5xDqfJejYQZ65gin time base has been finished\n",
      "NLEe-RzDSU-5BN6xp_WWCw\n",
      "NLEe-RzDSU-5BN6xp_WWCwin order base has been finished\n",
      "NLEe-RzDSU-5BN6xp_WWCwin time base has been finished\n",
      "nnDLapJk1z2NJE0-XzwMlQ\n",
      "nnDLapJk1z2NJE0-XzwMlQin order base has been finished\n",
      "nnDLapJk1z2NJE0-XzwMlQin time base has been finished\n",
      "NoF90rswXBHESSyDaWeKKA\n",
      "NoF90rswXBHESSyDaWeKKAin order base has been finished\n",
      "NoF90rswXBHESSyDaWeKKAin time base has been finished\n",
      "Noi53T0PWNEN9mQRS3-Ncg\n",
      "Noi53T0PWNEN9mQRS3-Ncgin order base has been finished\n",
      "Noi53T0PWNEN9mQRS3-Ncgin time base has been finished\n",
      "NQhPS0MUKJgBUB6PTLlmzA\n",
      "NQhPS0MUKJgBUB6PTLlmzAin order base has been finished\n",
      "NQhPS0MUKJgBUB6PTLlmzAin time base has been finished\n",
      "NQXuoB9JTPUItHvouMgWjQ\n",
      "NQXuoB9JTPUItHvouMgWjQin order base has been finished\n",
      "NQXuoB9JTPUItHvouMgWjQin time base has been finished\n",
      "Ns20WGWn6s6niKAGIQB4UQ\n",
      "Ns20WGWn6s6niKAGIQB4UQin order base has been finished\n",
      "Ns20WGWn6s6niKAGIQB4UQin time base has been finished\n",
      "nsNONDHbV7Vudqh21uicqw\n",
      "nsNONDHbV7Vudqh21uicqwin order base has been finished\n",
      "nsNONDHbV7Vudqh21uicqwin time base has been finished\n",
      "nUpz0YiBsOK7ff9k3vUJ3A\n",
      "nUpz0YiBsOK7ff9k3vUJ3Ain order base has been finished\n",
      "nUpz0YiBsOK7ff9k3vUJ3Ain time base has been finished\n",
      "nVAJZ6BJ9PPlxDXn976R6A\n",
      "nVAJZ6BJ9PPlxDXn976R6Ain order base has been finished\n",
      "nVAJZ6BJ9PPlxDXn976R6Ain time base has been finished\n",
      "NvKNe9DnQavC9GstglcBJQ\n",
      "NvKNe9DnQavC9GstglcBJQin order base has been finished\n",
      "NvKNe9DnQavC9GstglcBJQin time base has been finished\n",
      "NxjUiGBNgyDErKXnmQ3s3w\n",
      "NxjUiGBNgyDErKXnmQ3s3win order base has been finished\n",
      "NxjUiGBNgyDErKXnmQ3s3win time base has been finished\n",
      "NXNa5OYmN1CNmXwHhDxpRA\n",
      "NXNa5OYmN1CNmXwHhDxpRAin order base has been finished\n",
      "NXNa5OYmN1CNmXwHhDxpRAin time base has been finished\n",
      "NyLYY8q1-H3hfsTwuwLPCg\n",
      "NyLYY8q1-H3hfsTwuwLPCgin order base has been finished\n",
      "NyLYY8q1-H3hfsTwuwLPCgin time base has been finished\n",
      "N_2yEZ41g9zDW_gWArFiHw\n",
      "N_2yEZ41g9zDW_gWArFiHwin order base has been finished\n",
      "N_2yEZ41g9zDW_gWArFiHwin time base has been finished\n",
      "n_K2xa_nqzUqaUJa0S_5tQ\n",
      "n_K2xa_nqzUqaUJa0S_5tQin order base has been finished\n",
      "n_K2xa_nqzUqaUJa0S_5tQin time base has been finished\n",
      "O-uIEuv7JLUHajkemx_sVw\n",
      "O-uIEuv7JLUHajkemx_sVwin order base has been finished\n",
      "O-uIEuv7JLUHajkemx_sVwin time base has been finished\n",
      "O1TvPrgkK2bUo5O5aSZ7lw\n",
      "O1TvPrgkK2bUo5O5aSZ7lwin order base has been finished\n",
      "O1TvPrgkK2bUo5O5aSZ7lwin time base has been finished\n",
      "o5QDrg_kb4hgsWxV6cV_Uw\n",
      "o5QDrg_kb4hgsWxV6cV_Uwin order base has been finished\n",
      "o5QDrg_kb4hgsWxV6cV_Uwin time base has been finished\n",
      "O7ot_LMlCfLpOP9tBqeNfw\n",
      "O7ot_LMlCfLpOP9tBqeNfwin order base has been finished\n",
      "O7ot_LMlCfLpOP9tBqeNfwin time base has been finished\n",
      "OA5Li3ySzhrbG_WvD_QGYA\n",
      "OA5Li3ySzhrbG_WvD_QGYAin order base has been finished\n",
      "OA5Li3ySzhrbG_WvD_QGYAin time base has been finished\n",
      "oaqbLDW3wNqkynlnp4mvlw\n",
      "oaqbLDW3wNqkynlnp4mvlwin order base has been finished\n",
      "oaqbLDW3wNqkynlnp4mvlwin time base has been finished\n",
      "oDNfrdvMV2Fq0R6vd2XwNw\n",
      "oDNfrdvMV2Fq0R6vd2XwNwin order base has been finished\n",
      "oDNfrdvMV2Fq0R6vd2XwNwin time base has been finished\n",
      "oEkOj9NXJFrjFn3NBB_jpA\n",
      "oEkOj9NXJFrjFn3NBB_jpAin order base has been finished\n",
      "oEkOj9NXJFrjFn3NBB_jpAin time base has been finished\n",
      "OETh78qcgDltvHULowwhJg\n",
      "OETh78qcgDltvHULowwhJgin order base has been finished\n",
      "OETh78qcgDltvHULowwhJgin time base has been finished\n",
      "oeW0vIYd3rUnAPgmD4fEFg\n",
      "oeW0vIYd3rUnAPgmD4fEFgin order base has been finished\n",
      "oeW0vIYd3rUnAPgmD4fEFgin time base has been finished\n",
      "of4V8nfW7GwJ03tLDdrOlA\n",
      "of4V8nfW7GwJ03tLDdrOlAin order base has been finished\n",
      "of4V8nfW7GwJ03tLDdrOlAin time base has been finished\n",
      "OFnDWBP8iXxgeBrfHA5fRA\n",
      "OFnDWBP8iXxgeBrfHA5fRAin order base has been finished\n",
      "OFnDWBP8iXxgeBrfHA5fRAin time base has been finished\n",
      "oGASRzKGpuiP12ilQH_nKg\n",
      "oGASRzKGpuiP12ilQH_nKgin order base has been finished\n",
      "oGASRzKGpuiP12ilQH_nKgin time base has been finished\n",
      "OgJ0KxwJcJ9R5bUK0ixCbg\n",
      "OgJ0KxwJcJ9R5bUK0ixCbgin order base has been finished\n",
      "OgJ0KxwJcJ9R5bUK0ixCbgin time base has been finished\n",
      "ohEnmKpF7i2_ujme1p_vUQ\n",
      "ohEnmKpF7i2_ujme1p_vUQin order base has been finished\n",
      "ohEnmKpF7i2_ujme1p_vUQin time base has been finished\n",
      "OHFH6ALQqq35NiEbD1eXuw\n",
      "OHFH6ALQqq35NiEbD1eXuwin order base has been finished\n",
      "OHFH6ALQqq35NiEbD1eXuwin time base has been finished\n",
      "OjApDLQUPV8c_yPCg8xZog\n",
      "OjApDLQUPV8c_yPCg8xZogin order base has been finished\n",
      "OjApDLQUPV8c_yPCg8xZogin time base has been finished\n",
      "OJdufUU3hVabgviIBHksYw\n",
      "OJdufUU3hVabgviIBHksYwin order base has been finished\n",
      "OJdufUU3hVabgviIBHksYwin time base has been finished\n",
      "ojGCRzEym2W3tSTo69fhxA\n",
      "ojGCRzEym2W3tSTo69fhxAin order base has been finished\n",
      "ojGCRzEym2W3tSTo69fhxAin time base has been finished\n",
      "OK0ba4X5seibH8oMWh4bhw\n",
      "OK0ba4X5seibH8oMWh4bhwin order base has been finished\n",
      "OK0ba4X5seibH8oMWh4bhwin time base has been finished\n",
      "OKZkEXzJt0XIamHRRTX-8g\n",
      "OKZkEXzJt0XIamHRRTX-8gin order base has been finished\n",
      "OKZkEXzJt0XIamHRRTX-8gin time base has been finished\n",
      "olmCDBoMF-EhN8U2livBSg\n",
      "olmCDBoMF-EhN8U2livBSgin order base has been finished\n",
      "olmCDBoMF-EhN8U2livBSgin time base has been finished\n",
      "oo-kGk1BEWpuDvSE4gfmgQ\n",
      "oo-kGk1BEWpuDvSE4gfmgQin order base has been finished\n",
      "oo-kGk1BEWpuDvSE4gfmgQin time base has been finished\n",
      "OoYwJANV9zD-_OA4Atu-gg\n",
      "OoYwJANV9zD-_OA4Atu-ggin order base has been finished\n",
      "OoYwJANV9zD-_OA4Atu-ggin time base has been finished\n",
      "OPSNdO3LNPMt7qz1MNb42g\n",
      "OPSNdO3LNPMt7qz1MNb42gin order base has been finished\n",
      "OPSNdO3LNPMt7qz1MNb42gin time base has been finished\n",
      "OQggqcQglU-lHY3rY-8Lhw\n",
      "OQggqcQglU-lHY3rY-8Lhwin order base has been finished\n",
      "OQggqcQglU-lHY3rY-8Lhwin time base has been finished\n",
      "or4UVDjXEEjze3wNPjoAZA\n",
      "or4UVDjXEEjze3wNPjoAZAin order base has been finished\n",
      "or4UVDjXEEjze3wNPjoAZAin time base has been finished\n",
      "oRbrnRAXGQetQDbkDhJp8w\n",
      "oRbrnRAXGQetQDbkDhJp8win order base has been finished\n",
      "oRbrnRAXGQetQDbkDhJp8win time base has been finished\n",
      "orMyWvonOj55yswWf-k72Q\n",
      "orMyWvonOj55yswWf-k72Qin order base has been finished\n",
      "orMyWvonOj55yswWf-k72Qin time base has been finished\n",
      "Os1n1_idfw9vv9kwULGJnQ\n",
      "Os1n1_idfw9vv9kwULGJnQin order base has been finished\n",
      "Os1n1_idfw9vv9kwULGJnQin time base has been finished\n",
      "osSwv6CJy5hDKQdOKeyTow\n",
      "osSwv6CJy5hDKQdOKeyTowin order base has been finished\n",
      "osSwv6CJy5hDKQdOKeyTowin time base has been finished\n",
      "ostVuyoxxQiP3Qik_L7nPA\n",
      "ostVuyoxxQiP3Qik_L7nPAin order base has been finished\n",
      "ostVuyoxxQiP3Qik_L7nPAin time base has been finished\n",
      "osu1j_Lg8R9brpuMMn3a3A\n",
      "osu1j_Lg8R9brpuMMn3a3Ain order base has been finished\n",
      "osu1j_Lg8R9brpuMMn3a3Ain time base has been finished\n",
      "OTcBXjDkViDPds4Lxy8KIQ\n",
      "OTcBXjDkViDPds4Lxy8KIQin order base has been finished\n",
      "OTcBXjDkViDPds4Lxy8KIQin time base has been finished\n",
      "OtGSQQzV7uF8XPAsNIh7Bw\n",
      "OtGSQQzV7uF8XPAsNIh7Bwin order base has been finished\n",
      "OtGSQQzV7uF8XPAsNIh7Bwin time base has been finished\n",
      "OVTY-NpcTA7iXbMQmusv3A\n",
      "OVTY-NpcTA7iXbMQmusv3Ain order base has been finished\n",
      "OVTY-NpcTA7iXbMQmusv3Ain time base has been finished\n",
      "OVTZNSkSfbl3gVB9XQIJfw\n",
      "OVTZNSkSfbl3gVB9XQIJfwin order base has been finished\n",
      "OVTZNSkSfbl3gVB9XQIJfwin time base has been finished\n",
      "owLXnEhlMLsFpemYoOxNkg\n",
      "owLXnEhlMLsFpemYoOxNkgin order base has been finished\n",
      "owLXnEhlMLsFpemYoOxNkgin time base has been finished\n",
      "oXoVJ0xKv82cBo9U6oEjlQ\n",
      "oXoVJ0xKv82cBo9U6oEjlQin order base has been finished\n",
      "oXoVJ0xKv82cBo9U6oEjlQin time base has been finished\n",
      "OY0-hYJ2q6WiAqhYnCZZ0w\n",
      "OY0-hYJ2q6WiAqhYnCZZ0win order base has been finished\n",
      "OY0-hYJ2q6WiAqhYnCZZ0win time base has been finished\n",
      "O_C-2kZMHGnq3ZDL_OaG6Q\n",
      "O_C-2kZMHGnq3ZDL_OaG6Qin order base has been finished\n",
      "O_C-2kZMHGnq3ZDL_OaG6Qin time base has been finished\n",
      "P2GBKrx7dJg3xeGtuU2K-A\n",
      "P2GBKrx7dJg3xeGtuU2K-Ain order base has been finished\n",
      "P2GBKrx7dJg3xeGtuU2K-Ain time base has been finished\n",
      "p3YqOYELqXtLyHz9T49p_w\n",
      "p3YqOYELqXtLyHz9T49p_win order base has been finished\n",
      "p3YqOYELqXtLyHz9T49p_win time base has been finished\n",
      "p4qvXkb34X8hgidxEZ33Gw\n",
      "p4qvXkb34X8hgidxEZ33Gwin order base has been finished\n",
      "p4qvXkb34X8hgidxEZ33Gwin time base has been finished\n",
      "p5rpYtxS5xPQjt3MXYVEwA\n",
      "p5rpYtxS5xPQjt3MXYVEwAin order base has been finished\n",
      "p5rpYtxS5xPQjt3MXYVEwAin time base has been finished\n",
      "P7pxQFqr7yBKMMI2J51udw\n",
      "P7pxQFqr7yBKMMI2J51udwin order base has been finished\n",
      "P7pxQFqr7yBKMMI2J51udwin time base has been finished\n",
      "P8IsTiHq5Hesa6UPL604ww\n",
      "P8IsTiHq5Hesa6UPL604wwin order base has been finished\n",
      "P8IsTiHq5Hesa6UPL604wwin time base has been finished\n",
      "P8uECqGqXWTwEndkh-6bQw\n",
      "P8uECqGqXWTwEndkh-6bQwin order base has been finished\n",
      "P8uECqGqXWTwEndkh-6bQwin time base has been finished\n",
      "p9v9Sl2g_ibaajWvO0NjkQ\n",
      "p9v9Sl2g_ibaajWvO0NjkQin order base has been finished\n",
      "p9v9Sl2g_ibaajWvO0NjkQin time base has been finished\n",
      "PbyqDJf815zRn-7p6vYpAQ\n",
      "PbyqDJf815zRn-7p6vYpAQin order base has been finished\n",
      "PbyqDJf815zRn-7p6vYpAQin time base has been finished\n",
      "PChG1Dm0A6AXIXkXGVK8Fw\n",
      "PChG1Dm0A6AXIXkXGVK8Fwin order base has been finished\n",
      "PChG1Dm0A6AXIXkXGVK8Fwin time base has been finished\n",
      "PDIh1lVtKlUqPJROXYJQvQ\n",
      "PDIh1lVtKlUqPJROXYJQvQin order base has been finished\n",
      "PDIh1lVtKlUqPJROXYJQvQin time base has been finished\n",
      "PEnlf5CJ8JJonph2jIljCg\n",
      "PEnlf5CJ8JJonph2jIljCgin order base has been finished\n",
      "PEnlf5CJ8JJonph2jIljCgin time base has been finished\n",
      "Pfi812k1E6TMnC1NRzH3Pg\n",
      "Pfi812k1E6TMnC1NRzH3Pgin order base has been finished\n",
      "Pfi812k1E6TMnC1NRzH3Pgin time base has been finished\n",
      "pFQaji0idkrzv5J-qTQ82Q\n",
      "pFQaji0idkrzv5J-qTQ82Qin order base has been finished\n",
      "pFQaji0idkrzv5J-qTQ82Qin time base has been finished\n",
      "PgJgpW4TKQ8IoALH2Yq-zA\n",
      "PgJgpW4TKQ8IoALH2Yq-zAin order base has been finished\n",
      "PgJgpW4TKQ8IoALH2Yq-zAin time base has been finished\n",
      "PglC8rgguMIlT621p1BLdQ\n",
      "PglC8rgguMIlT621p1BLdQin order base has been finished\n",
      "PglC8rgguMIlT621p1BLdQin time base has been finished\n",
      "pH0BLkL4cbxKzu471VZnuA\n",
      "pH0BLkL4cbxKzu471VZnuAin order base has been finished\n",
      "pH0BLkL4cbxKzu471VZnuAin time base has been finished\n",
      "pHJu8tj3sI8eC5aIHLFEfQ\n",
      "pHJu8tj3sI8eC5aIHLFEfQin order base has been finished\n",
      "pHJu8tj3sI8eC5aIHLFEfQin time base has been finished\n",
      "pHpU8lnnxMuPWRHOysuMIQ\n",
      "pHpU8lnnxMuPWRHOysuMIQin order base has been finished\n",
      "pHpU8lnnxMuPWRHOysuMIQin time base has been finished\n",
      "pik4ebdFa0UcUhnNkivFcg\n",
      "pik4ebdFa0UcUhnNkivFcgin order base has been finished\n",
      "pik4ebdFa0UcUhnNkivFcgin time base has been finished\n",
      "PIXl4WvAqjl2w9Lj81zXvQ\n",
      "PIXl4WvAqjl2w9Lj81zXvQin order base has been finished\n",
      "PIXl4WvAqjl2w9Lj81zXvQin time base has been finished\n",
      "pjpUOlJLlkIxBZ5BquA2PA\n",
      "pjpUOlJLlkIxBZ5BquA2PAin order base has been finished\n"
     ]
    },
    {
     "name": "stdout",
     "output_type": "stream",
     "text": [
      "pjpUOlJLlkIxBZ5BquA2PAin time base has been finished\n",
      "pKk7jCFIm96qDdk0laVT2w\n",
      "pKk7jCFIm96qDdk0laVT2win order base has been finished\n",
      "pKk7jCFIm96qDdk0laVT2win time base has been finished\n",
      "PkqN5st3zZ_Xce_5QlBtNQ\n",
      "PkqN5st3zZ_Xce_5QlBtNQin order base has been finished\n",
      "PkqN5st3zZ_Xce_5QlBtNQin time base has been finished\n",
      "pLMPpaJ7whp86uL_3ezwMg\n",
      "pLMPpaJ7whp86uL_3ezwMgin order base has been finished\n",
      "pLMPpaJ7whp86uL_3ezwMgin time base has been finished\n",
      "plWuv4gda7m0KlqCNhrb4w\n",
      "plWuv4gda7m0KlqCNhrb4win order base has been finished\n",
      "plWuv4gda7m0KlqCNhrb4win time base has been finished\n",
      "PNTyiqS7R-0c1ofxOfDijQ\n",
      "PNTyiqS7R-0c1ofxOfDijQin order base has been finished\n",
      "PNTyiqS7R-0c1ofxOfDijQin time base has been finished\n",
      "pomGBqfbxcqPv14c3XH-ZQ\n",
      "pomGBqfbxcqPv14c3XH-ZQin order base has been finished\n",
      "pomGBqfbxcqPv14c3XH-ZQin time base has been finished\n",
      "poYsvuOmVDqF4dTnjJ780A\n",
      "poYsvuOmVDqF4dTnjJ780Ain order base has been finished\n",
      "poYsvuOmVDqF4dTnjJ780Ain time base has been finished\n",
      "PQER4ba8Q0zqB1G2QiXamQ\n",
      "PQER4ba8Q0zqB1G2QiXamQin order base has been finished\n",
      "PQER4ba8Q0zqB1G2QiXamQin time base has been finished\n",
      "PRbIMseOwPCCRv5C4SfTDQ\n",
      "PRbIMseOwPCCRv5C4SfTDQin order base has been finished\n",
      "PRbIMseOwPCCRv5C4SfTDQin time base has been finished\n",
      "pSQFynH1VxkfSmehRXlZWw\n",
      "pSQFynH1VxkfSmehRXlZWwin order base has been finished\n",
      "pSQFynH1VxkfSmehRXlZWwin time base has been finished\n",
      "Pthe4qk5xh4n-ef-9bvMSg\n",
      "Pthe4qk5xh4n-ef-9bvMSgin order base has been finished\n",
      "Pthe4qk5xh4n-ef-9bvMSgin time base has been finished\n",
      "PtwW1Hwme8Y0wy54zNr8Xw\n",
      "PtwW1Hwme8Y0wy54zNr8Xwin order base has been finished\n",
      "PtwW1Hwme8Y0wy54zNr8Xwin time base has been finished\n",
      "PVTfzxu7of57zo1jZwEzkg\n",
      "PVTfzxu7of57zo1jZwEzkgin order base has been finished\n",
      "PVTfzxu7of57zo1jZwEzkgin time base has been finished\n",
      "PXShA3JZMXr2mEH3on5clw\n",
      "PXShA3JZMXr2mEH3on5clwin order base has been finished\n",
      "PXShA3JZMXr2mEH3on5clwin time base has been finished\n",
      "pyqnGlIfP9Zw8LLxBjyAiA\n",
      "pyqnGlIfP9Zw8LLxBjyAiAin order base has been finished\n",
      "pyqnGlIfP9Zw8LLxBjyAiAin time base has been finished\n",
      "PyrcymoNDAJDm_Zn9yl-7A\n",
      "PyrcymoNDAJDm_Zn9yl-7Ain order base has been finished\n",
      "PyrcymoNDAJDm_Zn9yl-7Ain time base has been finished\n",
      "q-zZgXKAQFLEgMp9ZNllgQ\n",
      "q-zZgXKAQFLEgMp9ZNllgQin order base has been finished\n",
      "q-zZgXKAQFLEgMp9ZNllgQin time base has been finished\n",
      "q18xbq3Cbyp_BJyfMQxFxg\n",
      "q18xbq3Cbyp_BJyfMQxFxgin order base has been finished\n",
      "q18xbq3Cbyp_BJyfMQxFxgin time base has been finished\n",
      "q3dJQtwZQrrurNT-1bNKgQ\n",
      "q3dJQtwZQrrurNT-1bNKgQin order base has been finished\n",
      "q3dJQtwZQrrurNT-1bNKgQin time base has been finished\n",
      "q3oJ6bNRV3OoJrwc95GOwg\n",
      "q3oJ6bNRV3OoJrwc95GOwgin order base has been finished\n",
      "q3oJ6bNRV3OoJrwc95GOwgin time base has been finished\n",
      "q3YnYPjLuBGRDi_59yTC5g\n",
      "q3YnYPjLuBGRDi_59yTC5gin order base has been finished\n",
      "q3YnYPjLuBGRDi_59yTC5gin time base has been finished\n",
      "Q5olb1x6FGk2oLAlc9p5Lg\n",
      "Q5olb1x6FGk2oLAlc9p5Lgin order base has been finished\n",
      "Q5olb1x6FGk2oLAlc9p5Lgin time base has been finished\n",
      "Q7m8G4579-XYKV3LMW8V7g\n",
      "Q7m8G4579-XYKV3LMW8V7gin order base has been finished\n",
      "Q7m8G4579-XYKV3LMW8V7gin time base has been finished\n",
      "Q9is4jcGh5FT_1sAKilu6g\n",
      "Q9is4jcGh5FT_1sAKilu6gin order base has been finished\n",
      "Q9is4jcGh5FT_1sAKilu6gin time base has been finished\n",
      "Qc0l8rZ3nvrcERitgxu8XA\n",
      "Qc0l8rZ3nvrcERitgxu8XAin order base has been finished\n",
      "Qc0l8rZ3nvrcERitgxu8XAin time base has been finished\n",
      "QDeB3ZtWYzVJJ0KK-HM-PA\n",
      "QDeB3ZtWYzVJJ0KK-HM-PAin order base has been finished\n",
      "QDeB3ZtWYzVJJ0KK-HM-PAin time base has been finished\n",
      "qdHFUvFhZjvNie3cZiJb9w\n",
      "qdHFUvFhZjvNie3cZiJb9win order base has been finished\n",
      "qdHFUvFhZjvNie3cZiJb9win time base has been finished\n",
      "qFAw6wHMMcr4ctF-ZdGhEA\n",
      "qFAw6wHMMcr4ctF-ZdGhEAin order base has been finished\n",
      "qFAw6wHMMcr4ctF-ZdGhEAin time base has been finished\n",
      "qgAZPDQStZP_Y5XTiQ6UqA\n",
      "qgAZPDQStZP_Y5XTiQ6UqAin order base has been finished\n",
      "qgAZPDQStZP_Y5XTiQ6UqAin time base has been finished\n",
      "QGTqGNLZbBA1QD8L_fO9ZA\n",
      "QGTqGNLZbBA1QD8L_fO9ZAin order base has been finished\n",
      "QGTqGNLZbBA1QD8L_fO9ZAin time base has been finished\n",
      "Qihead6oTtWCwde3TBqlGg\n",
      "Qihead6oTtWCwde3TBqlGgin order base has been finished\n",
      "Qihead6oTtWCwde3TBqlGgin time base has been finished\n",
      "QJatAcxYgK1Zp9BRZMAx7g\n",
      "QJatAcxYgK1Zp9BRZMAx7gin order base has been finished\n",
      "QJatAcxYgK1Zp9BRZMAx7gin time base has been finished\n",
      "QJR4qBUHegWEozSQrGmBPw\n",
      "QJR4qBUHegWEozSQrGmBPwin order base has been finished\n",
      "QJR4qBUHegWEozSQrGmBPwin time base has been finished\n",
      "qKS7YV76te6olKnA_aMPTg\n",
      "qKS7YV76te6olKnA_aMPTgin order base has been finished\n",
      "qKS7YV76te6olKnA_aMPTgin time base has been finished\n",
      "qkyCuFJF2Uboh6n2Lmuwlg\n",
      "qkyCuFJF2Uboh6n2Lmuwlgin order base has been finished\n",
      "qkyCuFJF2Uboh6n2Lmuwlgin time base has been finished\n",
      "QlJztL2aGEXgejgi5JM9Xg\n",
      "QlJztL2aGEXgejgi5JM9Xgin order base has been finished\n",
      "QlJztL2aGEXgejgi5JM9Xgin time base has been finished\n",
      "qmIHO-6T_KEfPC9jyGDamQ\n",
      "qmIHO-6T_KEfPC9jyGDamQin order base has been finished\n",
      "qmIHO-6T_KEfPC9jyGDamQin time base has been finished\n",
      "QMKgn9p_hRUlumBDAAfWlA\n",
      "QMKgn9p_hRUlumBDAAfWlAin order base has been finished\n",
      "QMKgn9p_hRUlumBDAAfWlAin time base has been finished\n",
      "qmymSqVwHYRqdwfcBatzpQ\n",
      "qmymSqVwHYRqdwfcBatzpQin order base has been finished\n",
      "qmymSqVwHYRqdwfcBatzpQin time base has been finished\n",
      "qnn9E-e9orYf_wK37yLTYw\n",
      "qnn9E-e9orYf_wK37yLTYwin order base has been finished\n",
      "qnn9E-e9orYf_wK37yLTYwin time base has been finished\n",
      "qNYLt8zizn--wEpT1KILfw\n",
      "qNYLt8zizn--wEpT1KILfwin order base has been finished\n",
      "qNYLt8zizn--wEpT1KILfwin time base has been finished\n",
      "qQCsLGMncJp1xWUGnOKCQA\n",
      "qQCsLGMncJp1xWUGnOKCQAin order base has been finished\n",
      "qQCsLGMncJp1xWUGnOKCQAin time base has been finished\n",
      "qqs7LP4TXAoOrSlaKRfz3A\n",
      "qqs7LP4TXAoOrSlaKRfz3Ain order base has been finished\n",
      "qqs7LP4TXAoOrSlaKRfz3Ain time base has been finished\n",
      "qRymrsLmlA34bC8PvNoujg\n",
      "qRymrsLmlA34bC8PvNoujgin order base has been finished\n",
      "qRymrsLmlA34bC8PvNoujgin time base has been finished\n",
      "QsJ6orXv_VB7xz-MpqHzSQ\n",
      "QsJ6orXv_VB7xz-MpqHzSQin order base has been finished\n",
      "QsJ6orXv_VB7xz-MpqHzSQin time base has been finished\n",
      "qsJkjQoM3Hdg6Gtqp2S9_w\n",
      "qsJkjQoM3Hdg6Gtqp2S9_win order base has been finished\n",
      "qsJkjQoM3Hdg6Gtqp2S9_win time base has been finished\n",
      "qSP6RqBJUyJRsQKTarlo6g\n",
      "qSP6RqBJUyJRsQKTarlo6gin order base has been finished\n",
      "qSP6RqBJUyJRsQKTarlo6gin time base has been finished\n",
      "QuybD_bJcAB2CHcpTfREYg\n",
      "QuybD_bJcAB2CHcpTfREYgin order base has been finished\n",
      "QuybD_bJcAB2CHcpTfREYgin time base has been finished\n",
      "QvxBnMcBPP1z_NAIYCqqdA\n",
      "QvxBnMcBPP1z_NAIYCqqdAin order base has been finished\n",
      "QvxBnMcBPP1z_NAIYCqqdAin time base has been finished\n",
      "qx6WhZ42eDKmBchZDax4dQ\n",
      "qx6WhZ42eDKmBchZDax4dQin order base has been finished\n",
      "qx6WhZ42eDKmBchZDax4dQin time base has been finished\n",
      "QXV3L_QFGj8r6nWX2kS2hA\n",
      "QXV3L_QFGj8r6nWX2kS2hAin order base has been finished\n",
      "QXV3L_QFGj8r6nWX2kS2hAin time base has been finished\n",
      "R3TC2oq8fQK9c9BNMZ-ynA\n",
      "R3TC2oq8fQK9c9BNMZ-ynAin order base has been finished\n",
      "R3TC2oq8fQK9c9BNMZ-ynAin time base has been finished\n",
      "r5PLDU-4mSbde5XekTXSCA\n",
      "r5PLDU-4mSbde5XekTXSCAin order base has been finished\n",
      "r5PLDU-4mSbde5XekTXSCAin time base has been finished\n",
      "R6jpwPBe9edy0P64uyaLKA\n",
      "R6jpwPBe9edy0P64uyaLKAin order base has been finished\n",
      "R6jpwPBe9edy0P64uyaLKAin time base has been finished\n",
      "RAh9WCQAuocM7hYM5_6tnw\n",
      "RAh9WCQAuocM7hYM5_6tnwin order base has been finished\n",
      "RAh9WCQAuocM7hYM5_6tnwin time base has been finished\n",
      "rbcfYmJtqwIkk17IeOI5Kw\n",
      "rbcfYmJtqwIkk17IeOI5Kwin order base has been finished\n",
      "rbcfYmJtqwIkk17IeOI5Kwin time base has been finished\n",
      "rcaPajgKOJC2vo_l3xa42A\n",
      "rcaPajgKOJC2vo_l3xa42Ain order base has been finished\n",
      "rcaPajgKOJC2vo_l3xa42Ain time base has been finished\n",
      "Rd11Bosr8JkfoUhZLzpuxg\n",
      "Rd11Bosr8JkfoUhZLzpuxgin order base has been finished\n",
      "Rd11Bosr8JkfoUhZLzpuxgin time base has been finished\n",
      "rdE9gg0WB7Z8kRytIMSapg\n",
      "rdE9gg0WB7Z8kRytIMSapgin order base has been finished\n",
      "rdE9gg0WB7Z8kRytIMSapgin time base has been finished\n",
      "RESDUcs7fIiihp38-d6_6g\n",
      "RESDUcs7fIiihp38-d6_6gin order base has been finished\n",
      "RESDUcs7fIiihp38-d6_6gin time base has been finished\n",
      "rF183_3e0ybElRKdNSwJqQ\n",
      "rF183_3e0ybElRKdNSwJqQin order base has been finished\n",
      "rF183_3e0ybElRKdNSwJqQin time base has been finished\n",
      "Rg43a31sV7gNLZMjy-ZdCg\n",
      "Rg43a31sV7gNLZMjy-ZdCgin order base has been finished\n",
      "Rg43a31sV7gNLZMjy-ZdCgin time base has been finished\n",
      "RhEvP5flF6KoPriMHmVYGg\n",
      "RhEvP5flF6KoPriMHmVYGgin order base has been finished\n",
      "RhEvP5flF6KoPriMHmVYGgin time base has been finished\n",
      "riFzCvp77DMKDX-5GoTpqA\n",
      "riFzCvp77DMKDX-5GoTpqAin order base has been finished\n",
      "riFzCvp77DMKDX-5GoTpqAin time base has been finished\n",
      "riM-pBsdqRRVXtAVbLfsxQ\n",
      "riM-pBsdqRRVXtAVbLfsxQin order base has been finished\n",
      "riM-pBsdqRRVXtAVbLfsxQin time base has been finished\n",
      "rioQ_p2pILNbJ4Xp5jW6-Q\n",
      "rioQ_p2pILNbJ4Xp5jW6-Qin order base has been finished\n",
      "rioQ_p2pILNbJ4Xp5jW6-Qin time base has been finished\n",
      "RixnVQV24bc3p92mSntaVA\n",
      "RixnVQV24bc3p92mSntaVAin order base has been finished\n",
      "RixnVQV24bc3p92mSntaVAin time base has been finished\n",
      "Rj-7ymdw8aNZBRqGRAjR3Q\n",
      "Rj-7ymdw8aNZBRqGRAjR3Qin order base has been finished\n",
      "Rj-7ymdw8aNZBRqGRAjR3Qin time base has been finished\n",
      "RJNAeNA-209sctUO0dmwuA\n",
      "RJNAeNA-209sctUO0dmwuAin order base has been finished\n",
      "RJNAeNA-209sctUO0dmwuAin time base has been finished\n",
      "RNi6tW22UMgHwWLAb0mYdA\n",
      "RNi6tW22UMgHwWLAb0mYdAin order base has been finished\n",
      "RNi6tW22UMgHwWLAb0mYdAin time base has been finished\n",
      "roR1_DDlMk7mhi5_R6XVKA\n",
      "roR1_DDlMk7mhi5_R6XVKAin order base has been finished\n",
      "roR1_DDlMk7mhi5_R6XVKAin time base has been finished\n",
      "rq5dgoksPHkJwJNQKlGQ7w\n",
      "rq5dgoksPHkJwJNQKlGQ7win order base has been finished\n",
      "rq5dgoksPHkJwJNQKlGQ7win time base has been finished\n",
      "RQTatUj2f9Nz9JViTH4aAQ\n",
      "RQTatUj2f9Nz9JViTH4aAQin order base has been finished\n",
      "RQTatUj2f9Nz9JViTH4aAQin time base has been finished\n",
      "RRw9I8pHt5PzgYGT2QeODw\n",
      "RRw9I8pHt5PzgYGT2QeODwin order base has been finished\n",
      "RRw9I8pHt5PzgYGT2QeODwin time base has been finished\n",
      "rtlsfmdufArhk-47sWIf2w\n",
      "rtlsfmdufArhk-47sWIf2win order base has been finished\n",
      "rtlsfmdufArhk-47sWIf2win time base has been finished\n",
      "RtnTbhWYw4QjKhoTBV37OA\n",
      "RtnTbhWYw4QjKhoTBV37OAin order base has been finished\n",
      "RtnTbhWYw4QjKhoTBV37OAin time base has been finished\n",
      "rTS8LsUmNIiXsXydE49tPA\n",
      "rTS8LsUmNIiXsXydE49tPAin order base has been finished\n",
      "rTS8LsUmNIiXsXydE49tPAin time base has been finished\n",
      "RtUvSWO_UZ8V3Wpj0n077w\n",
      "RtUvSWO_UZ8V3Wpj0n077win order base has been finished\n",
      "RtUvSWO_UZ8V3Wpj0n077win time base has been finished\n",
      "rTZVcJZ8G80i6NjLw0SW8Q\n",
      "rTZVcJZ8G80i6NjLw0SW8Qin order base has been finished\n",
      "rTZVcJZ8G80i6NjLw0SW8Qin time base has been finished\n",
      "ruWTngdiC68O9la27hvvHw\n",
      "ruWTngdiC68O9la27hvvHwin order base has been finished\n",
      "ruWTngdiC68O9la27hvvHwin time base has been finished\n",
      "rvnTFEq7R2ZHg0_CYbBNFw\n",
      "rvnTFEq7R2ZHg0_CYbBNFwin order base has been finished\n",
      "rvnTFEq7R2ZHg0_CYbBNFwin time base has been finished\n",
      "RVQE2Z2uky4c0-njFQO66g\n",
      "RVQE2Z2uky4c0-njFQO66gin order base has been finished\n",
      "RVQE2Z2uky4c0-njFQO66gin time base has been finished\n",
      "RwlumSqNBunw1a1LXccN8A\n",
      "RwlumSqNBunw1a1LXccN8Ain order base has been finished\n",
      "RwlumSqNBunw1a1LXccN8Ain time base has been finished\n",
      "RwMLuOkImBIqqYj4SSKSPg\n",
      "RwMLuOkImBIqqYj4SSKSPgin order base has been finished\n",
      "RwMLuOkImBIqqYj4SSKSPgin time base has been finished\n",
      "RwRNR4z3kY-4OsFqigY5sw\n",
      "RwRNR4z3kY-4OsFqigY5swin order base has been finished\n",
      "RwRNR4z3kY-4OsFqigY5swin time base has been finished\n",
      "r_BrIgzYcwo1NAuG9dLbpg\n",
      "r_BrIgzYcwo1NAuG9dLbpgin order base has been finished\n",
      "r_BrIgzYcwo1NAuG9dLbpgin time base has been finished\n",
      "R_ZlcX46pPdjhjmfd043LA\n",
      "R_ZlcX46pPdjhjmfd043LAin order base has been finished\n",
      "R_ZlcX46pPdjhjmfd043LAin time base has been finished\n",
      "S-egzF2c7bRpCUNbZqV8dg\n",
      "S-egzF2c7bRpCUNbZqV8dgin order base has been finished\n",
      "S-egzF2c7bRpCUNbZqV8dgin time base has been finished\n",
      "S-oLPRdhlyL5HAknBKTUcQ\n",
      "S-oLPRdhlyL5HAknBKTUcQin order base has been finished\n",
      "S-oLPRdhlyL5HAknBKTUcQin time base has been finished\n",
      "s0vNtuLs1cwEqHTXKiS05w\n",
      "s0vNtuLs1cwEqHTXKiS05win order base has been finished\n",
      "s0vNtuLs1cwEqHTXKiS05win time base has been finished\n",
      "s2I_Ni76bjJNK9yG60iD-Q\n",
      "s2I_Ni76bjJNK9yG60iD-Qin order base has been finished\n",
      "s2I_Ni76bjJNK9yG60iD-Qin time base has been finished\n",
      "S37sKRRfkhFZRpxaYzWo_A\n",
      "S37sKRRfkhFZRpxaYzWo_Ain order base has been finished\n",
      "S37sKRRfkhFZRpxaYzWo_Ain time base has been finished\n",
      "S6TMBqrsi4PLRFoQFPScjQ\n",
      "S6TMBqrsi4PLRFoQFPScjQin order base has been finished\n",
      "S6TMBqrsi4PLRFoQFPScjQin time base has been finished\n",
      "SAIrNOB4PtDA4gziNCucwg\n",
      "SAIrNOB4PtDA4gziNCucwgin order base has been finished\n",
      "SAIrNOB4PtDA4gziNCucwgin time base has been finished\n",
      "sc__kdcFV4IcNTfBx1707w\n",
      "sc__kdcFV4IcNTfBx1707win order base has been finished\n",
      "sc__kdcFV4IcNTfBx1707win time base has been finished\n",
      "sdYkVaTy7EJwUkO8Ie_qPg\n",
      "sdYkVaTy7EJwUkO8Ie_qPgin order base has been finished\n",
      "sdYkVaTy7EJwUkO8Ie_qPgin time base has been finished\n",
      "SEMvJDVnDB4NoPW6tXXO_Q\n",
      "SEMvJDVnDB4NoPW6tXXO_Qin order base has been finished\n",
      "SEMvJDVnDB4NoPW6tXXO_Qin time base has been finished\n",
      "SeNOJ2zYHziptxLuiRINLg\n",
      "SeNOJ2zYHziptxLuiRINLgin order base has been finished\n",
      "SeNOJ2zYHziptxLuiRINLgin time base has been finished\n",
      "SHFlELFcEcAOJv_fTAKChQ\n",
      "SHFlELFcEcAOJv_fTAKChQin order base has been finished\n",
      "SHFlELFcEcAOJv_fTAKChQin time base has been finished\n",
      "SjgeuBlgKER9yegpoxT99w\n",
      "SjgeuBlgKER9yegpoxT99win order base has been finished\n",
      "SjgeuBlgKER9yegpoxT99win time base has been finished\n",
      "sJNcipFYElitBrtiJx0ezQ\n",
      "sJNcipFYElitBrtiJx0ezQin order base has been finished\n",
      "sJNcipFYElitBrtiJx0ezQin time base has been finished\n",
      "SJo_IjvzdRtCvZVN0cbrRQ\n",
      "SJo_IjvzdRtCvZVN0cbrRQin order base has been finished\n",
      "SJo_IjvzdRtCvZVN0cbrRQin time base has been finished\n",
      "sKA6EOpxvBtCg7Ipuhl1RQ\n",
      "sKA6EOpxvBtCg7Ipuhl1RQin order base has been finished\n",
      "sKA6EOpxvBtCg7Ipuhl1RQin time base has been finished\n",
      "sKrlmbrZWCyLIgiMihCPqw\n",
      "sKrlmbrZWCyLIgiMihCPqwin order base has been finished\n",
      "sKrlmbrZWCyLIgiMihCPqwin time base has been finished\n",
      "SmkYLXEYhzwUZdS6TAevHg\n",
      "SmkYLXEYhzwUZdS6TAevHgin order base has been finished\n",
      "SmkYLXEYhzwUZdS6TAevHgin time base has been finished\n",
      "sMzNLdhJZGzYirIWt-fMAg\n",
      "sMzNLdhJZGzYirIWt-fMAgin order base has been finished\n",
      "sMzNLdhJZGzYirIWt-fMAgin time base has been finished\n",
      "sNVGdeOPeitJ3OWUQBINzQ\n",
      "sNVGdeOPeitJ3OWUQBINzQin order base has been finished\n",
      "sNVGdeOPeitJ3OWUQBINzQin time base has been finished\n",
      "snw9iNNLpFYZeHotW00uVA\n",
      "snw9iNNLpFYZeHotW00uVAin order base has been finished\n",
      "snw9iNNLpFYZeHotW00uVAin time base has been finished\n",
      "So132GP_uy3XbGs0KNyzyw\n",
      "So132GP_uy3XbGs0KNyzywin order base has been finished\n",
      "So132GP_uy3XbGs0KNyzywin time base has been finished\n",
      "Sovgwq-E-n6wLqNh3X_rXg\n",
      "Sovgwq-E-n6wLqNh3X_rXgin order base has been finished\n",
      "Sovgwq-E-n6wLqNh3X_rXgin time base has been finished\n",
      "sOYsxYYFl03PhHmz_rBDZQ\n",
      "sOYsxYYFl03PhHmz_rBDZQin order base has been finished\n",
      "sOYsxYYFl03PhHmz_rBDZQin time base has been finished\n",
      "sqRX-XLlhx4rs2c1TpBf8A\n",
      "sqRX-XLlhx4rs2c1TpBf8Ain order base has been finished\n",
      "sqRX-XLlhx4rs2c1TpBf8Ain time base has been finished\n",
      "SR0Q2hAEMJ_m23O_x-khSQ\n",
      "SR0Q2hAEMJ_m23O_x-khSQin order base has been finished\n",
      "SR0Q2hAEMJ_m23O_x-khSQin time base has been finished\n",
      "SSCH4Z2gw-hh2KZy7aH4qw\n",
      "SSCH4Z2gw-hh2KZy7aH4qwin order base has been finished\n",
      "SSCH4Z2gw-hh2KZy7aH4qwin time base has been finished\n",
      "SsN-SaGGkJn2Qm-jSDQ4aQ\n",
      "SsN-SaGGkJn2Qm-jSDQ4aQin order base has been finished\n",
      "SsN-SaGGkJn2Qm-jSDQ4aQin time base has been finished\n",
      "STtrEGylaYOXoXQFLP5OAQ\n",
      "STtrEGylaYOXoXQFLP5OAQin order base has been finished\n",
      "STtrEGylaYOXoXQFLP5OAQin time base has been finished\n",
      "SurnOSM2bVVN4-Js3G23RQ\n",
      "SurnOSM2bVVN4-Js3G23RQin order base has been finished\n",
      "SurnOSM2bVVN4-Js3G23RQin time base has been finished\n",
      "svdEhLmNmpVaIv1WLtoOvQ\n",
      "svdEhLmNmpVaIv1WLtoOvQin order base has been finished\n",
      "svdEhLmNmpVaIv1WLtoOvQin time base has been finished\n",
      "SVGApDPNdpFlEjwRQThCxA\n",
      "SVGApDPNdpFlEjwRQThCxAin order base has been finished\n",
      "SVGApDPNdpFlEjwRQThCxAin time base has been finished\n",
      "SwAZBCyFtVo_8vkRbJhdkA\n",
      "SwAZBCyFtVo_8vkRbJhdkAin order base has been finished\n",
      "SwAZBCyFtVo_8vkRbJhdkAin time base has been finished\n",
      "SWhHaWFuijy_KDs0zVCJog\n",
      "SWhHaWFuijy_KDs0zVCJogin order base has been finished\n",
      "SWhHaWFuijy_KDs0zVCJogin time base has been finished\n",
      "sxNMGQwUuaDsviR4BtuX0g\n",
      "sxNMGQwUuaDsviR4BtuX0gin order base has been finished\n",
      "sxNMGQwUuaDsviR4BtuX0gin time base has been finished\n",
      "Sy75QB18Sv-xNp8FoA8KvQ\n",
      "Sy75QB18Sv-xNp8FoA8KvQin order base has been finished\n",
      "Sy75QB18Sv-xNp8FoA8KvQin time base has been finished\n",
      "sYfHxCqHpIX2HnDhw0JRAA\n",
      "sYfHxCqHpIX2HnDhw0JRAAin order base has been finished\n",
      "sYfHxCqHpIX2HnDhw0JRAAin time base has been finished\n",
      "SzcCJJmreMlWCsNjupdVAA\n",
      "SzcCJJmreMlWCsNjupdVAAin order base has been finished\n",
      "SzcCJJmreMlWCsNjupdVAAin time base has been finished\n",
      "SZEFE5hL7aN5nM-A44iPwQ\n",
      "SZEFE5hL7aN5nM-A44iPwQin order base has been finished\n"
     ]
    },
    {
     "name": "stdout",
     "output_type": "stream",
     "text": [
      "SZEFE5hL7aN5nM-A44iPwQin time base has been finished\n",
      "T-KniGykrZ46ZC9plOTspw\n",
      "T-KniGykrZ46ZC9plOTspwin order base has been finished\n",
      "T-KniGykrZ46ZC9plOTspwin time base has been finished\n",
      "T0Uw6vwwfO3el29wBoDamQ\n",
      "T0Uw6vwwfO3el29wBoDamQin order base has been finished\n",
      "T0Uw6vwwfO3el29wBoDamQin time base has been finished\n",
      "T2tEMLpTeSMxLKpxwFdS3g\n",
      "T2tEMLpTeSMxLKpxwFdS3gin order base has been finished\n",
      "T2tEMLpTeSMxLKpxwFdS3gin time base has been finished\n",
      "t33qVzQ6AdSiq4lnI0KOyg\n",
      "t33qVzQ6AdSiq4lnI0KOygin order base has been finished\n",
      "t33qVzQ6AdSiq4lnI0KOygin time base has been finished\n",
      "t53w4JlkxTau-G-TzhSWog\n",
      "t53w4JlkxTau-G-TzhSWogin order base has been finished\n",
      "t53w4JlkxTau-G-TzhSWogin time base has been finished\n",
      "tcfL9_Qe-12eX4rdmK_6XA\n",
      "tcfL9_Qe-12eX4rdmK_6XAin order base has been finished\n",
      "tcfL9_Qe-12eX4rdmK_6XAin time base has been finished\n",
      "TCoBE_BkDRrK0bWrh5VueQ\n",
      "TCoBE_BkDRrK0bWrh5VueQin order base has been finished\n",
      "TCoBE_BkDRrK0bWrh5VueQin time base has been finished\n",
      "TCWMgOiV0PxQkWE1SyBIWQ\n",
      "TCWMgOiV0PxQkWE1SyBIWQin order base has been finished\n",
      "TCWMgOiV0PxQkWE1SyBIWQin time base has been finished\n",
      "TfabYPasZ1oOMN6JLa-yvw\n",
      "TfabYPasZ1oOMN6JLa-yvwin order base has been finished\n",
      "TfabYPasZ1oOMN6JLa-yvwin time base has been finished\n",
      "thBWpIcP6vclsHS6GfI1dw\n",
      "thBWpIcP6vclsHS6GfI1dwin order base has been finished\n",
      "thBWpIcP6vclsHS6GfI1dwin time base has been finished\n",
      "thLX_k20SPJ0KyusGTBIHw\n",
      "thLX_k20SPJ0KyusGTBIHwin order base has been finished\n",
      "thLX_k20SPJ0KyusGTBIHwin time base has been finished\n",
      "Tk7qCou7aYv_Z-K3a7NhhA\n",
      "Tk7qCou7aYv_Z-K3a7NhhAin order base has been finished\n",
      "Tk7qCou7aYv_Z-K3a7NhhAin time base has been finished\n",
      "TkEMlu88OZn9TKZyeY9CJg\n",
      "TkEMlu88OZn9TKZyeY9CJgin order base has been finished\n",
      "TkEMlu88OZn9TKZyeY9CJgin time base has been finished\n",
      "tMdgY7Ou4k3bYZZulJCiuQ\n",
      "tMdgY7Ou4k3bYZZulJCiuQin order base has been finished\n",
      "tMdgY7Ou4k3bYZZulJCiuQin time base has been finished\n",
      "TmIucPRTngutrjDpC0nXgQ\n",
      "TmIucPRTngutrjDpC0nXgQin order base has been finished\n",
      "TmIucPRTngutrjDpC0nXgQin time base has been finished\n",
      "tOhRQqiupLyJdBJVQMGOEQ\n",
      "tOhRQqiupLyJdBJVQMGOEQin order base has been finished\n",
      "tOhRQqiupLyJdBJVQMGOEQin time base has been finished\n",
      "tQifTiY-vutj8orxcMJKfQ\n",
      "tQifTiY-vutj8orxcMJKfQin order base has been finished\n",
      "tQifTiY-vutj8orxcMJKfQin time base has been finished\n",
      "Trbt0Ex85yvwT8DHoEFCvg\n",
      "Trbt0Ex85yvwT8DHoEFCvgin order base has been finished\n",
      "Trbt0Ex85yvwT8DHoEFCvgin time base has been finished\n",
      "trKyIRyjKqVSZmcU0AnICQ\n",
      "trKyIRyjKqVSZmcU0AnICQin order base has been finished\n",
      "trKyIRyjKqVSZmcU0AnICQin time base has been finished\n",
      "tsf1JNdeeQf_654YUSrzRw\n",
      "tsf1JNdeeQf_654YUSrzRwin order base has been finished\n",
      "tsf1JNdeeQf_654YUSrzRwin time base has been finished\n",
      "tV5PcOIFlB12dpcbCy78VA\n",
      "tV5PcOIFlB12dpcbCy78VAin order base has been finished\n",
      "tV5PcOIFlB12dpcbCy78VAin time base has been finished\n",
      "TVbVii4EUQt9DG7y698zIw\n",
      "TVbVii4EUQt9DG7y698zIwin order base has been finished\n",
      "TVbVii4EUQt9DG7y698zIwin time base has been finished\n",
      "Tw3miGKZHtmxmaQZIYFRrA\n",
      "Tw3miGKZHtmxmaQZIYFRrAin order base has been finished\n",
      "Tw3miGKZHtmxmaQZIYFRrAin time base has been finished\n",
      "Twcjx4ofM9GWwXN6LVGSzw\n",
      "Twcjx4ofM9GWwXN6LVGSzwin order base has been finished\n",
      "Twcjx4ofM9GWwXN6LVGSzwin time base has been finished\n",
      "tWiFat101ID5w_wgAPMXhA\n",
      "tWiFat101ID5w_wgAPMXhAin order base has been finished\n",
      "tWiFat101ID5w_wgAPMXhAin time base has been finished\n",
      "u-67zd1ImTv3EEr5kIdWrA\n",
      "u-67zd1ImTv3EEr5kIdWrAin order base has been finished\n",
      "u-67zd1ImTv3EEr5kIdWrAin time base has been finished\n",
      "u-SJ5QUwrNquL9VnXwl8cg\n",
      "u-SJ5QUwrNquL9VnXwl8cgin order base has been finished\n",
      "u-SJ5QUwrNquL9VnXwl8cgin time base has been finished\n",
      "U-zsJM-VN89i3PbaIbKmJw\n",
      "U-zsJM-VN89i3PbaIbKmJwin order base has been finished\n",
      "U-zsJM-VN89i3PbaIbKmJwin time base has been finished\n",
      "u4sTiCzVeIHZY8OlaL346Q\n",
      "u4sTiCzVeIHZY8OlaL346Qin order base has been finished\n",
      "u4sTiCzVeIHZY8OlaL346Qin time base has been finished\n",
      "u6biYZCSOwyQ-WmXqQbbQA\n",
      "u6biYZCSOwyQ-WmXqQbbQAin order base has been finished\n",
      "u6biYZCSOwyQ-WmXqQbbQAin time base has been finished\n",
      "U6P56MjLrraN0JBNvOjxaA\n",
      "U6P56MjLrraN0JBNvOjxaAin order base has been finished\n",
      "U6P56MjLrraN0JBNvOjxaAin time base has been finished\n",
      "u6xb2aUAvX6i1WhsQWqgWg\n",
      "u6xb2aUAvX6i1WhsQWqgWgin order base has been finished\n",
      "u6xb2aUAvX6i1WhsQWqgWgin time base has been finished\n",
      "u73j2VQ3TGWdMO-AG7MABw\n",
      "u73j2VQ3TGWdMO-AG7MABwin order base has been finished\n",
      "u73j2VQ3TGWdMO-AG7MABwin time base has been finished\n",
      "U9aA5H13y7t9xWnoQslV0Q\n",
      "U9aA5H13y7t9xWnoQslV0Qin order base has been finished\n",
      "U9aA5H13y7t9xWnoQslV0Qin time base has been finished\n",
      "uAAWlLdsoUf872F1FKiX1A\n",
      "uAAWlLdsoUf872F1FKiX1Ain order base has been finished\n",
      "uAAWlLdsoUf872F1FKiX1Ain time base has been finished\n",
      "uanCi4OGc1mHLGl_AT4JhQ\n",
      "uanCi4OGc1mHLGl_AT4JhQin order base has been finished\n",
      "uanCi4OGc1mHLGl_AT4JhQin time base has been finished\n",
      "uBdYMY6a6A7FyxzTSwOiDg\n",
      "uBdYMY6a6A7FyxzTSwOiDgin order base has been finished\n",
      "uBdYMY6a6A7FyxzTSwOiDgin time base has been finished\n",
      "UCpUOtvqR-NBWBNVMzJleA\n",
      "UCpUOtvqR-NBWBNVMzJleAin order base has been finished\n",
      "UCpUOtvqR-NBWBNVMzJleAin time base has been finished\n",
      "UE3AvVnaPEBPneVahYT2eA\n",
      "UE3AvVnaPEBPneVahYT2eAin order base has been finished\n",
      "UE3AvVnaPEBPneVahYT2eAin time base has been finished\n",
      "ufostEB8B3PC8treZ6FjlQ\n",
      "ufostEB8B3PC8treZ6FjlQin order base has been finished\n",
      "ufostEB8B3PC8treZ6FjlQin time base has been finished\n",
      "ugLqbAvBdRDc-gS4hpslXw\n",
      "ugLqbAvBdRDc-gS4hpslXwin order base has been finished\n",
      "ugLqbAvBdRDc-gS4hpslXwin time base has been finished\n",
      "uGupeWqih0yIcCg8anM1PA\n",
      "uGupeWqih0yIcCg8anM1PAin order base has been finished\n",
      "uGupeWqih0yIcCg8anM1PAin time base has been finished\n",
      "uh7DUWtPoZkuEE05fghJ_w\n",
      "uh7DUWtPoZkuEE05fghJ_win order base has been finished\n",
      "uh7DUWtPoZkuEE05fghJ_win time base has been finished\n",
      "uI-dbKk_9cUen7pi3-16Sg\n",
      "uI-dbKk_9cUen7pi3-16Sgin order base has been finished\n",
      "uI-dbKk_9cUen7pi3-16Sgin time base has been finished\n",
      "UidEFF1WpnU4duev4fjPlQ\n",
      "UidEFF1WpnU4duev4fjPlQin order base has been finished\n",
      "UidEFF1WpnU4duev4fjPlQin time base has been finished\n",
      "UJb1PrUWDFfuzwUPc1pP4Q\n",
      "UJb1PrUWDFfuzwUPc1pP4Qin order base has been finished\n",
      "UJb1PrUWDFfuzwUPc1pP4Qin time base has been finished\n",
      "ujgpePdD8Q-fP1mPFnw0Qw\n",
      "ujgpePdD8Q-fP1mPFnw0Qwin order base has been finished\n",
      "ujgpePdD8Q-fP1mPFnw0Qwin time base has been finished\n",
      "ujHiaprwCQ5ewziu0Vi9rw\n",
      "ujHiaprwCQ5ewziu0Vi9rwin order base has been finished\n",
      "ujHiaprwCQ5ewziu0Vi9rwin time base has been finished\n",
      "ukCTLs6T8LY1eUBXiAlmCg\n",
      "ukCTLs6T8LY1eUBXiAlmCgin order base has been finished\n",
      "ukCTLs6T8LY1eUBXiAlmCgin time base has been finished\n",
      "uKKNw68mZZaa1jcyszEbyA\n",
      "uKKNw68mZZaa1jcyszEbyAin order base has been finished\n",
      "uKKNw68mZZaa1jcyszEbyAin time base has been finished\n",
      "Ul6JwluSTm12PVDIqnNaTg\n",
      "Ul6JwluSTm12PVDIqnNaTgin order base has been finished\n",
      "Ul6JwluSTm12PVDIqnNaTgin time base has been finished\n",
      "UMqfeCItzQ2glr4d9apGlA\n",
      "UMqfeCItzQ2glr4d9apGlAin order base has been finished\n",
      "UMqfeCItzQ2glr4d9apGlAin time base has been finished\n",
      "umrDQGRNied77aVg29_fVw\n",
      "umrDQGRNied77aVg29_fVwin order base has been finished\n",
      "umrDQGRNied77aVg29_fVwin time base has been finished\n",
      "umXvdus9LbC6oxtLdXelFQ\n",
      "umXvdus9LbC6oxtLdXelFQin order base has been finished\n",
      "umXvdus9LbC6oxtLdXelFQin time base has been finished\n",
      "UNI1agsPX2k3eJSJVB91nw\n",
      "UNI1agsPX2k3eJSJVB91nwin order base has been finished\n",
      "UNI1agsPX2k3eJSJVB91nwin time base has been finished\n",
      "UOtoOybZ5vAB4aXBLc57vA\n",
      "UOtoOybZ5vAB4aXBLc57vAin order base has been finished\n",
      "UOtoOybZ5vAB4aXBLc57vAin time base has been finished\n",
      "uP3H5bcsiTXM0k0xQhRndg\n",
      "uP3H5bcsiTXM0k0xQhRndgin order base has been finished\n",
      "uP3H5bcsiTXM0k0xQhRndgin time base has been finished\n",
      "UPIYuRaZvknINOd1w8kqRQ\n",
      "UPIYuRaZvknINOd1w8kqRQin order base has been finished\n",
      "UPIYuRaZvknINOd1w8kqRQin time base has been finished\n",
      "URFhSrJPk7JM2pUtsuWsAg\n",
      "URFhSrJPk7JM2pUtsuWsAgin order base has been finished\n",
      "URFhSrJPk7JM2pUtsuWsAgin time base has been finished\n",
      "urkODQ1jX0qQzgbqsQjWVQ\n",
      "urkODQ1jX0qQzgbqsQjWVQin order base has been finished\n",
      "urkODQ1jX0qQzgbqsQjWVQin time base has been finished\n",
      "UT6L3b7Zll_nvRidijiDSA\n",
      "UT6L3b7Zll_nvRidijiDSAin order base has been finished\n",
      "UT6L3b7Zll_nvRidijiDSAin time base has been finished\n",
      "utIA0LyQmwP-9DRyxUe6qQ\n",
      "utIA0LyQmwP-9DRyxUe6qQin order base has been finished\n",
      "utIA0LyQmwP-9DRyxUe6qQin time base has been finished\n",
      "utoTa3Ngv_oSfB5TIMgN_Q\n",
      "utoTa3Ngv_oSfB5TIMgN_Qin order base has been finished\n",
      "utoTa3Ngv_oSfB5TIMgN_Qin time base has been finished\n",
      "UTXNr62dGSK-tet8OeXUcQ\n",
      "UTXNr62dGSK-tet8OeXUcQin order base has been finished\n",
      "UTXNr62dGSK-tet8OeXUcQin time base has been finished\n",
      "uuGL8diLlHfeUeFuod3F-w\n",
      "uuGL8diLlHfeUeFuod3F-win order base has been finished\n",
      "uuGL8diLlHfeUeFuod3F-win time base has been finished\n",
      "UUGoM4q4i8rK2CBRS0xDAw\n",
      "UUGoM4q4i8rK2CBRS0xDAwin order base has been finished\n",
      "UUGoM4q4i8rK2CBRS0xDAwin time base has been finished\n",
      "UV2Jt8slktGu14gLZeNCjA\n",
      "UV2Jt8slktGu14gLZeNCjAin order base has been finished\n",
      "UV2Jt8slktGu14gLZeNCjAin time base has been finished\n",
      "uW6UHfONAmm8QttPkbMewQ\n",
      "uW6UHfONAmm8QttPkbMewQin order base has been finished\n",
      "uW6UHfONAmm8QttPkbMewQin time base has been finished\n",
      "uWECX6-Uq9n8v5ipk9R29A\n",
      "uWECX6-Uq9n8v5ipk9R29A order\n",
      "'user_info'\n",
      "uWECX6-Uq9n8v5ipk9R29A time\n",
      "'user_info'\n",
      "Uxm9N6jwmJybOv1NcBbnRw\n",
      "Uxm9N6jwmJybOv1NcBbnRw order\n"
     ]
    },
    {
     "name": "stderr",
     "output_type": "stream",
     "text": [
      "100%|████████████████████████████████████████████████████████████████████████████████| 591/591 [00:23<00:00, 24.96it/s]\n"
     ]
    },
    {
     "name": "stdout",
     "output_type": "stream",
     "text": [
      "Uxm9N6jwmJybOv1NcBbnRw time\n"
     ]
    },
    {
     "name": "stderr",
     "output_type": "stream",
     "text": [
      "100%|████████████████████████████████████████████████████████████████████████████████| 591/591 [00:16<00:00, 34.88it/s]\n"
     ]
    },
    {
     "name": "stdout",
     "output_type": "stream",
     "text": [
      "UYh1N1xQhOh-a7nX92xPzQ\n",
      "UYh1N1xQhOh-a7nX92xPzQ order\n"
     ]
    },
    {
     "name": "stderr",
     "output_type": "stream",
     "text": [
      "100%|██████████████████████████████████████████████████████████████████████████████| 1294/1294 [00:45<00:00, 28.65it/s]\n"
     ]
    },
    {
     "name": "stdout",
     "output_type": "stream",
     "text": [
      "UYh1N1xQhOh-a7nX92xPzQ time\n"
     ]
    },
    {
     "name": "stderr",
     "output_type": "stream",
     "text": [
      "100%|██████████████████████████████████████████████████████████████████████████████| 1294/1294 [00:44<00:00, 28.98it/s]\n"
     ]
    },
    {
     "name": "stdout",
     "output_type": "stream",
     "text": [
      "u_8cVZyxh0J468zEZUjNDQ\n",
      "u_8cVZyxh0J468zEZUjNDQ order\n"
     ]
    },
    {
     "name": "stderr",
     "output_type": "stream",
     "text": [
      "100%|████████████████████████████████████████████████████████████████████████████████| 649/649 [00:18<00:00, 34.73it/s]\n"
     ]
    },
    {
     "name": "stdout",
     "output_type": "stream",
     "text": [
      "u_8cVZyxh0J468zEZUjNDQ time\n"
     ]
    },
    {
     "name": "stderr",
     "output_type": "stream",
     "text": [
      "100%|████████████████████████████████████████████████████████████████████████████████| 649/649 [00:18<00:00, 35.02it/s]\n"
     ]
    },
    {
     "name": "stdout",
     "output_type": "stream",
     "text": [
      "V-0qRzBHKixmQgon_fW_AA\n",
      "V-0qRzBHKixmQgon_fW_AA order\n"
     ]
    },
    {
     "name": "stderr",
     "output_type": "stream",
     "text": [
      "100%|████████████████████████████████████████████████████████████████████████████████| 561/561 [00:15<00:00, 35.96it/s]\n"
     ]
    },
    {
     "name": "stdout",
     "output_type": "stream",
     "text": [
      "V-0qRzBHKixmQgon_fW_AA time\n"
     ]
    },
    {
     "name": "stderr",
     "output_type": "stream",
     "text": [
      "100%|████████████████████████████████████████████████████████████████████████████████| 561/561 [00:15<00:00, 36.21it/s]\n"
     ]
    },
    {
     "name": "stdout",
     "output_type": "stream",
     "text": [
      "v1AE1LLWDOqe8ubOzqKADg\n",
      "v1AE1LLWDOqe8ubOzqKADg order\n"
     ]
    },
    {
     "name": "stderr",
     "output_type": "stream",
     "text": [
      "100%|████████████████████████████████████████████████████████████████████████████████| 903/903 [00:28<00:00, 32.08it/s]\n"
     ]
    },
    {
     "name": "stdout",
     "output_type": "stream",
     "text": [
      "v1AE1LLWDOqe8ubOzqKADg time\n"
     ]
    },
    {
     "name": "stderr",
     "output_type": "stream",
     "text": [
      "100%|████████████████████████████████████████████████████████████████████████████████| 903/903 [00:28<00:00, 27.06it/s]\n"
     ]
    },
    {
     "name": "stdout",
     "output_type": "stream",
     "text": [
      "v9u0NgjA4iQeKGevFnYSCA\n",
      "v9u0NgjA4iQeKGevFnYSCA order\n"
     ]
    },
    {
     "name": "stderr",
     "output_type": "stream",
     "text": [
      "100%|████████████████████████████████████████████████████████████████████████████████| 543/543 [00:15<00:00, 35.60it/s]\n"
     ]
    },
    {
     "name": "stdout",
     "output_type": "stream",
     "text": [
      "v9u0NgjA4iQeKGevFnYSCA time\n"
     ]
    },
    {
     "name": "stderr",
     "output_type": "stream",
     "text": [
      "100%|████████████████████████████████████████████████████████████████████████████████| 543/543 [00:20<00:00, 18.40it/s]\n"
     ]
    },
    {
     "name": "stdout",
     "output_type": "stream",
     "text": [
      "Vay9xHwcvu7VRZOddBgn-A\n",
      "Vay9xHwcvu7VRZOddBgn-A order\n"
     ]
    },
    {
     "name": "stderr",
     "output_type": "stream",
     "text": [
      "100%|████████████████████████████████████████████████████████████████████████████████| 630/630 [00:21<00:00, 29.29it/s]\n"
     ]
    },
    {
     "name": "stdout",
     "output_type": "stream",
     "text": [
      "Vay9xHwcvu7VRZOddBgn-A time\n"
     ]
    },
    {
     "name": "stderr",
     "output_type": "stream",
     "text": [
      "100%|████████████████████████████████████████████████████████████████████████████████| 630/630 [00:19<00:00, 28.00it/s]\n"
     ]
    },
    {
     "name": "stdout",
     "output_type": "stream",
     "text": [
      "vdloJPM3bSpQTMlwdFek2A\n",
      "vdloJPM3bSpQTMlwdFek2A order\n"
     ]
    },
    {
     "name": "stderr",
     "output_type": "stream",
     "text": [
      "100%|████████████████████████████████████████████████████████████████████████████████| 551/551 [00:19<00:00, 28.65it/s]\n"
     ]
    },
    {
     "name": "stdout",
     "output_type": "stream",
     "text": [
      "vdloJPM3bSpQTMlwdFek2A time\n"
     ]
    },
    {
     "name": "stderr",
     "output_type": "stream",
     "text": [
      "100%|████████████████████████████████████████████████████████████████████████████████| 551/551 [00:17<00:00, 28.15it/s]\n"
     ]
    },
    {
     "name": "stdout",
     "output_type": "stream",
     "text": [
      "VG0nWxGsPixYLsyi49gyxQ\n",
      "VG0nWxGsPixYLsyi49gyxQ order\n"
     ]
    },
    {
     "name": "stderr",
     "output_type": "stream",
     "text": [
      "100%|████████████████████████████████████████████████████████████████████████████████| 910/910 [00:31<00:00, 28.68it/s]\n"
     ]
    },
    {
     "name": "stdout",
     "output_type": "stream",
     "text": [
      "VG0nWxGsPixYLsyi49gyxQ time\n"
     ]
    },
    {
     "name": "stderr",
     "output_type": "stream",
     "text": [
      "100%|████████████████████████████████████████████████████████████████████████████████| 910/910 [00:31<00:00, 29.26it/s]\n"
     ]
    },
    {
     "name": "stdout",
     "output_type": "stream",
     "text": [
      "VGWEpMEkzQopS5lUNd06Sw\n",
      "VGWEpMEkzQopS5lUNd06Sw order\n"
     ]
    },
    {
     "name": "stderr",
     "output_type": "stream",
     "text": [
      "100%|████████████████████████████████████████████████████████████████████████████████| 650/650 [00:21<00:00, 20.57it/s]\n"
     ]
    },
    {
     "name": "stdout",
     "output_type": "stream",
     "text": [
      "VGWEpMEkzQopS5lUNd06Sw time\n"
     ]
    },
    {
     "name": "stderr",
     "output_type": "stream",
     "text": [
      "100%|████████████████████████████████████████████████████████████████████████████████| 650/650 [00:20<00:00, 26.39it/s]\n"
     ]
    },
    {
     "name": "stdout",
     "output_type": "stream",
     "text": [
      "VH3WA7a-OVzFj2K_SP4BIw\n",
      "VH3WA7a-OVzFj2K_SP4BIw order\n"
     ]
    },
    {
     "name": "stderr",
     "output_type": "stream",
     "text": [
      "100%|████████████████████████████████████████████████████████████████████████████████| 555/555 [00:16<00:00, 33.45it/s]\n"
     ]
    },
    {
     "name": "stdout",
     "output_type": "stream",
     "text": [
      "VH3WA7a-OVzFj2K_SP4BIw time\n"
     ]
    },
    {
     "name": "stderr",
     "output_type": "stream",
     "text": [
      "100%|████████████████████████████████████████████████████████████████████████████████| 555/555 [00:16<00:00, 34.45it/s]\n"
     ]
    },
    {
     "name": "stdout",
     "output_type": "stream",
     "text": [
      "vHz2RLtfUMVRPFmd7VBEHA\n",
      "vHz2RLtfUMVRPFmd7VBEHA order\n"
     ]
    },
    {
     "name": "stderr",
     "output_type": "stream",
     "text": [
      "100%|██████████████████████████████████████████████████████████████████████████████| 2078/2078 [01:16<00:00, 27.13it/s]\n"
     ]
    },
    {
     "name": "stdout",
     "output_type": "stream",
     "text": [
      "vHz2RLtfUMVRPFmd7VBEHA time\n"
     ]
    },
    {
     "name": "stderr",
     "output_type": "stream",
     "text": [
      "100%|██████████████████████████████████████████████████████████████████████████████| 2078/2078 [01:14<00:00, 26.83it/s]\n"
     ]
    },
    {
     "name": "stdout",
     "output_type": "stream",
     "text": [
      "VHZPbCbIPHEkKOotdCTiow\n",
      "VHZPbCbIPHEkKOotdCTiow order\n"
     ]
    },
    {
     "name": "stderr",
     "output_type": "stream",
     "text": [
      "100%|████████████████████████████████████████████████████████████████████████████████| 757/757 [00:23<00:00, 32.04it/s]\n"
     ]
    },
    {
     "name": "stdout",
     "output_type": "stream",
     "text": [
      "VHZPbCbIPHEkKOotdCTiow time\n"
     ]
    },
    {
     "name": "stderr",
     "output_type": "stream",
     "text": [
      "100%|████████████████████████████████████████████████████████████████████████████████| 757/757 [00:23<00:00, 32.46it/s]\n"
     ]
    },
    {
     "name": "stdout",
     "output_type": "stream",
     "text": [
      "VIJ2KiDKhUVhhpNylEIfog\n",
      "VIJ2KiDKhUVhhpNylEIfog order\n"
     ]
    },
    {
     "name": "stderr",
     "output_type": "stream",
     "text": [
      "100%|████████████████████████████████████████████████████████████████████████████████| 544/544 [00:15<00:00, 34.13it/s]\n"
     ]
    },
    {
     "name": "stdout",
     "output_type": "stream",
     "text": [
      "VIJ2KiDKhUVhhpNylEIfog time\n"
     ]
    },
    {
     "name": "stderr",
     "output_type": "stream",
     "text": [
      "100%|████████████████████████████████████████████████████████████████████████████████| 544/544 [00:15<00:00, 35.92it/s]\n"
     ]
    },
    {
     "name": "stdout",
     "output_type": "stream",
     "text": [
      "vjaHGc25CcyNPZTbjDa7Ww\n",
      "vjaHGc25CcyNPZTbjDa7Ww order\n"
     ]
    },
    {
     "name": "stderr",
     "output_type": "stream",
     "text": [
      "100%|████████████████████████████████████████████████████████████████████████████████| 670/670 [00:19<00:00, 33.99it/s]\n"
     ]
    },
    {
     "name": "stdout",
     "output_type": "stream",
     "text": [
      "vjaHGc25CcyNPZTbjDa7Ww time\n"
     ]
    },
    {
     "name": "stderr",
     "output_type": "stream",
     "text": [
      "100%|████████████████████████████████████████████████████████████████████████████████| 670/670 [00:19<00:00, 34.26it/s]\n"
     ]
    },
    {
     "name": "stdout",
     "output_type": "stream",
     "text": [
      "vjhB95c5nOXflNoyq_jKzw\n",
      "vjhB95c5nOXflNoyq_jKzw order\n"
     ]
    },
    {
     "name": "stderr",
     "output_type": "stream",
     "text": [
      "100%|████████████████████████████████████████████████████████████████████████████████| 658/658 [00:20<00:00, 32.73it/s]\n"
     ]
    },
    {
     "name": "stdout",
     "output_type": "stream",
     "text": [
      "vjhB95c5nOXflNoyq_jKzw time\n"
     ]
    },
    {
     "name": "stderr",
     "output_type": "stream",
     "text": [
      "100%|████████████████████████████████████████████████████████████████████████████████| 658/658 [00:28<00:00, 20.75it/s]\n"
     ]
    },
    {
     "name": "stdout",
     "output_type": "stream",
     "text": [
      "vK1_qKEG7zHvjiTOsN0CRg\n",
      "vK1_qKEG7zHvjiTOsN0CRg order\n"
     ]
    },
    {
     "name": "stderr",
     "output_type": "stream",
     "text": [
      "100%|████████████████████████████████████████████████████████████████████████████████| 961/961 [00:41<00:00, 22.94it/s]\n"
     ]
    },
    {
     "name": "stdout",
     "output_type": "stream",
     "text": [
      "vK1_qKEG7zHvjiTOsN0CRg time\n"
     ]
    },
    {
     "name": "stderr",
     "output_type": "stream",
     "text": [
      "100%|████████████████████████████████████████████████████████████████████████████████| 961/961 [00:31<00:00, 30.76it/s]\n"
     ]
    },
    {
     "name": "stdout",
     "output_type": "stream",
     "text": [
      "vl1aHp6pvnSmpoRQShWLjg\n",
      "vl1aHp6pvnSmpoRQShWLjg order\n"
     ]
    },
    {
     "name": "stderr",
     "output_type": "stream",
     "text": [
      "100%|████████████████████████████████████████████████████████████████████████████████| 684/684 [00:21<00:00, 32.42it/s]\n"
     ]
    },
    {
     "name": "stdout",
     "output_type": "stream",
     "text": [
      "vl1aHp6pvnSmpoRQShWLjg time\n"
     ]
    },
    {
     "name": "stderr",
     "output_type": "stream",
     "text": [
      "100%|████████████████████████████████████████████████████████████████████████████████| 684/684 [00:19<00:00, 35.39it/s]\n"
     ]
    },
    {
     "name": "stdout",
     "output_type": "stream",
     "text": [
      "vl2IZrNJEA8npSjqXbdwxw\n",
      "vl2IZrNJEA8npSjqXbdwxw order\n"
     ]
    },
    {
     "name": "stderr",
     "output_type": "stream",
     "text": [
      "100%|██████████████████████████████████████████████████████████████████████████████| 1284/1284 [00:40<00:00, 31.56it/s]\n"
     ]
    },
    {
     "name": "stdout",
     "output_type": "stream",
     "text": [
      "vl2IZrNJEA8npSjqXbdwxw time\n"
     ]
    },
    {
     "name": "stderr",
     "output_type": "stream",
     "text": [
      "100%|██████████████████████████████████████████████████████████████████████████████| 1284/1284 [00:39<00:00, 32.55it/s]\n"
     ]
    },
    {
     "name": "stdout",
     "output_type": "stream",
     "text": [
      "VLDFjeqpUgWhnVuB_8GuEg\n",
      "VLDFjeqpUgWhnVuB_8GuEg order\n"
     ]
    },
    {
     "name": "stderr",
     "output_type": "stream",
     "text": [
      "100%|██████████████████████████████████████████████████████████████████████████████| 1150/1150 [00:34<00:00, 33.67it/s]\n"
     ]
    },
    {
     "name": "stdout",
     "output_type": "stream",
     "text": [
      "VLDFjeqpUgWhnVuB_8GuEg time\n"
     ]
    },
    {
     "name": "stderr",
     "output_type": "stream",
     "text": [
      "100%|██████████████████████████████████████████████████████████████████████████████| 1150/1150 [00:33<00:00, 33.83it/s]\n"
     ]
    },
    {
     "name": "stdout",
     "output_type": "stream",
     "text": [
      "VMr8sgoQOW0fo0qVJENajA\n",
      "VMr8sgoQOW0fo0qVJENajA order\n"
     ]
    },
    {
     "name": "stderr",
     "output_type": "stream",
     "text": [
      "100%|████████████████████████████████████████████████████████████████████████████████| 815/815 [00:22<00:00, 35.84it/s]\n"
     ]
    },
    {
     "name": "stdout",
     "output_type": "stream",
     "text": [
      "VMr8sgoQOW0fo0qVJENajA time\n"
     ]
    },
    {
     "name": "stderr",
     "output_type": "stream",
     "text": [
      "100%|████████████████████████████████████████████████████████████████████████████████| 815/815 [00:22<00:00, 36.11it/s]\n"
     ]
    },
    {
     "name": "stdout",
     "output_type": "stream",
     "text": [
      "VMXl3Dm1Nwvgwo1PVYTXbg\n",
      "VMXl3Dm1Nwvgwo1PVYTXbg order\n"
     ]
    },
    {
     "name": "stderr",
     "output_type": "stream",
     "text": [
      "100%|████████████████████████████████████████████████████████████████████████████████| 700/700 [00:18<00:00, 36.98it/s]\n"
     ]
    },
    {
     "name": "stdout",
     "output_type": "stream",
     "text": [
      "VMXl3Dm1Nwvgwo1PVYTXbg time\n"
     ]
    },
    {
     "name": "stderr",
     "output_type": "stream",
     "text": [
      "100%|████████████████████████████████████████████████████████████████████████████████| 700/700 [00:18<00:00, 30.26it/s]\n"
     ]
    },
    {
     "name": "stdout",
     "output_type": "stream",
     "text": [
      "Voeq7aGDmCGMjE_SQiHwRA\n",
      "Voeq7aGDmCGMjE_SQiHwRA order\n"
     ]
    },
    {
     "name": "stderr",
     "output_type": "stream",
     "text": [
      "100%|████████████████████████████████████████████████████████████████████████████████| 670/670 [00:17<00:00, 37.88it/s]\n"
     ]
    },
    {
     "name": "stdout",
     "output_type": "stream",
     "text": [
      "Voeq7aGDmCGMjE_SQiHwRA time\n"
     ]
    },
    {
     "name": "stderr",
     "output_type": "stream",
     "text": [
      "100%|████████████████████████████████████████████████████████████████████████████████| 670/670 [00:17<00:00, 31.91it/s]\n"
     ]
    },
    {
     "name": "stdout",
     "output_type": "stream",
     "text": [
      "vOfz55MmWgjNQ3BA2PnhgQ\n",
      "vOfz55MmWgjNQ3BA2PnhgQ order\n"
     ]
    },
    {
     "name": "stderr",
     "output_type": "stream",
     "text": [
      "100%|████████████████████████████████████████████████████████████████████████████████| 680/680 [00:18<00:00, 36.86it/s]\n"
     ]
    },
    {
     "name": "stdout",
     "output_type": "stream",
     "text": [
      "vOfz55MmWgjNQ3BA2PnhgQ time\n"
     ]
    },
    {
     "name": "stderr",
     "output_type": "stream",
     "text": [
      "100%|████████████████████████████████████████████████████████████████████████████████| 680/680 [00:19<00:00, 34.39it/s]\n"
     ]
    },
    {
     "name": "stdout",
     "output_type": "stream",
     "text": [
      "VR8QvH2g-jEG5EfMzA_G9w\n",
      "VR8QvH2g-jEG5EfMzA_G9w order\n"
     ]
    },
    {
     "name": "stderr",
     "output_type": "stream",
     "text": [
      "100%|██████████████████████████████████████████████████████████████████████████████| 1169/1169 [00:35<00:00, 29.31it/s]\n"
     ]
    },
    {
     "name": "stdout",
     "output_type": "stream",
     "text": [
      "VR8QvH2g-jEG5EfMzA_G9w time\n"
     ]
    },
    {
     "name": "stderr",
     "output_type": "stream",
     "text": [
      "100%|██████████████████████████████████████████████████████████████████████████████| 1169/1169 [00:35<00:00, 33.38it/s]\n"
     ]
    },
    {
     "name": "stdout",
     "output_type": "stream",
     "text": [
      "VrGI7_nRjXpn0415S3coGQ\n",
      "VrGI7_nRjXpn0415S3coGQ order\n"
     ]
    },
    {
     "name": "stderr",
     "output_type": "stream",
     "text": [
      "100%|████████████████████████████████████████████████████████████████████████████████| 752/752 [00:21<00:00, 35.64it/s]\n"
     ]
    },
    {
     "name": "stdout",
     "output_type": "stream",
     "text": [
      "VrGI7_nRjXpn0415S3coGQ time\n"
     ]
    },
    {
     "name": "stderr",
     "output_type": "stream",
     "text": [
      "100%|████████████████████████████████████████████████████████████████████████████████| 752/752 [00:21<00:00, 29.72it/s]\n"
     ]
    },
    {
     "name": "stdout",
     "output_type": "stream",
     "text": [
      "Vs7gc9EE3k9wARuUcN9piA\n",
      "Vs7gc9EE3k9wARuUcN9piA order\n"
     ]
    },
    {
     "name": "stderr",
     "output_type": "stream",
     "text": [
      "100%|████████████████████████████████████████████████████████████████████████████████| 708/708 [00:19<00:00, 30.61it/s]\n"
     ]
    },
    {
     "name": "stdout",
     "output_type": "stream",
     "text": [
      "Vs7gc9EE3k9wARuUcN9piA time\n"
     ]
    },
    {
     "name": "stderr",
     "output_type": "stream",
     "text": [
      "100%|████████████████████████████████████████████████████████████████████████████████| 708/708 [00:19<00:00, 36.64it/s]\n"
     ]
    },
    {
     "name": "stdout",
     "output_type": "stream",
     "text": [
      "VsewHMsfj1Mgsl2i_hio7w\n",
      "VsewHMsfj1Mgsl2i_hio7w order\n"
     ]
    },
    {
     "name": "stderr",
     "output_type": "stream",
     "text": [
      "100%|██████████████████████████████████████████████████████████████████████████████| 1703/1703 [00:54<00:00, 31.41it/s]\n"
     ]
    },
    {
     "name": "stdout",
     "output_type": "stream",
     "text": [
      "VsewHMsfj1Mgsl2i_hio7w time\n"
     ]
    },
    {
     "name": "stderr",
     "output_type": "stream",
     "text": [
      "100%|██████████████████████████████████████████████████████████████████████████████| 1703/1703 [00:54<00:00, 31.24it/s]\n"
     ]
    },
    {
     "name": "stdout",
     "output_type": "stream",
     "text": [
      "vsFFbN71ehRCp46KeR5RdQ\n",
      "vsFFbN71ehRCp46KeR5RdQ order\n"
     ]
    },
    {
     "name": "stderr",
     "output_type": "stream",
     "text": [
      "100%|████████████████████████████████████████████████████████████████████████████████| 913/913 [00:27<00:00, 33.71it/s]\n"
     ]
    },
    {
     "name": "stdout",
     "output_type": "stream",
     "text": [
      "vsFFbN71ehRCp46KeR5RdQ time\n"
     ]
    },
    {
     "name": "stderr",
     "output_type": "stream",
     "text": [
      "100%|████████████████████████████████████████████████████████████████████████████████| 913/913 [00:26<00:00, 30.08it/s]\n"
     ]
    },
    {
     "name": "stdout",
     "output_type": "stream",
     "text": [
      "VSX3ixrqQFwwGBUf15s0EQ\n",
      "VSX3ixrqQFwwGBUf15s0EQ order\n"
     ]
    },
    {
     "name": "stderr",
     "output_type": "stream",
     "text": [
      "100%|████████████████████████████████████████████████████████████████████████████████| 588/588 [00:14<00:00, 39.67it/s]\n"
     ]
    },
    {
     "name": "stdout",
     "output_type": "stream",
     "text": [
      "VSX3ixrqQFwwGBUf15s0EQ time\n"
     ]
    },
    {
     "name": "stderr",
     "output_type": "stream",
     "text": [
      "100%|████████████████████████████████████████████████████████████████████████████████| 588/588 [00:17<00:00, 32.78it/s]\n"
     ]
    },
    {
     "name": "stdout",
     "output_type": "stream",
     "text": [
      "VUtazCTIc0aoOrQprP_s-Q\n",
      "VUtazCTIc0aoOrQprP_s-Q order\n"
     ]
    },
    {
     "name": "stderr",
     "output_type": "stream",
     "text": [
      "100%|████████████████████████████████████████████████████████████████████████████████| 651/651 [00:18<00:00, 34.92it/s]\n"
     ]
    },
    {
     "name": "stdout",
     "output_type": "stream",
     "text": [
      "VUtazCTIc0aoOrQprP_s-Q time\n"
     ]
    },
    {
     "name": "stderr",
     "output_type": "stream",
     "text": [
      "100%|████████████████████████████████████████████████████████████████████████████████| 651/651 [00:18<00:00, 36.05it/s]\n"
     ]
    },
    {
     "name": "stdout",
     "output_type": "stream",
     "text": [
      "vx4YAA02Qz6khRD1fZ1MFA\n",
      "vx4YAA02Qz6khRD1fZ1MFA order\n"
     ]
    },
    {
     "name": "stderr",
     "output_type": "stream",
     "text": [
      "100%|██████████████████████████████████████████████████████████████████████████████| 1046/1046 [00:32<00:00, 32.51it/s]\n"
     ]
    },
    {
     "name": "stdout",
     "output_type": "stream",
     "text": [
      "vx4YAA02Qz6khRD1fZ1MFA time\n"
     ]
    },
    {
     "name": "stderr",
     "output_type": "stream",
     "text": [
      "100%|██████████████████████████████████████████████████████████████████████████████| 1046/1046 [00:31<00:00, 32.85it/s]\n"
     ]
    },
    {
     "name": "stdout",
     "output_type": "stream",
     "text": [
      "VyVIneSU7XAWgMBllI6LnQ\n",
      "VyVIneSU7XAWgMBllI6LnQ order\n"
     ]
    },
    {
     "name": "stderr",
     "output_type": "stream",
     "text": [
      "100%|██████████████████████████████████████████████████████████████████████████████| 2662/2662 [01:25<00:00, 31.06it/s]\n"
     ]
    },
    {
     "name": "stdout",
     "output_type": "stream",
     "text": [
      "VyVIneSU7XAWgMBllI6LnQ time\n"
     ]
    },
    {
     "name": "stderr",
     "output_type": "stream",
     "text": [
      "100%|██████████████████████████████████████████████████████████████████████████████| 2662/2662 [01:26<00:00, 30.88it/s]\n"
     ]
    },
    {
     "name": "stdout",
     "output_type": "stream",
     "text": [
      "vz8HFGsITt6aj-nyXkAEFg\n",
      "vz8HFGsITt6aj-nyXkAEFg order\n"
     ]
    },
    {
     "name": "stderr",
     "output_type": "stream",
     "text": [
      "100%|████████████████████████████████████████████████████████████████████████████████| 680/680 [00:18<00:00, 37.00it/s]\n"
     ]
    },
    {
     "name": "stdout",
     "output_type": "stream",
     "text": [
      "vz8HFGsITt6aj-nyXkAEFg time\n"
     ]
    },
    {
     "name": "stderr",
     "output_type": "stream",
     "text": [
      "100%|████████████████████████████████████████████████████████████████████████████████| 680/680 [00:17<00:00, 37.87it/s]\n"
     ]
    },
    {
     "name": "stdout",
     "output_type": "stream",
     "text": [
      "vZLAmpN-hTI3GCT9hlHVUA\n",
      "vZLAmpN-hTI3GCT9hlHVUA order\n"
     ]
    },
    {
     "name": "stderr",
     "output_type": "stream",
     "text": [
      "100%|████████████████████████████████████████████████████████████████████████████████| 513/513 [00:12<00:00, 39.83it/s]\n"
     ]
    },
    {
     "name": "stdout",
     "output_type": "stream",
     "text": [
      "vZLAmpN-hTI3GCT9hlHVUA time\n"
     ]
    },
    {
     "name": "stderr",
     "output_type": "stream",
     "text": [
      "100%|████████████████████████████████████████████████████████████████████████████████| 513/513 [00:12<00:00, 40.24it/s]\n"
     ]
    },
    {
     "name": "stdout",
     "output_type": "stream",
     "text": [
      "v_yCY6NCwxCPIsNZR80UfQ\n",
      "v_yCY6NCwxCPIsNZR80UfQ order\n"
     ]
    },
    {
     "name": "stderr",
     "output_type": "stream",
     "text": [
      "100%|████████████████████████████████████████████████████████████████████████████████| 908/908 [00:26<00:00, 34.87it/s]\n"
     ]
    },
    {
     "name": "stdout",
     "output_type": "stream",
     "text": [
      "v_yCY6NCwxCPIsNZR80UfQ time\n"
     ]
    },
    {
     "name": "stderr",
     "output_type": "stream",
     "text": [
      "100%|████████████████████████████████████████████████████████████████████████████████| 908/908 [00:28<00:00, 32.38it/s]\n"
     ]
    },
    {
     "name": "stdout",
     "output_type": "stream",
     "text": [
      "w12x7UBSSRsdbp3ZqguG3Q\n",
      "w12x7UBSSRsdbp3ZqguG3Q order\n"
     ]
    },
    {
     "name": "stderr",
     "output_type": "stream",
     "text": [
      "100%|████████████████████████████████████████████████████████████████████████████████| 750/750 [00:20<00:00, 36.51it/s]\n"
     ]
    },
    {
     "name": "stdout",
     "output_type": "stream",
     "text": [
      "w12x7UBSSRsdbp3ZqguG3Q time\n"
     ]
    },
    {
     "name": "stderr",
     "output_type": "stream",
     "text": [
      "100%|████████████████████████████████████████████████████████████████████████████████| 750/750 [00:20<00:00, 36.72it/s]\n"
     ]
    },
    {
     "name": "stdout",
     "output_type": "stream",
     "text": [
      "w5CSi-An5meLnxjKSFn0wQ\n",
      "w5CSi-An5meLnxjKSFn0wQ order\n"
     ]
    },
    {
     "name": "stderr",
     "output_type": "stream",
     "text": [
      "100%|████████████████████████████████████████████████████████████████████████████████| 855/855 [00:23<00:00, 36.23it/s]\n"
     ]
    },
    {
     "name": "stdout",
     "output_type": "stream",
     "text": [
      "w5CSi-An5meLnxjKSFn0wQ time\n"
     ]
    },
    {
     "name": "stderr",
     "output_type": "stream",
     "text": [
      "100%|████████████████████████████████████████████████████████████████████████████████| 855/855 [00:23<00:00, 29.10it/s]\n"
     ]
    },
    {
     "name": "stdout",
     "output_type": "stream",
     "text": [
      "W8apgXmOxESpoL_EeogC5w\n",
      "W8apgXmOxESpoL_EeogC5w order\n"
     ]
    },
    {
     "name": "stderr",
     "output_type": "stream",
     "text": [
      "100%|████████████████████████████████████████████████████████████████████████████████| 941/941 [00:27<00:00, 34.22it/s]\n"
     ]
    },
    {
     "name": "stdout",
     "output_type": "stream",
     "text": [
      "W8apgXmOxESpoL_EeogC5w time\n"
     ]
    },
    {
     "name": "stderr",
     "output_type": "stream",
     "text": [
      "100%|████████████████████████████████████████████████████████████████████████████████| 941/941 [00:27<00:00, 34.36it/s]\n"
     ]
    },
    {
     "name": "stdout",
     "output_type": "stream",
     "text": [
      "w8RWhhuKxMiFCpvFvIQ3zg\n",
      "w8RWhhuKxMiFCpvFvIQ3zg order\n"
     ]
    },
    {
     "name": "stderr",
     "output_type": "stream",
     "text": [
      "100%|████████████████████████████████████████████████████████████████████████████████| 986/986 [00:29<00:00, 33.44it/s]\n"
     ]
    },
    {
     "name": "stdout",
     "output_type": "stream",
     "text": [
      "w8RWhhuKxMiFCpvFvIQ3zg time\n"
     ]
    },
    {
     "name": "stderr",
     "output_type": "stream",
     "text": [
      "100%|████████████████████████████████████████████████████████████████████████████████| 986/986 [00:29<00:00, 33.38it/s]\n"
     ]
    },
    {
     "name": "stdout",
     "output_type": "stream",
     "text": [
      "W9y-Bl9030-rmfxSTmUD_g\n",
      "W9y-Bl9030-rmfxSTmUD_g order\n"
     ]
    },
    {
     "name": "stderr",
     "output_type": "stream",
     "text": [
      "100%|████████████████████████████████████████████████████████████████████████████████| 594/594 [00:14<00:00, 39.73it/s]\n"
     ]
    },
    {
     "name": "stdout",
     "output_type": "stream",
     "text": [
      "W9y-Bl9030-rmfxSTmUD_g time\n"
     ]
    },
    {
     "name": "stderr",
     "output_type": "stream",
     "text": [
      "100%|████████████████████████████████████████████████████████████████████████████████| 594/594 [00:15<00:00, 39.44it/s]\n"
     ]
    },
    {
     "name": "stdout",
     "output_type": "stream",
     "text": [
      "wa8QgXQu1ZxwPgdRl9lYlg\n",
      "wa8QgXQu1ZxwPgdRl9lYlg order\n"
     ]
    },
    {
     "name": "stderr",
     "output_type": "stream",
     "text": [
      "100%|████████████████████████████████████████████████████████████████████████████████| 624/624 [00:16<00:00, 38.99it/s]\n"
     ]
    },
    {
     "name": "stdout",
     "output_type": "stream",
     "text": [
      "wa8QgXQu1ZxwPgdRl9lYlg time\n"
     ]
    },
    {
     "name": "stderr",
     "output_type": "stream",
     "text": [
      "100%|████████████████████████████████████████████████████████████████████████████████| 624/624 [00:18<00:00, 33.07it/s]\n"
     ]
    },
    {
     "name": "stdout",
     "output_type": "stream",
     "text": [
      "wArcCMVnrl_tc9MULW-0CQ\n",
      "wArcCMVnrl_tc9MULW-0CQ order\n"
     ]
    },
    {
     "name": "stderr",
     "output_type": "stream",
     "text": [
      "100%|████████████████████████████████████████████████████████████████████████████████| 609/609 [00:17<00:00, 34.89it/s]\n"
     ]
    },
    {
     "name": "stdout",
     "output_type": "stream",
     "text": [
      "wArcCMVnrl_tc9MULW-0CQ time\n"
     ]
    },
    {
     "name": "stderr",
     "output_type": "stream",
     "text": [
      "100%|████████████████████████████████████████████████████████████████████████████████| 609/609 [00:17<00:00, 31.51it/s]\n"
     ]
    },
    {
     "name": "stdout",
     "output_type": "stream",
     "text": [
      "WbJ1LRQdOuYYlRLyTkuuxw\n",
      "WbJ1LRQdOuYYlRLyTkuuxw order\n"
     ]
    },
    {
     "name": "stderr",
     "output_type": "stream",
     "text": [
      "100%|██████████████████████████████████████████████████████████████████████████████| 1561/1561 [00:48<00:00, 31.86it/s]\n"
     ]
    },
    {
     "name": "stdout",
     "output_type": "stream",
     "text": [
      "WbJ1LRQdOuYYlRLyTkuuxw time\n"
     ]
    },
    {
     "name": "stderr",
     "output_type": "stream",
     "text": [
      "100%|██████████████████████████████████████████████████████████████████████████████| 1561/1561 [00:47<00:00, 29.33it/s]\n"
     ]
    },
    {
     "name": "stdout",
     "output_type": "stream",
     "text": [
      "WBt2pa7k_K2LKW2OJuXG9Q\n",
      "WBt2pa7k_K2LKW2OJuXG9Q order\n"
     ]
    },
    {
     "name": "stderr",
     "output_type": "stream",
     "text": [
      "100%|████████████████████████████████████████████████████████████████████████████████| 720/720 [00:19<00:00, 30.44it/s]\n"
     ]
    },
    {
     "name": "stdout",
     "output_type": "stream",
     "text": [
      "WBt2pa7k_K2LKW2OJuXG9Q time\n"
     ]
    },
    {
     "name": "stderr",
     "output_type": "stream",
     "text": [
      "100%|████████████████████████████████████████████████████████████████████████████████| 720/720 [00:19<00:00, 36.70it/s]\n"
     ]
    },
    {
     "name": "stdout",
     "output_type": "stream",
     "text": [
      "Wc9UpJhOcdSj7olZkz7SJA\n",
      "Wc9UpJhOcdSj7olZkz7SJA order\n"
     ]
    },
    {
     "name": "stderr",
     "output_type": "stream",
     "text": [
      "100%|████████████████████████████████████████████████████████████████████████████████| 937/937 [00:26<00:00, 35.25it/s]\n"
     ]
    },
    {
     "name": "stdout",
     "output_type": "stream",
     "text": [
      "Wc9UpJhOcdSj7olZkz7SJA time\n"
     ]
    },
    {
     "name": "stderr",
     "output_type": "stream",
     "text": [
      "100%|████████████████████████████████████████████████████████████████████████████████| 937/937 [00:26<00:00, 35.01it/s]\n"
     ]
    },
    {
     "name": "stdout",
     "output_type": "stream",
     "text": [
      "WETHRoXB2IbixndSlOktJA\n",
      "WETHRoXB2IbixndSlOktJA order\n"
     ]
    },
    {
     "name": "stderr",
     "output_type": "stream",
     "text": [
      "100%|████████████████████████████████████████████████████████████████████████████████| 585/585 [00:15<00:00, 38.90it/s]\n"
     ]
    },
    {
     "name": "stdout",
     "output_type": "stream",
     "text": [
      "WETHRoXB2IbixndSlOktJA time\n"
     ]
    },
    {
     "name": "stderr",
     "output_type": "stream",
     "text": [
      "100%|████████████████████████████████████████████████████████████████████████████████| 585/585 [00:15<00:00, 38.69it/s]\n"
     ]
    },
    {
     "name": "stdout",
     "output_type": "stream",
     "text": [
      "whAwdYVty-jSNRhrYT2zHA\n",
      "whAwdYVty-jSNRhrYT2zHA order\n"
     ]
    },
    {
     "name": "stderr",
     "output_type": "stream",
     "text": [
      "100%|██████████████████████████████████████████████████████████████████████████████| 1572/1572 [00:48<00:00, 30.39it/s]\n"
     ]
    },
    {
     "name": "stdout",
     "output_type": "stream",
     "text": [
      "whAwdYVty-jSNRhrYT2zHA time\n"
     ]
    },
    {
     "name": "stderr",
     "output_type": "stream",
     "text": [
      "100%|██████████████████████████████████████████████████████████████████████████████| 1572/1572 [00:50<00:00, 29.92it/s]\n"
     ]
    },
    {
     "name": "stdout",
     "output_type": "stream",
     "text": [
      "wHVWfC_a6koeiJXAu78e1g\n",
      "wHVWfC_a6koeiJXAu78e1g order\n"
     ]
    },
    {
     "name": "stderr",
     "output_type": "stream",
     "text": [
      "100%|████████████████████████████████████████████████████████████████████████████████| 869/869 [00:25<00:00, 29.54it/s]\n"
     ]
    },
    {
     "name": "stdout",
     "output_type": "stream",
     "text": [
      "wHVWfC_a6koeiJXAu78e1g time\n"
     ]
    },
    {
     "name": "stderr",
     "output_type": "stream",
     "text": [
      "100%|████████████████████████████████████████████████████████████████████████████████| 869/869 [00:24<00:00, 23.82it/s]\n"
     ]
    },
    {
     "name": "stdout",
     "output_type": "stream",
     "text": [
      "wKA2y-F_fPcBDOkpzDB9eQ\n",
      "wKA2y-F_fPcBDOkpzDB9eQ order\n"
     ]
    },
    {
     "name": "stderr",
     "output_type": "stream",
     "text": [
      "100%|████████████████████████████████████████████████████████████████████████████████| 689/689 [00:18<00:00, 37.75it/s]\n"
     ]
    },
    {
     "name": "stdout",
     "output_type": "stream",
     "text": [
      "wKA2y-F_fPcBDOkpzDB9eQ time\n"
     ]
    },
    {
     "name": "stderr",
     "output_type": "stream",
     "text": [
      "100%|████████████████████████████████████████████████████████████████████████████████| 689/689 [00:18<00:00, 37.80it/s]\n"
     ]
    },
    {
     "name": "stdout",
     "output_type": "stream",
     "text": [
      "wl0QZqAzr1DelslQ02JGCQ\n",
      "wl0QZqAzr1DelslQ02JGCQ order\n"
     ]
    },
    {
     "name": "stderr",
     "output_type": "stream",
     "text": [
      "100%|██████████████████████████████████████████████████████████████████████████████| 1662/1662 [00:52<00:00, 31.38it/s]\n"
     ]
    },
    {
     "name": "stdout",
     "output_type": "stream",
     "text": [
      "wl0QZqAzr1DelslQ02JGCQ time\n"
     ]
    },
    {
     "name": "stderr",
     "output_type": "stream",
     "text": [
      "100%|██████████████████████████████████████████████████████████████████████████████| 1662/1662 [00:53<00:00, 31.19it/s]\n"
     ]
    },
    {
     "name": "stdout",
     "output_type": "stream",
     "text": [
      "wmCBxE0PfLZD8sxIwAY59Q\n",
      "wmCBxE0PfLZD8sxIwAY59Q order\n"
     ]
    },
    {
     "name": "stderr",
     "output_type": "stream",
     "text": [
      "100%|████████████████████████████████████████████████████████████████████████████████| 696/696 [00:19<00:00, 36.58it/s]\n"
     ]
    },
    {
     "name": "stdout",
     "output_type": "stream",
     "text": [
      "wmCBxE0PfLZD8sxIwAY59Q time\n"
     ]
    },
    {
     "name": "stderr",
     "output_type": "stream",
     "text": [
      "100%|████████████████████████████████████████████████████████████████████████████████| 696/696 [00:19<00:00, 30.79it/s]\n"
     ]
    },
    {
     "name": "stdout",
     "output_type": "stream",
     "text": [
      "woXlprCuowrLJswWere3TQ\n",
      "woXlprCuowrLJswWere3TQ order\n"
     ]
    },
    {
     "name": "stderr",
     "output_type": "stream",
     "text": [
      "100%|██████████████████████████████████████████████████████████████████████████████| 1156/1156 [00:34<00:00, 33.06it/s]\n"
     ]
    },
    {
     "name": "stdout",
     "output_type": "stream",
     "text": [
      "woXlprCuowrLJswWere3TQ time\n"
     ]
    },
    {
     "name": "stderr",
     "output_type": "stream",
     "text": [
      "100%|██████████████████████████████████████████████████████████████████████████████| 1156/1156 [00:34<00:00, 33.26it/s]\n"
     ]
    },
    {
     "name": "stdout",
     "output_type": "stream",
     "text": [
      "WpI5MZC3XzlTpcUOKXzCbA\n",
      "WpI5MZC3XzlTpcUOKXzCbA order\n"
     ]
    },
    {
     "name": "stderr",
     "output_type": "stream",
     "text": [
      "100%|██████████████████████████████████████████████████████████████████████████████| 1101/1101 [00:36<00:00, 30.22it/s]\n"
     ]
    },
    {
     "name": "stdout",
     "output_type": "stream",
     "text": [
      "WpI5MZC3XzlTpcUOKXzCbA time\n"
     ]
    },
    {
     "name": "stderr",
     "output_type": "stream",
     "text": [
      "100%|██████████████████████████████████████████████████████████████████████████████| 1101/1101 [00:33<00:00, 33.36it/s]\n"
     ]
    },
    {
     "name": "stdout",
     "output_type": "stream",
     "text": [
      "wPiRP76arN0NB3M1ZXXp7g\n",
      "wPiRP76arN0NB3M1ZXXp7g order\n"
     ]
    },
    {
     "name": "stderr",
     "output_type": "stream",
     "text": [
      "100%|████████████████████████████████████████████████████████████████████████████████| 616/616 [00:16<00:00, 38.33it/s]\n"
     ]
    },
    {
     "name": "stdout",
     "output_type": "stream",
     "text": [
      "wPiRP76arN0NB3M1ZXXp7g time\n"
     ]
    },
    {
     "name": "stderr",
     "output_type": "stream",
     "text": [
      "100%|████████████████████████████████████████████████████████████████████████████████| 616/616 [00:16<00:00, 38.21it/s]\n"
     ]
    },
    {
     "name": "stdout",
     "output_type": "stream",
     "text": [
      "wpnLPAnkMEb1NpC3xiD_qg\n",
      "wpnLPAnkMEb1NpC3xiD_qg order\n"
     ]
    },
    {
     "name": "stderr",
     "output_type": "stream",
     "text": [
      "100%|████████████████████████████████████████████████████████████████████████████████| 711/711 [00:19<00:00, 36.82it/s]\n"
     ]
    },
    {
     "name": "stdout",
     "output_type": "stream",
     "text": [
      "wpnLPAnkMEb1NpC3xiD_qg time\n"
     ]
    },
    {
     "name": "stderr",
     "output_type": "stream",
     "text": [
      "100%|████████████████████████████████████████████████████████████████████████████████| 711/711 [00:19<00:00, 36.86it/s]\n"
     ]
    },
    {
     "name": "stdout",
     "output_type": "stream",
     "text": [
      "WRQ-9LluyivReFiQZFUujw\n",
      "WRQ-9LluyivReFiQZFUujw order\n"
     ]
    },
    {
     "name": "stderr",
     "output_type": "stream",
     "text": [
      "100%|████████████████████████████████████████████████████████████████████████████████| 899/899 [00:25<00:00, 34.80it/s]\n"
     ]
    },
    {
     "name": "stdout",
     "output_type": "stream",
     "text": [
      "WRQ-9LluyivReFiQZFUujw time\n"
     ]
    },
    {
     "name": "stderr",
     "output_type": "stream",
     "text": [
      "100%|████████████████████████████████████████████████████████████████████████████████| 899/899 [00:26<00:00, 29.18it/s]\n"
     ]
    },
    {
     "name": "stdout",
     "output_type": "stream",
     "text": [
      "wTjvgkUJMVWrYed9mXdQjg\n",
      "wTjvgkUJMVWrYed9mXdQjg order\n"
     ]
    },
    {
     "name": "stderr",
     "output_type": "stream",
     "text": [
      "100%|████████████████████████████████████████████████████████████████████████████████| 750/750 [00:20<00:00, 29.77it/s]\n"
     ]
    },
    {
     "name": "stdout",
     "output_type": "stream",
     "text": [
      "wTjvgkUJMVWrYed9mXdQjg time\n"
     ]
    },
    {
     "name": "stderr",
     "output_type": "stream",
     "text": [
      "100%|████████████████████████████████████████████████████████████████████████████████| 750/750 [00:26<00:00, 28.81it/s]\n"
     ]
    },
    {
     "name": "stdout",
     "output_type": "stream",
     "text": [
      "wUKzaS1MHg94RGM6z8u9mw\n",
      "wUKzaS1MHg94RGM6z8u9mw order\n"
     ]
    },
    {
     "name": "stderr",
     "output_type": "stream",
     "text": [
      "100%|██████████████████████████████████████████████████████████████████████████████| 1842/1842 [01:04<00:00, 28.45it/s]\n"
     ]
    },
    {
     "name": "stdout",
     "output_type": "stream",
     "text": [
      "wUKzaS1MHg94RGM6z8u9mw time\n"
     ]
    },
    {
     "name": "stderr",
     "output_type": "stream",
     "text": [
      "100%|██████████████████████████████████████████████████████████████████████████████| 1842/1842 [00:59<00:00, 31.18it/s]\n"
     ]
    },
    {
     "name": "stdout",
     "output_type": "stream",
     "text": [
      "wuQDMDlqM17jQNo0lYQZ7g\n",
      "wuQDMDlqM17jQNo0lYQZ7g order\n"
     ]
    },
    {
     "name": "stderr",
     "output_type": "stream",
     "text": [
      "100%|██████████████████████████████████████████████████████████████████████████████| 1194/1194 [00:36<00:00, 28.85it/s]\n"
     ]
    },
    {
     "name": "stdout",
     "output_type": "stream",
     "text": [
      "wuQDMDlqM17jQNo0lYQZ7g time\n"
     ]
    },
    {
     "name": "stderr",
     "output_type": "stream",
     "text": [
      "100%|██████████████████████████████████████████████████████████████████████████████| 1194/1194 [00:37<00:00, 31.65it/s]\n"
     ]
    },
    {
     "name": "stdout",
     "output_type": "stream",
     "text": [
      "wWuGa3OOQJro_XGe-GKBXA\n",
      "wWuGa3OOQJro_XGe-GKBXA order\n"
     ]
    },
    {
     "name": "stderr",
     "output_type": "stream",
     "text": [
      "100%|████████████████████████████████████████████████████████████████████████████████| 620/620 [00:16<00:00, 36.98it/s]\n"
     ]
    },
    {
     "name": "stdout",
     "output_type": "stream",
     "text": [
      "wWuGa3OOQJro_XGe-GKBXA time\n"
     ]
    },
    {
     "name": "stderr",
     "output_type": "stream",
     "text": [
      "100%|████████████████████████████████████████████████████████████████████████████████| 620/620 [00:16<00:00, 37.46it/s]\n"
     ]
    },
    {
     "name": "stdout",
     "output_type": "stream",
     "text": [
      "wX1ORSDKPkA5ftE7F6UONw\n",
      "wX1ORSDKPkA5ftE7F6UONw order\n"
     ]
    },
    {
     "name": "stderr",
     "output_type": "stream",
     "text": [
      "100%|████████████████████████████████████████████████████████████████████████████████| 824/824 [00:23<00:00, 35.47it/s]\n"
     ]
    },
    {
     "name": "stdout",
     "output_type": "stream",
     "text": [
      "wX1ORSDKPkA5ftE7F6UONw time\n"
     ]
    },
    {
     "name": "stderr",
     "output_type": "stream",
     "text": [
      "100%|████████████████████████████████████████████████████████████████████████████████| 824/824 [00:24<00:00, 34.29it/s]\n"
     ]
    },
    {
     "name": "stdout",
     "output_type": "stream",
     "text": [
      "wxL9wgxLeuMMfI6SAXIzJw\n",
      "wxL9wgxLeuMMfI6SAXIzJw order\n"
     ]
    },
    {
     "name": "stderr",
     "output_type": "stream",
     "text": [
      "100%|████████████████████████████████████████████████████████████████████████████████| 658/658 [00:17<00:00, 30.44it/s]\n"
     ]
    },
    {
     "name": "stdout",
     "output_type": "stream",
     "text": [
      "wxL9wgxLeuMMfI6SAXIzJw time\n"
     ]
    },
    {
     "name": "stderr",
     "output_type": "stream",
     "text": [
      "100%|████████████████████████████████████████████████████████████████████████████████| 658/658 [00:17<00:00, 37.32it/s]\n"
     ]
    },
    {
     "name": "stdout",
     "output_type": "stream",
     "text": [
      "Wxxvi3LZbHNIDwJ-ZimtnA\n",
      "Wxxvi3LZbHNIDwJ-ZimtnA order\n"
     ]
    },
    {
     "name": "stderr",
     "output_type": "stream",
     "text": [
      "100%|██████████████████████████████████████████████████████████████████████████████| 3579/3579 [02:07<00:00, 27.65it/s]\n"
     ]
    },
    {
     "name": "stdout",
     "output_type": "stream",
     "text": [
      "Wxxvi3LZbHNIDwJ-ZimtnA time\n"
     ]
    },
    {
     "name": "stderr",
     "output_type": "stream",
     "text": [
      "100%|██████████████████████████████████████████████████████████████████████████████| 3579/3579 [02:06<00:00, 28.61it/s]\n"
     ]
    },
    {
     "name": "stdout",
     "output_type": "stream",
     "text": [
      "wzugmCevnXuCMCF4upAf0w\n",
      "wzugmCevnXuCMCF4upAf0w order\n"
     ]
    },
    {
     "name": "stderr",
     "output_type": "stream",
     "text": [
      "100%|████████████████████████████████████████████████████████████████████████████████| 644/644 [00:17<00:00, 36.18it/s]\n"
     ]
    },
    {
     "name": "stdout",
     "output_type": "stream",
     "text": [
      "wzugmCevnXuCMCF4upAf0w time\n"
     ]
    },
    {
     "name": "stderr",
     "output_type": "stream",
     "text": [
      "100%|████████████████████████████████████████████████████████████████████████████████| 644/644 [00:17<00:00, 37.51it/s]\n"
     ]
    },
    {
     "name": "stdout",
     "output_type": "stream",
     "text": [
      "wZukjLaf1V2dLRQap_Zriw\n",
      "wZukjLaf1V2dLRQap_Zriw order\n"
     ]
    },
    {
     "name": "stderr",
     "output_type": "stream",
     "text": [
      "100%|████████████████████████████████████████████████████████████████████████████████| 990/990 [00:29<00:00, 29.77it/s]\n"
     ]
    },
    {
     "name": "stdout",
     "output_type": "stream",
     "text": [
      "wZukjLaf1V2dLRQap_Zriw time\n"
     ]
    },
    {
     "name": "stderr",
     "output_type": "stream",
     "text": [
      "100%|████████████████████████████████████████████████████████████████████████████████| 990/990 [00:31<00:00, 29.48it/s]\n"
     ]
    },
    {
     "name": "stdout",
     "output_type": "stream",
     "text": [
      "w_UCGMgok7N9p0XdYBx1VQ\n",
      "w_UCGMgok7N9p0XdYBx1VQ order\n"
     ]
    },
    {
     "name": "stderr",
     "output_type": "stream",
     "text": [
      "100%|████████████████████████████████████████████████████████████████████████████████| 700/700 [00:19<00:00, 36.83it/s]\n"
     ]
    },
    {
     "name": "stdout",
     "output_type": "stream",
     "text": [
      "w_UCGMgok7N9p0XdYBx1VQ time\n"
     ]
    },
    {
     "name": "stderr",
     "output_type": "stream",
     "text": [
      "100%|████████████████████████████████████████████████████████████████████████████████| 700/700 [00:18<00:00, 36.98it/s]\n"
     ]
    },
    {
     "name": "stdout",
     "output_type": "stream",
     "text": [
      "X-WXPGYuuknAjZkpYGeRiw\n",
      "X-WXPGYuuknAjZkpYGeRiw order\n"
     ]
    },
    {
     "name": "stderr",
     "output_type": "stream",
     "text": [
      "100%|████████████████████████████████████████████████████████████████████████████████| 535/535 [00:13<00:00, 35.39it/s]\n"
     ]
    },
    {
     "name": "stdout",
     "output_type": "stream",
     "text": [
      "X-WXPGYuuknAjZkpYGeRiw time\n"
     ]
    },
    {
     "name": "stderr",
     "output_type": "stream",
     "text": [
      "100%|████████████████████████████████████████████████████████████████████████████████| 535/535 [00:13<00:00, 39.86it/s]\n"
     ]
    },
    {
     "name": "stdout",
     "output_type": "stream",
     "text": [
      "X3ec1nuK2BmOULN4Kk3Fgw\n",
      "X3ec1nuK2BmOULN4Kk3Fgw order\n"
     ]
    },
    {
     "name": "stderr",
     "output_type": "stream",
     "text": [
      "100%|████████████████████████████████████████████████████████████████████████████████| 620/620 [00:22<00:00, 28.77it/s]\n"
     ]
    },
    {
     "name": "stdout",
     "output_type": "stream",
     "text": [
      "X3ec1nuK2BmOULN4Kk3Fgw time\n"
     ]
    },
    {
     "name": "stderr",
     "output_type": "stream",
     "text": [
      "100%|████████████████████████████████████████████████████████████████████████████████| 620/620 [00:23<00:00, 18.06it/s]\n"
     ]
    },
    {
     "name": "stdout",
     "output_type": "stream",
     "text": [
      "X8c23dur0ll2D9XTu-I8Qg\n",
      "X8c23dur0ll2D9XTu-I8Qg order\n"
     ]
    },
    {
     "name": "stderr",
     "output_type": "stream",
     "text": [
      "100%|██████████████████████████████████████████████████████████████████████████████| 1838/1838 [01:29<00:00, 22.53it/s]\n"
     ]
    },
    {
     "name": "stdout",
     "output_type": "stream",
     "text": [
      "X8c23dur0ll2D9XTu-I8Qg time\n"
     ]
    },
    {
     "name": "stderr",
     "output_type": "stream",
     "text": [
      "100%|██████████████████████████████████████████████████████████████████████████████| 1838/1838 [01:15<00:00, 24.90it/s]\n"
     ]
    },
    {
     "name": "stdout",
     "output_type": "stream",
     "text": [
      "xB7bsOpJbnK9nHEZw1ARDg\n",
      "xB7bsOpJbnK9nHEZw1ARDg order\n"
     ]
    },
    {
     "name": "stderr",
     "output_type": "stream",
     "text": [
      "100%|████████████████████████████████████████████████████████████████████████████████| 563/563 [00:17<00:00, 31.83it/s]\n"
     ]
    },
    {
     "name": "stdout",
     "output_type": "stream",
     "text": [
      "xB7bsOpJbnK9nHEZw1ARDg time\n"
     ]
    },
    {
     "name": "stderr",
     "output_type": "stream",
     "text": [
      "100%|████████████████████████████████████████████████████████████████████████████████| 563/563 [00:16<00:00, 33.37it/s]\n"
     ]
    },
    {
     "name": "stdout",
     "output_type": "stream",
     "text": [
      "XC06xxb7FFYsXcI2E38IIw\n",
      "XC06xxb7FFYsXcI2E38IIw order\n"
     ]
    },
    {
     "name": "stderr",
     "output_type": "stream",
     "text": [
      "100%|████████████████████████████████████████████████████████████████████████████████| 740/740 [00:28<00:00, 17.53it/s]\n"
     ]
    },
    {
     "name": "stdout",
     "output_type": "stream",
     "text": [
      "XC06xxb7FFYsXcI2E38IIw time\n"
     ]
    },
    {
     "name": "stderr",
     "output_type": "stream",
     "text": [
      "100%|████████████████████████████████████████████████████████████████████████████████| 740/740 [00:33<00:00, 14.15it/s]\n"
     ]
    },
    {
     "name": "stdout",
     "output_type": "stream",
     "text": [
      "xcmmTXhuMx2fZF2Bt69F4w\n",
      "xcmmTXhuMx2fZF2Bt69F4w order\n"
     ]
    },
    {
     "name": "stderr",
     "output_type": "stream",
     "text": [
      "100%|████████████████████████████████████████████████████████████████████████████████| 567/567 [00:19<00:00, 25.28it/s]\n"
     ]
    },
    {
     "name": "stdout",
     "output_type": "stream",
     "text": [
      "xcmmTXhuMx2fZF2Bt69F4w time\n"
     ]
    },
    {
     "name": "stderr",
     "output_type": "stream",
     "text": [
      "100%|████████████████████████████████████████████████████████████████████████████████| 567/567 [00:18<00:00, 26.08it/s]\n"
     ]
    },
    {
     "name": "stdout",
     "output_type": "stream",
     "text": [
      "xdD3EXvF_p9WUiwwKpol_w\n",
      "xdD3EXvF_p9WUiwwKpol_w order\n"
     ]
    },
    {
     "name": "stderr",
     "output_type": "stream",
     "text": [
      "100%|████████████████████████████████████████████████████████████████████████████████| 554/554 [00:17<00:00, 28.61it/s]\n"
     ]
    },
    {
     "name": "stdout",
     "output_type": "stream",
     "text": [
      "xdD3EXvF_p9WUiwwKpol_w time\n"
     ]
    },
    {
     "name": "stderr",
     "output_type": "stream",
     "text": [
      "100%|████████████████████████████████████████████████████████████████████████████████| 554/554 [00:16<00:00, 33.09it/s]\n"
     ]
    },
    {
     "name": "stdout",
     "output_type": "stream",
     "text": [
      "xfWdUmrz2ha3rcigyITV0g\n",
      "xfWdUmrz2ha3rcigyITV0g order\n"
     ]
    },
    {
     "name": "stderr",
     "output_type": "stream",
     "text": [
      "100%|██████████████████████████████████████████████████████████████████████████████| 1796/1796 [01:05<00:00, 27.44it/s]\n"
     ]
    },
    {
     "name": "stdout",
     "output_type": "stream",
     "text": [
      "xfWdUmrz2ha3rcigyITV0g time\n"
     ]
    },
    {
     "name": "stderr",
     "output_type": "stream",
     "text": [
      "100%|██████████████████████████████████████████████████████████████████████████████| 1796/1796 [01:07<00:00, 19.02it/s]\n"
     ]
    },
    {
     "name": "stdout",
     "output_type": "stream",
     "text": [
      "xfzDtGxx6B4a27RAyah69w\n",
      "xfzDtGxx6B4a27RAyah69w order\n"
     ]
    },
    {
     "name": "stderr",
     "output_type": "stream",
     "text": [
      "100%|████████████████████████████████████████████████████████████████████████████████| 749/749 [00:34<00:00, 17.64it/s]\n"
     ]
    },
    {
     "name": "stdout",
     "output_type": "stream",
     "text": [
      "xfzDtGxx6B4a27RAyah69w time\n"
     ]
    },
    {
     "name": "stderr",
     "output_type": "stream",
     "text": [
      "100%|████████████████████████████████████████████████████████████████████████████████| 749/749 [00:30<00:00, 11.54it/s]\n"
     ]
    },
    {
     "name": "stdout",
     "output_type": "stream",
     "text": [
      "Xg5qEQiB-7L6kGJ5F4K3bQ\n",
      "Xg5qEQiB-7L6kGJ5F4K3bQ order\n"
     ]
    },
    {
     "name": "stderr",
     "output_type": "stream",
     "text": [
      "100%|██████████████████████████████████████████████████████████████████████████████| 1982/1982 [02:48<00:00,  6.70it/s]\n"
     ]
    },
    {
     "name": "stdout",
     "output_type": "stream",
     "text": [
      "Xg5qEQiB-7L6kGJ5F4K3bQ time\n"
     ]
    },
    {
     "name": "stderr",
     "output_type": "stream",
     "text": [
      "100%|██████████████████████████████████████████████████████████████████████████████| 1982/1982 [02:48<00:00, 11.02it/s]\n"
     ]
    },
    {
     "name": "stdout",
     "output_type": "stream",
     "text": [
      "XgRljuEUyaHBKIpIz-PRAA\n",
      "XgRljuEUyaHBKIpIz-PRAA order\n"
     ]
    },
    {
     "name": "stderr",
     "output_type": "stream",
     "text": [
      "100%|████████████████████████████████████████████████████████████████████████████████| 613/613 [00:44<00:00, 13.85it/s]\n"
     ]
    },
    {
     "name": "stdout",
     "output_type": "stream",
     "text": [
      "XgRljuEUyaHBKIpIz-PRAA time\n"
     ]
    },
    {
     "name": "stderr",
     "output_type": "stream",
     "text": [
      "100%|████████████████████████████████████████████████████████████████████████████████| 613/613 [00:43<00:00, 14.09it/s]\n"
     ]
    },
    {
     "name": "stdout",
     "output_type": "stream",
     "text": [
      "XgsIf7s2zM-cC29WUD-NZQ\n",
      "XgsIf7s2zM-cC29WUD-NZQ order\n"
     ]
    },
    {
     "name": "stderr",
     "output_type": "stream",
     "text": [
      "100%|████████████████████████████████████████████████████████████████████████████████| 692/692 [00:51<00:00, 11.90it/s]\n"
     ]
    },
    {
     "name": "stdout",
     "output_type": "stream",
     "text": [
      "XgsIf7s2zM-cC29WUD-NZQ time\n"
     ]
    },
    {
     "name": "stderr",
     "output_type": "stream",
     "text": [
      "100%|████████████████████████████████████████████████████████████████████████████████| 692/692 [00:50<00:00, 11.81it/s]\n"
     ]
    },
    {
     "name": "stdout",
     "output_type": "stream",
     "text": [
      "xI8GXDAdJcPX5dIP0acBvw\n",
      "xI8GXDAdJcPX5dIP0acBvw order\n"
     ]
    },
    {
     "name": "stderr",
     "output_type": "stream",
     "text": [
      "100%|████████████████████████████████████████████████████████████████████████████████| 526/526 [00:36<00:00, 12.89it/s]\n"
     ]
    },
    {
     "name": "stdout",
     "output_type": "stream",
     "text": [
      "xI8GXDAdJcPX5dIP0acBvw time\n"
     ]
    },
    {
     "name": "stderr",
     "output_type": "stream",
     "text": [
      "100%|████████████████████████████████████████████████████████████████████████████████| 526/526 [00:36<00:00, 14.24it/s]\n"
     ]
    },
    {
     "name": "stdout",
     "output_type": "stream",
     "text": [
      "xIbtbAJLWLNZcqfqF4f-Nw\n",
      "xIbtbAJLWLNZcqfqF4f-Nw order\n"
     ]
    },
    {
     "name": "stderr",
     "output_type": "stream",
     "text": [
      "100%|████████████████████████████████████████████████████████████████████████████████| 929/929 [01:10<00:00, 13.21it/s]\n"
     ]
    },
    {
     "name": "stdout",
     "output_type": "stream",
     "text": [
      "xIbtbAJLWLNZcqfqF4f-Nw time\n"
     ]
    },
    {
     "name": "stderr",
     "output_type": "stream",
     "text": [
      "100%|████████████████████████████████████████████████████████████████████████████████| 929/929 [01:10<00:00, 13.10it/s]\n"
     ]
    },
    {
     "name": "stdout",
     "output_type": "stream",
     "text": [
      "Xj7DIGRHEchJ-VVdISazQQ\n",
      "Xj7DIGRHEchJ-VVdISazQQ order\n"
     ]
    },
    {
     "name": "stderr",
     "output_type": "stream",
     "text": [
      "100%|██████████████████████████████████████████████████████████████████████████████| 1277/1277 [01:48<00:00,  7.86it/s]\n"
     ]
    },
    {
     "name": "stdout",
     "output_type": "stream",
     "text": [
      "Xj7DIGRHEchJ-VVdISazQQ time\n"
     ]
    },
    {
     "name": "stderr",
     "output_type": "stream",
     "text": [
      "100%|██████████████████████████████████████████████████████████████████████████████| 1277/1277 [01:47<00:00, 11.33it/s]\n"
     ]
    },
    {
     "name": "stdout",
     "output_type": "stream",
     "text": [
      "xjjxHavx4RIiW6zS6rasGA\n",
      "xjjxHavx4RIiW6zS6rasGA order\n"
     ]
    },
    {
     "name": "stderr",
     "output_type": "stream",
     "text": [
      "100%|████████████████████████████████████████████████████████████████████████████████| 605/605 [00:48<00:00,  7.47it/s]\n"
     ]
    },
    {
     "name": "stdout",
     "output_type": "stream",
     "text": [
      "xjjxHavx4RIiW6zS6rasGA time\n"
     ]
    },
    {
     "name": "stderr",
     "output_type": "stream",
     "text": [
      "100%|████████████████████████████████████████████████████████████████████████████████| 605/605 [01:03<00:00, 14.67it/s]\n"
     ]
    },
    {
     "name": "stdout",
     "output_type": "stream",
     "text": [
      "xkVMIk_Vqh17f48ZQ_6b0w\n",
      "xkVMIk_Vqh17f48ZQ_6b0w order\n"
     ]
    },
    {
     "name": "stderr",
     "output_type": "stream",
     "text": [
      "100%|██████████████████████████████████████████████████████████████████████████████| 2318/2318 [04:07<00:00,  9.00it/s]\n"
     ]
    },
    {
     "name": "stdout",
     "output_type": "stream",
     "text": [
      "xkVMIk_Vqh17f48ZQ_6b0w time\n"
     ]
    },
    {
     "name": "stderr",
     "output_type": "stream",
     "text": [
      "100%|██████████████████████████████████████████████████████████████████████████████| 2318/2318 [04:23<00:00,  9.58it/s]\n"
     ]
    },
    {
     "name": "stdout",
     "output_type": "stream",
     "text": [
      "xlXwxfiUD4bgJFKUYwkzOg\n",
      "xlXwxfiUD4bgJFKUYwkzOg order\n"
     ]
    },
    {
     "name": "stderr",
     "output_type": "stream",
     "text": [
      "100%|████████████████████████████████████████████████████████████████████████████████| 667/667 [00:57<00:00, 11.63it/s]\n"
     ]
    },
    {
     "name": "stdout",
     "output_type": "stream",
     "text": [
      "xlXwxfiUD4bgJFKUYwkzOg time\n"
     ]
    },
    {
     "name": "stderr",
     "output_type": "stream",
     "text": [
      "100%|████████████████████████████████████████████████████████████████████████████████| 667/667 [00:43<00:00, 15.23it/s]\n"
     ]
    },
    {
     "name": "stdout",
     "output_type": "stream",
     "text": [
      "XMMLRvV4IMxIGyc4H37LxA\n",
      "XMMLRvV4IMxIGyc4H37LxA order\n"
     ]
    },
    {
     "name": "stderr",
     "output_type": "stream",
     "text": [
      "100%|██████████████████████████████████████████████████████████████████████████████| 1185/1185 [01:28<00:00, 13.32it/s]\n"
     ]
    },
    {
     "name": "stdout",
     "output_type": "stream",
     "text": [
      "XMMLRvV4IMxIGyc4H37LxA time\n"
     ]
    },
    {
     "name": "stderr",
     "output_type": "stream",
     "text": [
      "100%|██████████████████████████████████████████████████████████████████████████████| 1185/1185 [01:43<00:00, 11.49it/s]\n"
     ]
    },
    {
     "name": "stdout",
     "output_type": "stream",
     "text": [
      "XmsBtCykUtObXg4Q1mYpvg\n",
      "XmsBtCykUtObXg4Q1mYpvg order\n"
     ]
    },
    {
     "name": "stderr",
     "output_type": "stream",
     "text": [
      "100%|██████████████████████████████████████████████████████████████████████████████| 1087/1087 [01:25<00:00, 12.72it/s]\n"
     ]
    },
    {
     "name": "stdout",
     "output_type": "stream",
     "text": [
      "XmsBtCykUtObXg4Q1mYpvg time\n"
     ]
    },
    {
     "name": "stderr",
     "output_type": "stream",
     "text": [
      "100%|██████████████████████████████████████████████████████████████████████████████| 1087/1087 [01:33<00:00, 10.79it/s]\n"
     ]
    },
    {
     "name": "stdout",
     "output_type": "stream",
     "text": [
      "XnJeadLrlj9AZB8qSdIR2Q\n",
      "XnJeadLrlj9AZB8qSdIR2Q order\n"
     ]
    },
    {
     "name": "stderr",
     "output_type": "stream",
     "text": [
      "100%|████████████████████████████████████████████████████████████████████████████████| 976/976 [01:25<00:00, 10.77it/s]\n"
     ]
    },
    {
     "name": "stdout",
     "output_type": "stream",
     "text": [
      "XnJeadLrlj9AZB8qSdIR2Q time\n"
     ]
    },
    {
     "name": "stderr",
     "output_type": "stream",
     "text": [
      "100%|████████████████████████████████████████████████████████████████████████████████| 976/976 [01:30<00:00, 10.74it/s]\n"
     ]
    },
    {
     "name": "stdout",
     "output_type": "stream",
     "text": [
      "XQETjKH84gxDrAiz2lH7Wg\n",
      "XQETjKH84gxDrAiz2lH7Wg order\n"
     ]
    },
    {
     "name": "stderr",
     "output_type": "stream",
     "text": [
      "100%|████████████████████████████████████████████████████████████████████████████████| 770/770 [01:01<00:00, 12.56it/s]\n"
     ]
    },
    {
     "name": "stdout",
     "output_type": "stream",
     "text": [
      "XQETjKH84gxDrAiz2lH7Wg time\n"
     ]
    },
    {
     "name": "stderr",
     "output_type": "stream",
     "text": [
      "100%|████████████████████████████████████████████████████████████████████████████████| 770/770 [01:01<00:00, 11.28it/s]\n"
     ]
    },
    {
     "name": "stdout",
     "output_type": "stream",
     "text": [
      "XQJr9_jZR1vOoZVcZfDDwQ\n",
      "XQJr9_jZR1vOoZVcZfDDwQ order\n"
     ]
    },
    {
     "name": "stderr",
     "output_type": "stream",
     "text": [
      "100%|████████████████████████████████████████████████████████████████████████████████| 839/839 [01:09<00:00, 11.51it/s]\n"
     ]
    },
    {
     "name": "stdout",
     "output_type": "stream",
     "text": [
      "XQJr9_jZR1vOoZVcZfDDwQ time\n"
     ]
    },
    {
     "name": "stderr",
     "output_type": "stream",
     "text": [
      "100%|████████████████████████████████████████████████████████████████████████████████| 839/839 [01:03<00:00, 13.17it/s]\n"
     ]
    },
    {
     "name": "stdout",
     "output_type": "stream",
     "text": [
      "xR1gLCH5resvtq1eV1nebg\n",
      "xR1gLCH5resvtq1eV1nebg order\n"
     ]
    },
    {
     "name": "stderr",
     "output_type": "stream",
     "text": [
      "100%|████████████████████████████████████████████████████████████████████████████████| 755/755 [00:55<00:00, 11.62it/s]\n"
     ]
    },
    {
     "name": "stdout",
     "output_type": "stream",
     "text": [
      "xR1gLCH5resvtq1eV1nebg time\n"
     ]
    },
    {
     "name": "stderr",
     "output_type": "stream",
     "text": [
      "100%|████████████████████████████████████████████████████████████████████████████████| 755/755 [01:01<00:00, 11.90it/s]\n"
     ]
    },
    {
     "name": "stdout",
     "output_type": "stream",
     "text": [
      "XsSgv3vBOyOBXn3Co8EVIg\n",
      "XsSgv3vBOyOBXn3Co8EVIg order\n"
     ]
    },
    {
     "name": "stderr",
     "output_type": "stream",
     "text": [
      "100%|████████████████████████████████████████████████████████████████████████████████| 539/539 [00:38<00:00, 13.22it/s]\n"
     ]
    },
    {
     "name": "stdout",
     "output_type": "stream",
     "text": [
      "XsSgv3vBOyOBXn3Co8EVIg time\n"
     ]
    },
    {
     "name": "stderr",
     "output_type": "stream",
     "text": [
      "100%|████████████████████████████████████████████████████████████████████████████████| 539/539 [00:41<00:00, 12.49it/s]\n"
     ]
    },
    {
     "name": "stdout",
     "output_type": "stream",
     "text": [
      "xtYiHTmunjfCN2sUaQxBjA\n",
      "xtYiHTmunjfCN2sUaQxBjA order\n"
     ]
    },
    {
     "name": "stderr",
     "output_type": "stream",
     "text": [
      "100%|██████████████████████████████████████████████████████████████████████████████| 2580/2580 [03:53<00:00,  9.73it/s]\n"
     ]
    },
    {
     "name": "stdout",
     "output_type": "stream",
     "text": [
      "xtYiHTmunjfCN2sUaQxBjA time\n"
     ]
    },
    {
     "name": "stderr",
     "output_type": "stream",
     "text": [
      "100%|██████████████████████████████████████████████████████████████████████████████| 2580/2580 [03:51<00:00,  9.65it/s]\n"
     ]
    },
    {
     "name": "stdout",
     "output_type": "stream",
     "text": [
      "xVEtGucSRLk5pxxN0t4i6g\n",
      "xVEtGucSRLk5pxxN0t4i6g order\n"
     ]
    },
    {
     "name": "stderr",
     "output_type": "stream",
     "text": [
      "100%|██████████████████████████████████████████████████████████████████████████████| 1896/1896 [02:41<00:00, 11.90it/s]\n"
     ]
    },
    {
     "name": "stdout",
     "output_type": "stream",
     "text": [
      "xVEtGucSRLk5pxxN0t4i6g time\n"
     ]
    },
    {
     "name": "stderr",
     "output_type": "stream",
     "text": [
      "100%|██████████████████████████████████████████████████████████████████████████████| 1896/1896 [02:56<00:00,  9.44it/s]\n"
     ]
    },
    {
     "name": "stdout",
     "output_type": "stream",
     "text": [
      "XwJ6fZRVbxQYRsryy4-qDw\n",
      "XwJ6fZRVbxQYRsryy4-qDw order\n"
     ]
    },
    {
     "name": "stderr",
     "output_type": "stream",
     "text": [
      "100%|████████████████████████████████████████████████████████████████████████████████| 599/599 [00:47<00:00, 12.67it/s]\n"
     ]
    },
    {
     "name": "stdout",
     "output_type": "stream",
     "text": [
      "XwJ6fZRVbxQYRsryy4-qDw time\n"
     ]
    },
    {
     "name": "stderr",
     "output_type": "stream",
     "text": [
      "100%|████████████████████████████████████████████████████████████████████████████████| 599/599 [00:49<00:00, 12.38it/s]\n"
     ]
    },
    {
     "name": "stdout",
     "output_type": "stream",
     "text": [
      "XXW_OFaYQkkGOGniujZFHg\n",
      "XXW_OFaYQkkGOGniujZFHg order\n"
     ]
    },
    {
     "name": "stderr",
     "output_type": "stream",
     "text": [
      "100%|██████████████████████████████████████████████████████████████████████████████| 3330/3330 [05:23<00:00,  7.30it/s]\n"
     ]
    },
    {
     "name": "stdout",
     "output_type": "stream",
     "text": [
      "XXW_OFaYQkkGOGniujZFHg time\n"
     ]
    },
    {
     "name": "stderr",
     "output_type": "stream",
     "text": [
      "100%|██████████████████████████████████████████████████████████████████████████████| 3330/3330 [05:41<00:00,  9.74it/s]\n"
     ]
    },
    {
     "name": "stdout",
     "output_type": "stream",
     "text": [
      "XZbuPXdyA0ZtTu3AzqtQhg\n",
      "XZbuPXdyA0ZtTu3AzqtQhg order\n"
     ]
    },
    {
     "name": "stderr",
     "output_type": "stream",
     "text": [
      "100%|██████████████████████████████████████████████████████████████████████████████| 3339/3339 [05:24<00:00,  7.07it/s]\n"
     ]
    },
    {
     "name": "stdout",
     "output_type": "stream",
     "text": [
      "XZbuPXdyA0ZtTu3AzqtQhg time\n"
     ]
    },
    {
     "name": "stderr",
     "output_type": "stream",
     "text": [
      "100%|██████████████████████████████████████████████████████████████████████████████| 3339/3339 [05:18<00:00, 10.49it/s]\n"
     ]
    },
    {
     "name": "stdout",
     "output_type": "stream",
     "text": [
      "xZhNZb01n9b4e2X7bZdoVQ\n",
      "xZhNZb01n9b4e2X7bZdoVQ order\n"
     ]
    },
    {
     "name": "stderr",
     "output_type": "stream",
     "text": [
      "100%|████████████████████████████████████████████████████████████████████████████████| 617/617 [00:53<00:00, 11.46it/s]\n"
     ]
    },
    {
     "name": "stdout",
     "output_type": "stream",
     "text": [
      "xZhNZb01n9b4e2X7bZdoVQ time\n"
     ]
    },
    {
     "name": "stderr",
     "output_type": "stream",
     "text": [
      "100%|████████████████████████████████████████████████████████████████████████████████| 617/617 [00:53<00:00,  7.51it/s]\n"
     ]
    },
    {
     "name": "stdout",
     "output_type": "stream",
     "text": [
      "Y-S2LhHefBdnX8VP5Bh_JA\n",
      "Y-S2LhHefBdnX8VP5Bh_JA order\n"
     ]
    },
    {
     "name": "stderr",
     "output_type": "stream",
     "text": [
      "100%|██████████████████████████████████████████████████████████████████████████████| 1028/1028 [01:31<00:00, 11.11it/s]\n"
     ]
    },
    {
     "name": "stdout",
     "output_type": "stream",
     "text": [
      "Y-S2LhHefBdnX8VP5Bh_JA time\n"
     ]
    },
    {
     "name": "stderr",
     "output_type": "stream",
     "text": [
      "100%|██████████████████████████████████████████████████████████████████████████████| 1028/1028 [01:26<00:00, 11.03it/s]\n"
     ]
    },
    {
     "name": "stdout",
     "output_type": "stream",
     "text": [
      "y0x795PyDX8JL_oyIaTUiQ\n",
      "y0x795PyDX8JL_oyIaTUiQ order\n"
     ]
    },
    {
     "name": "stderr",
     "output_type": "stream",
     "text": [
      "100%|████████████████████████████████████████████████████████████████████████████████| 524/524 [00:39<00:00, 13.22it/s]\n"
     ]
    },
    {
     "name": "stdout",
     "output_type": "stream",
     "text": [
      "y0x795PyDX8JL_oyIaTUiQ time\n"
     ]
    },
    {
     "name": "stderr",
     "output_type": "stream",
     "text": [
      "100%|████████████████████████████████████████████████████████████████████████████████| 524/524 [00:37<00:00,  8.83it/s]\n"
     ]
    },
    {
     "name": "stdout",
     "output_type": "stream",
     "text": [
      "y1eeVRfJa22CCpUCeNfrSw\n",
      "y1eeVRfJa22CCpUCeNfrSw order\n"
     ]
    },
    {
     "name": "stderr",
     "output_type": "stream",
     "text": [
      "100%|████████████████████████████████████████████████████████████████████████████████| 563/563 [00:41<00:00, 13.64it/s]\n"
     ]
    },
    {
     "name": "stdout",
     "output_type": "stream",
     "text": [
      "y1eeVRfJa22CCpUCeNfrSw time\n"
     ]
    },
    {
     "name": "stderr",
     "output_type": "stream",
     "text": [
      "100%|████████████████████████████████████████████████████████████████████████████████| 563/563 [00:42<00:00, 13.37it/s]\n"
     ]
    },
    {
     "name": "stdout",
     "output_type": "stream",
     "text": [
      "y4ETe3DkcIjjr_eyeg5U5g\n",
      "y4ETe3DkcIjjr_eyeg5U5g order\n"
     ]
    },
    {
     "name": "stderr",
     "output_type": "stream",
     "text": [
      "100%|████████████████████████████████████████████████████████████████████████████████| 967/967 [01:25<00:00, 10.79it/s]\n"
     ]
    },
    {
     "name": "stdout",
     "output_type": "stream",
     "text": [
      "y4ETe3DkcIjjr_eyeg5U5g time\n"
     ]
    },
    {
     "name": "stderr",
     "output_type": "stream",
     "text": [
      "100%|████████████████████████████████████████████████████████████████████████████████| 967/967 [01:20<00:00, 10.25it/s]\n"
     ]
    },
    {
     "name": "stdout",
     "output_type": "stream",
     "text": [
      "Y5CTA3S9TVkpr3Yvwaki-A\n",
      "Y5CTA3S9TVkpr3Yvwaki-A order\n"
     ]
    },
    {
     "name": "stderr",
     "output_type": "stream",
     "text": [
      "100%|████████████████████████████████████████████████████████████████████████████████| 572/572 [00:42<00:00, 13.33it/s]\n"
     ]
    },
    {
     "name": "stdout",
     "output_type": "stream",
     "text": [
      "Y5CTA3S9TVkpr3Yvwaki-A time\n"
     ]
    },
    {
     "name": "stderr",
     "output_type": "stream",
     "text": [
      "100%|████████████████████████████████████████████████████████████████████████████████| 572/572 [00:43<00:00, 13.19it/s]\n"
     ]
    },
    {
     "name": "stdout",
     "output_type": "stream",
     "text": [
      "y6QP5IrOJ7_FsB51jN2_Jg\n",
      "y6QP5IrOJ7_FsB51jN2_Jg order\n"
     ]
    },
    {
     "name": "stderr",
     "output_type": "stream",
     "text": [
      "100%|████████████████████████████████████████████████████████████████████████████████| 658/658 [00:50<00:00, 12.99it/s]\n"
     ]
    },
    {
     "name": "stdout",
     "output_type": "stream",
     "text": [
      "y6QP5IrOJ7_FsB51jN2_Jg time\n"
     ]
    },
    {
     "name": "stderr",
     "output_type": "stream",
     "text": [
      "100%|████████████████████████████████████████████████████████████████████████████████| 658/658 [00:50<00:00, 10.64it/s]\n"
     ]
    },
    {
     "name": "stdout",
     "output_type": "stream",
     "text": [
      "y7Js-07RF8d3N_AEtaw2VQ\n",
      "y7Js-07RF8d3N_AEtaw2VQ order\n"
     ]
    },
    {
     "name": "stderr",
     "output_type": "stream",
     "text": [
      "100%|██████████████████████████████████████████████████████████████████████████████| 1061/1061 [01:33<00:00, 11.29it/s]\n"
     ]
    },
    {
     "name": "stdout",
     "output_type": "stream",
     "text": [
      "y7Js-07RF8d3N_AEtaw2VQ time\n"
     ]
    },
    {
     "name": "stderr",
     "output_type": "stream",
     "text": [
      "100%|██████████████████████████████████████████████████████████████████████████████| 1061/1061 [01:33<00:00, 11.35it/s]\n"
     ]
    },
    {
     "name": "stdout",
     "output_type": "stream",
     "text": [
      "y8d90Pt16Nip-B5UXWBP-w\n",
      "y8d90Pt16Nip-B5UXWBP-w order\n"
     ]
    },
    {
     "name": "stderr",
     "output_type": "stream",
     "text": [
      "100%|████████████████████████████████████████████████████████████████████████████████| 969/969 [01:20<00:00, 12.05it/s]\n"
     ]
    },
    {
     "name": "stdout",
     "output_type": "stream",
     "text": [
      "y8d90Pt16Nip-B5UXWBP-w time\n"
     ]
    },
    {
     "name": "stderr",
     "output_type": "stream",
     "text": [
      "100%|████████████████████████████████████████████████████████████████████████████████| 969/969 [01:19<00:00, 12.26it/s]\n"
     ]
    },
    {
     "name": "stdout",
     "output_type": "stream",
     "text": [
      "yA6dKNm_zl1ucZCnwW8ZCg\n",
      "yA6dKNm_zl1ucZCnwW8ZCg order\n"
     ]
    },
    {
     "name": "stderr",
     "output_type": "stream",
     "text": [
      "100%|████████████████████████████████████████████████████████████████████████████████| 604/604 [00:45<00:00, 13.22it/s]\n"
     ]
    },
    {
     "name": "stdout",
     "output_type": "stream",
     "text": [
      "yA6dKNm_zl1ucZCnwW8ZCg time\n"
     ]
    },
    {
     "name": "stderr",
     "output_type": "stream",
     "text": [
      "100%|████████████████████████████████████████████████████████████████████████████████| 604/604 [00:45<00:00, 12.15it/s]\n"
     ]
    },
    {
     "name": "stdout",
     "output_type": "stream",
     "text": [
      "ybHlmdUHLPKfv85bRK4Wtw\n",
      "ybHlmdUHLPKfv85bRK4Wtw order\n"
     ]
    },
    {
     "name": "stderr",
     "output_type": "stream",
     "text": [
      "100%|██████████████████████████████████████████████████████████████████████████████| 1150/1150 [01:39<00:00, 11.60it/s]\n"
     ]
    },
    {
     "name": "stdout",
     "output_type": "stream",
     "text": [
      "ybHlmdUHLPKfv85bRK4Wtw time\n"
     ]
    },
    {
     "name": "stderr",
     "output_type": "stream",
     "text": [
      "100%|██████████████████████████████████████████████████████████████████████████████| 1150/1150 [00:45<00:00, 25.44it/s]\n"
     ]
    },
    {
     "name": "stdout",
     "output_type": "stream",
     "text": [
      "yet0Pww_ouW49T7V41ecSw\n",
      "yet0Pww_ouW49T7V41ecSw order\n"
     ]
    },
    {
     "name": "stderr",
     "output_type": "stream",
     "text": [
      "100%|████████████████████████████████████████████████████████████████████████████████| 609/609 [00:15<00:00, 38.16it/s]\n"
     ]
    },
    {
     "name": "stdout",
     "output_type": "stream",
     "text": [
      "yet0Pww_ouW49T7V41ecSw time\n"
     ]
    },
    {
     "name": "stderr",
     "output_type": "stream",
     "text": [
      "100%|████████████████████████████████████████████████████████████████████████████████| 609/609 [00:15<00:00, 38.48it/s]\n"
     ]
    },
    {
     "name": "stdout",
     "output_type": "stream",
     "text": [
      "YF4QJ_j-PM7cMZja6K1MwQ\n",
      "YF4QJ_j-PM7cMZja6K1MwQ order\n"
     ]
    },
    {
     "name": "stderr",
     "output_type": "stream",
     "text": [
      "100%|████████████████████████████████████████████████████████████████████████████████| 809/809 [00:23<00:00, 27.53it/s]\n"
     ]
    },
    {
     "name": "stdout",
     "output_type": "stream",
     "text": [
      "YF4QJ_j-PM7cMZja6K1MwQ time\n"
     ]
    },
    {
     "name": "stderr",
     "output_type": "stream",
     "text": [
      "100%|████████████████████████████████████████████████████████████████████████████████| 809/809 [00:23<00:00, 24.22it/s]\n"
     ]
    },
    {
     "name": "stdout",
     "output_type": "stream",
     "text": [
      "yfxDa8RFOvJPQh0rNtakHA\n",
      "yfxDa8RFOvJPQh0rNtakHA order\n"
     ]
    },
    {
     "name": "stderr",
     "output_type": "stream",
     "text": [
      "100%|██████████████████████████████████████████████████████████████████████████████| 3106/3106 [01:45<00:00, 29.56it/s]\n"
     ]
    },
    {
     "name": "stdout",
     "output_type": "stream",
     "text": [
      "yfxDa8RFOvJPQh0rNtakHA time\n"
     ]
    },
    {
     "name": "stderr",
     "output_type": "stream",
     "text": [
      "100%|██████████████████████████████████████████████████████████████████████████████| 3106/3106 [01:45<00:00, 29.42it/s]\n"
     ]
    },
    {
     "name": "stdout",
     "output_type": "stream",
     "text": [
      "ygaOvp0PLBYaYeN9cZAlGg\n",
      "ygaOvp0PLBYaYeN9cZAlGg order\n"
     ]
    },
    {
     "name": "stderr",
     "output_type": "stream",
     "text": [
      "100%|██████████████████████████████████████████████████████████████████████████████| 1014/1014 [00:31<00:00, 32.22it/s]\n"
     ]
    },
    {
     "name": "stdout",
     "output_type": "stream",
     "text": [
      "ygaOvp0PLBYaYeN9cZAlGg time\n"
     ]
    },
    {
     "name": "stderr",
     "output_type": "stream",
     "text": [
      "100%|██████████████████████████████████████████████████████████████████████████████| 1014/1014 [00:30<00:00, 33.49it/s]\n"
     ]
    },
    {
     "name": "stdout",
     "output_type": "stream",
     "text": [
      "YhCAJ8acd1X7GkCHPhD8Xw\n",
      "YhCAJ8acd1X7GkCHPhD8Xw order\n"
     ]
    },
    {
     "name": "stderr",
     "output_type": "stream",
     "text": [
      "100%|██████████████████████████████████████████████████████████████████████████████| 1072/1072 [00:33<00:00, 32.15it/s]\n"
     ]
    },
    {
     "name": "stdout",
     "output_type": "stream",
     "text": [
      "YhCAJ8acd1X7GkCHPhD8Xw time\n"
     ]
    },
    {
     "name": "stderr",
     "output_type": "stream",
     "text": [
      "100%|██████████████████████████████████████████████████████████████████████████████| 1072/1072 [00:32<00:00, 32.91it/s]\n"
     ]
    },
    {
     "name": "stdout",
     "output_type": "stream",
     "text": [
      "yHYjDPuRtLvhvMpOn5fXOQ\n",
      "yHYjDPuRtLvhvMpOn5fXOQ order\n"
     ]
    },
    {
     "name": "stderr",
     "output_type": "stream",
     "text": [
      "100%|████████████████████████████████████████████████████████████████████████████████| 608/608 [00:16<00:00, 37.63it/s]\n"
     ]
    },
    {
     "name": "stdout",
     "output_type": "stream",
     "text": [
      "yHYjDPuRtLvhvMpOn5fXOQ time\n"
     ]
    },
    {
     "name": "stderr",
     "output_type": "stream",
     "text": [
      "100%|████████████████████████████████████████████████████████████████████████████████| 608/608 [00:18<00:00, 31.87it/s]\n"
     ]
    },
    {
     "name": "stdout",
     "output_type": "stream",
     "text": [
      "YILyHegzhy1vlc_LNVfObw\n",
      "YILyHegzhy1vlc_LNVfObw order\n"
     ]
    },
    {
     "name": "stderr",
     "output_type": "stream",
     "text": [
      "100%|████████████████████████████████████████████████████████████████████████████████| 619/619 [00:16<00:00, 38.09it/s]\n"
     ]
    },
    {
     "name": "stdout",
     "output_type": "stream",
     "text": [
      "YILyHegzhy1vlc_LNVfObw time\n"
     ]
    },
    {
     "name": "stderr",
     "output_type": "stream",
     "text": [
      "100%|████████████████████████████████████████████████████████████████████████████████| 619/619 [00:16<00:00, 38.32it/s]\n"
     ]
    },
    {
     "name": "stdout",
     "output_type": "stream",
     "text": [
      "YJ8ljUhLsz6CtT_2ORNFmg\n",
      "YJ8ljUhLsz6CtT_2ORNFmg order\n"
     ]
    },
    {
     "name": "stderr",
     "output_type": "stream",
     "text": [
      "100%|██████████████████████████████████████████████████████████████████████████████| 3305/3305 [01:49<00:00, 30.08it/s]\n"
     ]
    },
    {
     "name": "stdout",
     "output_type": "stream",
     "text": [
      "YJ8ljUhLsz6CtT_2ORNFmg time\n"
     ]
    },
    {
     "name": "stderr",
     "output_type": "stream",
     "text": [
      "100%|██████████████████████████████████████████████████████████████████████████████| 3305/3305 [01:51<00:00, 29.56it/s]\n"
     ]
    },
    {
     "name": "stdout",
     "output_type": "stream",
     "text": [
      "Yl05MqCs9xRzrJFkGWLpgA\n",
      "Yl05MqCs9xRzrJFkGWLpgA order\n"
     ]
    },
    {
     "name": "stderr",
     "output_type": "stream",
     "text": [
      "100%|██████████████████████████████████████████████████████████████████████████████| 1482/1482 [00:46<00:00, 31.60it/s]\n"
     ]
    },
    {
     "name": "stdout",
     "output_type": "stream",
     "text": [
      "Yl05MqCs9xRzrJFkGWLpgA time\n"
     ]
    },
    {
     "name": "stderr",
     "output_type": "stream",
     "text": [
      "100%|██████████████████████████████████████████████████████████████████████████████| 1482/1482 [00:46<00:00, 32.08it/s]\n"
     ]
    },
    {
     "name": "stdout",
     "output_type": "stream",
     "text": [
      "Yl2TN9c23ZGLUBSD9ks5Uw\n",
      "Yl2TN9c23ZGLUBSD9ks5Uw order\n"
     ]
    },
    {
     "name": "stderr",
     "output_type": "stream",
     "text": [
      "100%|████████████████████████████████████████████████████████████████████████████████| 708/708 [00:19<00:00, 37.05it/s]\n"
     ]
    },
    {
     "name": "stdout",
     "output_type": "stream",
     "text": [
      "Yl2TN9c23ZGLUBSD9ks5Uw time\n"
     ]
    },
    {
     "name": "stderr",
     "output_type": "stream",
     "text": [
      "100%|████████████████████████████████████████████████████████████████████████████████| 708/708 [00:19<00:00, 30.63it/s]\n"
     ]
    },
    {
     "name": "stdout",
     "output_type": "stream",
     "text": [
      "yLMSxHjK56Az-KtMQyG7LQ\n",
      "yLMSxHjK56Az-KtMQyG7LQ order\n"
     ]
    },
    {
     "name": "stderr",
     "output_type": "stream",
     "text": [
      "100%|████████████████████████████████████████████████████████████████████████████████| 539/539 [00:13<00:00, 34.11it/s]\n"
     ]
    },
    {
     "name": "stdout",
     "output_type": "stream",
     "text": [
      "yLMSxHjK56Az-KtMQyG7LQ time\n"
     ]
    },
    {
     "name": "stderr",
     "output_type": "stream",
     "text": [
      "100%|████████████████████████████████████████████████████████████████████████████████| 539/539 [00:13<00:00, 33.56it/s]\n"
     ]
    },
    {
     "name": "stdout",
     "output_type": "stream",
     "text": [
      "ym5FOqL6tGbgynzwKMHZuw\n",
      "ym5FOqL6tGbgynzwKMHZuw order\n"
     ]
    },
    {
     "name": "stderr",
     "output_type": "stream",
     "text": [
      "100%|████████████████████████████████████████████████████████████████████████████████| 595/595 [00:15<00:00, 31.37it/s]\n"
     ]
    },
    {
     "name": "stdout",
     "output_type": "stream",
     "text": [
      "ym5FOqL6tGbgynzwKMHZuw time\n"
     ]
    },
    {
     "name": "stderr",
     "output_type": "stream",
     "text": [
      "100%|████████████████████████████████████████████████████████████████████████████████| 595/595 [00:18<00:00, 32.62it/s]\n"
     ]
    },
    {
     "name": "stdout",
     "output_type": "stream",
     "text": [
      "yMopev-RPxfEXgqkJOvCGA\n",
      "yMopev-RPxfEXgqkJOvCGA order\n"
     ]
    },
    {
     "name": "stderr",
     "output_type": "stream",
     "text": [
      "100%|████████████████████████████████████████████████████████████████████████████████| 734/734 [00:20<00:00, 36.61it/s]\n"
     ]
    },
    {
     "name": "stdout",
     "output_type": "stream",
     "text": [
      "yMopev-RPxfEXgqkJOvCGA time\n"
     ]
    },
    {
     "name": "stderr",
     "output_type": "stream",
     "text": [
      "100%|████████████████████████████████████████████████████████████████████████████████| 734/734 [00:19<00:00, 30.69it/s]\n"
     ]
    },
    {
     "name": "stdout",
     "output_type": "stream",
     "text": [
      "YmOWkved7K8q3eXgf4NNnA\n",
      "YmOWkved7K8q3eXgf4NNnA order\n"
     ]
    },
    {
     "name": "stderr",
     "output_type": "stream",
     "text": [
      "100%|████████████████████████████████████████████████████████████████████████████████| 720/720 [00:19<00:00, 30.19it/s]\n"
     ]
    },
    {
     "name": "stdout",
     "output_type": "stream",
     "text": [
      "YmOWkved7K8q3eXgf4NNnA time\n"
     ]
    },
    {
     "name": "stderr",
     "output_type": "stream",
     "text": [
      "100%|████████████████████████████████████████████████████████████████████████████████| 720/720 [00:19<00:00, 29.70it/s]\n"
     ]
    },
    {
     "name": "stdout",
     "output_type": "stream",
     "text": [
      "YnmtUJGqQIQL9tz1MRyfqA\n",
      "YnmtUJGqQIQL9tz1MRyfqA order\n"
     ]
    },
    {
     "name": "stderr",
     "output_type": "stream",
     "text": [
      "100%|████████████████████████████████████████████████████████████████████████████████| 680/680 [00:18<00:00, 36.45it/s]\n"
     ]
    },
    {
     "name": "stdout",
     "output_type": "stream",
     "text": [
      "YnmtUJGqQIQL9tz1MRyfqA time\n"
     ]
    },
    {
     "name": "stderr",
     "output_type": "stream",
     "text": [
      "100%|████████████████████████████████████████████████████████████████████████████████| 680/680 [00:18<00:00, 36.86it/s]\n"
     ]
    },
    {
     "name": "stdout",
     "output_type": "stream",
     "text": [
      "yNPh5SO-7wr8HPpVCDPbXQ\n",
      "yNPh5SO-7wr8HPpVCDPbXQ order\n"
     ]
    },
    {
     "name": "stderr",
     "output_type": "stream",
     "text": [
      "100%|██████████████████████████████████████████████████████████████████████████████| 2006/2006 [01:04<00:00, 31.09it/s]\n"
     ]
    },
    {
     "name": "stdout",
     "output_type": "stream",
     "text": [
      "yNPh5SO-7wr8HPpVCDPbXQ time\n"
     ]
    },
    {
     "name": "stderr",
     "output_type": "stream",
     "text": [
      "100%|██████████████████████████████████████████████████████████████████████████████| 2006/2006 [01:05<00:00, 30.76it/s]\n"
     ]
    },
    {
     "name": "stdout",
     "output_type": "stream",
     "text": [
      "yNVcnSaMSrTmjJBMrHTy9w\n",
      "yNVcnSaMSrTmjJBMrHTy9w order\n"
     ]
    },
    {
     "name": "stderr",
     "output_type": "stream",
     "text": [
      "100%|██████████████████████████████████████████████████████████████████████████████| 1197/1197 [00:36<00:00, 32.55it/s]\n"
     ]
    },
    {
     "name": "stdout",
     "output_type": "stream",
     "text": [
      "yNVcnSaMSrTmjJBMrHTy9w time\n"
     ]
    },
    {
     "name": "stderr",
     "output_type": "stream",
     "text": [
      "100%|██████████████████████████████████████████████████████████████████████████████| 1197/1197 [00:36<00:00, 29.44it/s]\n"
     ]
    },
    {
     "name": "stdout",
     "output_type": "stream",
     "text": [
      "yp2nRId4v-bDtrYl5A3F-g\n",
      "yp2nRId4v-bDtrYl5A3F-g order\n"
     ]
    },
    {
     "name": "stderr",
     "output_type": "stream",
     "text": [
      "100%|████████████████████████████████████████████████████████████████████████████████| 774/774 [00:21<00:00, 28.50it/s]\n"
     ]
    },
    {
     "name": "stdout",
     "output_type": "stream",
     "text": [
      "yp2nRId4v-bDtrYl5A3F-g time\n"
     ]
    },
    {
     "name": "stderr",
     "output_type": "stream",
     "text": [
      "100%|████████████████████████████████████████████████████████████████████████████████| 774/774 [00:24<00:00, 31.30it/s]\n"
     ]
    },
    {
     "name": "stdout",
     "output_type": "stream",
     "text": [
      "YPavuOh2XsnRbLfl0DH2lQ\n",
      "YPavuOh2XsnRbLfl0DH2lQ order\n"
     ]
    },
    {
     "name": "stderr",
     "output_type": "stream",
     "text": [
      "100%|██████████████████████████████████████████████████████████████████████████████| 1859/1859 [01:00<00:00, 30.90it/s]\n"
     ]
    },
    {
     "name": "stdout",
     "output_type": "stream",
     "text": [
      "YPavuOh2XsnRbLfl0DH2lQ time\n"
     ]
    },
    {
     "name": "stderr",
     "output_type": "stream",
     "text": [
      "100%|██████████████████████████████████████████████████████████████████████████████| 1859/1859 [01:00<00:00, 30.87it/s]\n"
     ]
    },
    {
     "name": "stdout",
     "output_type": "stream",
     "text": [
      "YQ--LJ7pvjiDSqNv0TuKTQ\n",
      "YQ--LJ7pvjiDSqNv0TuKTQ order\n"
     ]
    },
    {
     "name": "stderr",
     "output_type": "stream",
     "text": [
      "100%|████████████████████████████████████████████████████████████████████████████████| 928/928 [00:27<00:00, 34.04it/s]\n"
     ]
    },
    {
     "name": "stdout",
     "output_type": "stream",
     "text": [
      "YQ--LJ7pvjiDSqNv0TuKTQ time\n"
     ]
    },
    {
     "name": "stderr",
     "output_type": "stream",
     "text": [
      "100%|████████████████████████████████████████████████████████████████████████████████| 928/928 [00:27<00:00, 33.89it/s]\n"
     ]
    },
    {
     "name": "stdout",
     "output_type": "stream",
     "text": [
      "yqYtY3-Po4OVPafA9Z-Xyw\n",
      "yqYtY3-Po4OVPafA9Z-Xyw order\n"
     ]
    },
    {
     "name": "stderr",
     "output_type": "stream",
     "text": [
      "100%|████████████████████████████████████████████████████████████████████████████████| 682/682 [00:18<00:00, 36.04it/s]\n"
     ]
    },
    {
     "name": "stdout",
     "output_type": "stream",
     "text": [
      "yqYtY3-Po4OVPafA9Z-Xyw time\n"
     ]
    },
    {
     "name": "stderr",
     "output_type": "stream",
     "text": [
      "100%|████████████████████████████████████████████████████████████████████████████████| 682/682 [00:19<00:00, 35.47it/s]\n"
     ]
    },
    {
     "name": "stdout",
     "output_type": "stream",
     "text": [
      "YRyYbOSwvHkZsZOLv98oQg\n",
      "YRyYbOSwvHkZsZOLv98oQg order\n"
     ]
    },
    {
     "name": "stderr",
     "output_type": "stream",
     "text": [
      "100%|██████████████████████████████████████████████████████████████████████████████| 1101/1101 [00:35<00:00, 30.85it/s]\n"
     ]
    },
    {
     "name": "stdout",
     "output_type": "stream",
     "text": [
      "YRyYbOSwvHkZsZOLv98oQg time\n"
     ]
    },
    {
     "name": "stderr",
     "output_type": "stream",
     "text": [
      "100%|██████████████████████████████████████████████████████████████████████████████| 1101/1101 [00:35<00:00, 30.98it/s]\n"
     ]
    },
    {
     "name": "stdout",
     "output_type": "stream",
     "text": [
      "ysv6yhVYOoH9Pf7PlMyD0g\n",
      "ysv6yhVYOoH9Pf7PlMyD0g order\n"
     ]
    },
    {
     "name": "stderr",
     "output_type": "stream",
     "text": [
      "100%|██████████████████████████████████████████████████████████████████████████████| 1459/1459 [00:48<00:00, 30.22it/s]\n"
     ]
    },
    {
     "name": "stdout",
     "output_type": "stream",
     "text": [
      "ysv6yhVYOoH9Pf7PlMyD0g time\n"
     ]
    },
    {
     "name": "stderr",
     "output_type": "stream",
     "text": [
      "100%|██████████████████████████████████████████████████████████████████████████████| 1459/1459 [00:47<00:00, 28.41it/s]\n"
     ]
    },
    {
     "name": "stdout",
     "output_type": "stream",
     "text": [
      "YSYDJTCt5kzY2kKnLNGRiA\n",
      "YSYDJTCt5kzY2kKnLNGRiA order\n"
     ]
    },
    {
     "name": "stderr",
     "output_type": "stream",
     "text": [
      "100%|████████████████████████████████████████████████████████████████████████████████| 964/964 [00:32<00:00, 29.87it/s]\n"
     ]
    },
    {
     "name": "stdout",
     "output_type": "stream",
     "text": [
      "YSYDJTCt5kzY2kKnLNGRiA time\n"
     ]
    },
    {
     "name": "stderr",
     "output_type": "stream",
     "text": [
      "100%|████████████████████████████████████████████████████████████████████████████████| 964/964 [00:29<00:00, 33.24it/s]\n"
     ]
    },
    {
     "name": "stdout",
     "output_type": "stream",
     "text": [
      "YTCCJ3ShO-zg0dlx1nk6dw\n",
      "YTCCJ3ShO-zg0dlx1nk6dw order\n"
     ]
    },
    {
     "name": "stderr",
     "output_type": "stream",
     "text": [
      "100%|████████████████████████████████████████████████████████████████████████████████| 584/584 [00:17<00:00, 33.43it/s]\n"
     ]
    },
    {
     "name": "stdout",
     "output_type": "stream",
     "text": [
      "YTCCJ3ShO-zg0dlx1nk6dw time\n"
     ]
    },
    {
     "name": "stderr",
     "output_type": "stream",
     "text": [
      "100%|████████████████████████████████████████████████████████████████████████████████| 584/584 [00:15<00:00, 32.45it/s]\n"
     ]
    },
    {
     "name": "stdout",
     "output_type": "stream",
     "text": [
      "YuiM5VKscO8rS1EX7f19_g\n",
      "YuiM5VKscO8rS1EX7f19_g order\n"
     ]
    },
    {
     "name": "stderr",
     "output_type": "stream",
     "text": [
      "100%|██████████████████████████████████████████████████████████████████████████████| 1110/1110 [00:34<00:00, 32.00it/s]\n"
     ]
    },
    {
     "name": "stdout",
     "output_type": "stream",
     "text": [
      "YuiM5VKscO8rS1EX7f19_g time\n"
     ]
    },
    {
     "name": "stderr",
     "output_type": "stream",
     "text": [
      "100%|██████████████████████████████████████████████████████████████████████████████| 1110/1110 [00:35<00:00, 28.13it/s]\n"
     ]
    },
    {
     "name": "stdout",
     "output_type": "stream",
     "text": [
      "yWUBX9Pe6pzh1PjVj04UmQ\n",
      "yWUBX9Pe6pzh1PjVj04UmQ order\n"
     ]
    },
    {
     "name": "stderr",
     "output_type": "stream",
     "text": [
      "100%|████████████████████████████████████████████████████████████████████████████████| 519/519 [00:13<00:00, 38.20it/s]\n"
     ]
    },
    {
     "name": "stdout",
     "output_type": "stream",
     "text": [
      "yWUBX9Pe6pzh1PjVj04UmQ time\n"
     ]
    },
    {
     "name": "stderr",
     "output_type": "stream",
     "text": [
      "100%|████████████████████████████████████████████████████████████████████████████████| 519/519 [00:14<00:00, 34.91it/s]\n"
     ]
    },
    {
     "name": "stdout",
     "output_type": "stream",
     "text": [
      "YXohNvMTCmGhFMSQsDZq1g\n",
      "YXohNvMTCmGhFMSQsDZq1g order\n"
     ]
    },
    {
     "name": "stderr",
     "output_type": "stream",
     "text": [
      "100%|████████████████████████████████████████████████████████████████████████████████| 864/864 [00:25<00:00, 34.10it/s]\n"
     ]
    },
    {
     "name": "stdout",
     "output_type": "stream",
     "text": [
      "YXohNvMTCmGhFMSQsDZq1g time\n"
     ]
    },
    {
     "name": "stderr",
     "output_type": "stream",
     "text": [
      "100%|████████████████████████████████████████████████████████████████████████████████| 864/864 [00:25<00:00, 34.12it/s]\n"
     ]
    },
    {
     "name": "stdout",
     "output_type": "stream",
     "text": [
      "yZAGhlsrmupLbrgdKm6reg\n",
      "yZAGhlsrmupLbrgdKm6reg order\n"
     ]
    },
    {
     "name": "stderr",
     "output_type": "stream",
     "text": [
      "100%|████████████████████████████████████████████████████████████████████████████████| 646/646 [00:19<00:00, 22.89it/s]\n"
     ]
    },
    {
     "name": "stdout",
     "output_type": "stream",
     "text": [
      "yZAGhlsrmupLbrgdKm6reg time\n"
     ]
    },
    {
     "name": "stderr",
     "output_type": "stream",
     "text": [
      "100%|████████████████████████████████████████████████████████████████████████████████| 646/646 [00:18<00:00, 35.55it/s]\n"
     ]
    },
    {
     "name": "stdout",
     "output_type": "stream",
     "text": [
      "YZGSNhgTS6YeyUYoivD-Ww\n",
      "YZGSNhgTS6YeyUYoivD-Ww order\n"
     ]
    },
    {
     "name": "stderr",
     "output_type": "stream",
     "text": [
      "100%|████████████████████████████████████████████████████████████████████████████████| 565/565 [00:15<00:00, 35.61it/s]\n"
     ]
    },
    {
     "name": "stdout",
     "output_type": "stream",
     "text": [
      "YZGSNhgTS6YeyUYoivD-Ww time\n"
     ]
    },
    {
     "name": "stderr",
     "output_type": "stream",
     "text": [
      "100%|████████████████████████████████████████████████████████████████████████████████| 565/565 [00:18<00:00, 30.07it/s]\n"
     ]
    },
    {
     "name": "stdout",
     "output_type": "stream",
     "text": [
      "Z0YOHYA6YtW131xULbnMzQ\n",
      "Z0YOHYA6YtW131xULbnMzQ order\n"
     ]
    },
    {
     "name": "stderr",
     "output_type": "stream",
     "text": [
      "100%|████████████████████████████████████████████████████████████████████████████████| 770/770 [00:23<00:00, 27.77it/s]\n"
     ]
    },
    {
     "name": "stdout",
     "output_type": "stream",
     "text": [
      "Z0YOHYA6YtW131xULbnMzQ time\n"
     ]
    },
    {
     "name": "stderr",
     "output_type": "stream",
     "text": [
      "100%|████████████████████████████████████████████████████████████████████████████████| 770/770 [00:23<00:00, 28.18it/s]\n"
     ]
    },
    {
     "name": "stdout",
     "output_type": "stream",
     "text": [
      "Z1E36owKeeZKDL-9ZuanJw\n",
      "Z1E36owKeeZKDL-9ZuanJw order\n"
     ]
    },
    {
     "name": "stderr",
     "output_type": "stream",
     "text": [
      "100%|████████████████████████████████████████████████████████████████████████████████| 589/589 [00:17<00:00, 33.49it/s]\n"
     ]
    },
    {
     "name": "stdout",
     "output_type": "stream",
     "text": [
      "Z1E36owKeeZKDL-9ZuanJw time\n"
     ]
    },
    {
     "name": "stderr",
     "output_type": "stream",
     "text": [
      "100%|████████████████████████████████████████████████████████████████████████████████| 589/589 [00:16<00:00, 34.97it/s]\n"
     ]
    },
    {
     "name": "stdout",
     "output_type": "stream",
     "text": [
      "Z3ZSar8IVAR2qIupqxMynA\n",
      "Z3ZSar8IVAR2qIupqxMynA order\n"
     ]
    },
    {
     "name": "stderr",
     "output_type": "stream",
     "text": [
      "100%|████████████████████████████████████████████████████████████████████████████████| 526/526 [00:14<00:00, 32.06it/s]\n"
     ]
    },
    {
     "name": "stdout",
     "output_type": "stream",
     "text": [
      "Z3ZSar8IVAR2qIupqxMynA time\n"
     ]
    },
    {
     "name": "stderr",
     "output_type": "stream",
     "text": [
      "100%|████████████████████████████████████████████████████████████████████████████████| 526/526 [00:14<00:00, 36.93it/s]\n"
     ]
    },
    {
     "name": "stdout",
     "output_type": "stream",
     "text": [
      "z45xS0Kc6GpiITwrpkRVdQ\n",
      "z45xS0Kc6GpiITwrpkRVdQ order\n"
     ]
    },
    {
     "name": "stderr",
     "output_type": "stream",
     "text": [
      "100%|████████████████████████████████████████████████████████████████████████████████| 593/593 [00:16<00:00, 35.99it/s]\n"
     ]
    },
    {
     "name": "stdout",
     "output_type": "stream",
     "text": [
      "z45xS0Kc6GpiITwrpkRVdQ time\n"
     ]
    },
    {
     "name": "stderr",
     "output_type": "stream",
     "text": [
      "100%|████████████████████████████████████████████████████████████████████████████████| 593/593 [00:16<00:00, 31.98it/s]\n"
     ]
    },
    {
     "name": "stdout",
     "output_type": "stream",
     "text": [
      "Z5eukYH32_nFljOTC2DJ0g\n",
      "Z5eukYH32_nFljOTC2DJ0g order\n"
     ]
    },
    {
     "name": "stderr",
     "output_type": "stream",
     "text": [
      "100%|████████████████████████████████████████████████████████████████████████████████| 743/743 [00:21<00:00, 34.02it/s]\n"
     ]
    },
    {
     "name": "stdout",
     "output_type": "stream",
     "text": [
      "Z5eukYH32_nFljOTC2DJ0g time\n"
     ]
    },
    {
     "name": "stderr",
     "output_type": "stream",
     "text": [
      "100%|████████████████████████████████████████████████████████████████████████████████| 743/743 [00:22<00:00, 25.87it/s]\n"
     ]
    },
    {
     "name": "stdout",
     "output_type": "stream",
     "text": [
      "z5J9U_HU4iVLwaCH6rdC2w\n",
      "z5J9U_HU4iVLwaCH6rdC2w order\n"
     ]
    },
    {
     "name": "stderr",
     "output_type": "stream",
     "text": [
      "100%|████████████████████████████████████████████████████████████████████████████████| 993/993 [00:30<00:00, 32.61it/s]\n"
     ]
    },
    {
     "name": "stdout",
     "output_type": "stream",
     "text": [
      "z5J9U_HU4iVLwaCH6rdC2w time\n"
     ]
    },
    {
     "name": "stderr",
     "output_type": "stream",
     "text": [
      "100%|████████████████████████████████████████████████████████████████████████████████| 993/993 [00:32<00:00, 29.96it/s]\n"
     ]
    },
    {
     "name": "stdout",
     "output_type": "stream",
     "text": [
      "z6-reuC5BYf_Rth9gMBfgQ\n",
      "z6-reuC5BYf_Rth9gMBfgQ order\n"
     ]
    },
    {
     "name": "stderr",
     "output_type": "stream",
     "text": [
      "100%|██████████████████████████████████████████████████████████████████████████████| 1584/1584 [00:52<00:00, 30.18it/s]\n"
     ]
    },
    {
     "name": "stdout",
     "output_type": "stream",
     "text": [
      "z6-reuC5BYf_Rth9gMBfgQ time\n"
     ]
    },
    {
     "name": "stderr",
     "output_type": "stream",
     "text": [
      "100%|██████████████████████████████████████████████████████████████████████████████| 1584/1584 [00:53<00:00, 29.83it/s]\n"
     ]
    },
    {
     "name": "stdout",
     "output_type": "stream",
     "text": [
      "ZAuAwz1ijuydn5yL3q3rzA\n",
      "ZAuAwz1ijuydn5yL3q3rzA order\n"
     ]
    },
    {
     "name": "stderr",
     "output_type": "stream",
     "text": [
      "100%|██████████████████████████████████████████████████████████████████████████████| 1004/1004 [00:31<00:00, 27.92it/s]\n"
     ]
    },
    {
     "name": "stdout",
     "output_type": "stream",
     "text": [
      "ZAuAwz1ijuydn5yL3q3rzA time\n"
     ]
    },
    {
     "name": "stderr",
     "output_type": "stream",
     "text": [
      "100%|██████████████████████████████████████████████████████████████████████████████| 1004/1004 [00:32<00:00, 28.45it/s]\n"
     ]
    },
    {
     "name": "stdout",
     "output_type": "stream",
     "text": [
      "ZCQa7CJxZ-53Zxd_pobWug\n",
      "ZCQa7CJxZ-53Zxd_pobWug order\n"
     ]
    },
    {
     "name": "stderr",
     "output_type": "stream",
     "text": [
      "100%|████████████████████████████████████████████████████████████████████████████████| 533/533 [00:14<00:00, 37.77it/s]\n"
     ]
    },
    {
     "name": "stdout",
     "output_type": "stream",
     "text": [
      "ZCQa7CJxZ-53Zxd_pobWug time\n"
     ]
    },
    {
     "name": "stderr",
     "output_type": "stream",
     "text": [
      "100%|████████████████████████████████████████████████████████████████████████████████| 533/533 [00:14<00:00, 37.32it/s]\n"
     ]
    },
    {
     "name": "stdout",
     "output_type": "stream",
     "text": [
      "zcScEL0WEdFkROcnz5379g\n",
      "zcScEL0WEdFkROcnz5379g order\n"
     ]
    },
    {
     "name": "stderr",
     "output_type": "stream",
     "text": [
      "100%|██████████████████████████████████████████████████████████████████████████████| 1036/1036 [00:31<00:00, 27.58it/s]\n"
     ]
    },
    {
     "name": "stdout",
     "output_type": "stream",
     "text": [
      "zcScEL0WEdFkROcnz5379g time\n"
     ]
    },
    {
     "name": "stderr",
     "output_type": "stream",
     "text": [
      "100%|██████████████████████████████████████████████████████████████████████████████| 1036/1036 [00:32<00:00, 32.05it/s]\n"
     ]
    },
    {
     "name": "stdout",
     "output_type": "stream",
     "text": [
      "ZCzey5aPhd7jYIoHsUfjmQ\n",
      "ZCzey5aPhd7jYIoHsUfjmQ order\n"
     ]
    },
    {
     "name": "stderr",
     "output_type": "stream",
     "text": [
      "100%|████████████████████████████████████████████████████████████████████████████████| 902/902 [00:27<00:00, 32.77it/s]\n"
     ]
    },
    {
     "name": "stdout",
     "output_type": "stream",
     "text": [
      "ZCzey5aPhd7jYIoHsUfjmQ time\n"
     ]
    },
    {
     "name": "stderr",
     "output_type": "stream",
     "text": [
      "100%|████████████████████████████████████████████████████████████████████████████████| 902/902 [00:26<00:00, 27.39it/s]\n"
     ]
    },
    {
     "name": "stdout",
     "output_type": "stream",
     "text": [
      "zdE82PiD6wquvjYLyhOJNA\n",
      "zdE82PiD6wquvjYLyhOJNA order\n"
     ]
    },
    {
     "name": "stderr",
     "output_type": "stream",
     "text": [
      "100%|██████████████████████████████████████████████████████████████████████████████| 1313/1313 [00:43<00:00, 30.35it/s]\n"
     ]
    },
    {
     "name": "stdout",
     "output_type": "stream",
     "text": [
      "zdE82PiD6wquvjYLyhOJNA time\n"
     ]
    },
    {
     "name": "stderr",
     "output_type": "stream",
     "text": [
      "100%|██████████████████████████████████████████████████████████████████████████████| 1313/1313 [00:46<00:00, 28.07it/s]\n"
     ]
    },
    {
     "name": "stdout",
     "output_type": "stream",
     "text": [
      "zEaGcSVPDQipnRdEZp-F6g\n",
      "zEaGcSVPDQipnRdEZp-F6g order\n"
     ]
    },
    {
     "name": "stderr",
     "output_type": "stream",
     "text": [
      "100%|████████████████████████████████████████████████████████████████████████████████| 658/658 [00:18<00:00, 29.91it/s]\n"
     ]
    },
    {
     "name": "stdout",
     "output_type": "stream",
     "text": [
      "zEaGcSVPDQipnRdEZp-F6g time\n"
     ]
    },
    {
     "name": "stderr",
     "output_type": "stream",
     "text": [
      "100%|████████████████████████████████████████████████████████████████████████████████| 658/658 [00:18<00:00, 35.57it/s]\n"
     ]
    },
    {
     "name": "stdout",
     "output_type": "stream",
     "text": [
      "ZeEPwPmN7SP27xiE6kQnoQ\n",
      "ZeEPwPmN7SP27xiE6kQnoQ order\n"
     ]
    },
    {
     "name": "stderr",
     "output_type": "stream",
     "text": [
      "100%|████████████████████████████████████████████████████████████████████████████████| 537/537 [00:14<00:00, 36.80it/s]\n"
     ]
    },
    {
     "name": "stdout",
     "output_type": "stream",
     "text": [
      "ZeEPwPmN7SP27xiE6kQnoQ time\n"
     ]
    },
    {
     "name": "stderr",
     "output_type": "stream",
     "text": [
      "100%|████████████████████████████████████████████████████████████████████████████████| 537/537 [00:14<00:00, 37.76it/s]\n"
     ]
    },
    {
     "name": "stdout",
     "output_type": "stream",
     "text": [
      "zgQHtqX0gqMw1nlBZl2VnQ\n",
      "zgQHtqX0gqMw1nlBZl2VnQ order\n"
     ]
    },
    {
     "name": "stderr",
     "output_type": "stream",
     "text": [
      "100%|████████████████████████████████████████████████████████████████████████████████| 930/930 [00:28<00:00, 29.01it/s]\n"
     ]
    },
    {
     "name": "stdout",
     "output_type": "stream",
     "text": [
      "zgQHtqX0gqMw1nlBZl2VnQ time\n"
     ]
    },
    {
     "name": "stderr",
     "output_type": "stream",
     "text": [
      "100%|████████████████████████████████████████████████████████████████████████████████| 930/930 [00:29<00:00, 31.70it/s]\n"
     ]
    },
    {
     "name": "stdout",
     "output_type": "stream",
     "text": [
      "ZhLSAiRj9kANxf8m2SBfRA\n",
      "ZhLSAiRj9kANxf8m2SBfRA order\n"
     ]
    },
    {
     "name": "stderr",
     "output_type": "stream",
     "text": [
      "100%|████████████████████████████████████████████████████████████████████████████████| 741/741 [00:21<00:00, 35.24it/s]\n"
     ]
    },
    {
     "name": "stdout",
     "output_type": "stream",
     "text": [
      "ZhLSAiRj9kANxf8m2SBfRA time\n"
     ]
    },
    {
     "name": "stderr",
     "output_type": "stream",
     "text": [
      "100%|████████████████████████████████████████████████████████████████████████████████| 741/741 [00:20<00:00, 35.47it/s]\n"
     ]
    },
    {
     "name": "stdout",
     "output_type": "stream",
     "text": [
      "ZibmYdOPKLlqDM9oR6xzOA\n",
      "ZibmYdOPKLlqDM9oR6xzOA order\n"
     ]
    },
    {
     "name": "stderr",
     "output_type": "stream",
     "text": [
      "100%|██████████████████████████████████████████████████████████████████████████████| 1179/1179 [00:37<00:00, 31.46it/s]\n"
     ]
    },
    {
     "name": "stdout",
     "output_type": "stream",
     "text": [
      "ZibmYdOPKLlqDM9oR6xzOA time\n"
     ]
    },
    {
     "name": "stderr",
     "output_type": "stream",
     "text": [
      "100%|██████████████████████████████████████████████████████████████████████████████| 1179/1179 [00:38<00:00, 30.82it/s]\n"
     ]
    },
    {
     "name": "stdout",
     "output_type": "stream",
     "text": [
      "zJGtD3y-pAIGNId4codEEg\n",
      "zJGtD3y-pAIGNId4codEEg order\n"
     ]
    },
    {
     "name": "stderr",
     "output_type": "stream",
     "text": [
      "100%|████████████████████████████████████████████████████████████████████████████████| 731/731 [00:20<00:00, 35.07it/s]\n"
     ]
    },
    {
     "name": "stdout",
     "output_type": "stream",
     "text": [
      "zJGtD3y-pAIGNId4codEEg time\n"
     ]
    },
    {
     "name": "stderr",
     "output_type": "stream",
     "text": [
      "100%|████████████████████████████████████████████████████████████████████████████████| 731/731 [00:24<00:00, 29.39it/s]\n"
     ]
    },
    {
     "name": "stdout",
     "output_type": "stream",
     "text": [
      "ZkGDCVKSdf8m76cnnalL-A\n",
      "ZkGDCVKSdf8m76cnnalL-A order\n"
     ]
    },
    {
     "name": "stderr",
     "output_type": "stream",
     "text": [
      "100%|██████████████████████████████████████████████████████████████████████████████| 2393/2393 [01:21<00:00, 28.28it/s]\n"
     ]
    },
    {
     "name": "stdout",
     "output_type": "stream",
     "text": [
      "ZkGDCVKSdf8m76cnnalL-A time\n"
     ]
    },
    {
     "name": "stderr",
     "output_type": "stream",
     "text": [
      "100%|██████████████████████████████████████████████████████████████████████████████| 2393/2393 [01:21<00:00, 29.27it/s]\n"
     ]
    },
    {
     "name": "stdout",
     "output_type": "stream",
     "text": [
      "ZKsVCA89iXMccf3fEhS3iw\n",
      "ZKsVCA89iXMccf3fEhS3iw order\n"
     ]
    },
    {
     "name": "stderr",
     "output_type": "stream",
     "text": [
      "100%|████████████████████████████████████████████████████████████████████████████████| 596/596 [00:17<00:00, 33.57it/s]\n"
     ]
    },
    {
     "name": "stdout",
     "output_type": "stream",
     "text": [
      "ZKsVCA89iXMccf3fEhS3iw time\n"
     ]
    },
    {
     "name": "stderr",
     "output_type": "stream",
     "text": [
      "100%|████████████████████████████████████████████████████████████████████████████████| 596/596 [00:15<00:00, 37.60it/s]\n"
     ]
    },
    {
     "name": "stdout",
     "output_type": "stream",
     "text": [
      "ZkUWOdBA4T7pdUhT0dkRzQ\n",
      "ZkUWOdBA4T7pdUhT0dkRzQ order\n"
     ]
    },
    {
     "name": "stderr",
     "output_type": "stream",
     "text": [
      "100%|████████████████████████████████████████████████████████████████████████████████| 717/717 [00:19<00:00, 36.22it/s]\n"
     ]
    },
    {
     "name": "stdout",
     "output_type": "stream",
     "text": [
      "ZkUWOdBA4T7pdUhT0dkRzQ time\n"
     ]
    },
    {
     "name": "stderr",
     "output_type": "stream",
     "text": [
      "100%|████████████████████████████████████████████████████████████████████████████████| 717/717 [00:19<00:00, 36.37it/s]\n"
     ]
    },
    {
     "name": "stdout",
     "output_type": "stream",
     "text": [
      "Zmfq3DVhHdtVChhSxzoUHw\n",
      "Zmfq3DVhHdtVChhSxzoUHw order\n"
     ]
    },
    {
     "name": "stderr",
     "output_type": "stream",
     "text": [
      "100%|████████████████████████████████████████████████████████████████████████████████| 589/589 [00:15<00:00, 36.86it/s]\n"
     ]
    },
    {
     "name": "stdout",
     "output_type": "stream",
     "text": [
      "Zmfq3DVhHdtVChhSxzoUHw time\n"
     ]
    },
    {
     "name": "stderr",
     "output_type": "stream",
     "text": [
      "100%|████████████████████████████████████████████████████████████████████████████████| 589/589 [00:15<00:00, 37.22it/s]\n"
     ]
    },
    {
     "name": "stdout",
     "output_type": "stream",
     "text": [
      "znWHLW1pt19HzW1VY6KfCA\n",
      "znWHLW1pt19HzW1VY6KfCA order\n"
     ]
    },
    {
     "name": "stderr",
     "output_type": "stream",
     "text": [
      "100%|████████████████████████████████████████████████████████████████████████████████| 651/651 [00:18<00:00, 34.89it/s]\n"
     ]
    },
    {
     "name": "stdout",
     "output_type": "stream",
     "text": [
      "znWHLW1pt19HzW1VY6KfCA time\n"
     ]
    },
    {
     "name": "stderr",
     "output_type": "stream",
     "text": [
      "100%|████████████████████████████████████████████████████████████████████████████████| 651/651 [00:18<00:00, 36.02it/s]\n"
     ]
    },
    {
     "name": "stdout",
     "output_type": "stream",
     "text": [
      "ZOmf-3NN4Z59b2Fw6VAM7g\n",
      "ZOmf-3NN4Z59b2Fw6VAM7g order\n"
     ]
    },
    {
     "name": "stderr",
     "output_type": "stream",
     "text": [
      "100%|████████████████████████████████████████████████████████████████████████████████| 808/808 [00:24<00:00, 26.36it/s]\n"
     ]
    },
    {
     "name": "stdout",
     "output_type": "stream",
     "text": [
      "ZOmf-3NN4Z59b2Fw6VAM7g time\n"
     ]
    },
    {
     "name": "stderr",
     "output_type": "stream",
     "text": [
      "100%|████████████████████████████████████████████████████████████████████████████████| 808/808 [00:26<00:00, 29.02it/s]\n"
     ]
    },
    {
     "name": "stdout",
     "output_type": "stream",
     "text": [
      "zpoZ6WyQUYff18-z4ZU1mA\n",
      "zpoZ6WyQUYff18-z4ZU1mA order\n"
     ]
    },
    {
     "name": "stderr",
     "output_type": "stream",
     "text": [
      "100%|████████████████████████████████████████████████████████████████████████████████| 658/658 [00:18<00:00, 35.79it/s]\n"
     ]
    },
    {
     "name": "stdout",
     "output_type": "stream",
     "text": [
      "zpoZ6WyQUYff18-z4ZU1mA time\n"
     ]
    },
    {
     "name": "stderr",
     "output_type": "stream",
     "text": [
      "100%|████████████████████████████████████████████████████████████████████████████████| 658/658 [00:18<00:00, 35.70it/s]\n"
     ]
    },
    {
     "name": "stdout",
     "output_type": "stream",
     "text": [
      "zrDi4gEaUi64lAMfJU51dw\n",
      "zrDi4gEaUi64lAMfJU51dw order\n"
     ]
    },
    {
     "name": "stderr",
     "output_type": "stream",
     "text": [
      "100%|████████████████████████████████████████████████████████████████████████████████| 595/595 [00:17<00:00, 34.92it/s]\n"
     ]
    },
    {
     "name": "stdout",
     "output_type": "stream",
     "text": [
      "zrDi4gEaUi64lAMfJU51dw time\n"
     ]
    },
    {
     "name": "stderr",
     "output_type": "stream",
     "text": [
      "100%|████████████████████████████████████████████████████████████████████████████████| 595/595 [00:16<00:00, 36.28it/s]\n"
     ]
    },
    {
     "name": "stdout",
     "output_type": "stream",
     "text": [
      "zRqi6L1u-YmmVAHjeUbGMQ\n",
      "zRqi6L1u-YmmVAHjeUbGMQ order\n"
     ]
    },
    {
     "name": "stderr",
     "output_type": "stream",
     "text": [
      "100%|██████████████████████████████████████████████████████████████████████████████| 1165/1165 [00:36<00:00, 31.91it/s]\n"
     ]
    },
    {
     "name": "stdout",
     "output_type": "stream",
     "text": [
      "zRqi6L1u-YmmVAHjeUbGMQ time\n"
     ]
    },
    {
     "name": "stderr",
     "output_type": "stream",
     "text": [
      "100%|██████████████████████████████████████████████████████████████████████████████| 1165/1165 [00:36<00:00, 31.82it/s]\n"
     ]
    },
    {
     "name": "stdout",
     "output_type": "stream",
     "text": [
      "zrTGcb83AsfyVTMrsCa65A\n",
      "zrTGcb83AsfyVTMrsCa65A order\n"
     ]
    },
    {
     "name": "stderr",
     "output_type": "stream",
     "text": [
      "100%|████████████████████████████████████████████████████████████████████████████████| 532/532 [00:15<00:00, 34.43it/s]\n"
     ]
    },
    {
     "name": "stdout",
     "output_type": "stream",
     "text": [
      "zrTGcb83AsfyVTMrsCa65A time\n"
     ]
    },
    {
     "name": "stderr",
     "output_type": "stream",
     "text": [
      "100%|████████████████████████████████████████████████████████████████████████████████| 532/532 [00:15<00:00, 33.89it/s]\n"
     ]
    },
    {
     "name": "stdout",
     "output_type": "stream",
     "text": [
      "zU9w_xRlQSRIYXxGo-HSOA\n",
      "zU9w_xRlQSRIYXxGo-HSOA order\n"
     ]
    },
    {
     "name": "stderr",
     "output_type": "stream",
     "text": [
      "100%|████████████████████████████████████████████████████████████████████████████████| 998/998 [00:33<00:00, 29.87it/s]\n"
     ]
    },
    {
     "name": "stdout",
     "output_type": "stream",
     "text": [
      "zU9w_xRlQSRIYXxGo-HSOA time\n"
     ]
    },
    {
     "name": "stderr",
     "output_type": "stream",
     "text": [
      "100%|████████████████████████████████████████████████████████████████████████████████| 998/998 [01:19<00:00, 12.57it/s]\n"
     ]
    },
    {
     "name": "stdout",
     "output_type": "stream",
     "text": [
      "zwNC-Ow4eIMan2__bS9-rg\n",
      "zwNC-Ow4eIMan2__bS9-rg order\n"
     ]
    },
    {
     "name": "stderr",
     "output_type": "stream",
     "text": [
      "100%|████████████████████████████████████████████████████████████████████████████████| 601/601 [00:33<00:00, 17.97it/s]\n"
     ]
    },
    {
     "name": "stdout",
     "output_type": "stream",
     "text": [
      "zwNC-Ow4eIMan2__bS9-rg time\n"
     ]
    },
    {
     "name": "stderr",
     "output_type": "stream",
     "text": [
      "100%|████████████████████████████████████████████████████████████████████████████████| 601/601 [00:23<00:00, 25.10it/s]\n"
     ]
    },
    {
     "name": "stdout",
     "output_type": "stream",
     "text": [
      "Z_JkVkaUcN4ITVeuG-4Qtw\n",
      "Z_JkVkaUcN4ITVeuG-4Qtw order\n"
     ]
    },
    {
     "name": "stderr",
     "output_type": "stream",
     "text": [
      "100%|████████████████████████████████████████████████████████████████████████████████| 865/865 [00:31<00:00, 27.54it/s]\n"
     ]
    },
    {
     "name": "stdout",
     "output_type": "stream",
     "text": [
      "Z_JkVkaUcN4ITVeuG-4Qtw time\n"
     ]
    },
    {
     "name": "stderr",
     "output_type": "stream",
     "text": [
      "100%|████████████████████████████████████████████████████████████████████████████████| 865/865 [00:28<00:00, 30.85it/s]\n"
     ]
    },
    {
     "name": "stdout",
     "output_type": "stream",
     "text": [
      "_4Gpn_NIM94D9OFucgfaJQ\n",
      "_4Gpn_NIM94D9OFucgfaJQ order\n"
     ]
    },
    {
     "name": "stderr",
     "output_type": "stream",
     "text": [
      "100%|████████████████████████████████████████████████████████████████████████████████| 683/683 [00:19<00:00, 29.26it/s]\n"
     ]
    },
    {
     "name": "stdout",
     "output_type": "stream",
     "text": [
      "_4Gpn_NIM94D9OFucgfaJQ time\n"
     ]
    },
    {
     "name": "stderr",
     "output_type": "stream",
     "text": [
      "100%|████████████████████████████████████████████████████████████████████████████████| 683/683 [00:20<00:00, 28.76it/s]\n"
     ]
    },
    {
     "name": "stdout",
     "output_type": "stream",
     "text": [
      "_5PJ4GHIXNdUdXtohylKGQ\n",
      "_5PJ4GHIXNdUdXtohylKGQ order\n"
     ]
    },
    {
     "name": "stderr",
     "output_type": "stream",
     "text": [
      "100%|████████████████████████████████████████████████████████████████████████████████| 798/798 [00:24<00:00, 27.54it/s]\n"
     ]
    },
    {
     "name": "stdout",
     "output_type": "stream",
     "text": [
      "_5PJ4GHIXNdUdXtohylKGQ time\n"
     ]
    },
    {
     "name": "stderr",
     "output_type": "stream",
     "text": [
      "100%|████████████████████████████████████████████████████████████████████████████████| 798/798 [00:24<00:00, 32.84it/s]\n"
     ]
    },
    {
     "name": "stdout",
     "output_type": "stream",
     "text": [
      "_9vGmNrEcLWFOnUzeUdfag\n",
      "_9vGmNrEcLWFOnUzeUdfag order\n"
     ]
    },
    {
     "name": "stderr",
     "output_type": "stream",
     "text": [
      "100%|██████████████████████████████████████████████████████████████████████████████| 1104/1104 [00:36<00:00, 30.57it/s]\n"
     ]
    },
    {
     "name": "stdout",
     "output_type": "stream",
     "text": [
      "_9vGmNrEcLWFOnUzeUdfag time\n"
     ]
    },
    {
     "name": "stderr",
     "output_type": "stream",
     "text": [
      "100%|██████████████████████████████████████████████████████████████████████████████| 1104/1104 [00:35<00:00, 30.98it/s]\n"
     ]
    },
    {
     "name": "stdout",
     "output_type": "stream",
     "text": [
      "_DPJ_PHJnXsuhYhsgBA0Xw\n",
      "_DPJ_PHJnXsuhYhsgBA0Xw order\n"
     ]
    },
    {
     "name": "stderr",
     "output_type": "stream",
     "text": [
      "100%|████████████████████████████████████████████████████████████████████████████████| 902/902 [00:29<00:00, 31.02it/s]\n"
     ]
    },
    {
     "name": "stdout",
     "output_type": "stream",
     "text": [
      "_DPJ_PHJnXsuhYhsgBA0Xw time\n"
     ]
    },
    {
     "name": "stderr",
     "output_type": "stream",
     "text": [
      "100%|████████████████████████████████████████████████████████████████████████████████| 902/902 [00:28<00:00, 31.55it/s]\n"
     ]
    },
    {
     "name": "stdout",
     "output_type": "stream",
     "text": [
      "_j2EtQtgLuXGRBfbM5YwZA\n",
      "_j2EtQtgLuXGRBfbM5YwZA order\n"
     ]
    },
    {
     "name": "stderr",
     "output_type": "stream",
     "text": [
      "100%|██████████████████████████████████████████████████████████████████████████████| 1117/1117 [00:40<00:00, 26.25it/s]\n"
     ]
    },
    {
     "name": "stdout",
     "output_type": "stream",
     "text": [
      "_j2EtQtgLuXGRBfbM5YwZA time\n"
     ]
    },
    {
     "name": "stderr",
     "output_type": "stream",
     "text": [
      "100%|██████████████████████████████████████████████████████████████████████████████| 1117/1117 [00:35<00:00, 31.03it/s]\n"
     ]
    },
    {
     "name": "stdout",
     "output_type": "stream",
     "text": [
      "_kb6GT4qawjwq47OsQ52xw\n",
      "_kb6GT4qawjwq47OsQ52xw order\n"
     ]
    },
    {
     "name": "stderr",
     "output_type": "stream",
     "text": [
      "100%|████████████████████████████████████████████████████████████████████████████████| 529/529 [00:14<00:00, 37.12it/s]\n"
     ]
    },
    {
     "name": "stdout",
     "output_type": "stream",
     "text": [
      "_kb6GT4qawjwq47OsQ52xw time\n"
     ]
    },
    {
     "name": "stderr",
     "output_type": "stream",
     "text": [
      "100%|████████████████████████████████████████████████████████████████████████████████| 529/529 [00:13<00:00, 38.06it/s]\n"
     ]
    },
    {
     "name": "stdout",
     "output_type": "stream",
     "text": [
      "_R1jBQQieKpNGMBqmrLRyA\n",
      "_R1jBQQieKpNGMBqmrLRyA order\n"
     ]
    },
    {
     "name": "stderr",
     "output_type": "stream",
     "text": [
      "100%|████████████████████████████████████████████████████████████████████████████████| 530/530 [00:14<00:00, 37.53it/s]\n"
     ]
    },
    {
     "name": "stdout",
     "output_type": "stream",
     "text": [
      "_R1jBQQieKpNGMBqmrLRyA time\n"
     ]
    },
    {
     "name": "stderr",
     "output_type": "stream",
     "text": [
      "100%|████████████████████████████████████████████████████████████████████████████████| 530/530 [00:15<00:00, 33.45it/s]\n"
     ]
    },
    {
     "name": "stdout",
     "output_type": "stream",
     "text": [
      "_w5hBpkjHs5_Hv3pLeHtIw\n",
      "_w5hBpkjHs5_Hv3pLeHtIw order\n"
     ]
    },
    {
     "name": "stderr",
     "output_type": "stream",
     "text": [
      "100%|██████████████████████████████████████████████████████████████████████████████| 1833/1833 [01:00<00:00, 28.32it/s]\n"
     ]
    },
    {
     "name": "stdout",
     "output_type": "stream",
     "text": [
      "_w5hBpkjHs5_Hv3pLeHtIw time\n"
     ]
    },
    {
     "name": "stderr",
     "output_type": "stream",
     "text": [
      "100%|██████████████████████████████████████████████████████████████████████████████| 1833/1833 [01:03<00:00, 29.28it/s]\n"
     ]
    },
    {
     "name": "stdout",
     "output_type": "stream",
     "text": [
      "_WtxQbDK7B-ExGdeG-2j6Q\n",
      "_WtxQbDK7B-ExGdeG-2j6Q order\n"
     ]
    },
    {
     "name": "stderr",
     "output_type": "stream",
     "text": [
      "100%|████████████████████████████████████████████████████████████████████████████████| 707/707 [00:20<00:00, 34.35it/s]\n"
     ]
    },
    {
     "name": "stdout",
     "output_type": "stream",
     "text": [
      "_WtxQbDK7B-ExGdeG-2j6Q time\n"
     ]
    },
    {
     "name": "stderr",
     "output_type": "stream",
     "text": [
      "100%|████████████████████████████████████████████████████████████████████████████████| 707/707 [00:20<00:00, 28.02it/s]\n"
     ]
    },
    {
     "name": "stdout",
     "output_type": "stream",
     "text": [
      "_WvEXsx2eZ53lTWHlIx9kg\n",
      "_WvEXsx2eZ53lTWHlIx9kg order\n"
     ]
    },
    {
     "name": "stderr",
     "output_type": "stream",
     "text": [
      "100%|████████████████████████████████████████████████████████████████████████████████| 611/611 [00:17<00:00, 35.69it/s]\n"
     ]
    },
    {
     "name": "stdout",
     "output_type": "stream",
     "text": [
      "_WvEXsx2eZ53lTWHlIx9kg time\n"
     ]
    },
    {
     "name": "stderr",
     "output_type": "stream",
     "text": [
      "100%|████████████████████████████████████████████████████████████████████████████████| 611/611 [00:16<00:00, 36.22it/s]\n"
     ]
    },
    {
     "name": "stdout",
     "output_type": "stream",
     "text": [
      "_xAJZOKBMPOe47p1MphB2w\n",
      "_xAJZOKBMPOe47p1MphB2w order\n"
     ]
    },
    {
     "name": "stderr",
     "output_type": "stream",
     "text": [
      "100%|████████████████████████████████████████████████████████████████████████████████| 712/712 [00:20<00:00, 35.22it/s]\n"
     ]
    },
    {
     "name": "stdout",
     "output_type": "stream",
     "text": [
      "_xAJZOKBMPOe47p1MphB2w time\n"
     ]
    },
    {
     "name": "stderr",
     "output_type": "stream",
     "text": [
      "100%|████████████████████████████████████████████████████████████████████████████████| 712/712 [00:24<00:00, 29.62it/s]\n"
     ]
    },
    {
     "name": "stdout",
     "output_type": "stream",
     "text": [
      "_XN-GwzZwAyIqLKJsl2htg\n",
      "_XN-GwzZwAyIqLKJsl2htg order\n"
     ]
    },
    {
     "name": "stderr",
     "output_type": "stream",
     "text": [
      "100%|██████████████████████████████████████████████████████████████████████████████| 1346/1346 [00:43<00:00, 28.54it/s]\n"
     ]
    },
    {
     "name": "stdout",
     "output_type": "stream",
     "text": [
      "_XN-GwzZwAyIqLKJsl2htg time\n"
     ]
    },
    {
     "name": "stderr",
     "output_type": "stream",
     "text": [
      "100%|██████████████████████████████████████████████████████████████████████████████| 1346/1346 [00:44<00:00, 28.13it/s]\n"
     ]
    }
   ],
   "source": [
    "for filename in filenames:\n",
    "    print(filename.split('_with')[0])\n",
    "    # update results\n",
    "    results = os.listdir(path_results)\n",
    "    if filename.endswith('.json'):\n",
    "        if filename.split('_with')[0]+'_'+'order'+'_coefficients.csv' not in results:\n",
    "            knot_base = 'order'\n",
    "            business_id = filename.split('_with')[0]\n",
    "            print(business_id, knot_base)\n",
    "            try:\n",
    "                main(business_id,path,list_deltas,list_variables,bspline_order,knot_base)\n",
    "            except KeyError as error:\n",
    "                print(error)\n",
    "        elif filename.split('_with')[0]+'_'+'order'+'_coefficients.csv' in results:\n",
    "            print(filename.split('_with')[0] + 'in order base has been finished')\n",
    "\n",
    "        if filename.split('_with')[0]+'_'+'time'+'_coefficients.csv' not in results:\n",
    "            knot_base = 'time'\n",
    "            business_id = filename.split('_with')[0]\n",
    "            print(business_id, knot_base)\n",
    "            try:\n",
    "                main(business_id,path,list_deltas,list_variables,bspline_order,knot_base)\n",
    "            except KeyError as error:\n",
    "                print(error)\n",
    "        elif filename.split('_with')[0]+'_'+'time'+'_coefficients.csv' in results:\n",
    "            print(filename.split('_with')[0] + 'in time base has been finished')    "
   ]
  },
  {
   "cell_type": "code",
   "execution_count": 19,
   "metadata": {},
   "outputs": [
    {
     "data": {
      "text/plain": [
       "True"
      ]
     },
     "execution_count": 19,
     "metadata": {},
     "output_type": "execute_result"
    }
   ],
   "source": [
    "filename.split('_with')[0]+'_'+'order'+'_coefficients.csv' not in results"
   ]
  },
  {
   "cell_type": "code",
   "execution_count": 20,
   "metadata": {},
   "outputs": [
    {
     "data": {
      "text/plain": [
       "'uWECX6-Uq9n8v5ipk9R29A'"
      ]
     },
     "execution_count": 20,
     "metadata": {},
     "output_type": "execute_result"
    }
   ],
   "source": [
    "filename.split('_with')[0]"
   ]
  },
  {
   "cell_type": "code",
   "execution_count": 14,
   "metadata": {},
   "outputs": [],
   "source": [
    "# create lookup dictionary and table\n",
    "df_decaytable, dict_decaytable = create_decay_table(list_deltas)\n",
    "\n",
    "# create dict_calendar for time-checking\n",
    "dict_calendar = create_calendar()"
   ]
  },
  {
   "cell_type": "markdown",
   "metadata": {},
   "source": [
    "# Define the main function"
   ]
  },
  {
   "cell_type": "code",
   "execution_count": 17,
   "metadata": {},
   "outputs": [],
   "source": [
    "def main(business_id,path,list_deltas,list_variables,bspline_order,knot_base):\n",
    "    global dict_business\n",
    "    global df_business\n",
    "    global df_variables\n",
    "    global df_bspline\n",
    "    global dict_effective\n",
    "    global dict_decayvalues\n",
    "    global df_decaytable\n",
    "    global dict_decaytable\n",
    "    global dict_calendar\n",
    "    global df_data\n",
    "    global list_knot_order\n",
    "    global list_knot_time\n",
    "    \n",
    "    # original business information (with user and text features)\n",
    "    dict_business = {}\n",
    "    path_user = os.path.join(path,'business','business with more than 500 reviews')\n",
    "    with open(os.path.join(path_user,str(business_id)+'_with user information.json'),'r',encoding='utf-8') as file:\n",
    "        for line in file.readlines():\n",
    "            dict_business_user = json.loads(line)\n",
    "\n",
    "    # save review information into dict_business_raw\n",
    "    dict_business['RestaurantInfo'] = dict_business_user['RestaurantInfo']\n",
    "    dict_business['Reviews'] = {}\n",
    "    for review_id in dict_business_user['Reviews'].keys():\n",
    "        dict_business['Reviews'][review_id] = {}\n",
    "        for attribute in dict_business_user['Reviews'][review_id].keys():\n",
    "            if attribute != 'user_info':\n",
    "                dict_business['Reviews'][review_id][attribute] = dict_business_user['Reviews'][review_id][attribute]\n",
    "\n",
    "    \"\"\" import user features\"\"\"\n",
    "    get_user_features(business_id, path, dict_business)\n",
    "    \"\"\" import text featrues\"\"\"\n",
    "    get_text_features(business_id, path, dict_business)\n",
    "    \"\"\" one-hot for star ratings\"\"\"\n",
    "    one_hot_star(dict_business)\n",
    "\n",
    "    \"\"\" str -> float or datetime\"\"\"\n",
    "    for review_id in dict_business['Reviews']:\n",
    "        for variable in dict_business['Reviews'][review_id].keys():\n",
    "            if variable in list_variables:\n",
    "                dict_business['Reviews'][review_id][variable] = float(dict_business['Reviews'][review_id][variable])\n",
    "            elif variable == 'date':\n",
    "                dict_business['Reviews'][review_id][variable] = datetime.strptime(dict_business['Reviews'][review_id][variable], \"%Y-%m-%d %H:%M:%S\")\n",
    "\n",
    "    \"\"\" dictionary -> dataframe\"\"\"\n",
    "    df_business = pd.DataFrame.from_dict(dict_business['Reviews']).T\n",
    "    \"\"\" sort by datetime\"\"\"\n",
    "    df_business = df_business.sort_values(by = 'date', axis = 0, ascending = True)\n",
    "\n",
    "    \"\"\" add average_stars\"\"\"\n",
    "    add_average_star(df_business)\n",
    "\n",
    "    \"\"\" clear dataframe\"\"\"\n",
    "    df_business = pd.concat([df_business['date'],df_business['stars'],df_business[list_variables]],axis=1)\n",
    "\n",
    "    \"\"\" calculate decay values\"\"\"\n",
    "    # dictionary for saving effective events (events with decay values > 1e-7)\n",
    "    dict_effective = {}\n",
    "    # dictionary for saving decay values for each event\n",
    "    dict_decayvalues = {}\n",
    "\n",
    "    calculate_decay_values(df_business, list_variables, list_deltas, dict_decaytable, dict_effective, dict_decayvalues)\n",
    "    \n",
    "    \"\"\" get dataframe \"\"\"\n",
    "    # get dataframe of independent variables and save it into .csv for running lasso model in R\n",
    "    df_variables = pd.DataFrame(dict_decayvalues).T.drop('order',axis=1)\n",
    "\n",
    "    \"\"\" b spline basis function \"\"\"\n",
    "    if knot_base == 'order':\n",
    "        # get knot vector\n",
    "        list_knot_order = get_knot_vector(df_business)\n",
    "        # get b spline basis function\n",
    "        df_business, df_bspline = b_spline_basis(bspline_order, list_knot_order, df_business)\n",
    "    elif knot_base == 'time':\n",
    "        # get knot vector\n",
    "        list_knot_order, list_knot_time = get_knot_vector_time(df_business)\n",
    "        # get b spline basis function\n",
    "        df_business, df_bspline = b_spline_basis_time(bspline_order, list_knot_time, df_business)\n",
    "    \n",
    "    # export dataframe\n",
    "    df_data = pd.concat([df_business['stars'],df_variables,df_bspline],axis = 1)\n",
    "    df_data.to_csv(os.path.join(path,'dataframe_ready_to_use' , 'df_'+str(business_id)+'_'+str(knot_base)+'.csv'), index=False, quoting=1)\n",
    "    # export business_id\n",
    "    file = open(os.path.join(path,'dataframe_ready_to_use', 'business_id and knot_base.txt'),'r+')\n",
    "    file.truncate()\n",
    "    file.write(str(business_id)+','+str(knot_base)+'\\n')\n",
    "    file.close()   "
   ]
  },
  {
   "cell_type": "markdown",
   "metadata": {},
   "source": [
    "# Run the main function"
   ]
  },
  {
   "cell_type": "code",
   "execution_count": 22,
   "metadata": {},
   "outputs": [
    {
     "name": "stdout",
     "output_type": "stream",
     "text": [
      "uWECX6-Uq9n8v5ipk9R29A order\n"
     ]
    },
    {
     "ename": "KeyError",
     "evalue": "'user_info'",
     "output_type": "error",
     "traceback": [
      "\u001b[1;31m---------------------------------------------------------------------------\u001b[0m",
      "\u001b[1;31mKeyError\u001b[0m                                  Traceback (most recent call last)",
      "\u001b[1;32m<ipython-input-22-49091027c07a>\u001b[0m in \u001b[0;36m<module>\u001b[1;34m\u001b[0m\n\u001b[0;32m      1\u001b[0m \u001b[0mprint\u001b[0m\u001b[1;33m(\u001b[0m\u001b[0mbusiness_id\u001b[0m\u001b[1;33m,\u001b[0m \u001b[0mknot_base\u001b[0m\u001b[1;33m)\u001b[0m\u001b[1;33m\u001b[0m\u001b[1;33m\u001b[0m\u001b[0m\n\u001b[1;32m----> 2\u001b[1;33m \u001b[0mmain\u001b[0m\u001b[1;33m(\u001b[0m\u001b[0mbusiness_id\u001b[0m\u001b[1;33m,\u001b[0m\u001b[0mpath\u001b[0m\u001b[1;33m,\u001b[0m\u001b[0mlist_deltas\u001b[0m\u001b[1;33m,\u001b[0m\u001b[0mlist_variables\u001b[0m\u001b[1;33m,\u001b[0m\u001b[0mbspline_order\u001b[0m\u001b[1;33m,\u001b[0m\u001b[0mknot_base\u001b[0m\u001b[1;33m)\u001b[0m\u001b[1;33m\u001b[0m\u001b[1;33m\u001b[0m\u001b[0m\n\u001b[0m",
      "\u001b[1;32m<ipython-input-17-9d02d308a368>\u001b[0m in \u001b[0;36mmain\u001b[1;34m(business_id, path, list_deltas, list_variables, bspline_order, knot_base)\u001b[0m\n\u001b[0;32m     30\u001b[0m \u001b[1;33m\u001b[0m\u001b[0m\n\u001b[0;32m     31\u001b[0m     \u001b[1;34m\"\"\" import user features\"\"\"\u001b[0m\u001b[1;33m\u001b[0m\u001b[1;33m\u001b[0m\u001b[0m\n\u001b[1;32m---> 32\u001b[1;33m     \u001b[0mget_user_features\u001b[0m\u001b[1;33m(\u001b[0m\u001b[0mbusiness_id\u001b[0m\u001b[1;33m,\u001b[0m \u001b[0mpath\u001b[0m\u001b[1;33m,\u001b[0m \u001b[0mdict_business\u001b[0m\u001b[1;33m)\u001b[0m\u001b[1;33m\u001b[0m\u001b[1;33m\u001b[0m\u001b[0m\n\u001b[0m\u001b[0;32m     33\u001b[0m     \u001b[1;34m\"\"\" import text featrues\"\"\"\u001b[0m\u001b[1;33m\u001b[0m\u001b[1;33m\u001b[0m\u001b[0m\n\u001b[0;32m     34\u001b[0m     \u001b[0mget_text_features\u001b[0m\u001b[1;33m(\u001b[0m\u001b[0mbusiness_id\u001b[0m\u001b[1;33m,\u001b[0m \u001b[0mpath\u001b[0m\u001b[1;33m,\u001b[0m \u001b[0mdict_business\u001b[0m\u001b[1;33m)\u001b[0m\u001b[1;33m\u001b[0m\u001b[1;33m\u001b[0m\u001b[0m\n",
      "\u001b[1;32m~\\Documents\\PHD LIFE\\Research\\Hawkes Processes\\Yelp\\yelp_functions.py\u001b[0m in \u001b[0;36mget_user_features\u001b[1;34m(business_id, path, dict_business)\u001b[0m\n\u001b[0;32m    120\u001b[0m     \u001b[1;31m# extract features\u001b[0m\u001b[1;33m\u001b[0m\u001b[1;33m\u001b[0m\u001b[1;33m\u001b[0m\u001b[0m\n\u001b[0;32m    121\u001b[0m     \u001b[1;32mfor\u001b[0m \u001b[0mreview_id\u001b[0m \u001b[1;32min\u001b[0m \u001b[0mdict_business_user\u001b[0m\u001b[1;33m[\u001b[0m\u001b[1;34m'Reviews'\u001b[0m\u001b[1;33m]\u001b[0m\u001b[1;33m.\u001b[0m\u001b[0mkeys\u001b[0m\u001b[1;33m(\u001b[0m\u001b[1;33m)\u001b[0m\u001b[1;33m:\u001b[0m\u001b[1;33m\u001b[0m\u001b[1;33m\u001b[0m\u001b[0m\n\u001b[1;32m--> 122\u001b[1;33m         \u001b[0mfriend_count\u001b[0m \u001b[1;33m=\u001b[0m \u001b[0mdict_business_user\u001b[0m\u001b[1;33m[\u001b[0m\u001b[1;34m'Reviews'\u001b[0m\u001b[1;33m]\u001b[0m\u001b[1;33m[\u001b[0m\u001b[0mreview_id\u001b[0m\u001b[1;33m]\u001b[0m\u001b[1;33m[\u001b[0m\u001b[1;34m'user_info'\u001b[0m\u001b[1;33m]\u001b[0m\u001b[1;33m[\u001b[0m\u001b[1;34m'friends'\u001b[0m\u001b[1;33m]\u001b[0m\u001b[1;33m.\u001b[0m\u001b[0mcount\u001b[0m\u001b[1;33m(\u001b[0m\u001b[1;34m','\u001b[0m\u001b[1;33m)\u001b[0m\u001b[1;33m\u001b[0m\u001b[1;33m\u001b[0m\u001b[0m\n\u001b[0m\u001b[0;32m    123\u001b[0m         \u001b[0melite_count\u001b[0m \u001b[1;33m=\u001b[0m \u001b[0mdict_business_user\u001b[0m\u001b[1;33m[\u001b[0m\u001b[1;34m'Reviews'\u001b[0m\u001b[1;33m]\u001b[0m\u001b[1;33m[\u001b[0m\u001b[0mreview_id\u001b[0m\u001b[1;33m]\u001b[0m\u001b[1;33m[\u001b[0m\u001b[1;34m'user_info'\u001b[0m\u001b[1;33m]\u001b[0m\u001b[1;33m[\u001b[0m\u001b[1;34m'elite'\u001b[0m\u001b[1;33m]\u001b[0m\u001b[1;33m.\u001b[0m\u001b[0mcount\u001b[0m\u001b[1;33m(\u001b[0m\u001b[1;34m','\u001b[0m\u001b[1;33m)\u001b[0m\u001b[1;33m\u001b[0m\u001b[1;33m\u001b[0m\u001b[0m\n\u001b[0;32m    124\u001b[0m         \u001b[0mreview_count\u001b[0m \u001b[1;33m=\u001b[0m \u001b[0mdict_business_user\u001b[0m\u001b[1;33m[\u001b[0m\u001b[1;34m'Reviews'\u001b[0m\u001b[1;33m]\u001b[0m\u001b[1;33m[\u001b[0m\u001b[0mreview_id\u001b[0m\u001b[1;33m]\u001b[0m\u001b[1;33m[\u001b[0m\u001b[1;34m'user_info'\u001b[0m\u001b[1;33m]\u001b[0m\u001b[1;33m[\u001b[0m\u001b[1;34m'review_count'\u001b[0m\u001b[1;33m]\u001b[0m\u001b[1;33m\u001b[0m\u001b[1;33m\u001b[0m\u001b[0m\n",
      "\u001b[1;31mKeyError\u001b[0m: 'user_info'"
     ]
    }
   ],
   "source": [
    "print(business_id, knot_base)\n",
    "main(business_id,path,list_deltas,list_variables,bspline_order,knot_base)"
   ]
  },
  {
   "cell_type": "markdown",
   "metadata": {},
   "source": [
    "# Run R for lasso model"
   ]
  },
  {
   "cell_type": "code",
   "execution_count": 13,
   "metadata": {},
   "outputs": [
    {
     "name": "stdout",
     "output_type": "stream",
     "text": [
      "\n",
      "Error in predmat[which, seq(nlami)] <- preds : \n",
      "  replacement has length zero\n"
     ]
    },
    {
     "ename": "PermissionError",
     "evalue": "[WinError 32] The process cannot access the file because it is being used by another process: 'C:\\\\Users\\\\YICHEN~1\\\\AppData\\\\Local\\\\Temp\\\\tmp1ij2nj0z\\\\Rplots001.png'",
     "output_type": "error",
     "traceback": [
      "\u001b[1;31m---------------------------------------------------------------------------\u001b[0m",
      "\u001b[1;31mRRuntimeError\u001b[0m                             Traceback (most recent call last)",
      "\u001b[1;32m~\\Anaconda3\\envs\\r-tutorial\\lib\\site-packages\\rpy2\\ipython\\rmagic.py\u001b[0m in \u001b[0;36meval\u001b[1;34m(self, code)\u001b[0m\n\u001b[0;32m    253\u001b[0m             \u001b[1;31m# Need the newline in case the last line in code is a comment\u001b[0m\u001b[1;33m\u001b[0m\u001b[1;33m\u001b[0m\u001b[1;33m\u001b[0m\u001b[0m\n\u001b[1;32m--> 254\u001b[1;33m             \u001b[0mvalue\u001b[0m\u001b[1;33m,\u001b[0m \u001b[0mvisible\u001b[0m \u001b[1;33m=\u001b[0m \u001b[0mro\u001b[0m\u001b[1;33m.\u001b[0m\u001b[0mr\u001b[0m\u001b[1;33m(\u001b[0m\u001b[1;34m\"withVisible({%s\\n})\"\u001b[0m \u001b[1;33m%\u001b[0m \u001b[0mcode\u001b[0m\u001b[1;33m)\u001b[0m\u001b[1;33m\u001b[0m\u001b[1;33m\u001b[0m\u001b[0m\n\u001b[0m\u001b[0;32m    255\u001b[0m         \u001b[1;32mexcept\u001b[0m \u001b[1;33m(\u001b[0m\u001b[0mri\u001b[0m\u001b[1;33m.\u001b[0m\u001b[0mRRuntimeError\u001b[0m\u001b[1;33m,\u001b[0m \u001b[0mValueError\u001b[0m\u001b[1;33m)\u001b[0m \u001b[1;32mas\u001b[0m \u001b[0mexception\u001b[0m\u001b[1;33m:\u001b[0m\u001b[1;33m\u001b[0m\u001b[1;33m\u001b[0m\u001b[0m\n",
      "\u001b[1;32m~\\Anaconda3\\envs\\r-tutorial\\lib\\site-packages\\rpy2\\robjects\\__init__.py\u001b[0m in \u001b[0;36m__call__\u001b[1;34m(self, string)\u001b[0m\n\u001b[0;32m    351\u001b[0m         \u001b[0mp\u001b[0m \u001b[1;33m=\u001b[0m \u001b[0m_rparse\u001b[0m\u001b[1;33m(\u001b[0m\u001b[0mtext\u001b[0m\u001b[1;33m=\u001b[0m\u001b[0mStrSexpVector\u001b[0m\u001b[1;33m(\u001b[0m\u001b[1;33m(\u001b[0m\u001b[0mstring\u001b[0m\u001b[1;33m,\u001b[0m\u001b[1;33m)\u001b[0m\u001b[1;33m)\u001b[0m\u001b[1;33m)\u001b[0m\u001b[1;33m\u001b[0m\u001b[1;33m\u001b[0m\u001b[0m\n\u001b[1;32m--> 352\u001b[1;33m         \u001b[0mres\u001b[0m \u001b[1;33m=\u001b[0m \u001b[0mself\u001b[0m\u001b[1;33m.\u001b[0m\u001b[0meval\u001b[0m\u001b[1;33m(\u001b[0m\u001b[0mp\u001b[0m\u001b[1;33m)\u001b[0m\u001b[1;33m\u001b[0m\u001b[1;33m\u001b[0m\u001b[0m\n\u001b[0m\u001b[0;32m    353\u001b[0m         \u001b[1;32mreturn\u001b[0m \u001b[0mconversion\u001b[0m\u001b[1;33m.\u001b[0m\u001b[0mri2py\u001b[0m\u001b[1;33m(\u001b[0m\u001b[0mres\u001b[0m\u001b[1;33m)\u001b[0m\u001b[1;33m\u001b[0m\u001b[1;33m\u001b[0m\u001b[0m\n",
      "\u001b[1;32m~\\Anaconda3\\envs\\r-tutorial\\lib\\site-packages\\rpy2\\robjects\\functions.py\u001b[0m in \u001b[0;36m__call__\u001b[1;34m(self, *args, **kwargs)\u001b[0m\n\u001b[0;32m    177\u001b[0m                 \u001b[0mkwargs\u001b[0m\u001b[1;33m[\u001b[0m\u001b[0mr_k\u001b[0m\u001b[1;33m]\u001b[0m \u001b[1;33m=\u001b[0m \u001b[0mv\u001b[0m\u001b[1;33m\u001b[0m\u001b[1;33m\u001b[0m\u001b[0m\n\u001b[1;32m--> 178\u001b[1;33m         \u001b[1;32mreturn\u001b[0m \u001b[0msuper\u001b[0m\u001b[1;33m(\u001b[0m\u001b[0mSignatureTranslatedFunction\u001b[0m\u001b[1;33m,\u001b[0m \u001b[0mself\u001b[0m\u001b[1;33m)\u001b[0m\u001b[1;33m.\u001b[0m\u001b[0m__call__\u001b[0m\u001b[1;33m(\u001b[0m\u001b[1;33m*\u001b[0m\u001b[0margs\u001b[0m\u001b[1;33m,\u001b[0m \u001b[1;33m**\u001b[0m\u001b[0mkwargs\u001b[0m\u001b[1;33m)\u001b[0m\u001b[1;33m\u001b[0m\u001b[1;33m\u001b[0m\u001b[0m\n\u001b[0m\u001b[0;32m    179\u001b[0m \u001b[1;33m\u001b[0m\u001b[0m\n",
      "\u001b[1;32m~\\Anaconda3\\envs\\r-tutorial\\lib\\site-packages\\rpy2\\robjects\\functions.py\u001b[0m in \u001b[0;36m__call__\u001b[1;34m(self, *args, **kwargs)\u001b[0m\n\u001b[0;32m    105\u001b[0m             \u001b[0mnew_kwargs\u001b[0m\u001b[1;33m[\u001b[0m\u001b[0mk\u001b[0m\u001b[1;33m]\u001b[0m \u001b[1;33m=\u001b[0m \u001b[0mconversion\u001b[0m\u001b[1;33m.\u001b[0m\u001b[0mpy2ri\u001b[0m\u001b[1;33m(\u001b[0m\u001b[0mv\u001b[0m\u001b[1;33m)\u001b[0m\u001b[1;33m\u001b[0m\u001b[1;33m\u001b[0m\u001b[0m\n\u001b[1;32m--> 106\u001b[1;33m         \u001b[0mres\u001b[0m \u001b[1;33m=\u001b[0m \u001b[0msuper\u001b[0m\u001b[1;33m(\u001b[0m\u001b[0mFunction\u001b[0m\u001b[1;33m,\u001b[0m \u001b[0mself\u001b[0m\u001b[1;33m)\u001b[0m\u001b[1;33m.\u001b[0m\u001b[0m__call__\u001b[0m\u001b[1;33m(\u001b[0m\u001b[1;33m*\u001b[0m\u001b[0mnew_args\u001b[0m\u001b[1;33m,\u001b[0m \u001b[1;33m**\u001b[0m\u001b[0mnew_kwargs\u001b[0m\u001b[1;33m)\u001b[0m\u001b[1;33m\u001b[0m\u001b[1;33m\u001b[0m\u001b[0m\n\u001b[0m\u001b[0;32m    107\u001b[0m         \u001b[0mres\u001b[0m \u001b[1;33m=\u001b[0m \u001b[0mconversion\u001b[0m\u001b[1;33m.\u001b[0m\u001b[0mri2ro\u001b[0m\u001b[1;33m(\u001b[0m\u001b[0mres\u001b[0m\u001b[1;33m)\u001b[0m\u001b[1;33m\u001b[0m\u001b[1;33m\u001b[0m\u001b[0m\n",
      "\u001b[1;31mRRuntimeError\u001b[0m: Error in predmat[which, seq(nlami)] <- preds : \n  replacement has length zero\n",
      "\nDuring handling of the above exception, another exception occurred:\n",
      "\u001b[1;31mRInterpreterError\u001b[0m                         Traceback (most recent call last)",
      "\u001b[1;32m~\\Anaconda3\\envs\\r-tutorial\\lib\\site-packages\\rpy2\\ipython\\rmagic.py\u001b[0m in \u001b[0;36mR\u001b[1;34m(self, line, cell, local_ns)\u001b[0m\n\u001b[0;32m    703\u001b[0m             \u001b[1;32melse\u001b[0m\u001b[1;33m:\u001b[0m\u001b[1;33m\u001b[0m\u001b[1;33m\u001b[0m\u001b[0m\n\u001b[1;32m--> 704\u001b[1;33m                 \u001b[0mtext_result\u001b[0m\u001b[1;33m,\u001b[0m \u001b[0mresult\u001b[0m\u001b[1;33m,\u001b[0m \u001b[0mvisible\u001b[0m \u001b[1;33m=\u001b[0m \u001b[0mself\u001b[0m\u001b[1;33m.\u001b[0m\u001b[0meval\u001b[0m\u001b[1;33m(\u001b[0m\u001b[0mcode\u001b[0m\u001b[1;33m)\u001b[0m\u001b[1;33m\u001b[0m\u001b[1;33m\u001b[0m\u001b[0m\n\u001b[0m\u001b[0;32m    705\u001b[0m                 \u001b[0mtext_output\u001b[0m \u001b[1;33m+=\u001b[0m \u001b[0mtext_result\u001b[0m\u001b[1;33m\u001b[0m\u001b[1;33m\u001b[0m\u001b[0m\n",
      "\u001b[1;32m~\\Anaconda3\\envs\\r-tutorial\\lib\\site-packages\\rpy2\\ipython\\rmagic.py\u001b[0m in \u001b[0;36meval\u001b[1;34m(self, code)\u001b[0m\n\u001b[0;32m    256\u001b[0m             \u001b[0mwarning_or_other_msg\u001b[0m \u001b[1;33m=\u001b[0m \u001b[0mself\u001b[0m\u001b[1;33m.\u001b[0m\u001b[0mflush\u001b[0m\u001b[1;33m(\u001b[0m\u001b[1;33m)\u001b[0m \u001b[1;31m# otherwise next return seems to have copy of error\u001b[0m\u001b[1;33m\u001b[0m\u001b[1;33m\u001b[0m\u001b[0m\n\u001b[1;32m--> 257\u001b[1;33m             \u001b[1;32mraise\u001b[0m \u001b[0mRInterpreterError\u001b[0m\u001b[1;33m(\u001b[0m\u001b[0mcode\u001b[0m\u001b[1;33m,\u001b[0m \u001b[0mstr\u001b[0m\u001b[1;33m(\u001b[0m\u001b[0mexception\u001b[0m\u001b[1;33m)\u001b[0m\u001b[1;33m,\u001b[0m \u001b[0mwarning_or_other_msg\u001b[0m\u001b[1;33m)\u001b[0m\u001b[1;33m\u001b[0m\u001b[1;33m\u001b[0m\u001b[0m\n\u001b[0m\u001b[0;32m    258\u001b[0m         \u001b[0mtext_output\u001b[0m \u001b[1;33m=\u001b[0m \u001b[0mself\u001b[0m\u001b[1;33m.\u001b[0m\u001b[0mflush\u001b[0m\u001b[1;33m(\u001b[0m\u001b[1;33m)\u001b[0m\u001b[1;33m\u001b[0m\u001b[1;33m\u001b[0m\u001b[0m\n",
      "\u001b[1;31mRInterpreterError\u001b[0m: Failed to parse and evaluate line '\\n##################################\\n##################################\\n###   Yelp_lasso regression    ###\\n##################################\\n##################################\\n\\n\\n# import library\\nlibrary(glmnet)\\nlibrary(stringr)\\n\\n# setup working directory\\nsetwd(\"C:/Users/Yichen Jiang/Documents/PHD LIFE/Research/Hawkes Processes/Yelp/dataframe_ready_to_use\")\\n# read business_id and knot_base\\nparameters <- readLines(\"business_id and knot_base.txt\")\\nbusiness_id = unlist(strsplit(parameters,split = \\',\\'))[1]\\nknot_base = unlist(strsplit(parameters,split = \\',\\'))[2]\\n# import csv file\\ndata_business = read.csv(paste(\\'df_\\',business_id,\\'_\\',knot_base,\\'.csv\\',sep = \\'\\'))\\n\\nlist_variables = colnames(data_business)[which(str_detect(colnames(data_business),\\'decay\\')==TRUE)]\\nlist_bspline = colnames(data_business)[which(str_detect(colnames(data_business),\\'spline\\')==TRUE)]\\n\\ndata_business_x = as.matrix(data_business[,c(list_variables,list_bspline)])\\ndata_business_y = as.matrix(data_business[\\'stars\\'])\\n\\n\\n# lasso model with penalty.factor\\nset.seed(2019)\\n\\n# setup penalty factor\\np.fac = c(rep(1,length(list_variables)),rep(0,length(list_bspline)))\\n\\nlasso =cv.glmnet(data_business_x, data_business_y, penalty.factor = p.fac,alpha = 1, nfolds=5,intercept=FALSE)\\n\\n# get coefficients\\ncoef = as.matrix(coef(lasso,s=\"lambda.min\"))\\nprint(coef)\\n\\n# get prediction\\ndata_business_pred = predict(lasso, data_business_x)\\n\\n# save prediction into data_business\\ndata_business[\"prediction\"] = data_business_pred \\n\\n# export data_business coefficients into csv\\nwrite.csv(data_business, file = paste(\\'df_\\',business_id,\\'_\\',knot_base,\\'_with predictions.csv\\',sep = \\'\\'),row.names=FALSE)\\nwrite.csv(coef,file = paste(\\'C:/Users/Yichen Jiang/Documents/PHD LIFE/Research/Hawkes Processes/Yelp/results/\\',\\'df_\\',business_id,\\'_\\',knot_base,\\'_coefficients.csv\\',sep = \\'\\'))\\n'.\nR error message: 'Error in predmat[which, seq(nlami)] <- preds : \\n  replacement has length zero'",
      "\nDuring handling of the above exception, another exception occurred:\n",
      "\u001b[1;31mPermissionError\u001b[0m                           Traceback (most recent call last)",
      "\u001b[1;32m<ipython-input-13-c9ac2a2c181d>\u001b[0m in \u001b[0;36m<module>\u001b[1;34m\u001b[0m\n\u001b[1;32m----> 1\u001b[1;33m \u001b[0mget_ipython\u001b[0m\u001b[1;33m(\u001b[0m\u001b[1;33m)\u001b[0m\u001b[1;33m.\u001b[0m\u001b[0mrun_cell_magic\u001b[0m\u001b[1;33m(\u001b[0m\u001b[1;34m'R'\u001b[0m\u001b[1;33m,\u001b[0m \u001b[1;34m''\u001b[0m\u001b[1;33m,\u001b[0m \u001b[1;34m'\\n##################################\\n##################################\\n###   Yelp_lasso regression    ###\\n##################################\\n##################################\\n\\n\\n# import library\\nlibrary(glmnet)\\nlibrary(stringr)\\n\\n# setup working directory\\nsetwd(\"C:/Users/Yichen Jiang/Documents/PHD LIFE/Research/Hawkes Processes/Yelp/dataframe_ready_to_use\")\\n# read business_id and knot_base\\nparameters <- readLines(\"business_id and knot_base.txt\")\\nbusiness_id = unlist(strsplit(parameters,split = \\',\\'))[1]\\nknot_base = unlist(strsplit(parameters,split = \\',\\'))[2]\\n# import csv file\\ndata_business = read.csv(paste(\\'df_\\',business_id,\\'_\\',knot_base,\\'.csv\\',sep = \\'\\'))\\n\\nlist_variables = colnames(data_business)[which(str_detect(colnames(data_business),\\'decay\\')==TRUE)]\\nlist_bspline = colnames(data_business)[which(str_detect(colnames(data_business),\\'spline\\')==TRUE)]\\n\\ndata_business_x = as.matrix(data_business[,c(list_variables,list_bspline)])\\ndata_business_y = as.matrix(data_business[\\'stars\\'])\\n\\n\\n# lasso model with penalty.factor\\nset.seed(2019)\\n\\n# setup penalty factor\\np.fac = c(rep(1,length(list_variables)),rep(0,length(list_bspline)))\\n\\nlasso =cv.glmnet(data_business_x, data_business_y, penalty.factor = p.fac,alpha = 1, nfolds=5,intercept=FALSE)\\n\\n# get coefficients\\ncoef = as.matrix(coef(lasso,s=\"lambda.min\"))\\nprint(coef)\\n\\n# get prediction\\ndata_business_pred = predict(lasso, data_business_x)\\n\\n# save prediction into data_business\\ndata_business[\"prediction\"] = data_business_pred \\n\\n# export data_business coefficients into csv\\nwrite.csv(data_business, file = paste(\\'df_\\',business_id,\\'_\\',knot_base,\\'_with predictions.csv\\',sep = \\'\\'),row.names=FALSE)\\nwrite.csv(coef,file = paste(\\'C:/Users/Yichen Jiang/Documents/PHD LIFE/Research/Hawkes Processes/Yelp/results/\\',\\'df_\\',business_id,\\'_\\',knot_base,\\'_coefficients.csv\\',sep = \\'\\'))\\n'\u001b[0m\u001b[1;33m)\u001b[0m\u001b[1;33m\u001b[0m\u001b[1;33m\u001b[0m\u001b[0m\n\u001b[0m",
      "\u001b[1;32m~\\Anaconda3\\envs\\r-tutorial\\lib\\site-packages\\IPython\\core\\interactiveshell.py\u001b[0m in \u001b[0;36mrun_cell_magic\u001b[1;34m(self, magic_name, line, cell)\u001b[0m\n\u001b[0;32m   2357\u001b[0m             \u001b[1;32mwith\u001b[0m \u001b[0mself\u001b[0m\u001b[1;33m.\u001b[0m\u001b[0mbuiltin_trap\u001b[0m\u001b[1;33m:\u001b[0m\u001b[1;33m\u001b[0m\u001b[1;33m\u001b[0m\u001b[0m\n\u001b[0;32m   2358\u001b[0m                 \u001b[0margs\u001b[0m \u001b[1;33m=\u001b[0m \u001b[1;33m(\u001b[0m\u001b[0mmagic_arg_s\u001b[0m\u001b[1;33m,\u001b[0m \u001b[0mcell\u001b[0m\u001b[1;33m)\u001b[0m\u001b[1;33m\u001b[0m\u001b[1;33m\u001b[0m\u001b[0m\n\u001b[1;32m-> 2359\u001b[1;33m                 \u001b[0mresult\u001b[0m \u001b[1;33m=\u001b[0m \u001b[0mfn\u001b[0m\u001b[1;33m(\u001b[0m\u001b[1;33m*\u001b[0m\u001b[0margs\u001b[0m\u001b[1;33m,\u001b[0m \u001b[1;33m**\u001b[0m\u001b[0mkwargs\u001b[0m\u001b[1;33m)\u001b[0m\u001b[1;33m\u001b[0m\u001b[1;33m\u001b[0m\u001b[0m\n\u001b[0m\u001b[0;32m   2360\u001b[0m             \u001b[1;32mreturn\u001b[0m \u001b[0mresult\u001b[0m\u001b[1;33m\u001b[0m\u001b[1;33m\u001b[0m\u001b[0m\n\u001b[0;32m   2361\u001b[0m \u001b[1;33m\u001b[0m\u001b[0m\n",
      "\u001b[1;32m<C:\\Users\\Yichen Jiang\\Anaconda3\\envs\\r-tutorial\\lib\\site-packages\\decorator.py:decorator-gen-131>\u001b[0m in \u001b[0;36mR\u001b[1;34m(self, line, cell, local_ns)\u001b[0m\n",
      "\u001b[1;32m~\\Anaconda3\\envs\\r-tutorial\\lib\\site-packages\\IPython\\core\\magic.py\u001b[0m in \u001b[0;36m<lambda>\u001b[1;34m(f, *a, **k)\u001b[0m\n\u001b[0;32m    185\u001b[0m     \u001b[1;31m# but it's overkill for just that one bit of state.\u001b[0m\u001b[1;33m\u001b[0m\u001b[1;33m\u001b[0m\u001b[1;33m\u001b[0m\u001b[0m\n\u001b[0;32m    186\u001b[0m     \u001b[1;32mdef\u001b[0m \u001b[0mmagic_deco\u001b[0m\u001b[1;33m(\u001b[0m\u001b[0marg\u001b[0m\u001b[1;33m)\u001b[0m\u001b[1;33m:\u001b[0m\u001b[1;33m\u001b[0m\u001b[1;33m\u001b[0m\u001b[0m\n\u001b[1;32m--> 187\u001b[1;33m         \u001b[0mcall\u001b[0m \u001b[1;33m=\u001b[0m \u001b[1;32mlambda\u001b[0m \u001b[0mf\u001b[0m\u001b[1;33m,\u001b[0m \u001b[1;33m*\u001b[0m\u001b[0ma\u001b[0m\u001b[1;33m,\u001b[0m \u001b[1;33m**\u001b[0m\u001b[0mk\u001b[0m\u001b[1;33m:\u001b[0m \u001b[0mf\u001b[0m\u001b[1;33m(\u001b[0m\u001b[1;33m*\u001b[0m\u001b[0ma\u001b[0m\u001b[1;33m,\u001b[0m \u001b[1;33m**\u001b[0m\u001b[0mk\u001b[0m\u001b[1;33m)\u001b[0m\u001b[1;33m\u001b[0m\u001b[1;33m\u001b[0m\u001b[0m\n\u001b[0m\u001b[0;32m    188\u001b[0m \u001b[1;33m\u001b[0m\u001b[0m\n\u001b[0;32m    189\u001b[0m         \u001b[1;32mif\u001b[0m \u001b[0mcallable\u001b[0m\u001b[1;33m(\u001b[0m\u001b[0marg\u001b[0m\u001b[1;33m)\u001b[0m\u001b[1;33m:\u001b[0m\u001b[1;33m\u001b[0m\u001b[1;33m\u001b[0m\u001b[0m\n",
      "\u001b[1;32m~\\Anaconda3\\envs\\r-tutorial\\lib\\site-packages\\rpy2\\ipython\\rmagic.py\u001b[0m in \u001b[0;36mR\u001b[1;34m(self, line, cell, local_ns)\u001b[0m\n\u001b[0;32m    717\u001b[0m                 \u001b[0mprint\u001b[0m\u001b[1;33m(\u001b[0m\u001b[0me\u001b[0m\u001b[1;33m.\u001b[0m\u001b[0merr\u001b[0m\u001b[1;33m)\u001b[0m\u001b[1;33m\u001b[0m\u001b[1;33m\u001b[0m\u001b[0m\n\u001b[0;32m    718\u001b[0m             \u001b[1;32mif\u001b[0m \u001b[0mtmpd\u001b[0m\u001b[1;33m:\u001b[0m\u001b[1;33m\u001b[0m\u001b[1;33m\u001b[0m\u001b[0m\n\u001b[1;32m--> 719\u001b[1;33m                 \u001b[0mrmtree\u001b[0m\u001b[1;33m(\u001b[0m\u001b[0mtmpd\u001b[0m\u001b[1;33m)\u001b[0m\u001b[1;33m\u001b[0m\u001b[1;33m\u001b[0m\u001b[0m\n\u001b[0m\u001b[0;32m    720\u001b[0m             \u001b[1;32mreturn\u001b[0m\u001b[1;33m\u001b[0m\u001b[1;33m\u001b[0m\u001b[0m\n\u001b[0;32m    721\u001b[0m         \u001b[1;32mfinally\u001b[0m\u001b[1;33m:\u001b[0m\u001b[1;33m\u001b[0m\u001b[1;33m\u001b[0m\u001b[0m\n",
      "\u001b[1;32m~\\Anaconda3\\envs\\r-tutorial\\lib\\shutil.py\u001b[0m in \u001b[0;36mrmtree\u001b[1;34m(path, ignore_errors, onerror)\u001b[0m\n\u001b[0;32m    505\u001b[0m             \u001b[1;31m# can't continue even if onerror hook returns\u001b[0m\u001b[1;33m\u001b[0m\u001b[1;33m\u001b[0m\u001b[1;33m\u001b[0m\u001b[0m\n\u001b[0;32m    506\u001b[0m             \u001b[1;32mreturn\u001b[0m\u001b[1;33m\u001b[0m\u001b[1;33m\u001b[0m\u001b[0m\n\u001b[1;32m--> 507\u001b[1;33m         \u001b[1;32mreturn\u001b[0m \u001b[0m_rmtree_unsafe\u001b[0m\u001b[1;33m(\u001b[0m\u001b[0mpath\u001b[0m\u001b[1;33m,\u001b[0m \u001b[0monerror\u001b[0m\u001b[1;33m)\u001b[0m\u001b[1;33m\u001b[0m\u001b[1;33m\u001b[0m\u001b[0m\n\u001b[0m\u001b[0;32m    508\u001b[0m \u001b[1;33m\u001b[0m\u001b[0m\n\u001b[0;32m    509\u001b[0m \u001b[1;31m# Allow introspection of whether or not the hardening against symlink\u001b[0m\u001b[1;33m\u001b[0m\u001b[1;33m\u001b[0m\u001b[1;33m\u001b[0m\u001b[0m\n",
      "\u001b[1;32m~\\Anaconda3\\envs\\r-tutorial\\lib\\shutil.py\u001b[0m in \u001b[0;36m_rmtree_unsafe\u001b[1;34m(path, onerror)\u001b[0m\n\u001b[0;32m    389\u001b[0m                 \u001b[0mos\u001b[0m\u001b[1;33m.\u001b[0m\u001b[0munlink\u001b[0m\u001b[1;33m(\u001b[0m\u001b[0mfullname\u001b[0m\u001b[1;33m)\u001b[0m\u001b[1;33m\u001b[0m\u001b[1;33m\u001b[0m\u001b[0m\n\u001b[0;32m    390\u001b[0m             \u001b[1;32mexcept\u001b[0m \u001b[0mOSError\u001b[0m\u001b[1;33m:\u001b[0m\u001b[1;33m\u001b[0m\u001b[1;33m\u001b[0m\u001b[0m\n\u001b[1;32m--> 391\u001b[1;33m                 \u001b[0monerror\u001b[0m\u001b[1;33m(\u001b[0m\u001b[0mos\u001b[0m\u001b[1;33m.\u001b[0m\u001b[0munlink\u001b[0m\u001b[1;33m,\u001b[0m \u001b[0mfullname\u001b[0m\u001b[1;33m,\u001b[0m \u001b[0msys\u001b[0m\u001b[1;33m.\u001b[0m\u001b[0mexc_info\u001b[0m\u001b[1;33m(\u001b[0m\u001b[1;33m)\u001b[0m\u001b[1;33m)\u001b[0m\u001b[1;33m\u001b[0m\u001b[1;33m\u001b[0m\u001b[0m\n\u001b[0m\u001b[0;32m    392\u001b[0m     \u001b[1;32mtry\u001b[0m\u001b[1;33m:\u001b[0m\u001b[1;33m\u001b[0m\u001b[1;33m\u001b[0m\u001b[0m\n\u001b[0;32m    393\u001b[0m         \u001b[0mos\u001b[0m\u001b[1;33m.\u001b[0m\u001b[0mrmdir\u001b[0m\u001b[1;33m(\u001b[0m\u001b[0mpath\u001b[0m\u001b[1;33m)\u001b[0m\u001b[1;33m\u001b[0m\u001b[1;33m\u001b[0m\u001b[0m\n",
      "\u001b[1;32m~\\Anaconda3\\envs\\r-tutorial\\lib\\shutil.py\u001b[0m in \u001b[0;36m_rmtree_unsafe\u001b[1;34m(path, onerror)\u001b[0m\n\u001b[0;32m    387\u001b[0m         \u001b[1;32melse\u001b[0m\u001b[1;33m:\u001b[0m\u001b[1;33m\u001b[0m\u001b[1;33m\u001b[0m\u001b[0m\n\u001b[0;32m    388\u001b[0m             \u001b[1;32mtry\u001b[0m\u001b[1;33m:\u001b[0m\u001b[1;33m\u001b[0m\u001b[1;33m\u001b[0m\u001b[0m\n\u001b[1;32m--> 389\u001b[1;33m                 \u001b[0mos\u001b[0m\u001b[1;33m.\u001b[0m\u001b[0munlink\u001b[0m\u001b[1;33m(\u001b[0m\u001b[0mfullname\u001b[0m\u001b[1;33m)\u001b[0m\u001b[1;33m\u001b[0m\u001b[1;33m\u001b[0m\u001b[0m\n\u001b[0m\u001b[0;32m    390\u001b[0m             \u001b[1;32mexcept\u001b[0m \u001b[0mOSError\u001b[0m\u001b[1;33m:\u001b[0m\u001b[1;33m\u001b[0m\u001b[1;33m\u001b[0m\u001b[0m\n\u001b[0;32m    391\u001b[0m                 \u001b[0monerror\u001b[0m\u001b[1;33m(\u001b[0m\u001b[0mos\u001b[0m\u001b[1;33m.\u001b[0m\u001b[0munlink\u001b[0m\u001b[1;33m,\u001b[0m \u001b[0mfullname\u001b[0m\u001b[1;33m,\u001b[0m \u001b[0msys\u001b[0m\u001b[1;33m.\u001b[0m\u001b[0mexc_info\u001b[0m\u001b[1;33m(\u001b[0m\u001b[1;33m)\u001b[0m\u001b[1;33m)\u001b[0m\u001b[1;33m\u001b[0m\u001b[1;33m\u001b[0m\u001b[0m\n",
      "\u001b[1;31mPermissionError\u001b[0m: [WinError 32] The process cannot access the file because it is being used by another process: 'C:\\\\Users\\\\YICHEN~1\\\\AppData\\\\Local\\\\Temp\\\\tmp1ij2nj0z\\\\Rplots001.png'"
     ]
    }
   ],
   "source": [
    "%%R\n",
    "\n",
    "##################################\n",
    "##################################\n",
    "###   Yelp_lasso regression    ###\n",
    "##################################\n",
    "##################################\n",
    "\n",
    "\n",
    "# import library\n",
    "library(glmnet)\n",
    "library(stringr)\n",
    "\n",
    "# setup working directory\n",
    "setwd(\"C:/Users/Yichen Jiang/Documents/PHD LIFE/Research/Hawkes Processes/Yelp/dataframe_ready_to_use\")\n",
    "# read business_id and knot_base\n",
    "parameters <- readLines(\"business_id and knot_base.txt\")\n",
    "business_id = unlist(strsplit(parameters,split = ','))[1]\n",
    "knot_base = unlist(strsplit(parameters,split = ','))[2]\n",
    "# import csv file\n",
    "data_business = read.csv(paste('df_',business_id,'_',knot_base,'.csv',sep = ''))\n",
    "\n",
    "list_variables = colnames(data_business)[which(str_detect(colnames(data_business),'decay')==TRUE)]\n",
    "list_bspline = colnames(data_business)[which(str_detect(colnames(data_business),'spline')==TRUE)]\n",
    "\n",
    "data_business_x = as.matrix(data_business[,c(list_variables,list_bspline)])\n",
    "data_business_y = as.matrix(data_business['stars'])\n",
    "\n",
    "\n",
    "# lasso model with penalty.factor\n",
    "set.seed(2019)\n",
    "\n",
    "# setup penalty factor\n",
    "p.fac = c(rep(1,length(list_variables)),rep(0,length(list_bspline)))\n",
    "\n",
    "lasso =cv.glmnet(data_business_x, data_business_y, penalty.factor = p.fac,alpha = 1, nfolds=5,intercept=FALSE)\n",
    "\n",
    "# get coefficients\n",
    "coef = as.matrix(coef(lasso,s=\"lambda.min\"))\n",
    "print(coef)\n",
    "\n",
    "# get prediction\n",
    "data_business_pred = predict(lasso, data_business_x)\n",
    "\n",
    "# save prediction into data_business\n",
    "data_business[\"prediction\"] = data_business_pred \n",
    "\n",
    "# export data_business coefficients into csv\n",
    "write.csv(data_business, file = paste('df_',business_id,'_',knot_base,'_with predictions.csv',sep = ''),row.names=FALSE)\n",
    "write.csv(coef,file = paste('C:/Users/Yichen Jiang/Documents/PHD LIFE/Research/Hawkes Processes/Yelp/results/',business_id,'_',knot_base,'_coefficients.csv',sep = ''))\n"
   ]
  },
  {
   "cell_type": "markdown",
   "metadata": {},
   "source": [
    "# Import data with predictions and draw plot in python"
   ]
  },
  {
   "cell_type": "code",
   "execution_count": 65,
   "metadata": {},
   "outputs": [
    {
     "name": "stderr",
     "output_type": "stream",
     "text": [
      "C:\\Users\\Yichen Jiang\\Anaconda3\\lib\\site-packages\\ipykernel_launcher.py:27: MatplotlibDeprecationWarning: Adding an axes using the same arguments as a previous axes currently reuses the earlier instance.  In a future version, a new instance will always be created and returned.  Meanwhile, this warning can be suppressed, and the future behavior ensured, by passing a unique label to each axes instance.\n"
     ]
    },
    {
     "data": {
      "image/png": "[encoded data removed]",
      "text/plain": [
       "<Figure size 2000x1000 with 1 Axes>"
      ]
     },
     "metadata": {},
     "output_type": "display_data"
    }
   ],
   "source": [
    "\"\"\"\n",
    "--- plot figure ---\n",
    "\n",
    "\"\"\"\n",
    "# import data with prediction values\n",
    "df_data = pd.read_csv(os.path.join(path,'dataframe_ready_to_use' ,'df_'+str(business_id)+'_'+str(knot_base)+'_with predictions.csv'))\n",
    "df_data.index = df_business.index\n",
    "\n",
    "# create datafram to plot and add average star ratings\n",
    "preds = pd.DataFrame({\"preds\":df_data['prediction'], \"true\":df_data['stars']}) \n",
    "preds[\"residuals\"] = preds[\"true\"] - preds[\"preds\"]\n",
    "preds[\"average\"] = df_business['average_stars'] \n",
    "\n",
    "# Bspline for smoothing the true values (true star ratings)\n",
    "length = len(preds)\n",
    "index = np.arange(length)\n",
    "y = preds['true']\n",
    "list_year = [list_knot_order[i] for i in range(1,len(list_knot_order)-1)]\n",
    "t,c,k = splrep(index,y,s=0,k=3,t=list_year)\n",
    "prediction_bspline = BSpline(t, c, k, extrapolate=False)\n",
    "index_bspline = np.linspace(index.min(), index.max(), 20000)\n",
    "\n",
    "# plot\n",
    "plt.style.use('ggplot')\n",
    "fig = plt.figure(dpi = 80/2, figsize = (100/2, 50/2))\n",
    "plt.title('Yelp: business_id = '+str(business_id)+', based on '+str(knot_base),  fontdict={'size':'50'})\n",
    "plt.subplot(1, 1, 1)\n",
    "\n",
    "plt.scatter(index, preds['preds'], label='Prediction', color='g',s=25) \n",
    "plt.plot(index_bspline,prediction_bspline(index_bspline), label='True star ratings with b spline function', color='k')\n",
    "#plt.plot(prediction_bspline[0],prediction_bspline[1],label='Prediction by splev',color='k')\n",
    "plt.plot(index, preds['average'], label = 'Average Star Ratings', color = 'r')\n",
    "\n",
    "plt.xlabel('Review Order', fontdict={'size':'50'})\n",
    "plt.ylabel('True Value, Predictions and Mean', fontdict={'size':'50'})\n",
    "plt.xticks(fontsize = 50)\n",
    "plt.yticks(fontsize = 50)\n",
    "plt.axhline(y=preds['average'][len(preds)-1],color='r')\n",
    "#plt.ylim(3.75,5)\n",
    "#plt.xlim(0,1000)\n",
    "plt.legend(loc='upper right',fontsize = 50)\n",
    "plt.savefig(os.path.join(path,'results',str(business_id)+'_'+str(knot_base)+'.png'))\n",
    "plt.show()    "
   ]
  },
  {
   "cell_type": "code",
   "execution_count": 21,
   "metadata": {},
   "outputs": [
    {
     "name": "stdout",
     "output_type": "stream",
     "text": [
      "uWECX6-Uq9n8v5ipk9R29A\n",
      "order\n"
     ]
    }
   ],
   "source": [
    "print(business_id)\n",
    "print(knot_base)"
   ]
  }
 ],
 "metadata": {
  "kernelspec": {
   "display_name": "Python 3",
   "language": "python",
   "name": "python3"
  },
  "language_info": {
   "codemirror_mode": {
    "name": "ipython",
    "version": 3
   },
   "file_extension": ".py",
   "mimetype": "text/x-python",
   "name": "python",
   "nbconvert_exporter": "python",
   "pygments_lexer": "ipython3",
   "version": "3.7.1"
  }
 },
 "nbformat": 4,
 "nbformat_minor": 2
}
